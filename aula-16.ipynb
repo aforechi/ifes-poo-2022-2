{
  "cells": [
    {
      "cell_type": "markdown",
      "metadata": {
        "id": "view-in-github",
        "colab_type": "text"
      },
      "source": [
        "<a href=\"https://colab.research.google.com/github/aforechi/ifes-poo-2022-2/blob/main/aula-16.ipynb\" target=\"_parent\"><img src=\"https://colab.research.google.com/assets/colab-badge.svg\" alt=\"Open In Colab\"/></a>"
      ]
    },
    {
      "cell_type": "markdown",
      "metadata": {
        "id": "LBFg0i5Q8u09"
      },
      "source": [
        "# Aula 16 - Programação orientada a objetos: polimorfismo\n",
        "\n",
        "<div class=\"alert alert-block alert-success\">\n",
        "    <b>Adaptado do Capítulo 13 do livro: </b> \n",
        "    <p>DEITEL, Harvey M.; DEITEL, Paul J. C++: como programar. 5.ed. São Paulo: Prentice Hall, 2006.\n",
        "</div>\n",
        "\n",
        "## Objetivos\n",
        "Neste capítulo, você aprenderá:\n",
        "- O que é **polimorfismo**, como ele torna a programação mais conveniente e os sistemas mais extensíveis e sustentáveis.\n",
        "- A utilizar funções virtuais para produzir **polimorfismo**.\n",
        "- A distinguir entre **classes abstratas** e **classes concretas**.\n",
        "\n",
        "## 1 Introdução\n",
        "- Polimorfismo com hierarquias de herança\n",
        "    - ‘Programar no geral’ versus ‘programar no específico’.\n",
        "    - Processa objetos de classes que fazem parte da mesma hierarquia, como se fossem todos objetos da classe básica.\n",
        "    - Cada objeto executa as tarefas pertinentes a esse tipo de objeto.\n",
        "        - Diferentes ações ocorrem, dependendo do tipo de objeto.\n",
        "    - Novas classes podem ser adicionadas com pouca ou nenhuma modificação no código existente.\n",
        "\n",
        "## 1 Introdução (cont.)\n",
        "- Exemplo: Hierarquia Animal\n",
        "    - Classe básica Animal –  toda classe derivada tem a função move.\n",
        "    - Diferentes objetos Animal são mantidos como um vector dos ponteiros Animal.\n",
        "    - O programa emite a mesma mensagem (move) a cada animal genericamente.\n",
        "    - A função apropriada é chamada.\n",
        "        - Fish movimenta-se (move) nadando.\n",
        "        - Frog movimenta-se (move) pulando.\n",
        "        - Bird movimenta-se (move) voando.\n",
        "\n"
      ]
    },
    {
      "cell_type": "code",
      "source": [],
      "metadata": {
        "id": "VDoSItGJdE0q"
      },
      "execution_count": null,
      "outputs": []
    },
    {
      "cell_type": "markdown",
      "source": [
        "## 2 Exemplos de polimorfismo\n",
        "- O polimorfismo ocorre quando um programa invoca uma função virtual por meio de uma referência de classe básica.\n",
        "    - Python escolhe dinamicamente a função correta para a classe na qual o objeto foi instanciado.\n",
        "- Exemplo: SpaceObjects\n",
        "    - O videogame manipula objetos de tipo que herdam de SpaceObject, que contém a função-membro draw.\n",
        "    - A função draw é implementada de modo diferente para classes diferentes.\n",
        "    - O programa gerenciador de tela mantém um contêiner de ponteiros SpaceObject.\n",
        "    - Chama draw em cada objeto usando ponteiros SpaceObject.\n",
        "        - A função draw apropriada é chamada com base no tipo do objeto.\n",
        "    - Uma nova classe derivada de SpaceObject pode ser adicionada sem afetar o gerenciador de tela.\n",
        "\n",
        "## Observação de engenharia de software 1\n",
        "- Com as funções **virtual** e o **polimorfismo**, você pode tratar generalidades e deixar a questão do ambiente de tempo de execução em si para as especificidades. \n",
        "- Você pode instruir uma variedade de objetos a se comportar de maneiras apropriadas a esses objetos sem mesmo conhecer seus tipos.\n",
        "- Contanto que esses objetos pertençam à mesma **hierarquia de herança** e estejam sendo acessados por meio de um ponteiro de classe básica comum.\n",
        "\n",
        "## Observação de engenharia de software 2\n",
        "- O polimorfismo promove extensibilidade: \n",
        "    - o software escrito para invocar comportamento polimórfico é escrito independentemente dos tipos de objeto para os quais as mensagens são enviadas. \n",
        "    - Portanto, é possível incorporar nesse sistema novos tipos de objeto que podem responder a mensagens existentes sem modificar o sistema de base. \n",
        "    - Somente o código de cliente que instancia os novos objetos deve ser modificado para acomodar os novos tipos.\n",
        "\n",
        "## 3 Relacionamentos entre objetos em uma hierarquia de herança\n",
        "- Demonstração\n",
        "    - Invocando funções de classe básica de objetos de classe derivada.\n",
        "    - Apontando ponteiros de classe derivada para objetos de classe básica.\n",
        "    - Chamadas de funções-membro de classe derivada por meio de ponteiros de classe básica\n",
        "        - Ponteiros de classe básica apontados para objetos de classe derivada.\n",
        "- Conceito-chave\n",
        "    - Um objeto de uma classe derivada pode ser tratado como um objeto de sua classe básica.\n",
        "\n",
        "## 3.1 Invocando funções de classe básica a partir de objetos de classe derivada\n",
        "- Apontar um ponteiro de classe básica para um objeto de classe básica\n",
        "    - Invoca a funcionalidade da classe básica.\n",
        "- Apontar um ponteiro de classe derivada para um objeto de classe derivada\n",
        "    - Invoca a funcionalidade da classe derivada.\n",
        "- Apontar um ponteiro de classe básica para um objeto de classe derivada\n",
        "    - Porque um objeto de classe derivada é um objeto de classe básica\n",
        "    - Chama a funcionalidade da classe básica.\n",
        "        - A funcionalidade invocada depende do tipo do handle usado para invocar a função, não do tipo de objeto para o qual o handle aponta.\n",
        "    - Funções virtual\n",
        "        - Permitem que se invoque a funcionalidade do tipo de objeto, em vez de a funcionalidade do tipo de handle.\n",
        "        - São fundamentais para implementar comportamento polimórfico."
      ],
      "metadata": {
        "id": "funSbViPdFVD"
      }
    },
    {
      "cell_type": "markdown",
      "source": [
        "## Exemplo 13.5: \n",
        "- Classe CommissionEmployee [CommissionEmployee.h](src/ch13/Fig13_01_05/CommissionEmployee.h)/[CommissionEmployee.cpp](src/ch13/Fig13_01_05/CommissionEmployee.cpp)\n",
        "    - Observe:\n",
        "        - A função earnings será redefinida nas classes derivadas para calcular os rendimentos do funcionário.\n",
        "        - A função print será redefinida na classe derivada para imprimir informações sobre o funcionário.\n"
      ],
      "metadata": {
        "id": "ObnUpIla9_U3"
      }
    },
    {
      "cell_type": "code",
      "source": [
        "class CommissionEmployee:\n",
        "  def __init__(self, first, last, ssn, sales, rate):\n",
        "    self.__firstName = first\n",
        "    self.__lastName = last\n",
        "    self.__socialSecurityNumber = ssn\n",
        "    self.setGrossSales( sales )\n",
        "    self.setCommissionRate( rate )\n",
        "  \n",
        "  def setFirstName(self, first ):\n",
        "    self.__firstName = first\n",
        "\n",
        "  def getFirstName(self):\n",
        "    return self.__firstName\n",
        "\n",
        "  def setLastName(self, last ):\n",
        "    self.__lastName = last\n",
        "\n",
        "  def getLastName(self):\n",
        "    return self.__lastName\n",
        "\n",
        "  def setSocialSecurityNumber(self, ssn ):\n",
        "    self.__socialSecurityNumber = ssn\n",
        "\n",
        "  def getSocialSecurityNumber(self):\n",
        "    return self.__socialSecurityNumber\n",
        "\n",
        "  def setGrossSales(self, sales ):\n",
        "    self.__grossSales =  0.0 if sales < 0.0  else sales\n",
        "\n",
        "  def getGrossSales(self):\n",
        "    return self.__grossSales\n",
        "\n",
        "  def setCommissionRate(self, rate ):\n",
        "    self.__commissionRate = rate if ( rate > 0.0 and rate < 1.0 ) else 0.0\n",
        "\n",
        "  def getCommissionRate(self):\n",
        "    return self.__commissionRate\n",
        "\n",
        "  def earnings(self):\n",
        "    return self.getCommissionRate() * self.getGrossSales()\n",
        "\n",
        "  def print(self) :                           \n",
        "    print( \"commission employee: \"                               \n",
        "      , self.getFirstName() , ' ' , self.getLastName()                  \n",
        "      , \"\\nsocial security number: \" , self.getSocialSecurityNumber()\n",
        "      , \"\\ngross sales: \" , self.getGrossSales()                    \n",
        "      , \"\\ncommission rate: \" , self.getCommissionRate() \n",
        "      )         \n"
      ],
      "metadata": {
        "id": "4BqjDVq_-IrC"
      },
      "execution_count": 1,
      "outputs": []
    },
    {
      "cell_type": "markdown",
      "source": [
        "\n",
        "- Classe BasePlusCommissionEmployee [BasePlusCommissionEmployee.h](src/ch13/Fig13_01_05/BasePlusCommissionEmployee.h)/[BasePlusCommissionEmployee.cpp](src/ch13/Fig13_01_05/BasePlusCommissionEmployee.cpp)\n",
        "    - Observe:\n",
        "        - Redefine as funções earnings e print.\n",
        "            - A função earnings redefinida incorpora o salário-base.\n",
        "            - A função print redefinida exibe outros detalhes de BasePlusCommissionEmployee.\n"
      ],
      "metadata": {
        "id": "Yc0ZeQAc_Q2q"
      }
    },
    {
      "cell_type": "code",
      "source": [
        "class BasePlusCommissionEmployee(CommissionEmployee):\n",
        "\n",
        "  def __init__(self, first, last, ssn, sales, rate, salary): \n",
        "    # chama explicitamente o construtor da classe básica \n",
        "    CommissionEmployee.__init__(self, first, last, ssn, sales, rate )\n",
        "    self.setBaseSalary( salary )\n",
        "\n",
        "  def setBaseSalary( self, salary ):\n",
        "    self.__baseSalary = 0.0 if ( salary < 0.0 ) else salary\n",
        "\n",
        "  def getBaseSalary( self ):\n",
        "    return self.__baseSalary\n",
        "\n",
        "  def earnings( self ):\n",
        "    return self.getBaseSalary() + CommissionEmployee.earnings(self)\n",
        "\n",
        "  def print( self ):  \n",
        "    # invoca a função print de CommissionEmployee\n",
        "    CommissionEmployee.print(self)                 \n",
        "                                                  \n",
        "    print(\"base salary: \" , self.getBaseSalary())\n"
      ],
      "metadata": {
        "id": "lI1DuA5A_RxP"
      },
      "execution_count": 8,
      "outputs": []
    },
    {
      "cell_type": "markdown",
      "source": [
        "\n",
        "- Programa principal abaixo.\n",
        "    - Observe:\n",
        "        - o objeto da classe básica e invocando a funcionalidade da classe básica.\n",
        "        - o objeto da classe derivada e invocando a funcionalidade da classe derivada.\n",
        "        - o objeto da classe básica como um objeto da classe derivada e invocando a funcionalidade da classe básica."
      ],
      "metadata": {
        "id": "1Rqtkgov-JYC"
      }
    },
    {
      "cell_type": "code",
      "execution_count": 9,
      "metadata": {
        "colab": {
          "base_uri": "https://localhost:8080/"
        },
        "id": "RAFEkkdt8u1C",
        "outputId": "065fad72-fa1d-45d9-c393-7a0bd3e02d68"
      },
      "outputs": [
        {
          "output_type": "stream",
          "name": "stdout",
          "text": [
            "commission employee:  Sue   Jones \n",
            "social security number:  222-22-2222 \n",
            "gross sales:  10000 \n",
            "commission rate:  0.06\n",
            "\n",
            "base-salaried \n",
            "commission employee:  Bob   Lewis \n",
            "social security number:  333-33-3333 \n",
            "gross sales:  5000 \n",
            "commission rate:  0.04\n",
            "base salary:  300\n"
          ]
        }
      ],
      "source": [
        "# cria objeto de classe básica\n",
        "commissionEmployee = CommissionEmployee ( \n",
        "  \"Sue\", \"Jones\", \"222-22-2222\", 10000, .06 )\n",
        "\n",
        "# cria objeto de classe derivada\n",
        "basePlusCommissionEmployee = BasePlusCommissionEmployee (\n",
        "  \"Bob\", \"Lewis\", \"333-33-3333\", 5000, .04, 300 )\n",
        "\n",
        "commissionEmployee.print()\n",
        "print()\n",
        "basePlusCommissionEmployee.print()\n"
      ]
    },
    {
      "cell_type": "markdown",
      "metadata": {
        "id": "x7T119Lh8u1M"
      },
      "source": [
        "## 3.5 Resumo das atribuições permitidas entre objetos de classe básica e de classe derivada e ponteiros\n",
        "## 4 Campos de tipo e instruções isinstance\n",
        "- A instrução isinstance poderia ser utilizada para determinar o tipo de um objeto em tempo de execução.\n",
        "    - Incluir um campo de tipo como membro de dados na classe básica.\n",
        "    - Permite que o programador invoque a ação apropriada para um determinado objeto.\n",
        "    - Possíveis problemas\n",
        "        - Um teste de tipo pode ser esquecido.\n",
        "        - A adição de novos tipos pode ser esquecida.\n",
        "\n",
        "## Observação de engenharia de software 6\n",
        "- A programação polimórfica pode eliminar a necessidade de lógica isinstance desnecessária. \n",
        "\n",
        "## Observação de engenharia de software 7\n",
        "- O interessante de utilizar polimorfismo é que os programas assumem uma aparência simplificada. \n",
        "- Eles contêm menos lógica de desvio e código mais simples, seqüencial. \n",
        "- Essa simplificação facilita o teste, a depuração e a manutenção do programa.\n",
        "\n",
        "## 5 Classes abstratas \n",
        "- Classes abstratas\n",
        "    - Classes nas quais o programador nunca intenta instanciar objetos.\n",
        "        - São incompletas — as classes derivadas têm de definir as ‘partes ausentes’.\n",
        "        - São muito genéricas para definir objetos.\n",
        "    - São normalmente usadas como classes básicas, denominadas classes básicas abstratas.\n",
        "        - Oferecem uma classe básica apropriada da qual outras classes podem herdar.\n",
        "        - As classes usadas para instanciar objetos são denominadas classes concretas.\n",
        "            - Devem fornecer implementação a toda função-membro que definirem.\n",
        "\n",
        "## Observação de engenharia de software 8\n",
        "- Uma classe abstrata define uma interface pública comum para as várias classes em uma hierarquia de classes. \n",
        "- Uma classe abstrata contém uma ou mais funções incompletas que as classes derivadas concretas devem sobrescrever.\n",
        "\n",
        "## Erro comum de programação 3\n",
        "- Tentar instanciar um objeto de uma classe abstrata causa um erro de compilação.\n",
        "\n",
        "\n",
        "## 6 Estudo de caso: sistema de folha de pagamento utilizando polimorfismo\n",
        "- Aperfeiçoe a hierarquia CommissionEmployee-BasePlusCommissionEmployee usando uma classe básica abstrata\n",
        "    - A classe abstrata Employee representa o conceito geral de um empregado.\n",
        "        - Declara a ‘interface’ à hierarquia.\n",
        "        - Todo empregado tem nome, sobrenome e um número de seguro social.\n",
        "    - Os rendimentos são calculados diferentemente e os objetos são impressos diferentemente para cada classe derivada.\n",
        "\n",
        "## Observação de engenharia de software 10\n",
        "- Uma classe derivada pode herdar a interface ou implementação de uma classe básica. \n",
        "- As hierarquias projetadas para a herança de implementação tendem a ter suas funcionalidades na parte superior da hierarquia\n",
        "    - cada nova classe derivada herda uma ou mais funções-membro que foram definidas em uma classe básica e a classe derivada utiliza as definições de classe básica. \n",
        "- As hierarquias projetadas para a herança de interface tendem a ter suas funcionalidades na parte inferior da hierarquia\n",
        "    - uma classe básica especifica uma ou mais funções que devem ser definidas para cada classe na hierarquia (isto é, elas têm o mesmo protótipo), mas as classes derivadas individuais fornecem suas próprias implementações da(s) função(ões).\n",
        "\n",
        "## Diagrama de classes UML da hierarquia Employee.\n",
        "<img src=\"https://github.com/aforechi/ifes-cpp-2018-2/raw/master/img/Picture134.png\" width=\"100%\" height=\"100%\">"
      ]
    },
    {
      "cell_type": "markdown",
      "source": [
        "## 6.1 Criando a classe básica abstrata Employee\n",
        "- Classe Employee [Employee.h](src/ch13/Fig13_13_23/Employee.h)/[Employee.cpp](src/ch13/Fig13_13_23/Employee.cpp)\n",
        "    - Oferece várias funções get e set.\n",
        "    - Oferece as funções earnings e print.\n",
        "        - A função earnings depende do tipo de empregado, de modo que é declarada virtual pura.\n",
        "            - Não há informações suficientes na classe Employee para uma implementação-padrão.\n",
        "        - A função print é virtual, mas não virtual pura.\n",
        "            - A implementação-padrão é fornecida em Employee, mas as classes derivadas podem sobrescrevê-la.\n",
        "    - O exemplo mantém um vector de ponteiros Employee.\n",
        "        - As funções earnings e print apropriadas são invocadas polimorficamente.\n",
        "\n",
        "## Interface polimórfica para as classes na hierarquia Employee.\n",
        "<img src=\"https://github.com/aforechi/ifes-cpp-2018-2/raw/master/img/Picture135.png\" width=\"100%\" height=\"100%\">\n",
        "\n"
      ],
      "metadata": {
        "id": "2pCUQyO7Rtda"
      }
    },
    {
      "cell_type": "code",
      "source": [
        "class Employee:\n",
        "  def __init__( self, first, last, ssn ):\n",
        "    self.__firstName = first\n",
        "    self.__lastName = last\n",
        "    self.__socialSecurityNumber = ssn\n",
        "\n",
        "  def setFirstName( self, first ): \n",
        "    self.__firstName = first\n",
        "\n",
        "  def getFirstName( self ): \n",
        "    return self.__firstName  \n",
        "\n",
        "  def setLastName( self, last ):\n",
        "    self.__lastName = last   \n",
        "\n",
        "  def getLastName( self ):\n",
        "    return self.__lastName   \n",
        "\n",
        "  def setSocialSecurityNumber( self, ssn ):\n",
        "    self.__socialSecurityNumber = ssn\n",
        "\n",
        "  def getSocialSecurityNumber( self ):\n",
        "    return self.__socialSecurityNumber \n",
        "\n",
        "  def print( self ):\n",
        "    print( self.getFirstName() , ' ' , self.getLastName() \n",
        "        , \"\\nsocial security number: \" , self.getSocialSecurityNumber() )\n",
        "\n",
        "  def earnings( self ):\n",
        "    raise NotImplementedError(\"Método abstrato\") \n"
      ],
      "metadata": {
        "id": "2ZSEL1FqSQZa"
      },
      "execution_count": 12,
      "outputs": []
    },
    {
      "cell_type": "markdown",
      "source": [
        "\n",
        "## 6.2 Criando a classe derivada concreta SalariedEmployee\n",
        "- SalariedEmployee [SalariedEmployee.h](src/ch13/Fig13_13_23/SalariedEmployee.h)/[SalariedEmployee.cpp](src/ch13/Fig13_13_23/SalariedEmployee.cpp) herda de Employee [Employee.h](src/ch13/Fig13_13_23/Employee.h)/[Employee.cpp](src/ch13/Fig13_13_23/Employee.cpp)\n",
        "    - É uma classe concreta (implementa todas as funções virtual puras na classe básica abstrata).\n",
        "    - Inclui um salário semanal (weeklySalary)\n",
        "        - A função earnings sobrescrita incorpora o salário semanal (weeklySalary).\n",
        "        - A função print sobrescrita incorpora o salário semanal (weeklySalary).\n"
      ],
      "metadata": {
        "id": "HOA777dySQ4R"
      }
    },
    {
      "cell_type": "code",
      "source": [
        "from posixpath import defpath\n",
        "class SalariedEmployee(Employee):\n",
        "  def __init__(self, first, last, ssn, salary):\n",
        "    Employee.__init__( self, first, last, ssn )\n",
        "    self.setWeeklySalary( salary )\n",
        "\n",
        "  def setWeeklySalary( self, salary ) :\n",
        "    self.__weeklySalary = 0.0 if ( salary < 0.0 ) else salary \n",
        "\n",
        "  def getWeeklySalary(self) :\n",
        "    return self.__weeklySalary;\n",
        "\n",
        "  # sobrescreve a função virtual pura earnings em Employee\n",
        "  def earnings(self) : \n",
        "    return self.getWeeklySalary(); \n",
        "\n",
        "  def print(self) :\n",
        "    print(\"salaried employee: \")\n",
        "    Employee.print(self) # reutiliza função print da classe básica abstrata\n",
        "    print(\"weekly salary: \" , self.getWeeklySalary())\n"
      ],
      "metadata": {
        "id": "svNHmi1WSIMN"
      },
      "execution_count": 20,
      "outputs": []
    },
    {
      "cell_type": "markdown",
      "source": [
        "\n",
        "## 6.3 Criando a classe derivada concreta HourlyEmployee\n",
        "- HourlyEmployee [HourlyEmployee.h](src/ch13/Fig13_13_23/HourlyEmployee.h)/[HourlyEmployee.cpp](src/ch13/Fig13_13_23/HourlyEmployee.cpp) herda de Employee [Employee.h](src/ch13/Fig13_13_23/Employee.h)/[Employee.cpp](src/ch13/Fig13_13_23/Employee.cpp)\n",
        "    - É uma classe concreta (implementa todas as funções virtual puras na classe básica abstrata).\n",
        "    - Inclui salário-hora (hourlyWage) e as horas trabalhadas.\n",
        "        - A função earnings sobrescrita incorpora os salários (hourlyWage) multiplicados pelas horas (hoursWorked)\n",
        "            - leva em conta o pagamento de 50% a mais.\n",
        "        - A função print sobrescrita incorpora o salário (hourlyWage) e as horas trabalhadas (hoursWorked).\n"
      ],
      "metadata": {
        "id": "z7mV_MZASIau"
      }
    },
    {
      "cell_type": "code",
      "source": [
        "class HourlyEmployee(Employee):\n",
        "  def __init__(self, first, last, ssn, hourlyWage, hoursWorked):\n",
        "    Employee.__init__( self, first, last, ssn )\n",
        "    self.setWage( hourlyWage )\n",
        "    self.setHours( hoursWorked )\n",
        "\n",
        "  def setWage(self, hourlyWage) :\n",
        "    self.__wage = 0.0 if hourlyWage < 0.0 else hourlyWage \n",
        "\n",
        "  def getWage(self) :\n",
        "    return self.__wage;\n",
        "\n",
        "  def setHours(self, hoursWorked) :\n",
        "    self.__hours = hoursWorked if ( hoursWorked >= 0.0 ) and ( hoursWorked <= 168.0 ) else 0.0\n",
        "\n",
        "  def getHours(self) :\n",
        "    return self.__hours\n",
        "\n",
        "  # sobrescreve a função virtual pura earnings em Employee\n",
        "  def earnings(self) : \n",
        "    if self.getHours() <= 40 : # nenhuma hora extra\n",
        "        return self.getWage() * self.getHours()\n",
        "    else :\n",
        "        return 40 * self.getWage() + ( ( self.getHours() - 40 ) * self.getWage() * 1.5 )\n",
        "\n",
        "  def print(self) :\n",
        "    print(\"hourly employee: \")\n",
        "    Employee.print(self) # reutilização de código\n",
        "    print(\"hourly wage: \" , self.getWage() , \n",
        "        \"; hours worked: \" , self.getHours() )\n"
      ],
      "metadata": {
        "id": "3I2zUCnbSFlE"
      },
      "execution_count": 14,
      "outputs": []
    },
    {
      "cell_type": "markdown",
      "source": [
        "\n",
        "## 6.4 Criando a classe derivada concreta CommissionEmployee\n",
        "- CommissionEmployee [CommissionEmployee.h](src/ch13/Fig13_13_23/CommissionEmployee.h)/[CommissionEmployee.cpp](src/ch13/Fig13_13_23/CommissionEmployee.cpp) herda de Employee [Employee.h](src/ch13/Fig13_13_23/Employee.h)/[Employee.cpp](src/ch13/Fig13_13_23/Employee.cpp)\n",
        "    - Classe concreta (implementa todas as funções virtual puras na classe básica abstrata).\n",
        "    - Inclui vendas brutas e taxa de comissão.\n",
        "        - A função earnings sobrescrita incorpora as vendas brutas e a taxa de comissão.\n",
        "        - A função print sobrescrita incorpora as vendas brutas e a taxa de comissão.\n"
      ],
      "metadata": {
        "id": "2mRvddhLSF1u"
      }
    },
    {
      "cell_type": "code",
      "source": [
        "class CommissionEmployee(Employee):\n",
        "  def __init__(self, first, last, ssn, sales, rate ):\n",
        "    Employee.__init__( self, first, last, ssn )  \n",
        "    self.setGrossSales( sales )\n",
        "    self.setCommissionRate( rate )\n",
        "\n",
        "  def setCommissionRate( self, rate ) :\n",
        "    self.__commissionRate = rate if ( rate > 0.0 and rate < 1.0 ) else 0.0 \n",
        "\n",
        "  def getCommissionRate(self) :\n",
        "      return self.__commissionRate;\n",
        "\n",
        "  def setGrossSales( self, sales ) :\n",
        "    self.__grossSales = 0.0 if ( sales < 0.0 ) else sales \n",
        "\n",
        "  def getGrossSales(self) :\n",
        "      return self.__grossSales;\n",
        "\n",
        "  # sobrescreve a função virtual pura earnings em Employee\n",
        "  def earnings(self) :\n",
        "    return self.getCommissionRate() * self.getGrossSales(); \n",
        "\n",
        "  def print(self) :\n",
        "    print(\"commission employee: \")\n",
        "    Employee.print(self) # reutilização de código\n",
        "    print(\"gross sales: \" , self.getGrossSales() \n",
        "        , \"; commission rate: \" , self.getCommissionRate())\n"
      ],
      "metadata": {
        "id": "lCw7Jv3jR_xf"
      },
      "execution_count": 15,
      "outputs": []
    },
    {
      "cell_type": "markdown",
      "source": [
        "\n",
        "## 6.5 Criando a classe derivada concreta indireta BasePlusCommissionEmployee\n",
        "- BasePlusCommissionEmployee [BasePlusCommissionEmployee.h](src/ch13/Fig13_13_23/BasePlusCommissionEmployee.h)/[BasePlusCommissionEmployee.cpp](src/ch13/Fig13_13_23/BasePlusCommissionEmployee.cpp) herda de CommissionEmployee [CommissionEmployee.h](src/ch13/Fig13_13_23/CommissionEmployee.h)/[CommissionEmployee.cpp](src/ch13/Fig13_13_23/CommissionEmployee.cpp)\n",
        "    - Inclui o salário-base.\n",
        "        - A função earnings sobrescrita incorpora o salário-base.\n",
        "        - A função print sobrescrita incorpora o salário-base.\n",
        "    - Classe concreta, porque a classe derivada é concreta.\n",
        "        - Não é necessário sobrescrever earnings para torná-la concreta. \n",
        "        - É possível herdar a implementação de CommissionEmployee. \n",
        "            - Mas sobrescrevemos earnings para incorporar o salário-base."
      ],
      "metadata": {
        "id": "eMQcxHZZSAXW"
      }
    },
    {
      "cell_type": "code",
      "source": [
        "class BasePlusCommissionEmployee(CommissionEmployee):\n",
        "  def __init__( self, first, last, ssn, sales, rate, salary ): \n",
        "    CommissionEmployee.__init__( self, first, last, ssn, sales, rate )  \n",
        "    self.setBaseSalary( salary )\n",
        "\n",
        "  def setBaseSalary( self, salary ) :\n",
        "    self.__baseSalary = 0.0 if ( salary < 0.0 ) else salary \n",
        "\n",
        "  def getBaseSalary(self) :\n",
        "      return self.__baseSalary\n",
        "\n",
        "  # sobrescreve a função virtual pura earnings em Employee\n",
        "  def earnings(self) :\n",
        "      return self.getBaseSalary() + CommissionEmployee.earnings(self) \n",
        "\n",
        "  def print(self) :\n",
        "    print(\"base-salaried \")\n",
        "    CommissionEmployee.print(self) # reutilização de código\n",
        "    print(\"; base salary: \" , self.getBaseSalary())\n"
      ],
      "metadata": {
        "id": "S4qjbYSiSBhr"
      },
      "execution_count": 18,
      "outputs": []
    },
    {
      "cell_type": "markdown",
      "source": [
        "## 6.6 Demonstrando o processamento polimórfico\n",
        "- Crie objetos do tipo SalariedEmployee, HourlyEmployee, CommissionEmployee e BasePlusCommissionEmployee\n",
        "    - Demonstre a manipulação de objetos com a vinculação estática\n",
        "        - Usando handles de nome em vez de ponteiros ou referências.\n",
        "        - O compilador pode identificar cada tipo de objeto para determinar que função print e earnings deve chamar.\n",
        "    - Demonstre a manipulação de objetos polimorficamente\n",
        "        - Use um vector de ponteiros Employee.\n",
        "        - Invoque funções virtual usando ponteiros e referências."
      ],
      "metadata": {
        "id": "ajkpA5imR2Lg"
      }
    },
    {
      "cell_type": "code",
      "execution_count": 21,
      "metadata": {
        "colab": {
          "base_uri": "https://localhost:8080/"
        },
        "id": "oW56RxH48u1Q",
        "outputId": "e3c9a0f7-bd37-4c6f-8dba-a21f395de884"
      },
      "outputs": [
        {
          "output_type": "stream",
          "name": "stdout",
          "text": [
            "salaried employee: \n",
            "John   Smith \n",
            "social security number:  111-11-1111\n",
            "weekly salary:  800\n",
            "earned $ 800 \n",
            "\n",
            "\n",
            "hourly employee: \n",
            "Karen   Price \n",
            "social security number:  222-22-2222\n",
            "hourly wage:  16.75 ; hours worked:  40\n",
            "earned $ 670.0 \n",
            "\n",
            "\n",
            "commission employee: \n",
            "Sue   Jones \n",
            "social security number:  333-33-3333\n",
            "gross sales:  10000 ; commission rate:  0.06\n",
            "earned $ 600.0 \n",
            "\n",
            "\n",
            "base-salaried \n",
            "commission employee: \n",
            "Bob   Lewis \n",
            "social security number:  444-44-4444\n",
            "gross sales:  5000 ; commission rate:  0.04\n",
            "; base salary:  300\n",
            "earned $ 500.0\n",
            "salaried employee: \n",
            "John   Smith \n",
            "social security number:  111-11-1111\n",
            "weekly salary:  800\n",
            "hourly employee: \n",
            "Karen   Price \n",
            "social security number:  222-22-2222\n",
            "hourly wage:  16.75 ; hours worked:  40\n",
            "commission employee: \n",
            "Sue   Jones \n",
            "social security number:  333-33-3333\n",
            "gross sales:  10000 ; commission rate:  0.06\n",
            "base-salaried \n",
            "commission employee: \n",
            "Bob   Lewis \n",
            "social security number:  444-44-4444\n",
            "gross sales:  5000 ; commission rate:  0.04\n",
            "; base salary:  300\n"
          ]
        }
      ],
      "source": [
        "salariedEmployee = SalariedEmployee( \"John\", \"Smith\", \"111-11-1111\", 800 )              \n",
        "hourlyEmployee = HourlyEmployee( \"Karen\", \"Price\", \"222-22-2222\", 16.75, 40 )\n",
        "commissionEmployee = CommissionEmployee( \"Sue\", \"Jones\", \"333-33-3333\", 10000, .06 )\n",
        "basePlusCommissionEmployee = BasePlusCommissionEmployee( \"Bob\", \"Lewis\", \"444-44-4444\", 5000, .04, 300 )\n",
        "\n",
        "salariedEmployee.print()\n",
        "print(\"earned $\" , salariedEmployee.earnings() , \"\\n\\n\")\n",
        "\n",
        "hourlyEmployee.print()\n",
        "print(\"earned $\" , hourlyEmployee.earnings() , \"\\n\\n\")\n",
        "\n",
        "commissionEmployee.print()\n",
        "print(\"earned $\" , commissionEmployee.earnings() , \"\\n\\n\")\n",
        "\n",
        "basePlusCommissionEmployee.print()\n",
        "print(\"earned $\" , basePlusCommissionEmployee.earnings() ) \n",
        "\n",
        "employees = [salariedEmployee, hourlyEmployee, commissionEmployee, basePlusCommissionEmployee]\n",
        "for employee in employees:\n",
        "  employee.print()"
      ]
    },
    {
      "cell_type": "code",
      "execution_count": null,
      "metadata": {
        "id": "096lEiwj8u1R"
      },
      "outputs": [],
      "source": []
    }
  ],
  "metadata": {
    "kernelspec": {
      "display_name": "Python 3",
      "name": "python3"
    },
    "language_info": {
      "name": "python"
    },
    "colab": {
      "provenance": [],
      "collapsed_sections": [],
      "include_colab_link": true
    }
  },
  "nbformat": 4,
  "nbformat_minor": 0
}