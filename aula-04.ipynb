{
  "cells": [
    {
      "cell_type": "markdown",
      "metadata": {
        "id": "view-in-github",
        "colab_type": "text"
      },
      "source": [
        "<a href=\"https://colab.research.google.com/github/aforechi/ifes-poo-2022-2/blob/main/aula-04.ipynb\" target=\"_parent\"><img src=\"https://colab.research.google.com/assets/colab-badge.svg\" alt=\"Open In Colab\"/></a>"
      ]
    },
    {
      "cell_type": "markdown",
      "metadata": {
        "id": "2IwwqL36M6rA"
      },
      "source": [
        "# Aula 4: Operadores e expressões relacionais e lógicas\n",
        "\n",
        "## Operadores relacionais e lógicos\n",
        "\n",
        "Uma sentença lógica é toda proposição que pode ser avaliada tendo como valores Falso e Verdadeiro. Em Python, \n",
        "- Verdadeiro é qualquer valor diferente de zero. \n",
        "- O valor Falso é representado por zero.\n",
        "\n",
        "Expressão lógica é um conjunto de sentenças lógicas.\n",
        "\n",
        "Uma sentença relacional (comparação) é uma sentença lógica, pois é avaliada pelos valores Falso e Verdadeiro. Da mesma forma, uma expressão relacional é também uma expressão lógica.\n",
        "\n",
        "Os operadores relacionais são operadores utilizados para relacionar valores, sentenças ou expressões (aritméticas e lógicas). \n",
        "\n",
        "Exemplos de sentenças lógicas:\n",
        "- chove\n",
        "- Faz frio\n",
        "- (4*5) = (5*4)\n",
        "\n",
        "Exemplos de expressões lógicas:\n",
        "- Chove e faz frio\n",
        "- (idade>0) e (idade<25)\n",
        "\n",
        "Os operadores lógicos são elementos que ligam termos ou sentenças de forma a possibilitar a determinação do valor lógico desse conjunto de termos ou de sentenças. \n",
        "\n",
        "    Os operadores lógicos têm as ações de AND (e), OR (ou) e NOT (não):\n",
        "\n",
        "- A ação AND torna uma expressão lógica verdadeira se todos os seus termos ou sentenças forem verdadeiros.\n",
        "\n",
        "- A ação OR torna uma expressão lógica verdadeira se pelo menos um de seus termos ou sentenças for verdadeiro.\n",
        "\n",
        "- A ação NOT nega o valor lógico de uma sentença ou expressão lógica.\n",
        "\n",
        "\n",
        "A tabela-verdade das ações AND, OR e NOT é apresentada a seguir:\n",
        "\n",
        "\n",
        "As tabelas-verdade dos operadores lógicos bit a bit são as mesmas dos seus equivalentes lógicos, exceto por trabalharem bit a bit.\n",
        "\n",
        "A tabela-verdade do operador XOR é a seguinte\n",
        "\n",
        "\n",
        "    Exercício de fixação: imprima as tabelas verdade dos operadores lógicos AND, OR, NOT e XOR."
      ]
    },
    {
      "cell_type": "code",
      "execution_count": null,
      "metadata": {
        "colab": {
          "base_uri": "https://localhost:8080/"
        },
        "id": "PwftwCAZM6rJ",
        "outputId": "5ab8b1c3-4e90-4672-aa4f-d70610c056ed"
      },
      "outputs": [
        {
          "name": "stdout",
          "output_type": "stream",
          "text": [
            "p \t q \t not p \t not q \t p and q \t p or q \t p != q\n",
            "False \t False \t True \t True \t False \t\t False \t\t False\n"
          ]
        }
      ],
      "source": [
        "print(\"p \\t q \\t not p \\t not q \\t p and q \\t p or q \\t p != q\")\n",
        "print(False, \"\\t\", False, \"\\t\", True, \"\\t\", True, \"\\t\", False, \"\\t\\t\", False, \"\\t\\t\", False)"
      ]
    },
    {
      "cell_type": "markdown",
      "metadata": {
        "id": "hRU8RU-POyfv"
      },
      "source": [
        "# <center> Operadores Relacionais em Python </center>\n",
        "\n",
        "<table>\n",
        "<thead>\n",
        "  <tr>\n",
        "    <th>Operação</th>\n",
        "    <th>Operador<br></th>\n",
        "    <th>Sintaxe<br></th>\n",
        "    <th>Exemplo</th>\n",
        "    <th>Saída</th>\n",
        "  </tr>\n",
        "</thead>\n",
        "<tbody>\n",
        "  <tr>\n",
        "    <td>Maior que</td>\n",
        "    <td><center>&gt;</center><br></td>\n",
        "    <td>&lt;expr&gt; &gt; &lt;expr&gt;</td>\n",
        "    <td>print(6 &gt; 4)</td>\n",
        "    <td>True</td>\n",
        "  </tr>\n",
        "  <tr>\n",
        "    <td>Maior que ou igual a </td>\n",
        "    <td><center>&gt;=</center><br></td>\n",
        "    <td>&lt;expr&gt; &gt;= &lt;expr&gt;</td>\n",
        "    <td>print( 6&gt;= 6)</td>\n",
        "    <td>True</td>\n",
        "  </tr>\n",
        "  <tr>\n",
        "    <td>Menor que<br></td>\n",
        "    <td><center>&lt;</center><br></td>\n",
        "    <td>&lt;expr&gt; &lt; &lt;expr&gt;</td>\n",
        "    <td>print (5&lt;4)</td>\n",
        "    <td>False</td>\n",
        "  </tr>\n",
        "  <tr>\n",
        "    <td>Menor que ou igual a</td>\n",
        "    <td><center>&lt;=</center><br></td>\n",
        "    <td>&lt;expr&gt; &lt;= &lt;expr&gt;</td>\n",
        "    <td>print (6 &lt;= 7)</td>\n",
        "    <td>True</td>\n",
        "  </tr>\n",
        "  <tr>\n",
        "    <td>Diferente que</td>\n",
        "    <td><center>!=</center><br></td>\n",
        "    <td>&lt;expr&gt; != &lt;expr&gt;</td>\n",
        "    <td>print (8 != 9)</td>\n",
        "    <td>True</td>\n",
        "  </tr>\n",
        "  <tr>\n",
        "    <td>Igual a</td>\n",
        "    <td><center>==</center><br></td>\n",
        "    <td>&lt;expr&gt; == &lt;expr&gt;</td>\n",
        "    <td>print(8==9)</td>\n",
        "    <td>False</td>\n",
        "  </tr>\n",
        "</tbody>\n",
        "</table>\n",
        "\n",
        "Os operadores relacionais atuam sobre as expressões aritméticas, relacionando-as.  \n",
        "\n",
        "Operadores relacionais resultam em um tipo bool, cujo valor será True caso a relação seja verdadeira e False, caso contrário. "
      ]
    },
    {
      "cell_type": "markdown",
      "metadata": {
        "id": "_KIoc2RoM6rS"
      },
      "source": [
        "## Avaliação de expressões lógicas\n",
        "\n",
        "Avaliar uma expressão lógica é obter o seu valor lógico, isto é, verificar se a expressão é falsa ou verdadeira. \n",
        "\n",
        "Para fazer essa avaliação é necessário seguir a ordem de precedência dos operadores em expressões lógicas.\n",
        "\n",
        "A ordem de precedência dos operadores relacionais e lógicos, da maior para a menor precedência, é a seguinte:\n",
        "1. ()\n",
        "2. \\>  \\>=  <   <=  ==    !=\n",
        "3. not\n",
        "4. and\n",
        "5. or\n",
        "\n",
        "Assim como nas expressões aritméticas, é possível mudar a ordem de avaliação de uma expressão lógica com o uso de parênteses.\n",
        "\n",
        "Exemplos: As expressões lógicas abaixo são falsas ou verdadeiras?"
      ]
    },
    {
      "cell_type": "code",
      "execution_count": null,
      "metadata": {
        "colab": {
          "base_uri": "https://localhost:8080/"
        },
        "id": "tCOhPjTFM6rT",
        "outputId": "efce0be8-ec6b-4c2d-ffc1-38a59fbc8628"
      },
      "outputs": [
        {
          "data": {
            "text/plain": [
              "False"
            ]
          },
          "execution_count": 1,
          "metadata": {},
          "output_type": "execute_result"
        }
      ],
      "source": [
        "# Exemplo 1: \n",
        "\n",
        "not False and False or False"
      ]
    },
    {
      "cell_type": "code",
      "execution_count": null,
      "metadata": {
        "colab": {
          "base_uri": "https://localhost:8080/"
        },
        "id": "LKCdEyPwM6rU",
        "outputId": "466bd801-7d80-42e6-8b71-8d04f9465087"
      },
      "outputs": [
        {
          "name": "stdout",
          "output_type": "stream",
          "text": [
            "True\n"
          ]
        }
      ],
      "source": [
        "# Exemplo 2: Seja A = 0, B = 1, C = !(A || B)\n",
        "\n",
        "A = 0\n",
        "B = 1\n",
        "C = not (A or B)\n",
        "R = not A or C and not B or A and A == B\n",
        "print(R)"
      ]
    },
    {
      "cell_type": "code",
      "execution_count": null,
      "metadata": {
        "colab": {
          "base_uri": "https://localhost:8080/"
        },
        "id": "nfZtsySBM6rU",
        "outputId": "ef656d56-c3f2-427d-be7a-8119d801e366"
      },
      "outputs": [
        {
          "data": {
            "text/plain": [
              "True"
            ]
          },
          "execution_count": 3,
          "metadata": {},
          "output_type": "execute_result"
        }
      ],
      "source": [
        "# Exemplo 3:\n",
        "\n",
        "not C or (3 + 4 == 5 + 2) and (30 <= 20 + 10) or ('C'=='c') and ( A == C or C)"
      ]
    },
    {
      "cell_type": "markdown",
      "metadata": {
        "id": "P_anrYttM6rV"
      },
      "source": [
        "## Construção de expressões lógicas\n",
        "\n",
        "Construir expressões lógicas significa criar condições para execução de instruções. Essas condições envolvem comparações e operações lógicas.\n",
        "\n",
        "Exemplo: Crie uma expressão lógica que avalie se uma pessoa tem idade entre 20 e 40 anos."
      ]
    },
    {
      "cell_type": "code",
      "execution_count": null,
      "metadata": {
        "colab": {
          "base_uri": "https://localhost:8080/"
        },
        "id": "MYesb-QmM6rX",
        "outputId": "7032521b-c714-454c-db8a-c3b4f4146f55"
      },
      "outputs": [
        {
          "name": "stdout",
          "output_type": "stream",
          "text": [
            "Informe sua idade em anos:24\n",
            "True\n"
          ]
        }
      ],
      "source": [
        "idade = int(input(\"Informe sua idade em anos:\"))\n",
        "print( (idade >= 20) and (idade <= 40) )"
      ]
    },
    {
      "cell_type": "markdown",
      "metadata": {
        "id": "qxp78tYtM6rY"
      },
      "source": [
        "Exercício: Escreva um algoritmo em Python que verifique se a pessoa está isenta de pagar imposto de renda. Obs.: Ela estará isenta se sua faixa salarial estiver entre R\\$ 0,00 e R\\$ 28.559,70. Consulte a tabela de IR em https://www.gov.br/receitafederal/pt-br/assuntos/meu-imposto-de-renda/quem"
      ]
    },
    {
      "cell_type": "code",
      "execution_count": null,
      "metadata": {
        "id": "IpV26orBM6ra"
      },
      "outputs": [],
      "source": [
        ""
      ]
    },
    {
      "cell_type": "markdown",
      "metadata": {
        "id": "wn53ZJuIM6rb"
      },
      "source": [
        "O programa a seguir calcula a média de duas temperaturas $\\frac{t1 + t2}{2}$ em um ambiente e verifica se a temperatura está fora das condições de ambiente. A temperatura média está fora da temperatura ambiente se estiver abaixo de 20 ou acima de 27. Aponte os erros no programa e corrija-os para que funcione."
      ]
    },
    {
      "cell_type": "code",
      "execution_count": null,
      "metadata": {
        "colab": {
          "base_uri": "https://localhost:8080/"
        },
        "id": "dymsJWlVM6rc",
        "outputId": "212b7c97-ba85-4c18-b306-a1c4e8ee8bad"
      },
      "outputs": [
        {
          "name": "stdout",
          "output_type": "stream",
          "text": [
            "Digite a temperatura 1:5\n",
            "Digite a temperatura 2:10\n",
            "Temperatura média: 7.5\n",
            "Temperatura fora das condições normais do ambiente: True\n"
          ]
        }
      ],
      "source": [
        "t1 = t2 = 0\n",
        "\n",
        "t1 = float(input(\"Digite a temperatura 1:\"))\n",
        "t2 = float(input(\"Digite a temperatura 2:\"))\n",
        "\n",
        "media = (t1 + t2) / 2\n",
        "\n",
        "temperatura_ambiente = (media < 20.0) or (media > 27.0)\n",
        "\n",
        "print(\"Temperatura média:\", media)\n",
        "print(\"Temperatura fora das condições normais do ambiente:\", temperatura_ambiente)"
      ]
    },
    {
      "cell_type": "markdown",
      "metadata": {
        "id": "YBQvLY8pM6rc"
      },
      "source": [
        "## Precedência geral em Python 3\n",
        "\n",
        "(Do mais prioritário ao menos) \n",
        "\n",
        "1. Operadores Aritméticos \n",
        "2. Operadores Relacionais\n",
        "3. Operadores Lógicos\n",
        "4. Operadores de Atribuição\n"
      ]
    },
    {
      "cell_type": "markdown",
      "metadata": {
        "id": "e5DVOQqHOGSk"
      },
      "source": [
        "Faça o Exercício 1001 do URI, disponível em https://www.beecrowd.com.br/judge/pt/problems/view/1001"
      ]
    },
    {
      "cell_type": "code",
      "execution_count": null,
      "metadata": {
        "id": "sLNTethDM6rd"
      },
      "outputs": [],
      "source": [
        ""
      ]
    }
  ],
  "metadata": {
    "colab": {
      "collapsed_sections": [],
      "name": "aula-04.2.ipynb",
      "provenance": [],
      "include_colab_link": true
    },
    "kernelspec": {
      "display_name": "Python 3.9.4 ('ifes-po')",
      "language": "python",
      "name": "python3"
    },
    "language_info": {
      "name": "python",
      "version": "3.9.4"
    },
    "vscode": {
      "interpreter": {
        "hash": "d23624f4fb3901b69876aecaac311f78328ac79fc9bc28bba0a8ecb58a6ebde9"
      }
    }
  },
  "nbformat": 4,
  "nbformat_minor": 0
}