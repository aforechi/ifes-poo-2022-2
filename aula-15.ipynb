{
  "cells": [
    {
      "cell_type": "markdown",
      "metadata": {
        "id": "view-in-github",
        "colab_type": "text"
      },
      "source": [
        "<a href=\"https://colab.research.google.com/github/aforechi/ifes-poo-2022-2/blob/main/aula-15.ipynb\" target=\"_parent\"><img src=\"https://colab.research.google.com/assets/colab-badge.svg\" alt=\"Open In Colab\"/></a>"
      ]
    },
    {
      "cell_type": "markdown",
      "metadata": {
        "id": "oL3VYVGD3Wnj"
      },
      "source": [
        "# Aula 15 - Programação orientada a objetos: herança\n",
        "\n",
        "<div class=\"alert alert-block alert-success\">\n",
        "    <b>Adaptado de Capítulo 12 do livro: </b> \n",
        "    <p>DEITEL, Harvey M.; DEITEL, Paul J. C++: como programar. 5.ed. São Paulo: Prentice Hall, 2006.\n",
        "</div>\n",
        "\n",
        "## Objetivos\n",
        "\n",
        "Neste capítulo, você aprenderá:\n",
        "- A criar classes herdando de classes existentes.\n",
        "- Como a herança promove a reutilização de software.\n",
        "- As noções de classes básicas e classes derivadas e os relacionamentos entre elas.\n",
        "- O especificador de acesso de membro **protected**.\n",
        "- O uso de construtores e destrutores em hierarquias de herança.\n",
        "- O uso de herança para personalizar software existente.\n",
        "\n",
        "## 1 Introdução\n",
        "- Herança\n",
        "    - Reusabilidade de software\n",
        "    - Cria uma nova classe de uma classe existente.\n",
        "        - Absorve os dados e os comportamentos da classe existente.\n",
        "        - Aprimora esses dados com novas capacidades.\n",
        "    - A classe derivada herda da classe básica.\n",
        "        - Classe derivada\n",
        "            - Grupo mais especializado de objetos.\n",
        "            - Contém comportamentos herdados da classe básica\n",
        "                - Os quais podem ser personalizados.\n",
        "            - E outros comportamentos.\n",
        "\n",
        "## 1 Introdução (cont.)\n",
        "- Hierarquia de classes\n",
        "    - Classe básica direta\n",
        "        - É herdada explicitamente (de um nível acima da hierarquia).\n",
        "    - Classe básica indireta\n",
        "        - É herdada de dois ou mais níveis da hierarquia.\n",
        "    - Herança simples\n",
        "        - Herda de uma classe básica.\n",
        "    - Herança múltipla\n",
        "        - Herda de múltiplas classes básicas.\n",
        "            - Classes básicas possivelmente não relacionadas.\n",
        "\n",
        "## 1 Introdução (cont.)\n",
        "- Tipos de herança\n",
        "    - Todo objeto da classe derivada é também um objeto da classe básica.\n",
        "        - Os objetos da classe básica não são objetos das classes derivadas.\n",
        "        - Exemplo: Todos os carros são veículos, mas nem todos os veículos são carros.\n",
        "    - É possível acessar membros não-private da classe básica.\n",
        "        - Para acessar membros private da classe básica\n",
        "            - A classe derivada deve usar funções-membro não-private herdadas.\n",
        "\n",
        "## 1 Introdução (cont.)\n",
        "- Abstração\n",
        "    - Os programadores concentram-se em aspectos comuns entre objetos no sistema.\n",
        "- ‘é um’ versus ‘tem um’\n",
        "    - ‘é um’\n",
        "        - Herança\n",
        "        - O objeto da classe derivada pode ser tratado com objeto da classe básica.\n",
        "        - Exemplo: O carro é um veículo.\n",
        "            - As propriedades/comportamentos de veículos também se aplicam a um carro.\n",
        "    - ‘tem um’\n",
        "        - Composição\n",
        "        - O objeto contém um ou mais objetos de outras classes como membros.\n",
        "        - Exemplo: O carro tem (uma) direção.\n",
        "        \n",
        "## Observação de engenharia de software 1\n",
        "- As funções-membro de uma classe derivada não podem acessar diretamente os membros **private** da classe básica.\n",
        "\n",
        "## Observação de engenharia de software 2\n",
        "- Se uma classe derivada pudesse acessar os membros private de sua classe básica, as classes que herdam dessa classe derivada também poderiam acessar esses dados. \n",
        "- Isso propagaria acesso ao que devem ser variáveis de instância private e os benefícios do ocultamento de informações seriam perdidos.\n",
        "\n",
        "## 2 Classes básicas e derivadas\n",
        "- Classes básicas e derivadas\n",
        "    - O objeto de uma classe ‘é um’ objeto de outra classe.\n",
        "        - Exemplo: O retângulo é um quadrilátero.\n",
        "            - A classe **Rectangle** herda da classe **Quadrilateral**.\n",
        "                - **Quadrilateral** é a classe básica.\n",
        "                - **Rectangle** é a classe derivada.\n",
        "    - A classe básica em geral representa um conjunto maior de objetos que as classes derivadas.\n",
        "        - Exemplo:  \n",
        "            - Classe básica: **Vehicle**\n",
        "                - Inclui carros, caminhões, barcos, bicicletas etc.\n",
        "            - Class derivada: **Car**\n",
        "                - Um subconjunto menor e mais específico de veículos.\n",
        "- Exercício: Dê exemplos de herança com classes básicas e derivadas.\n",
        "\n",
        "## 2 Classes básicas e derivadas (cont.)\n",
        "- Hierarquia de herança\n",
        "    - Relacionamentos de herança: estrutura hierárquica do tipo árvore\n",
        "    - Cada classe torna-se\n",
        "        - Uma classe básica\n",
        "            - Fornece dados/comportamentos a outras classes.\n",
        "        - OU\n",
        "        - Uma classe derivada\n",
        "            - Herda dados/comportamentos de outras classes.\n",
        "\n",
        "## Hierarquia de herança de MembrosDaComunidade da universidade.\n",
        "\n",
        "<img src=\"https://github.com/aforechi/ifes-cpp-2018-2/raw/master/img/Picture131.png\" width=\"100%\" height=\"100%\">\n",
        "\n",
        "## Hierarquia de herança para Formas.\n",
        "\n",
        "<img src=\"https://github.com/aforechi/ifes-cpp-2018-2/raw/master/img/Picture132.png\" width=\"100%\" height=\"100%\">\n",
        "\n"
      ]
    },
    {
      "cell_type": "markdown",
      "metadata": {
        "id": "wG3noKPj3Wno"
      },
      "source": [
        "## 2 Classes básicas e derivadas (cont.)\n",
        "- Herança \n",
        "    - É especificada com:\n",
        "        - **class TwoDimensionalShape (Shape)**\n",
        "            - A classe TwoDimensionalShape herda da classe Shape.\n",
        "    - Membros private da classe básica\n",
        "        - Não podem ser acessados diretamente.\n",
        "        - Ainda assim são herdados\n",
        "            - Manipulados por meio das funções-membro public herdadas.\n",
        "    - Membros public e protected da classe básica\n",
        "        - São herdados com o acesso do membro original.\n",
        "    - Funções friend\n",
        "        - Não são herdadas.\n",
        "\n",
        "## 3 Membros protected\n",
        "- Acesso protected\n",
        "    - Nível intermediário de proteção entre public e private.\n",
        "    - Os membros protected podem ser acessados por\n",
        "        - Membros da classe básica\n",
        "        - Classe básica friends\n",
        "        - Membros da classe derivada\n",
        "        - Classe derivada friends\n",
        "- Membros da classe derivada\n",
        "- Referem-se a membros public e protected da classe básica.\n",
        "    - Simplesmente usam o nome dos membros.\n",
        "- Os membros da classe básica refinados podem ser acessados por meio do nome da classe báscia e do operador binário de resolução de escopo (::).\n",
        "\n",
        "## 4 Relacionamento entre classes básicas e derivadas\n",
        "- Relacionamento entre classes básicas e derivadas\n",
        "    - Exemplo: Hierarquia de herança CommissionEmployee/BasePlusCommissionEmployee\n",
        "        - CommissionEmployee\n",
        "            - Nome, sobrenome, SSN, taxa de comissão, quantidade de vendas brutas\n",
        "        - BasePlusCommissionEmployee\n",
        "            - Nome, sobrenome, SSN, taxa de comissão, quantidade de vendas brutas\n",
        "            - E ainda: salário-base\n",
        "\n",
        "## 4.1 Criando e utilizando uma classe CommissionEmployee\n",
        "- Classe CommissionEmployee\n",
        "    - Arquivo de código-fonte [CommissionEmployee.py](CommissionEmployee.py)\n",
        "        - Observe:\n",
        "            - Construtor da classe CommissionEmployee.\n",
        "            - Declaração dos membros de dados private.\n",
        "            - Funções-membro earnings e print\n",
        "            - Inicialização dos membros de dados.\n",
        "            - A função setGrossSales valida quantidade de vendas brutas.\n",
        "            - A função setCommissionRate valida a taxa de comissão.\n",
        "            - A função earnings calcula os rendimentos.\n",
        "            - A função print exibe o objeto CommissionEmployee.\n"
      ]
    },
    {
      "cell_type": "code",
      "source": [
        "%%writefile CommissionEmployee.py\n",
        "# Fig. 12.4: CommissionEmployee.py\n",
        "# Classe CommissionEmployee representa um empregado comissionado.\n",
        "\n",
        "class CommissionEmployee:                                                  \n",
        "    def __init__(self,                             \n",
        "      first, last, ssn,      \n",
        "      sales, rate ):                                                                 \n",
        "      self.__firstName = first                            \n",
        "      self.__lastName = last                             \n",
        "      self.__socialSecurityNumber = ssn                    \n",
        "      self.setGrossSales( sales ) # valida e armazena as vendas brutas    \n",
        "      self.setCommissionRate( rate ) # valida e armazena a taxa de comissão\n",
        "   \n",
        "    def setFirstName( self, first ):\n",
        "      self.__firstName = first\n",
        "\n",
        "    def getFirstName( self ):\n",
        "      return self.__firstName;\n",
        "\n",
        "    def setLastName( self, last ):\n",
        "      self.__lastName = last\n",
        "\n",
        "    def getLastName( self ):\n",
        "      return self.__lastName;\n",
        "\n",
        "    def setSocialSecurityNumber( self, ssn ):\n",
        "      self.__socialSecurityNumber = ssn\n",
        "\n",
        "    def getSocialSecurityNumber( self ):\n",
        "      return self.__socialSecurityNumber\n",
        "\n",
        "    def setGrossSales( self, sales ):\n",
        "      self.__grossSales = 0.0 if ( sales < 0.0 ) else sales\n",
        "\n",
        "    def getGrossSales( self ):\n",
        "      return self.__grossSales\n",
        "\n",
        "    def setCommissionRate( self, rate ):\n",
        "      self.__commissionRate = rate if ( rate > 0.0 and rate < 1.0 ) else 0.0\n",
        "\n",
        "    def getCommissionRate(self):\n",
        "      return self.__commissionRate\n",
        "\n",
        "    def earnings(self):\n",
        "      return self.__commissionRate * self.__grossSales  \n",
        "\n",
        "    def print(self):                           \n",
        "      print(\"commission employee: \" , self.__firstName , ' ' , self.__lastName, \"\\nsocial security number: \" , self.__socialSecurityNumber, \"\\ngross sales: \" , self.__grossSales, \"\\ncommission rate: \" , self.__commissionRate)\n"
      ],
      "metadata": {
        "colab": {
          "base_uri": "https://localhost:8080/"
        },
        "id": "Pvqvt9Nl540X",
        "outputId": "a0ff1d72-d002-4925-c6fe-20fc557dff9a"
      },
      "execution_count": null,
      "outputs": [
        {
          "output_type": "stream",
          "name": "stdout",
          "text": [
            "Writing CommissionEmployee.py\n"
          ]
        }
      ]
    },
    {
      "cell_type": "code",
      "source": [
        "from CommissionEmployee import CommissionEmployee\n",
        "\n",
        "# instancia um objeto CommissionEmployee     \n",
        "employee = CommissionEmployee(                  \n",
        "  \"Sue\", \"Jones\", \"222-22-2222\", 10000, .06 )"
      ],
      "metadata": {
        "id": "ATOKKpmm9_7A"
      },
      "execution_count": null,
      "outputs": []
    },
    {
      "cell_type": "code",
      "source": [
        "# Usa as funções get de CommissionEmployee para recuperar \n",
        "# os valores da variável de instância do objeto.\n",
        "print(\"Employee information obtained by get functions: \\n\" \n",
        "  , \"\\nFirst name is \" , employee.getFirstName()\n",
        "  , \"\\nLast name is \" , employee.getLastName() \n",
        "  , \"\\nSocial security number is \" \n",
        "  , employee.getSocialSecurityNumber()\n",
        "  , \"\\nGross sales is \" , employee.getGrossSales()\n",
        "  , \"\\nCommission rate is \" , employee.getCommissionRate() )"
      ],
      "metadata": {
        "colab": {
          "base_uri": "https://localhost:8080/"
        },
        "id": "pPa4JlDc-VO2",
        "outputId": "e670efe7-8c2b-4ba5-91c3-1ea659eef053"
      },
      "execution_count": null,
      "outputs": [
        {
          "output_type": "stream",
          "name": "stdout",
          "text": [
            "Employee information obtained by get functions: \n",
            " \n",
            "First name is  Sue \n",
            "Last name is  Jones \n",
            "Social security number is  222-22-2222 \n",
            "Gross sales is  10000 \n",
            "Commission rate is  0.06\n"
          ]
        }
      ]
    },
    {
      "cell_type": "code",
      "source": [
        "employee.setGrossSales( 8000 ) # configura vendas brutas    \n",
        "\n",
        "# Usa as funções set de CommissionEmployee para alterar \n",
        "# os valores da variável de instância do objeto.\n",
        "employee.setCommissionRate( .1 ) # configura a taxa de comissão"
      ],
      "metadata": {
        "id": "Ug0BLyIw-iZk"
      },
      "execution_count": null,
      "outputs": []
    },
    {
      "cell_type": "code",
      "execution_count": null,
      "metadata": {
        "colab": {
          "base_uri": "https://localhost:8080/"
        },
        "id": "6SI2JaZP3Wnq",
        "outputId": "c806829c-0236-45f6-f4a9-0f45253a1142"
      },
      "outputs": [
        {
          "output_type": "stream",
          "name": "stdout",
          "text": [
            "\n",
            "Updated employee information output by print function: \n",
            "\n",
            "commission employee:  Sue   Jones \n",
            "social security number:  222-22-2222 \n",
            "gross sales:  8000 \n",
            "commission rate:  0.1\n"
          ]
        }
      ],
      "source": [
        "print(\"\\nUpdated employee information output by print function: \\n\" )\n",
        "# Chama a função print do objeto para exibir informações sobre o funcionário.\n",
        "employee.print() # exibe as novas informações do empregado\n"
      ]
    },
    {
      "cell_type": "code",
      "source": [
        "# Chama a função earnings do objeto para calcular os rendimentos do empregado.\n",
        "print( \"\\n\\nEmployee's earnings: $\" , employee.earnings() )"
      ],
      "metadata": {
        "colab": {
          "base_uri": "https://localhost:8080/"
        },
        "id": "KCuTySbD-1XV",
        "outputId": "00ca50a7-b11f-4b6c-da07-4fced8c88902"
      },
      "execution_count": null,
      "outputs": [
        {
          "output_type": "stream",
          "name": "stdout",
          "text": [
            "\n",
            "\n",
            "Employee's earnings: $ 800.0\n"
          ]
        }
      ]
    },
    {
      "cell_type": "markdown",
      "metadata": {
        "id": "MQlWtiO73Wnt"
      },
      "source": [
        "## 4.2 Criando uma classe BasePlusCommissionEmployee sem utilizar herança\n",
        "- Classe BasePlusCommissionEmployee [BasePlusCommissionEmployee.py](./BasePlusCommissionEmployee.py)\n",
        "    - Grande parte do código é semelhante a CommissionEmployee.\n",
        "        - Membros de dados private\n",
        "        - Métodos public\n",
        "        - Construtor\n",
        "    - Adições\n",
        "        - Membro de dados private baseSalary\n",
        "        - Métodos setBaseSalary e getBaseSalary\n",
        "    - Observe em detalhes:\n",
        "        - O construtor toma mais um argumento, o qual especifica o salário-base.\n",
        "        - Define as funções get e set para os membros de dados baseSalary.\n",
        "        - Adiciona o membro de dados baseSalary.\n",
        "        - Usa a função setBaseSalary para validar dados.\n"
      ]
    },
    {
      "cell_type": "code",
      "source": [
        "%%writefile BasePlusCommissionEmployee.py\n",
        "# Fig. 12.7: BasePlusCommissionEmployee.py\n",
        "# Definição da classe BasePlusCommissionEmployee representa um empregado\n",
        "# que recebe um salário-base além da comissão.\n",
        "\n",
        "class BasePlusCommissionEmployee:\n",
        "    def __init__(self, first, last, ssn, sales, rate, salary ):                                                                 \n",
        "      self.__firstName = first                            \n",
        "      self.__lastName = last                             \n",
        "      self.__socialSecurityNumber = ssn                    \n",
        "      self.setGrossSales( sales ) # valida e armazena as vendas brutas    \n",
        "      self.setCommissionRate( rate ) # valida e armazena a taxa de comissão\n",
        "      self.setBaseSalary( salary ) # valida e armazena salário-base\n",
        "   \n",
        "    def setFirstName( self, first ):\n",
        "      self.__firstName = first\n",
        "\n",
        "    def getFirstName( self ):\n",
        "      return self.__firstName;\n",
        "\n",
        "    def setLastName( self, last ):\n",
        "      self.__lastName = last\n",
        "\n",
        "    def getLastName( self ):\n",
        "      return self.__lastName;\n",
        "\n",
        "    def setSocialSecurityNumber( self, ssn ):\n",
        "      self.__socialSecurityNumber = ssn\n",
        "\n",
        "    def getSocialSecurityNumber( self ):\n",
        "      return self.__socialSecurityNumber\n",
        "\n",
        "    def setGrossSales( self, sales ):\n",
        "      self.__grossSales = 0.0 if ( sales < 0.0 ) else sales\n",
        "\n",
        "    def getGrossSales( self ):\n",
        "      return self.__grossSales\n",
        "\n",
        "    def setCommissionRate( self, rate ):\n",
        "      self.__commissionRate = rate if ( rate > 0.0 and rate < 1.0 ) else 0.0\n",
        "\n",
        "    def getCommissionRate(self):\n",
        "      return self.__commissionRate\n",
        "\n",
        "    def print(self):                           \n",
        "      print(\"commission employee: \" , self.__firstName , ' ' , self.__lastName, \"\\nsocial security number: \" , self.__socialSecurityNumber, \"\\ngross sales: \" , self.__grossSales, \"\\ncommission rate: \" , self.__commissionRate)\n",
        "\n",
        "    def setBaseSalary( self, salary ):\n",
        "      self.__baseSalary = 0.0 if ( salary < 0.0 ) else salary             \n",
        "\n",
        "    def getBaseSalary(self):\n",
        "      return self.__baseSalary                                \n",
        "\n",
        "    def earnings(self):    \n",
        "      return self.__baseSalary + ( self.__commissionRate * self.__grossSales )\n",
        "\n",
        "    def print(self):                           \n",
        "      print(\"commission employee: \" , self.__firstName , ' ' , self.__lastName, \n",
        "        \"\\nsocial security number: \" , self.__socialSecurityNumber, \n",
        "        \"\\ngross sales: \" , self.__grossSales, \"\\ncommission rate: \" , self.__commissionRate,\n",
        "        \"\\nbase salary: \" , self.__baseSalary)\n",
        "   \n"
      ],
      "metadata": {
        "colab": {
          "base_uri": "https://localhost:8080/"
        },
        "id": "MOZbDuPR-6R1",
        "outputId": "0bf50abb-5aa4-40c5-abc1-eed0eb7f4ed1"
      },
      "execution_count": null,
      "outputs": [
        {
          "output_type": "stream",
          "name": "stdout",
          "text": [
            "Overwriting BasePlusCommissionEmployee.py\n"
          ]
        }
      ]
    },
    {
      "cell_type": "code",
      "source": [
        "from BasePlusCommissionEmployee import BasePlusCommissionEmployee\n",
        "\n",
        "employee = BasePlusCommissionEmployee( \"Bob\", \"Lewis\", \"333-33-3333\", 5000, .04, 300 )\n"
      ],
      "metadata": {
        "id": "tZ0xgZuvBWlU"
      },
      "execution_count": null,
      "outputs": []
    },
    {
      "cell_type": "code",
      "source": [
        "print( \"Employee information obtained by get functions: \\n\" \n",
        "  , \"\\nFirst name is \" , employee.getFirstName() \n",
        "  , \"\\nLast name is \" , employee.getLastName()\n",
        "  , \"\\nSocial security number is \" \n",
        "  , employee.getSocialSecurityNumber()\n",
        "  , \"\\nGross sales is \" , employee.getGrossSales()\n",
        "  , \"\\nCommission rate is \" , employee.getCommissionRate()\n",
        "  , \"\\nBase salary is \" , employee.getBaseSalary() )\n"
      ],
      "metadata": {
        "colab": {
          "base_uri": "https://localhost:8080/"
        },
        "id": "ay_KjY3EBpTY",
        "outputId": "f2c74d57-36aa-4cbe-ed77-228645c262c0"
      },
      "execution_count": null,
      "outputs": [
        {
          "output_type": "stream",
          "name": "stdout",
          "text": [
            "Employee information obtained by get functions: \n",
            " \n",
            "First name is  Bob \n",
            "Last name is  Lewis \n",
            "Social security number is  333-33-3333 \n",
            "Gross sales is  5000 \n",
            "Commission rate is  0.04 \n",
            "Base salary is  300\n"
          ]
        }
      ]
    },
    {
      "cell_type": "code",
      "execution_count": null,
      "metadata": {
        "colab": {
          "base_uri": "https://localhost:8080/"
        },
        "id": "_zLh-3mn3Wnu",
        "outputId": "581e8dc8-2a61-44b5-fb93-e6b4e222b338"
      },
      "outputs": [
        {
          "output_type": "stream",
          "name": "stdout",
          "text": [
            "\n",
            "Updated employee information output by print function: \n",
            "\n",
            "commission employee:  Bob   Lewis \n",
            "social security number:  333-33-3333 \n",
            "gross sales:  5000 \n",
            "commission rate:  0.04 \n",
            "base salary:  1000\n",
            "\n",
            "\n",
            "Employee's earnings: $ 1200.0\n"
          ]
        }
      ],
      "source": [
        "\n",
        "employee.setBaseSalary( 1000 ) # configura o salário-base\n",
        "\n",
        "print(\"\\nUpdated employee information output by print function: \\n\" )\n",
        "employee.print() # exibe as novas informações do empregado\n",
        "\n",
        "# exibe os rendimentos do empregado\n",
        "print(\"\\n\\nEmployee's earnings: $\" , employee.earnings() )"
      ]
    },
    {
      "cell_type": "markdown",
      "metadata": {
        "id": "p0HMIspE3Wnw"
      },
      "source": [
        "## Observação de engenharia de software 3\n",
        "- Copiar e colar código de uma classe para a outra pode espalhar erros por múltiplos arquivos de código-fonte. \n",
        "- Para evitar a duplicação de código (e possivelmente erros), utilize a herança, em vez do método ‘copiar e colar’, em situações em que você quer que uma classe ‘absorva’ os membros de dados e as funções-membro de outra classe.\n",
        "## Observação de engenharia de software 4\n",
        "- Com a herança, os membros de dados e as funções-membro comuns a todas as classes na hierarquia são declarados em uma classe básica. \n",
        "- Quando esses recursos comuns requerem mudanças, os desenvolvedores de software  precisam fazer as alterações somente na classe básica — as classes derivadas herdam as alterações. \n",
        "- Sem a herança, as alterações precisariam ser feitas em todos os arquivos de código-fonte que contêm uma cópia do código em questão.\n",
        "\n",
        "## 4.3 Criando uma hierarquia de herança CommissionEmployee-BasePlusCommissionEmployee\n",
        "- Classe BasePlusCommissionEmployee [BasePlusCommissionEmployee.py](BasePlusCommissionEmployee.py)\n",
        "    - Derivada da classe CommissionEmployee [CommissionEmployee.py](CommissionEmployee.py).\n",
        "        - É uma CommissionEmployee.\n",
        "        - Herda todos os membros public.\n",
        "    - O construtor não é herdado.\n",
        "        - Usa a sintaxe inicializadora da classe básica para inicializar membros de dados.\n",
        "    - Tem o membro de dados baseSalary."
      ]
    },
    {
      "cell_type": "code",
      "source": [
        "%%writefile CommissionEmployee.py\n",
        "# Definição da classe base CommissionEmployee representa um empregado\n",
        "\n",
        "class CommissionEmployee:\n",
        "    def __init__(self, first, last, ssn, sales, rate ):                                                                 \n",
        "      self.__firstName = first                            \n",
        "      self.__lastName = last                             \n",
        "      self.__socialSecurityNumber = ssn                    \n",
        "      self.setGrossSales( sales ) # valida e armazena as vendas brutas    \n",
        "      self.setCommissionRate( rate ) # valida e armazena a taxa de comissão\n",
        "   \n",
        "    def setFirstName( self, first ):\n",
        "      self.__firstName = first\n",
        "\n",
        "    def getFirstName( self ):\n",
        "      return self.__firstName;\n",
        "\n",
        "    def setLastName( self, last ):\n",
        "      self.__lastName = last\n",
        "\n",
        "    def getLastName( self ):\n",
        "      return self.__lastName;\n",
        "\n",
        "    def setSocialSecurityNumber( self, ssn ):\n",
        "      self.__socialSecurityNumber = ssn\n",
        "\n",
        "    def getSocialSecurityNumber( self ):\n",
        "      return self.__socialSecurityNumber\n",
        "\n",
        "    def setGrossSales( self, sales ):\n",
        "      self.__grossSales = 0.0 if ( sales < 0.0 ) else sales\n",
        "\n",
        "    def getGrossSales( self ):\n",
        "      return self.__grossSales\n",
        "\n",
        "    def setCommissionRate( self, rate ):\n",
        "      self.__commissionRate = rate if ( rate > 0.0 and rate < 1.0 ) else 0.0\n",
        "\n",
        "    def getCommissionRate(self):\n",
        "      return self.__commissionRate\n",
        "\n",
        "    def earnings(self):\n",
        "      return self.__commissionRate * self.__grossSales  \n",
        "\n",
        "    def print(self):                           \n",
        "      print(\"commission employee: \" , self.__firstName , ' ' , self.__lastName, \"\\nsocial security number: \" , self.__socialSecurityNumber, \"\\ngross sales: \" , self.__grossSales, \"\\ncommission rate: \" , self.__commissionRate)\n",
        "\n",
        "    def print(self):                           \n",
        "      print(\"commission employee: \" , self.__firstName , ' ' , self.__lastName, \n",
        "        \"\\nsocial security number: \" , self.__socialSecurityNumber, \n",
        "        \"\\ngross sales: \" , self.__grossSales, \"\\ncommission rate: \" , self.__commissionRate)\n",
        "   \n"
      ],
      "metadata": {
        "colab": {
          "base_uri": "https://localhost:8080/"
        },
        "id": "DQkuwc16DE9a",
        "outputId": "239ba6d8-4974-4615-d2bf-e329e70ff96a"
      },
      "execution_count": 11,
      "outputs": [
        {
          "output_type": "stream",
          "name": "stdout",
          "text": [
            "Overwriting CommissionEmployee.py\n"
          ]
        }
      ]
    },
    {
      "cell_type": "code",
      "source": [
        "%%writefile BasePlusCommissionEmployee.py\n",
        "# Definição da classe BasePlusCommissionEmployee representa um empregado\n",
        "# que recebe um salário-base além da comissão.\n",
        "\n",
        "class BasePlusCommissionEmployee (CommissionEmployee):\n",
        "    def __init__(self, first, last, ssn, sales, rate, salary ):\n",
        "      super().__init__(self, first, last, ssn, sales, rate, salary)                                                            \n",
        "      self.setBaseSalary( salary ) # valida e armazena salário-base\n",
        "   \n",
        "    def setBaseSalary( self, salary ):\n",
        "      self.__baseSalary = 0.0 if ( salary < 0.0 ) else salary             \n",
        "\n",
        "    def getBaseSalary(self):\n",
        "      return self.__baseSalary                                \n",
        "\n",
        "    def earnings(self):    \n",
        "      return self.__baseSalary + ( self.__commissionRate * self.__grossSales )\n",
        "\n",
        "    def print(self):                           \n",
        "      print(\"commission employee: \" , self.__firstName , ' ' , self.__lastName, \n",
        "        \"\\nsocial security number: \" , self.__socialSecurityNumber, \n",
        "        \"\\ngross sales: \" , self.__grossSales, \"\\ncommission rate: \" , self.__commissionRate,\n",
        "        \"\\nbase salary: \" , self.__baseSalary)\n",
        "   \n"
      ],
      "metadata": {
        "colab": {
          "base_uri": "https://localhost:8080/"
        },
        "id": "91UTR2BcDwTV",
        "outputId": "dab68cb8-af68-41b3-9d2c-a08f66db8541"
      },
      "execution_count": 12,
      "outputs": [
        {
          "output_type": "stream",
          "name": "stdout",
          "text": [
            "Overwriting BasePlusCommissionEmployee.py\n"
          ]
        }
      ]
    },
    {
      "cell_type": "code",
      "source": [
        "from CommissionEmployee import CommissionEmployee\n",
        "from BasePlusCommissionEmployee import BasePlusCommissionEmployee\n",
        "\n",
        "employee = BasePlusCommissionEmployee( \"Bob\", \"Lewis\", \"333-33-3333\", 5000, .04, 300 )\n"
      ],
      "metadata": {
        "id": "grX7bhtsFNui"
      },
      "execution_count": 13,
      "outputs": []
    },
    {
      "cell_type": "code",
      "execution_count": 14,
      "metadata": {
        "colab": {
          "base_uri": "https://localhost:8080/"
        },
        "id": "Btb68FoL3Wnx",
        "outputId": "f74a36e0-267d-4841-81dc-48c8b6627ea2"
      },
      "outputs": [
        {
          "output_type": "stream",
          "name": "stdout",
          "text": [
            "Employee information obtained by get functions: \n",
            " \n",
            "First name is  Bob \n",
            "Last name is  Lewis \n",
            "Social security number is  333-33-3333 \n",
            "Gross sales is  5000 \n",
            "Commission rate is  0.04 \n",
            "Base salary is  300\n",
            "\n",
            "Updated employee information output by print function: \n",
            "\n",
            "commission employee:  Bob   Lewis \n",
            "social security number:  333-33-3333 \n",
            "gross sales:  5000 \n",
            "commission rate:  0.04 \n",
            "base salary:  1000\n",
            "\n",
            "\n",
            "Employee's earnings: $ 1200.0\n"
          ]
        }
      ],
      "source": [
        "print( \"Employee information obtained by get functions: \\n\" \n",
        "  , \"\\nFirst name is \" , employee.getFirstName() \n",
        "  , \"\\nLast name is \" , employee.getLastName()\n",
        "  , \"\\nSocial security number is \" \n",
        "  , employee.getSocialSecurityNumber()\n",
        "  , \"\\nGross sales is \" , employee.getGrossSales()\n",
        "  , \"\\nCommission rate is \" , employee.getCommissionRate()\n",
        "  , \"\\nBase salary is \" , employee.getBaseSalary() )\n",
        "\n",
        "employee.setBaseSalary( 1000 )\n",
        "\n",
        "print(\"\\nUpdated employee information output by print function: \\n\" )\n",
        "employee.print()\n",
        "\n",
        "# exibe os rendimentos do empregado\n",
        "print(\"\\n\\nEmployee's earnings: $\" , employee.earnings() )\n",
        "\n"
      ]
    },
    {
      "cell_type": "code",
      "source": [
        "employee._BasePlusCommissionEmployee__baseSalary"
      ],
      "metadata": {
        "colab": {
          "base_uri": "https://localhost:8080/"
        },
        "id": "16W2_cUFPU0J",
        "outputId": "b0c7bfa9-1437-40e9-a6e0-06876c47a5db"
      },
      "execution_count": 17,
      "outputs": [
        {
          "output_type": "execute_result",
          "data": {
            "text/plain": [
              "1000"
            ]
          },
          "metadata": {},
          "execution_count": 17
        }
      ]
    },
    {
      "cell_type": "markdown",
      "metadata": {
        "id": "3T4vIMkb3Wn0"
      },
      "source": [
        "## Erro comum de programação 1\n",
        "- Ocorrerá um erro de compilação se um construtor de classe derivada chamar um de seus construtores de classe básica com argumentos inconsistentes com o número e os tipos de parâmetro especificados em uma das definições de construtor de classe básica.\n",
        "\n",
        "## Dica de desempenho 1\n",
        "- Em um construtor de classe derivada, inicializar os objetos-membro e invocar construtores de classe básica explicitamente na lista de inicializadores de membro impede a inicialização duplicada na qual um construtor-padrão é chamado. \n",
        "- Desse modo, os membros de dados são modificados novamente no corpo do construtor da classe derivada.\n",
        "\n",
        "## 4.3 Criando uma hierarquia de herança CommissionEmployee-BasePlusCommissionEmployee (cont.)\n",
        "- Incluindo o arquivo de cabeçalho da classe básica\n",
        "    - O arquivo de cabeçalho da classe básica deve ser incluído no arquivo de cabeçalho da classe derivada por três motivos. O compilador deve\n",
        "        - Saber que a classe básica existe.\n",
        "        - Conhecer o tamanho dos membros de dados herdados.\n",
        "        - Garantir que os membros da classe herdada sejam utilizados apropriadamente.\n",
        "\n",
        "## 4.4 Hierarquia de herança CommissionEmployee-BasePlusCommissionEmployee utilizando dados protected\n",
        "- Use dados protected\n",
        "    - Permita que a classe BasePlusCommissionEmployee acesse diretamente os membros de dados da classe básica.\n",
        "    - Os membros protected da classe básica são herdados por todas as classes derivadas dessa classe básica.\n",
        "\n",
        "## Boa prática de programação 1\n",
        "\n",
        "- Em primeiro lugar, \n",
        "    - declare os membros public, \n",
        "- em segundo, \n",
        "    - os membros protected e, \n",
        "- por último, \n",
        "    - os membros private.\n",
        "\n",
        "## 4.4 Hierarquia de herança CommissionEmployee-BasePlusCommissionEmployee utilizando dados protected (cont.)\n",
        "- Classe BasePlusCommissionEmployee [BasePlusCommissionEmployee.py](BasePlusCommissionEmployee.py)\n",
        "- Derivada da classe CommissionEmployee [CommissionEmployee.py](CommissionEmployee.py).\n",
        "\n",
        "- Usando membros de dados protected\n",
        "    - Vantagens\n",
        "        - A classe derivada pode modificar valores diretamente.\n",
        "        - Evita a sobrecarga de chamada de método set/get.\n",
        "        - Aumenta ligeiramente o desempenho.\n",
        "    - Desvantagens\n",
        "        - Não há verificação de validação.\n",
        "            - A classe derivada pode atribuir valores inválidos.\n",
        "        - Depende de implementação\n",
        "            - As funções da classe derivada são provavelmente mais dependentes da implementação da classe básica.\n",
        "            - Alterações na implementação da classe básica podem provocar alterações na classe derivada.\n",
        "                - O software é frágil (quebradiço)."
      ]
    },
    {
      "cell_type": "code",
      "execution_count": null,
      "metadata": {
        "id": "skIZ9xJP3Wn2"
      },
      "outputs": [],
      "source": []
    },
    {
      "cell_type": "markdown",
      "metadata": {
        "id": "G7TpShxg3Wn8"
      },
      "source": [
        "## Dica de desempenho 2\n",
        "\n",
        "- Utilizar uma função-membro para acessar o valor de um membro de dados é um pouco mais lento que acessar os dados diretamente. \n",
        "- Entretanto, os atuais compiladores de otimização são projetados com cuidado para realizar muitas otimizações implicitamente (como colocar inline chamadas de função-membro get e set). \n",
        "- Em decorrência disso, os programadores devem escrever código que obedeça aos princípios apropriados da engenharia de software e deixar questões de otimização para o compilador. \n",
        "- É bom não tentar superar o compilador.\n",
        "\n",
        "## Erro comum de programação 2\n",
        "\n",
        "- Quando uma função-membro de classe básica é redefinida para uma classe derivada, a versão da classe derivada freqüentemente chama a versão da classe básica para fazer o trabalho adicional. \n",
        "\n",
        "## Erro comum de programação 3\n",
        "\n",
        "- Incluir uma função-membro de classe básica com uma assinatura diferente na classe derivada oculta a versão de classe básica da função. \n",
        "- Tentativas de chamar a versão de classe básica pela interface public de um objeto de classe derivada provocam erros de compilação.\n",
        "\n",
        "## 5 Construtores e destrutores em classes derivadas\n",
        "- Instanciando um objeto de classe derivada\n",
        "    - Cadeia de chamadas de construtor\n",
        "        - O construtor de classe derivada invoca o construtor de classe básica\n",
        "            - Implicitamente ou explicitamente.\n",
        "        - Base da hierarquia de herança\n",
        "            - O último construtor chamado na cadeia\n",
        "            - É o construtor na base da hierarquia cujo corpo termina de executar primeiro.\n",
        "            - Exemplo: Hierarquia CommissionEmployee/BasePlusCommissionEmployee\n",
        "                - CommissionEmployee é o construtor chamado por último.\n",
        "                - O corpo do construtor CommissionEmployee termina de executar primeiro.\n",
        "        - Inicializando membros de dados\n",
        "            - Cada construtor de classe básica inicializa os respectivos membros de dados herdados pela classe derivada.\n",
        "\n",
        "## Observação de engenharia de software 7\n",
        "\n",
        "- Quando um programa cria um objeto de classe derivada, \n",
        "    - o construtor da classe derivada chama imediatamente o construtor da classe básica, \n",
        "    - o corpo do construtor da classe básica executa, em seguida \n",
        "    - os inicializadores de membro da classe derivada executam e, por fim, \n",
        "    - o corpo do construtor da classe derivada executa. \n",
        "- Esse processo coloca a hierarquia em cascata se ela contiver mais de dois níveis.\n",
        "\n",
        "## 5 Construtores e destrutores em classes derivadas (cont.)\n",
        "- Destruindo um objeto de classe derivada\n",
        "    - Cadeia de chamadas de destrutor\n",
        "        - Ordem inversa da cadeia de construtor.\n",
        "        - Quando o destrutor de um objeto de classe derivada é chamado\n",
        "        - O destrutor invoca o destrutor da classe básica seguinte no nível superior da hierarquia e\n",
        "        - Continua até que o destrutor da classe básica final na parte superior da hierarquia seja chamado.\n",
        "            - Depois do destrutor da classe básica final, o objeto é removido da memória.\n",
        "- Construtores, destrutores e operadores de atribuição de classe básica\n",
        "    - Não são herdados pelas classes derivadas.\n",
        "    \n",
        "## Observação de engenharia de software 8\n",
        "\n",
        "- Suponha que tivéssemos criado um objeto de uma classe derivada em que tanto a classe básica como a classe derivada contivessem objetos de outras classes. \n",
        "- Quando um objeto dessa classe derivada é criado, \n",
        "    - os construtores para os objetos-membro da classe básica executam primeiro, \n",
        "    - em seguida \n",
        "        - o construtor da classe básica, \n",
        "        - os construtores para os objetos de membro da classe derivada e \n",
        "        - o construtor da classe derivada executam, nessa ordem. \n",
        "- Os destrutores de objetos de classe derivada são chamados na ordem inversa de seus construtores correspondentes."
      ]
    },
    {
      "cell_type": "markdown",
      "metadata": {
        "id": "0lDuoNyc3Wn-"
      },
      "source": [
        "## 7 Engenharia de software com herança\n",
        "- Personalizando software existente\n",
        "    - Herdando de classes existentes\n",
        "        - É possível incluir membros adicionais.\n",
        "        - É possível redefinir membros da classe básica.\n",
        "        - Não existe acesso direto ao código-fonte da classe básica.\n",
        "            - Apenas links ao código-objeto.\n",
        "    - Fornecedores de softwares independentes  (ISVs)\n",
        "        - Desenvolvem código proprietário para venda/licenciamento.\n",
        "            - Disponível no formato de código-objeto.\n",
        "        - Os usuários derivam novas classes\n",
        "            - Sem acessar o código-fonte proprietário dos ISVs.\n",
        "            \n",
        "## Observação de engenharia de software 9\n",
        "- Na etapa de projeto em um sistema orientado a objetos, o projetista em geral determina que certas classes estão intimamente relacionadas. \n",
        "- O projetista deve ‘fatorar’ atributos e comportamentos comuns e \n",
        "    - colocá-los em uma classe básica, \n",
        "    - depois utilizar a herança para formar classes derivadas, \n",
        "    - provendo-as de outras capacidades além das herdadas da classe básica.\n",
        "\n",
        "## Observação de engenharia de software 10\n",
        "- A criação de uma classe derivada não afeta o código-fonte da sua classe básica. \n",
        "- A herança preserva a integridade de uma classe básica.\n",
        "\n",
        "## Observação de engenharia de software 11\n",
        "- Assim como os projetistas de sistemas não orientados a objetos devem evitar a proliferação de funções, os projetistas de sistemas orientados a objetos devem evitar a proliferação de classes, \n",
        "    - pois isso cria problemas de gerenciamento e pode impedir a reusabilidade de software, \n",
        "    - porque se torna difícil para um cliente localizar a classe mais apropriada em uma enorme biblioteca de classes. \n",
        "- A alternativa é criar menos classes que forneçam funcionalidades mais substanciais, mas essas classes talvez forneçam funcionalidades demais.\n",
        "\n",
        "## Dica de desempenho 3\n",
        "- Se as classes produzidas por herança forem maiores do que o necessário (isto é, contiverem funcionalidades em excesso), os recursos de memória e processamento podem ser desperdiçados. \n",
        "- Herde da classe cujas funcionalidades estão ‘mais próximas’ daquilo que é necessário."
      ]
    },
    {
      "cell_type": "code",
      "execution_count": null,
      "metadata": {
        "id": "Pnb1aGfw3Wn_"
      },
      "outputs": [],
      "source": []
    }
  ],
  "metadata": {
    "kernelspec": {
      "display_name": "Python 3",
      "name": "python3"
    },
    "language_info": {
      "name": "python"
    },
    "colab": {
      "provenance": [],
      "collapsed_sections": [],
      "include_colab_link": true
    }
  },
  "nbformat": 4,
  "nbformat_minor": 0
}