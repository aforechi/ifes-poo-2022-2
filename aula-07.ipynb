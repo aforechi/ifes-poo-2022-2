{
  "cells": [
    {
      "cell_type": "markdown",
      "metadata": {
        "id": "view-in-github",
        "colab_type": "text"
      },
      "source": [
        "<a href=\"https://colab.research.google.com/github/aforechi/ifes-alg-2022-1/blob/main/aula-07.ipynb\" target=\"_parent\"><img src=\"https://colab.research.google.com/assets/colab-badge.svg\" alt=\"Open In Colab\"/></a>"
      ]
    },
    {
      "cell_type": "markdown",
      "metadata": {
        "id": "k8JgjIIG7ySx"
      },
      "source": [
        "# Aula 7: Estruturas de controle de repetição\n",
        "\n",
        "Em Python, assim como em outras linguagens, existem os comandos de iteração (chamados laços) que permitem que um certo conjunto de instruções possam ser executados repetidamente com base em uma condição.\n",
        "\n",
        "Em Python, esses comandos são os laços FOR (para) e WHILE (enquanto – com pré-condição)\n",
        "\n",
        "## O laço while\n",
        "\n",
        "A sintaxe do laço while é:\n",
        "<br>while condicao :\n",
        "<br>\n",
        "<br>\n",
        "\n",
        "A semântica é: repita enquanto uma condição for verdadeira e pare quando ela for falsa.\n",
        "\n",
        "A estrutura while é a estrutura mais poderosa de repetição.\n",
        "\n",
        "As variáveis da expressão lógica da condição deverão ser inicializadas antes de iniciar o laço WHILE;\n",
        "\n",
        "As variáveis da expressão lógica da condição devem ser atualizadas dentro do laço WHILE, preferencialmente no final do bloco;\n",
        "\n",
        "As variáveis são inicializadas e atualizadas por atribuições (=) ou por comandos de entrada de dados (input)\n",
        "\n",
        "Exemplo: O programa a seguir repete o incremento de um contador enquanto for menor que 10."
      ]
    },
    {
      "cell_type": "code",
      "execution_count": 11,
      "metadata": {
        "id": "cbyHMeOQ7yS1"
      },
      "outputs": [],
      "source": [
        "# Inicialização da variável\n",
        "\n",
        "contador = 0"
      ]
    },
    {
      "cell_type": "code",
      "execution_count": 12,
      "metadata": {
        "colab": {
          "base_uri": "https://localhost:8080/"
        },
        "id": "GwDzOiKp7yS3",
        "outputId": "cd12f978-eca1-4a59-cffa-b59b318cb6e2"
      },
      "outputs": [
        {
          "output_type": "stream",
          "name": "stdout",
          "text": [
            "0  1  2  3  4  5  6  7  8  9  "
          ]
        }
      ],
      "source": [
        "while contador < 10:\n",
        "    print(contador, \" \", end=\"\")\n",
        "    contador += 1\n"
      ]
    },
    {
      "cell_type": "code",
      "execution_count": null,
      "metadata": {
        "id": "G2gRolKn7yS3"
      },
      "outputs": [],
      "source": [
        "contador"
      ]
    },
    {
      "cell_type": "markdown",
      "metadata": {
        "id": "ELowkPkp7yS4"
      },
      "source": [
        "**Atenção**: Tenha certeza de que a condição de repetição em algum momento será falsa. Caso contrário, o seu programa poderá entrar em loop infinito.\n",
        "\n",
        "\n",
        "Exemplo: a programação a seguir repete o sorteio de um número enquanto esse número não está no intervalo de 1 a 5."
      ]
    },
    {
      "cell_type": "code",
      "execution_count": 16,
      "metadata": {
        "id": "fGut6SbJ7yS5"
      },
      "outputs": [],
      "source": [
        "import random\n",
        "\n",
        "numero_sorteado = 0"
      ]
    },
    {
      "cell_type": "code",
      "execution_count": 17,
      "metadata": {
        "colab": {
          "base_uri": "https://localhost:8080/"
        },
        "id": "QyddQHxx7yS7",
        "outputId": "12e2bd1b-fdcb-48d2-ebd5-c7cb4887b312"
      },
      "outputs": [
        {
          "output_type": "stream",
          "name": "stdout",
          "text": [
            "10\n",
            "2\n"
          ]
        }
      ],
      "source": [
        "while not (numero_sorteado>=1 and numero_sorteado<=5):\n",
        "    numero_sorteado = random.randint(1, 10)\n",
        "    print( numero_sorteado )\n"
      ]
    },
    {
      "cell_type": "markdown",
      "metadata": {
        "id": "HdKrJSYT7yS8"
      },
      "source": [
        "Exercício: De que outra forma a expressão da condição do while poderia ser escrita sem alterar o resultado?  \n",
        "\n",
        "not (numero>=1 and numero<=5)\n",
        "\n",
        "\n",
        "## O laço for\n",
        "\n",
        "O laço **for**, na maioria das linguagens de programação, executa um conjunto de instruções por um número fixo de iterações. \n",
        "\n",
        "Em Python, mais do que isso, o laço **for** fornece maior flexibilidade.\n",
        "\n",
        "A forma geral do laço **for** em Python é :\n",
        "<br>for variavel in range( inicio, final, incremento ):\n",
        "<br>\n",
        "<br>\n",
        "\n",
        "- variavel: é realizada uma atribuição a cada passa do loop que atualiza o valor da variável até alcançar o número máximo de repetições.\n",
        "- range: função que gera uma sequência de valores crescentes ou decrescentes para serem atribuidos a variavel em cada passo do loop.\n",
        "\n",
        "Exemplo: O programa a seguir exibe os números de 1 a 100.\n",
        "\n",
        "    x : A variável de controle x\n",
        "    1-100 : A sequência de valores atribuidas a x de 1 a 100"
      ]
    },
    {
      "cell_type": "code",
      "execution_count": 18,
      "metadata": {
        "colab": {
          "base_uri": "https://localhost:8080/"
        },
        "id": "mZ3PeMnO7yS8",
        "outputId": "43902195-d616-46ec-9681-edf36c49dfe2"
      },
      "outputs": [
        {
          "output_type": "stream",
          "name": "stdout",
          "text": [
            "1  2  3  4  5  6  7  8  9  10  11  12  13  14  15  16  17  18  19  20  21  22  23  24  25  26  27  28  29  30  31  32  33  34  35  36  37  38  39  40  41  42  43  44  45  46  47  48  49  50  51  52  53  54  55  56  57  58  59  60  61  62  63  64  65  66  67  68  69  70  71  72  73  74  75  76  77  78  79  80  81  82  83  84  85  86  87  88  89  90  91  92  93  94  95  96  97  98  99  "
          ]
        }
      ],
      "source": [
        "for x in range(1, 100):\n",
        "    print(x , \" \", end=\"\")\n"
      ]
    },
    {
      "cell_type": "markdown",
      "metadata": {
        "id": "Tu0Ragjs7yS9"
      },
      "source": [
        "Exemplo: o laço for a seguir é executado enquanto a variável de controle x for maior que 65.\n",
        "\n",
        "    observe que o loop finaliza antes de x ser igual a 65."
      ]
    },
    {
      "cell_type": "code",
      "execution_count": 21,
      "metadata": {
        "colab": {
          "base_uri": "https://localhost:8080/"
        },
        "id": "cIxAEeh_7yS-",
        "outputId": "8835f78a-35f3-4b1b-8192-0a5186c7acd4"
      },
      "outputs": [
        {
          "output_type": "stream",
          "name": "stdout",
          "text": [
            "O quadrado de  100  é  10000\n",
            "O quadrado de  95  é  9025\n",
            "O quadrado de  90  é  8100\n",
            "O quadrado de  85  é  7225\n",
            "O quadrado de  80  é  6400\n",
            "O quadrado de  75  é  5625\n",
            "O quadrado de  70  é  4900\n"
          ]
        }
      ],
      "source": [
        "for x in range(100, 65, -5):\n",
        "    print(\"O quadrado de \", x, \" é \", x*x)"
      ]
    },
    {
      "cell_type": "markdown",
      "metadata": {
        "id": "ktyUFWPw7yS_"
      },
      "source": [
        "Exemplo: Exibir os n primeiros termos de uma PG."
      ]
    },
    {
      "cell_type": "code",
      "execution_count": 25,
      "metadata": {
        "colab": {
          "base_uri": "https://localhost:8080/"
        },
        "id": "7my72iaq7yTB",
        "outputId": "29b46904-fcb8-4a50-e607-569708f62fca"
      },
      "outputs": [
        {
          "output_type": "stream",
          "name": "stdout",
          "text": [
            "2  4  8  16  "
          ]
        }
      ],
      "source": [
        "a1=2; r=2; n=4\n",
        "an = a1\n",
        "for i in range(n):\n",
        "    print( an , \" \", end=\"\" )\n",
        "    an *= r"
      ]
    },
    {
      "cell_type": "markdown",
      "metadata": {
        "id": "VFKCV_8B7yTC"
      },
      "source": [
        "### Variações do laço FOR\n",
        "\n",
        "Uma das possibilidades comuns usa o operador “_” para omitir a variável de contagem de um laço."
      ]
    },
    {
      "cell_type": "code",
      "execution_count": 35,
      "metadata": {
        "colab": {
          "base_uri": "https://localhost:8080/"
        },
        "id": "-ywVvfV37yTD",
        "outputId": "1d78d6fa-54b6-4c29-d049-d759d2eda5f5"
      },
      "outputs": [
        {
          "output_type": "stream",
          "name": "stdout",
          "text": [
            "Olá, mundo!\n",
            "Olá, mundo!\n",
            "Olá, mundo!\n",
            "Olá, mundo!\n",
            "Olá, mundo!\n",
            "Olá, mundo!\n",
            "Olá, mundo!\n",
            "Olá, mundo!\n",
            "Olá, mundo!\n",
            "Olá, mundo!\n"
          ]
        }
      ],
      "source": [
        "for _ in range(10):\n",
        "    print(\"Olá, mundo!\")"
      ]
    },
    {
      "cell_type": "markdown",
      "metadata": {
        "id": "PHYjqNF-7yTM"
      },
      "source": [
        "### O comando break interrompe um laço.\n",
        "\n",
        "Exemplo: o laço a seguir será executado até que x seja igual a 10."
      ]
    },
    {
      "cell_type": "code",
      "execution_count": 27,
      "metadata": {
        "colab": {
          "base_uri": "https://localhost:8080/"
        },
        "id": "Qw5j8cU-7yTN",
        "outputId": "bb669c4a-2311-45ae-e48d-639ad3d5ebcb"
      },
      "outputs": [
        {
          "output_type": "stream",
          "name": "stdout",
          "text": [
            "0\n",
            "1\n",
            "2\n",
            "3\n",
            "4\n",
            "5\n",
            "6\n",
            "7\n",
            "8\n",
            "9\n",
            "10\n"
          ]
        }
      ],
      "source": [
        "for x in range(0, 1000):\n",
        "  print(x)\n",
        "  if x>=10:\n",
        "    break"
      ]
    },
    {
      "cell_type": "markdown",
      "metadata": {
        "id": "-J129bO27yTN"
      },
      "source": [
        "### Laços for sem corpos\n",
        "\n",
        "Em geral, são usados para gerarem tempos de espera no programa."
      ]
    },
    {
      "cell_type": "code",
      "execution_count": 29,
      "metadata": {
        "colab": {
          "base_uri": "https://localhost:8080/"
        },
        "id": "yGbqZfzt7yTO",
        "outputId": "77bfef80-823d-4ef7-d505-cb5a76305ebc"
      },
      "outputs": [
        {
          "output_type": "stream",
          "name": "stdout",
          "text": [
            "Terminou\n"
          ]
        }
      ],
      "source": [
        "tempoDeEspera = 100000000\n",
        "for t in range(tempoDeEspera):\n",
        "  pass\n",
        "print(\"Terminou\")"
      ]
    },
    {
      "cell_type": "code",
      "execution_count": 31,
      "metadata": {
        "colab": {
          "base_uri": "https://localhost:8080/"
        },
        "id": "_MIvOn-97yTP",
        "outputId": "8ad9a57a-0782-4d48-a0f9-99a575c34533"
      },
      "outputs": [
        {
          "output_type": "stream",
          "name": "stdout",
          "text": [
            "a  b  c  d  e  f  g  h  i  j  k  l  m  n  o  p  q  r  s  t  u  v  w  x  y  z  "
          ]
        }
      ],
      "source": [
        "#  Este programa imprime as letras de a até z utilizando o comando de repetição for. \n",
        "\n",
        "for letra in range( ord('a') , ord('z')+1 ):\n",
        "  print( chr(letra) , \" \", end=\"\")\n"
      ]
    },
    {
      "cell_type": "code",
      "execution_count": 32,
      "metadata": {
        "colab": {
          "base_uri": "https://localhost:8080/"
        },
        "id": "0iXWwp7M7yTP",
        "outputId": "73656a93-bfa6-4624-9d57-145face9eb61"
      },
      "outputs": [
        {
          "output_type": "execute_result",
          "data": {
            "text/plain": [
              "98"
            ]
          },
          "metadata": {},
          "execution_count": 32
        }
      ],
      "source": [
        "letra='b'\n",
        "ord(letra)"
      ]
    },
    {
      "cell_type": "code",
      "execution_count": 34,
      "metadata": {
        "colab": {
          "base_uri": "https://localhost:8080/"
        },
        "id": "B4abws7p7yTR",
        "outputId": "7d19520a-c1a7-442c-b1e1-e438be622eea"
      },
      "outputs": [
        {
          "output_type": "stream",
          "name": "stdout",
          "text": [
            "A soma é: 240\n"
          ]
        }
      ],
      "source": [
        "'''\n",
        "Este programa calcula a soma dos 10 primeiros elementos de uma PA com a1=15 e r=2, \n",
        "imprimindo cada elemento gerado. Use o comando for de repetição \n",
        "'''\n",
        "\n",
        "a1=15; r=2; n=10\n",
        "an=a1; soma=a1   \n",
        "\n",
        "# Soma da PA: an = a1 + n * r; soma = soma + an\n",
        "for i in range(2,n+1):\n",
        "    an += r\n",
        "    soma += an;       \n",
        "\n",
        "print(\"A soma é:\", soma)"
      ]
    },
    {
      "cell_type": "markdown",
      "metadata": {
        "id": "ofBRawiF7yTU"
      },
      "source": [
        "### Comando continue\n",
        "\n",
        "O comando continue interrompe a execução do loop em uma iteração, mas vai para a próxima iteração a partir do teste das condições.\n",
        "\n",
        "Exemplo: a programação a seguir mostra apenas os números pares entre 1 e 100. Os ímpares são “pulados”."
      ]
    },
    {
      "cell_type": "code",
      "execution_count": 36,
      "metadata": {
        "colab": {
          "base_uri": "https://localhost:8080/"
        },
        "id": "mPkNALAB7yTV",
        "outputId": "f240d727-8e69-473b-9944-8a945b13114f"
      },
      "outputs": [
        {
          "output_type": "stream",
          "name": "stdout",
          "text": [
            "0  2  4  6  8  10  12  14  16  18  20  22  24  26  28  30  32  34  36  38  40  42  44  46  48  50  52  54  56  58  60  62  64  66  68  70  72  74  76  78  80  82  84  86  88  90  92  94  96  98  100  "
          ]
        }
      ],
      "source": [
        "for i in range(101):\n",
        "  if not( i%2 == 0):\n",
        "    continue;\n",
        "  print( i , \" \", end=\"\")\n"
      ]
    },
    {
      "cell_type": "code",
      "execution_count": 38,
      "metadata": {
        "colab": {
          "base_uri": "https://localhost:8080/"
        },
        "id": "fA2mD-5c7yTV",
        "outputId": "a2b4e3a0-aa2e-484e-f2d3-3e48e0d44800"
      },
      "outputs": [
        {
          "output_type": "stream",
          "name": "stdout",
          "text": [
            "\t 1 - 2\t 1 - 3\t 1 - 4\t 1 - 5\t 1 - 6\t 1 - 7\t 1 - 8\t 1 - 9\t 1 - 10\n",
            "\t\t 2 - 3\t 2 - 4\t 2 - 5\t 2 - 6\t 2 - 7\t 2 - 8\t 2 - 9\t 2 - 10\n",
            "\t\t\t 3 - 4\t 3 - 5\t 3 - 6\t 3 - 7\t 3 - 8\t 3 - 9\t 3 - 10\n",
            "\t\t\t\t 4 - 5\t 4 - 6\t 4 - 7\t 4 - 8\t 4 - 9\t 4 - 10\n",
            "\t\t\t\t\t 5 - 6\t 5 - 7\t 5 - 8\t 5 - 9\t 5 - 10\n",
            "\t\t\t\t\t\t 6 - 7\t 6 - 8\t 6 - 9\t 6 - 10\n",
            "\t\t\t\t\t\t\t 7 - 8\t 7 - 9\t 7 - 10\n",
            "\t\t\t\t\t\t\t\t 8 - 9\t 8 - 10\n",
            "\t\t\t\t\t\t\t\t\t 9 - 10\n",
            "\t\t\t\t\t\t\t\t\t"
          ]
        }
      ],
      "source": [
        "'''\n",
        "Imprimir os elementos da matriz triangular superior. \n",
        "Ou seja, imprimir os elementos ACIMA DA DIAGONAL PRINCIPAL\n",
        "''' \n",
        "for L in range(1,10):\n",
        "    for C in range(L+1, 11):\n",
        "        print(\"\\t\", L , \"-\" , C, end=\"\") \n",
        "    print(\"\") \n",
        "    for t in range(1,L+1):\n",
        "        print(\"\\t\", end=\"\")"
      ]
    },
    {
      "cell_type": "markdown",
      "metadata": {
        "id": "np3nLZdq7yTW"
      },
      "source": [
        "## Boas práticas de programação\n",
        "\n",
        "- Para que seu programa não entre em loop, fique atento para a atualização das variáveis da expressão lógica da estrutura de repetição **while**. \n",
        "\n",
        "- Para repetições que você conhece o número de vezes, dê preferência à estrutura **for**.\n",
        "\n",
        "\n",
        "## Exercícios propostos\n",
        "\n",
        "- Imprimir todos os números de 100 até 1.\n",
        "- Imprimir os múltiplos de 5, no intervalo de 1 até 500.\n",
        "- Criar um algoritmo que calcule e imprima o valor de $b^n$. O valor de n deverá ser maior do que 1 e inteiro e o valor de b maior ou igual a 2 e inteiro.\n",
        "- Criar um algoritmo que imprima a tabela de conversão de graus Celsius-Fahrenheit para o intervalo desejado pelo usuário. O algoritmo deve conter o limite superior, o limite inferior do intervalo e o decremento em Fahrenheit.\n",
        "- Criar um algoritmo que imprima os 10 primeiros termos da série de Fibonacci. Observação: os dois primeiros termos desta série são 1 e 1 e os demais são gerados a partir da soma dos anteriores."
      ]
    },
    {
      "cell_type": "code",
      "execution_count": null,
      "metadata": {
        "id": "GtHoL_Xc7yTW"
      },
      "outputs": [],
      "source": [
        ""
      ]
    }
  ],
  "metadata": {
    "kernelspec": {
      "display_name": "Python 3",
      "name": "python3"
    },
    "language_info": {
      "name": "python"
    },
    "colab": {
      "name": "aula-07.ipynb",
      "provenance": [],
      "include_colab_link": true
    }
  },
  "nbformat": 4,
  "nbformat_minor": 0
}