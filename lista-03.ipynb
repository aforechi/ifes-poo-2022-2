{
  "cells": [
    {
      "cell_type": "markdown",
      "metadata": {
        "id": "view-in-github",
        "colab_type": "text"
      },
      "source": [
        "<a href=\"https://colab.research.google.com/github/aforechi/ifes-alg-2022-1/blob/main/lista-03.ipynb\" target=\"_parent\"><img src=\"https://colab.research.google.com/assets/colab-badge.svg\" alt=\"Open In Colab\"/></a>"
      ]
    },
    {
      "cell_type": "markdown",
      "metadata": {
        "id": "QjpW4we1gZmq"
      },
      "source": [
        "# 3a Lista de Exercícios \n",
        "\n",
        "Faça os exercícios abaixo de maneira clara, organizada e usando a linguagem Python, conforme orientações abaixo: \n",
        "\n",
        "- Lembre-se de identar o código com TAB, além de seguir as boas práticas de programação vistas em sala de aula e no livro."
      ]
    },
    {
      "cell_type": "markdown",
      "metadata": {
        "id": "_H4szUFigZmu"
      },
      "source": [
        "1. Implemente uma função que calcule a distância euclidiana 2D. Essa função recebe como parâmetro as coordenadas de dois ponto no plano cartesiano e retorna a distância entre esses pontos. Para fazer o cálculo dessa distância, primeiramente calcula-se a distância entre as coordenadas x (armazenando esse valor em dx) e a distância entre as coordenadas y (armazenando esse valor em dy). Posteriormente, usa-se o teorema de Pitágoras para calcular a distância entre os pontos dados."
      ]
    },
    {
      "cell_type": "code",
      "execution_count": null,
      "metadata": {
        "id": "4tdxEpE9gZmv"
      },
      "outputs": [],
      "source": [
        ""
      ]
    },
    {
      "cell_type": "markdown",
      "metadata": {
        "id": "eOslXTY-gZmw"
      },
      "source": [
        "2. Escrever uma função que calcule a distância entre dois pontos de um plano, sendo fornecido as suas coordenadas $x_1,y_1$ e $x_2,y_2$. Faça uma outra função que calcula a área do triângulo em função de seus lados, $a,b,c$,\n",
        "$\n",
        "area = \\sqrt{p(p-a)(p-b)(p-c)}\n",
        "$\n",
        "onde $ p = (a + b + c) /2$ é o semiperimetro do triângulo. Utlizando as funções acima, escrever um programa que sorteie aleatoriamente 10 conjuntos de pontos do plano, $x_1,y_1$, $x_2,y_2$ e $x_3,y_3$ e determine as áreas dos triângulos formados por estes pontos. Imprimir, para cada conjunto de pontos, as coordenadas lidas e a sua área. "
      ]
    },
    {
      "cell_type": "code",
      "execution_count": null,
      "metadata": {
        "id": "lgTwbiARgZmx"
      },
      "outputs": [],
      "source": [
        ""
      ]
    },
    {
      "cell_type": "markdown",
      "metadata": {
        "id": "OCoZVzCRgZm0"
      },
      "source": [
        "3. Faça um programa para dividir sucessivamente, $k$ vezes, um segmento $AB$ do plano ao meio até que fique menor que 0.00001. Para isto, construa os seguintes subalgoritmos:  \n",
        "    - uma função que calcule a distância entre dois pontos no plano, fornecendo as suas coordenadas $dist =\\sqrt{(x_2-x_1)^2+(y_2-y_1)^2}$. \n",
        "    - um procedimento que entre com as coordenadas de dois pontos no plano e saia com as coordenadas do ponto médio e com a distância entre um dos pontos ao ponto médio. Utilize a função distância implementada.\n",
        "\n",
        "    O seu programa deve sortear aleatoriamente as coordenadas de dois pontos do plano e sair com o número de vezes que intervalo foi dividido, $k$, as coordenadas do ponto médio final e o tamanho final do intervalo.  "
      ]
    },
    {
      "cell_type": "code",
      "execution_count": null,
      "metadata": {
        "id": "q7m2BYHXgZm1"
      },
      "outputs": [],
      "source": [
        ""
      ]
    },
    {
      "cell_type": "markdown",
      "metadata": {
        "id": "xc4vB9ptgZm3"
      },
      "source": [
        "4. Considere uma função potencia que recebe como argumentos dois inteiros para base e expoente e retorne o resultado inteiro da operação $base^{expoente}$. Implemente uma versão da funcão usando o comando for e outra versão usando recursão."
      ]
    },
    {
      "cell_type": "code",
      "execution_count": null,
      "metadata": {
        "id": "Ci5oP3PvgZm3"
      },
      "outputs": [],
      "source": [
        ""
      ]
    },
    {
      "cell_type": "markdown",
      "metadata": {
        "id": "10cs9rTggZm6"
      },
      "source": [
        "5. Faça uma função que receba um número inteiro positivo n, calcule a soma dos n primeiros numeros naturais e retorne esse valor. Considere os numeros naturais começando do 1. Não use a formula de P.A. (Progessão aritmetica)."
      ]
    },
    {
      "cell_type": "code",
      "execution_count": null,
      "metadata": {
        "id": "0PhvOPBggZm7"
      },
      "outputs": [],
      "source": [
        ""
      ]
    },
    {
      "cell_type": "markdown",
      "metadata": {
        "id": "g64vyo2qgZm8"
      },
      "source": [
        "6. Faça um programa que leia um numero natural n e dois numeros naturais i e j diferentes de 0 e imprima em ordem crescente os n primeiros naturais que são multiplos de i ou de j. Resolva o problema utilizando uma função que verifique se um numero é multiplo do outro. Exemplo: Para n=6,i=2 e j=3 a saida deverá ser: 0,2,3,4,6,8."
      ]
    },
    {
      "cell_type": "code",
      "execution_count": null,
      "metadata": {
        "id": "1Th3H6a-gZm9"
      },
      "outputs": [],
      "source": [
        ""
      ]
    },
    {
      "cell_type": "markdown",
      "metadata": {
        "id": "oatFjw__gZm-"
      },
      "source": [
        "7. Seja n inteiro positivo diferente de zero. Faça um programa para exibir os n primeiros numeros primos. Para exibir os n primeiros numeros primos é necessario fazer primeiro uma função que verifique se um dado numero x é primo ou não. Por definição: “Numero primo é um numero natural que pode ser dividido (o resto da sua divisão é zero) apenas por dois numeros naturais, o 1 (um) e ele mesmo, com excessão do numero 1, que não é tido como primo”."
      ]
    },
    {
      "cell_type": "code",
      "execution_count": null,
      "metadata": {
        "id": "on9OY-_ZgZm_"
      },
      "outputs": [],
      "source": [
        ""
      ]
    }
  ],
  "metadata": {
    "kernelspec": {
      "display_name": "Python 3",
      "name": "python3"
    },
    "language_info": {
      "name": "python"
    },
    "colab": {
      "name": "lista-03.ipynb",
      "provenance": [],
      "collapsed_sections": [],
      "include_colab_link": true
    }
  },
  "nbformat": 4,
  "nbformat_minor": 0
}