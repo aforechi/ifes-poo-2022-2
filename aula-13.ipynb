{
 "cells": [
  {
   "cell_type": "markdown",
   "metadata": {
    "slideshow": {
     "slide_type": "slide"
    }
   },
   "source": [
    "# Aula 13 - Classes, objetos e cadeias de caracteres\n",
    "\n",
    "<div class=\"alert alert-block alert-success\">\n",
    "    <b>Capítulo 3 do livro: </b> \n",
    "    <p>DEITEL, Harvey M.; DEITEL, Paul J. C++: como programar. 5.ed. São Paulo: Prentice Hall, 2006.\n",
    "</div>\n",
    "\n",
    "## Objetivos\n",
    "- Nesta aula, você vai aprender:\n",
    "    - Como definir uma classe e usá-lo para criar um objeto.\n",
    "    - Como implementar comportamentos de uma classe com funções membro.\n",
    "    - Como implementar atributos de uma classe com variáveis membro.\n",
    "    - Como chamar uma função membro de um objeto para executar uma tarefa.\n",
    "    - As diferenças entre variáveis membro de uma classe e variáveis locais de uma função.\n",
    "    - Como usar um construtor para inicializar dados de um objeto quando o objeto é criado.\n",
    "    - Como projetar uma classe para separar sua interface de sua implementação e incentivar a reutilização.\n",
    "    - Como usar objetos da classe string.\n",
    "    "
   ]
  },
  {
   "cell_type": "markdown",
   "metadata": {
    "slideshow": {
     "slide_type": "slide"
    }
   },
   "source": [
    "## 1  Introdução\n",
    "\n",
    "- Nesta aula, você começará a escrever programas que utilizam os conceitos básicos da programação orientada a objeto que apresentamos na última aula.\n",
    "\n",
    "- Normalmente, os programas que você desenvolve consiste de uma função main e uma ou mais classes, cada uma contendo membros de dados e funções membro.\n",
    "\n",
    "- Nesta aula, desenvolvemos uma estrutura simples, bem pensada para organizar programas orientados a objeto em C++. \n"
   ]
  },
  {
   "cell_type": "markdown",
   "metadata": {
    "slideshow": {
     "slide_type": "slide"
    }
   },
   "source": [
    "## 2  Definir uma classe com uma função membro\n",
    "\n",
    "- Começamos com um exemplo (Fig. 3.1) que consiste na classe GradeBook (linhas de 8 a 16), que, quando estiver totalmente desenvolvida no capítulo 7, representará um livro de notas o qual um instrutor pode usar para manter os resultados dos testes dos alunos, e uma função main (linhas 19 a 23) que cria um objeto GradeBook.\n",
    "\n",
    "- A função main usa esse objeto e sua função membro para exibir uma mensagem de boas-vindas para o instrutor na tela do programa de livro de notas.\n",
    "\n"
   ]
  },
  {
   "cell_type": "markdown",
   "metadata": {
    "slideshow": {
     "slide_type": "slide"
    }
   },
   "source": [
    "<img src=\"img/Picture68.png\" width=\"100%\" height=\"100%\">"
   ]
  },
  {
   "cell_type": "markdown",
   "metadata": {
    "slideshow": {
     "slide_type": "slide"
    }
   },
   "source": [
    "<img src=\"img/Picture69.png\" width=\"100%\" height=\"100%\">"
   ]
  },
  {
   "cell_type": "markdown",
   "metadata": {
    "slideshow": {
     "slide_type": "slide"
    }
   },
   "source": [
    "## 2  Definir uma classe com uma função membro (cont.)\n",
    "\n",
    "- A definição da classe GradeBook (linhas 8 a 16) começa com a palavra-chave class e contém uma função membro chamada displayMessage (linhas de 12 a 15) que exibe uma mensagem na tela (linha 14).\n",
    "\n",
    "- Precisamos criar um objeto da classe GradeBook (linha 21) e chamar sua função membro displayMessage (linha 22) para executar na linha 14 e exibir a mensagem de boas-vindas.\n",
    "\n",
    "- A definição de classe começa com a palavra-chave class seguido pelo nome da classe GradeBook.\n",
    "\n",
    "- Por convenção, o nome de uma classe definida pelo usuário começa com uma letra maiuscula e para facilitar a leitura, cada palavra subsequente no nome da classe começa com uma letra maiuscula.\n",
    "    - Este estilo de capitalização é conhecido como camel case. "
   ]
  },
  {
   "cell_type": "markdown",
   "metadata": {
    "slideshow": {
     "slide_type": "slide"
    }
   },
   "source": [
    "## 2  Definir uma classe com uma função membro (cont.)\n",
    "\n",
    "- Todo corpo de classes é colocado entre um par de chaves à esquerda e à direita ({ e }), como nas linhas 9 e 16.\n",
    "\n",
    "- A definição da classe termina com um ponto e vírgula (linha 16).\n"
   ]
  },
  {
   "cell_type": "markdown",
   "metadata": {
    "slideshow": {
     "slide_type": "slide"
    }
   },
   "source": [
    "## Erro comum de programação\n",
    "Esquecer do ponto-e-vírgula no fim de uma definição de classe é um erro de sintaxe.\n"
   ]
  },
  {
   "cell_type": "markdown",
   "metadata": {
    "slideshow": {
     "slide_type": "slide"
    }
   },
   "source": [
    "## 2  Definir uma classe com uma função membro (cont.)\n",
    "\n",
    "- A função main é sempre chamada automaticamente quando você executa um programa.\n",
    "- A maioria das funções não são chamadas automaticamente.\n",
    "- Você deve chamar a função membro displayMessage explicitamente para informá-lo para executar sua tarefa.\n",
    "- O especificador de acesso public:\n",
    "    - Indica que a função está \"disponível para o público\" — ou seja, ele pode ser chamado por outras funções do programa (como a main) e pelas funções membro de outras classes (se houver alguma).\n",
    "    - Especificadores de acesso sempre são seguidas por um (dois-pontos:)."
   ]
  },
  {
   "cell_type": "markdown",
   "metadata": {
    "slideshow": {
     "slide_type": "slide"
    }
   },
   "source": [
    "## 2  Definir uma classe com uma função membro (cont.)\n",
    "- Cada função em um programa executa uma tarefa e pode retornar um valor quando ele conclui sua tarefa.\n",
    "- Quando você define uma função, você deve especificar um tipo de retorno para indicar o tipo do valor retornado pela função quando concluir sua tarefa.\n",
    "- Palavra-chave void à esquerda do nome da função displayMessage é o tipo de retorno da função.\n",
    "    - Indica que displayMessage não retorna dados para a função chamadora quando conclui sua tarefa.\n",
    "- O nome da função membro displayMessage, vem após o tipo de retorno.\n",
    "- Por convenção, nomes de função começam com a primeira letra minúscula e todas as palavras subsequentes do nome começam com uma letra maiuscula.\n",
    "- Os parênteses após o nome da função membro indicam que se trata de uma função."
   ]
  },
  {
   "cell_type": "markdown",
   "metadata": {
    "slideshow": {
     "slide_type": "slide"
    }
   },
   "source": [
    "## 2  Definir uma classe com uma função membro (cont.)\n",
    "- Parênteses vazios indicam que uma função membro não requer dados adicionais para executar sua tarefa.\n",
    "- A primeira linha de uma definição de função normalmente é chamada de cabeçalho de função.\n",
    "- Corpo da cada função é delimitado por esquerda e direita (de chaves{ e }).\n",
    "- O corpo de uma função contém instruções que executam tarefas da função."
   ]
  },
  {
   "cell_type": "markdown",
   "metadata": {
    "slideshow": {
     "slide_type": "slide"
    }
   },
   "source": [
    "## 2  Definir uma classe com uma função membro (cont.)\n",
    "- Normalmente, você não pode chamar uma função membro de uma classe até que você crie um objeto dessa classe.\n",
    "- Primeiro, crie um objeto de classe GradeBook chamado myGradeBook.\n",
    "    - GradeBook é o tipo da variável.\n",
    "    - O compilador não sabe automaticamente qual tipo é GradeBook — é um tipo definido pelo usuário.\n",
    "    - Informar ao compilador o que é GradeBook, incluindo a definição de classe.\n",
    "    - Cada classe que é criada torna-se um novo tipo que pode ser usado para criar objetos.\n",
    "- Chamar a função membro displayMessage- usando a variável myGradeBook seguido do operador ponto (.), o nome da função displayMessage e um par vazio de parênteses.\n",
    "    - Faz com que a função displayMessage seja executada."
   ]
  },
  {
   "cell_type": "markdown",
   "metadata": {
    "slideshow": {
     "slide_type": "slide"
    }
   },
   "source": [
    "## 2  Definir uma classe com uma função de membro (cont.)\n",
    "- Em UML, cada classe é modelado em um Diagrama de classe UML como um retângulo com três compartimentos.\n",
    "- Figura 3.2 apresenta um diagrama de classe para a classe GradeBook (Fig. 3.1).\n",
    "- O compartimento superior contém o nome da classe centralizado horizontalmente e em negrito.\n",
    "- O compartimento central contém atributos da classe, que correspondem aos membros de dados em C++.\n",
    "    - Atualmente vazio, pois a classe GradeBook não tem nenhum atributo.\n",
    "- O compartimento inferior contém operações da classe, que correspondem às funções membro em C++.\n",
    "- O UML modela operações listando o nome da operação seguido por um par de parênteses.\n",
    "- (O sinal de mais+) na frente da operação nome indica que displayMessage é uma operação pública no UML."
   ]
  },
  {
   "cell_type": "markdown",
   "metadata": {
    "slideshow": {
     "slide_type": "slide"
    }
   },
   "source": [
    "<img src=\"img/Picture70.png\" width=\"100%\" height=\"100%\">"
   ]
  },
  {
   "cell_type": "markdown",
   "metadata": {
    "slideshow": {
     "slide_type": "slide"
    }
   },
   "source": [
    "## 3  Definindo uma função membro com um parâmetro\n",
    "- Uma analogia com o carro \n",
    "    - Pressionar o acelerador do carro envia uma mensagem para o carro para realizar uma tarefa — para que o carro ande mais rápido.\n",
    "    - Mas o quão rápido o carro deve acelerar? Como você sabe, quanto mais pressionar o pedal de aceleração mais rápido o carro anda. Se tiver engrenado!\n",
    "    - A mensagem para o carro inclui tanto a tarefa a ser executada quanto informações adicionais que ajudam o carro a realizar a tarefa.\n",
    "- Informações adicionais de uma função necessárias para realizar sua tarefa são conhecidas como parâmetro.\n",
    "- Uma chamada de função fornece valores — chamado argumentos— para cada um dos parâmetros da função.\n",
    "\n"
   ]
  },
  {
   "cell_type": "markdown",
   "metadata": {
    "slideshow": {
     "slide_type": "slide"
    }
   },
   "source": [
    "## 3  Definindo uma função membro com um parâmetro (cont.)\n",
    "- Fig. 3.3 redefine a classe GradeBook (as linhas de 9 a 18) com uma função membro displayMessage (linhas 13-17) que exibe o nome do curso como parte da mensagem de boas-vindas.\n",
    "    - A nova versão do displayMessage requer um parâmetro (courseName na linha 13), que representa o nome do curso para impressão.\n",
    "- Uma variável do tipo string representa uma sequência de caracteres.\n",
    "- Uma sequência de caracteres é realmente um objeto da classe da biblioteca padrão string de C++.\n",
    "    - Definido no arquivo de cabeçalho string e faz parte do espaço de nomes STD.\n",
    "    - Você pode considerar variáveis string, como variáveis de outros tipos, como int."
   ]
  },
  {
   "cell_type": "markdown",
   "metadata": {
    "slideshow": {
     "slide_type": "slide"
    }
   },
   "source": [
    "<img src=\"img/Picture71.png\" width=\"100%\" height=\"100%\">"
   ]
  },
  {
   "cell_type": "markdown",
   "metadata": {
    "slideshow": {
     "slide_type": "slide"
    }
   },
   "source": [
    "<img src=\"img/Picture72.png\" width=\"100%\" height=\"100%\">"
   ]
  },
  {
   "cell_type": "markdown",
   "metadata": {
    "slideshow": {
     "slide_type": "slide"
    }
   },
   "source": [
    "<img src=\"img/Picture73.png\" width=\"100%\" height=\"100%\">"
   ]
  },
  {
   "cell_type": "markdown",
   "metadata": {
    "slideshow": {
     "slide_type": "slide"
    }
   },
   "source": [
    "## 3  Definindo uma função membro com um parâmetro (cont.)\n",
    "- Função de biblioteca getline lê uma linha de texto e coloca em uma variável string.\n",
    "- A chamada da função getline ( cin, nameOfCourse ) lê caracteres (incluindo os caracteres de espaço que separam as palavras na entrada) do objeto de fluxo de entrada padrão cin (ou seja, o teclado) até que o caractere de nova linha (enter) seja encontrado, coloca os caracteres da variável nameOfCourse e descarta o caractere de nova linha.\n",
    "- Quando você pressiona enter ao digitar a entrada do programa, uma nova linha é inserida no fluxo de entrada.\n",
    "- O arquivo de cabeçalho string deve ser incluído no programa para usar a função getline."
   ]
  },
  {
   "cell_type": "markdown",
   "metadata": {
    "slideshow": {
     "slide_type": "slide"
    }
   },
   "source": [
    "## 3  Definindo uma função membro com um parâmetro (cont.)\n",
    "- A linha 33 chama a função membro displayMessage de myGradeBook.\n",
    "    - A variável nameOfCourse entre parênteses é o argumento que é passado para a função membro displayMessage para que ela possa executar sua tarefa.\n",
    "    - O valor da variável nameOfCourse na função main torna-se o valor do parâmetro courseName da função membro displayMessage do na linha 13."
   ]
  },
  {
   "cell_type": "markdown",
   "metadata": {
    "slideshow": {
     "slide_type": "slide"
    }
   },
   "source": [
    "## 3  Definindo uma função membro com um parâmetro (cont.)\n",
    "- Para especificar que uma função requer dados para executar sua tarefa, insira informações adicionais na lista de parâmetros da função, que está localizado entre parênteses após o nome da função.\n",
    "- A lista de parâmetros pode conter qualquer número de parâmetros, inclusive nenhum para indicar que uma função não requer nenhum parâmetro.\n",
    "- Cada parâmetro deve especificar um tipo e um identificador.\n",
    "- Uma função pode especificar vários parâmetros, separando cada parâmetro do próximo com uma vírgula.\n",
    "- O número e a ordem dos argumentos em um chamada de função devem coincidir com o número e a ordem dos parâmetros na lista de parâmetros do cabeçalho da função de membro chamado.\n",
    "- Os tipos de argumentos na chamada da função devem ser consistentes com os tipos dos parâmetros correspondentes no cabeçalho da função."
   ]
  },
  {
   "cell_type": "markdown",
   "metadata": {
    "slideshow": {
     "slide_type": "slide"
    }
   },
   "source": [
    "## 3  Definindo uma função membro com um parâmetro (cont.)\n",
    "- O diagrama de classe UML da Fig. 3.4 modela a classe GradeBook da Fig. 3.3.\n",
    "- Os modelos UML um parâmetro, listando o nome do parâmetro, seguido por dois pontos e o parâmetro de tipo nos parênteses após o nome da operação.\n",
    "- O UML tem seus próprios tipos de dados semelhantes do C++.\n",
    "- A UML é independente de linguagem — ele é usado com diferentes linguagens de programação — para sua terminologia não corresponder exatamente ao de C++."
   ]
  },
  {
   "cell_type": "markdown",
   "metadata": {
    "slideshow": {
     "slide_type": "slide"
    }
   },
   "source": [
    "<img src=\"img/Picture74.png\" width=\"100%\" height=\"100%\">"
   ]
  },
  {
   "cell_type": "markdown",
   "metadata": {
    "slideshow": {
     "slide_type": "slide"
    }
   },
   "source": [
    "## 4  Membros de dados, funções set e funções get\n",
    "- Variáveis declaradas no corpo da definição da função são conhecidas como variáveis locais e podem ser usadas somente a partir da linha de sua declaração na função até fechar chave direita (}) do bloco no qual são declaradas.\n",
    "    - Uma variável local deve ser declarada antes que possa ser usada em uma função.\n",
    "    - Uma variável local não pode ser acessada fora da função na qual ela é declarada.\n",
    "    - Quando uma função termina, os valores das suas variáveis locais são descartados."
   ]
  },
  {
   "cell_type": "markdown",
   "metadata": {
    "slideshow": {
     "slide_type": "slide"
    }
   },
   "source": [
    "## 4  Membros de dados, funções set e funções get (cont.)\n",
    "- Um objeto tem atributos que são carregados com ele quando ele é usado em um programa.\n",
    "    - Esses atributos existem durante toda a vida do objeto.\n",
    "    - Uma classe normalmente consiste em uma ou mais funções membro que manipulam os atributos que pertencem a um determinado objeto da classe.\n",
    "- Os atributos são representados como variáveis em uma definição de classe.\n",
    "    - Essas variáveis são chamadas membros de dados e são declarados dentro de uma definição de classe, mas fora do corpo de definição das funções membro da classe.\n",
    "- Cada objeto de uma classe mantém sua própria cópia de seus atributos na memória."
   ]
  },
  {
   "cell_type": "markdown",
   "metadata": {
    "slideshow": {
     "slide_type": "slide"
    }
   },
   "source": [
    "## 4  Membros de dados, funções set e funções get (cont.)\n",
    "- Um instrutor típico ministra vários cursos, cada um com seu próprio nome do curso.\n",
    "- Uma variável que é declarada na definição da classe, mas fora os corpos das definições de função membro da classe é um membro de dados.\n",
    "- Cada instância (isto é, o objeto) de uma classe contém uma cópia de cada um dos membros de dados da classe.\n",
    "- Um benefício de tornar uma variável um membro de dados é que todas as funções membro da classe podem manipular os membros de dados que aparecem na definição de classe."
   ]
  },
  {
   "cell_type": "markdown",
   "metadata": {
    "slideshow": {
     "slide_type": "slide"
    }
   },
   "source": [
    "<img src=\"img/Picture75.png\" width=\"100%\" height=\"100%\">"
   ]
  },
  {
   "cell_type": "markdown",
   "metadata": {
    "slideshow": {
     "slide_type": "slide"
    }
   },
   "source": [
    "<img src=\"img/Picture76.png\" width=\"100%\" height=\"100%\">"
   ]
  },
  {
   "cell_type": "markdown",
   "metadata": {
    "slideshow": {
     "slide_type": "slide"
    }
   },
   "source": [
    "<img src=\"img/Picture77.png\" width=\"100%\" height=\"100%\">"
   ]
  },
  {
   "cell_type": "markdown",
   "metadata": {
    "slideshow": {
     "slide_type": "slide"
    }
   },
   "source": [
    "## 4  Membros de dados, funções set e funções get (cont.)\n",
    "- A maioria das declarações de membro de dados aparecem depois do rótulo especificador de acesso private:\n",
    "- Como public, a palavra-chave private é um especificador de acesso.\n",
    "- Variáveis ou funções declaradas após o especificador de acesso private (e, antes do próximo especificador de acesso) são acessíveis somente a funções membro da classe para a qual são declaradas.\n",
    "- O especificador de acesso padrão para membros de classe é o private. Portanto, todos os membros após o cabeçalho de classe e antes do primeiro especificador de acesso são private.\n",
    "- Os especificadores de acesso public e private podem ser repetidos, mas isso não é necessário e pode se tornar confuso."
   ]
  },
  {
   "cell_type": "markdown",
   "metadata": {
    "slideshow": {
     "slide_type": "slide"
    }
   },
   "source": [
    "## Observação de engenharia de software \n",
    "Como regra geral, os membros de dados devem ser declarados private e as funções-membro devem ser declaradas public. (Veremos que é apropriado declarar certas funções-membro private se elas precisarem ser acessadas somente por outras funções-membro da classe.)\n"
   ]
  },
  {
   "cell_type": "markdown",
   "metadata": {
    "slideshow": {
     "slide_type": "slide"
    }
   },
   "source": [
    "## Erro comum de programação \n",
    "Uma tentativa de uma função que não seja um membro de uma classe particular (ou um friend dessa classe, como veremos no Capítulo 10) de acessar um membro private dessa classe é um erro de compilação.\n"
   ]
  },
  {
   "cell_type": "markdown",
   "metadata": {
    "slideshow": {
     "slide_type": "slide"
    }
   },
   "source": [
    "## Boa prática de programação \n",
    "Apesar de os especificadores de acesso public e private poderem ser repetidos e combinados, relacione todos os membros public de uma classe primeiro em um grupo e, então, relacione todos os membros private em outro grupo. Isso chama a atenção do cliente para a interface public da classe, e não para a implementação da classe.\n"
   ]
  },
  {
   "cell_type": "markdown",
   "metadata": {
    "slideshow": {
     "slide_type": "slide"
    }
   },
   "source": [
    "## Boa prática de programação \n",
    "Se escolher relacionar os membros private primeiro em uma definição de classe, utilize o especificador de acesso private explicitamente, apesar de private ser assumido por padrão. Isso torna o programa mais claro."
   ]
  },
  {
   "cell_type": "markdown",
   "metadata": {
    "slideshow": {
     "slide_type": "slide"
    }
   },
   "source": [
    "## Observação de engenharia de software \n",
    "Aprenderemos na próxima aula, “Classes: Um exame mais profundo, parte 2”, que funções e classes declaradas por uma classe como friends podem acessar os membros private da classe.\n"
   ]
  },
  {
   "cell_type": "markdown",
   "metadata": {
    "slideshow": {
     "slide_type": "slide"
    }
   },
   "source": [
    "## Dica de prevenção de erro \n",
    "Tornar os membros de dados de uma classe private e as funções-membro da classe public facilita a depuração porque os problemas com manipulação de dados são localizados para as funções-membro da classe ou para os friends da classe.\n"
   ]
  },
  {
   "cell_type": "markdown",
   "metadata": {
    "slideshow": {
     "slide_type": "slide"
    }
   },
   "source": [
    "## Erro comum de programação \n",
    "Esquecer de retornar um valor de uma função que supostamente deve retornar um valor é um erro de compilação.\n",
    "\n"
   ]
  },
  {
   "cell_type": "markdown",
   "metadata": {
    "slideshow": {
     "slide_type": "slide"
    }
   },
   "source": [
    "## 4   Membros de dados, funções set e funções get (cont.)\n",
    "- Declarar membros de dados com o especificador de acesso private é conhecido como Ocultação de dados.\n",
    "- Quando um programa cria (instancia) um objeto, seus membros de dados estão encapsulados (ocultos) no objeto e podem ser acessados somente por funções membro da classe do objeto."
   ]
  },
  {
   "cell_type": "markdown",
   "metadata": {
    "slideshow": {
     "slide_type": "slide"
    }
   },
   "source": [
    "## 4   Membros de dados, funções set e funções get (cont.)\n",
    "- Neste exemplo, setCourseName não tenta validar o curso name—i.e., a função não verifica que o nome do curso adota qualquer formato determinado ou segue outras regras sobre a aparência de um nome de curso \"válido\".\n",
    "    - Por exemplo, suponha que uma universidade pudesse imprimir as transcrições dos aluno que contém nomes de curso com somente 25 caracteres ou menos.\n",
    "    - Nesse caso, talvez quiséssemos que a classe GradeBook garantisse que o membro de dados courseName nunca ultrapasse mais de 25 caracteres.\n",
    "    - Vamos abordar técnicas de validação básica na seção 3.9.\n",
    "- Quando uma função que especifica um tipo de retorno diferente de void é chamada e conclui sua tarefa, a função usará uma instrução return para retornar um resultado para a função chamadora."
   ]
  },
  {
   "cell_type": "markdown",
   "metadata": {
    "slideshow": {
     "slide_type": "slide"
    }
   },
   "source": [
    "## 4   Membros de dados, funções set e funções get (cont.)\n",
    "- A função membro displayMessage (linhas 26 – 32) não retorna nenhum dado ao concluir sua tarefa, portanto, seu tipo de retorno é void.\n",
    "- A função não recebe parâmetros, tanto que sua lista de parâmetros está vazia.\n",
    "- Na linha 30 a função membro getCourseName é chamada para obter o valor de courseName.\n",
    "    - A função membro displayMessage também poderá acessar o membro de dados courseName diretamente, como as funções membro setCourseName e getCourseName.\n",
    "- Por padrão, o valor inicial de uma string é uma string vazia, isto é, uma sequência que não contém quaisquer caracteres.\n",
    "- Nada aparece na tela quando uma sequência de caracteres vazia é exibida."
   ]
  },
  {
   "cell_type": "markdown",
   "metadata": {
    "slideshow": {
     "slide_type": "slide"
    }
   },
   "source": [
    "## 4   Membros de dados, funções set e funções get (cont.)\n",
    "- Um cliente de um objeto— Isto é, qualquer classe ou função que chama funções membro do objeto de fora do objeto— chama funções membro publicas para solicitar serviços da classe para objetos específicos da classe.\n",
    "    - É por isso que as instruções em main chamam as funções membro setCourseName, getCourseName e displayMessage em um objeto GradeBook.\n",
    "- Classes geralmente fornecem funções membro públicas para permitir que os clientes da classe a definam (isto é, atribuir valores a) ou obtenham (por exemplo, obter valores de) membros de dados privados.\n",
    "    - Esses nomes de função membro não precisam começar com set ou get, mas essa convenção de nomenclatura é comum."
   ]
  },
  {
   "cell_type": "markdown",
   "metadata": {
    "slideshow": {
     "slide_type": "slide"
    }
   },
   "source": [
    "## Boa prática de programação \n",
    "Tente sempre localizar os efeitos de alterações em membros de dados de uma classe acessando e manipulando os membros de dados por meio de suas funções get e set. Alterações no nome de um membro de dados ou tipo de dados utilizado para armazenar um membro de dados afetam então apenas as funções get e set correspondentes, mas não os chamadores dessas funções.\n"
   ]
  },
  {
   "cell_type": "markdown",
   "metadata": {
    "slideshow": {
     "slide_type": "slide"
    }
   },
   "source": [
    "## Observação de engenharia de software \n",
    "É importante escrever programas compreensíveis e fáceis de manter. A mudança é a regra, e não a exceção. Os programadores têm de saber de antemão que seu código será modificado.\n"
   ]
  },
  {
   "cell_type": "markdown",
   "metadata": {
    "slideshow": {
     "slide_type": "slide"
    }
   },
   "source": [
    "## Observação de engenharia de software \n",
    "\n",
    "O designer de classes não precisa fornecer as funções get e set para cada item de dados private; essas capacidades devem ser fornecidas somente quando apropriado. Quando um serviço for útil ao código-cliente, em geral deve ser fornecido na interface public da classe.\n"
   ]
  },
  {
   "cell_type": "markdown",
   "metadata": {
    "slideshow": {
     "slide_type": "slide"
    }
   },
   "source": [
    "## 4   Membros de dados, funções set e funções get (cont.)\n",
    "- Figura 3.6 contém um diagrama de classe UML atualizado para a versão da classe GradeBook Fig. 3.5.\n",
    "- O UML representa membros de dados como atributos, listando o nome do atributo, seguido por dois pontos e o tipo de atributo.\n",
    "- O sinal de menos no UML é equivalente ao especificador de acesso private em C++."
   ]
  },
  {
   "cell_type": "markdown",
   "metadata": {
    "slideshow": {
     "slide_type": "slide"
    }
   },
   "source": [
    "<img src=\"img/Picture78.png\" width=\"100%\" height=\"100%\">"
   ]
  },
  {
   "cell_type": "markdown",
   "metadata": {
    "slideshow": {
     "slide_type": "slide"
    }
   },
   "source": [
    "## 5  Inicializando objetos com construtores\n",
    "- Cada classe pode fornecer um construtor que pode ser usado para inicializar um objeto da classe quando o objeto é criado.\n",
    "- Um construtor é uma função membro especial que deve ser definida com o mesmo nome da classe para que o compilador possa distingui-lo de outras funções membro da classe .\n",
    "- Uma diferença importante entre construtores e outras funções é que os construtores não podem retornar valores, portanto eles não podem especificar um tipo de retorno (nem mesmo void).\n",
    "- Normalmente, os construtores são declarados públicos. "
   ]
  },
  {
   "cell_type": "markdown",
   "metadata": {
    "slideshow": {
     "slide_type": "slide"
    }
   },
   "source": [
    "## 5  Inicializando objetos com construtores (cont.)\n",
    "- C++ requer uma chamada de construtor para cada objeto que é criado, o que ajuda a garantir que cada objeto é inicializado antes de ser usado em um programa.\n",
    "- A chamada de construtor implicitamente ocorre quando o objeto é criado.\n",
    "- Se uma classe não inclui um construtor explicitamente, o compilador fornece um construtor padrão— Isto é, um construtor sem parâmetros."
   ]
  },
  {
   "cell_type": "markdown",
   "metadata": {
    "slideshow": {
     "slide_type": "slide"
    }
   },
   "source": [
    "<img src=\"img/Picture79.png\" width=\"100%\" height=\"100%\">"
   ]
  },
  {
   "cell_type": "markdown",
   "metadata": {
    "slideshow": {
     "slide_type": "slide"
    }
   },
   "source": [
    "<img src=\"img/Picture80.png\" width=\"100%\" height=\"100%\">"
   ]
  },
  {
   "cell_type": "markdown",
   "metadata": {
    "slideshow": {
     "slide_type": "slide"
    }
   },
   "source": [
    "<img src=\"img/Picture81.png\" width=\"100%\" height=\"100%\">"
   ]
  },
  {
   "cell_type": "markdown",
   "metadata": {
    "slideshow": {
     "slide_type": "slide"
    }
   },
   "source": [
    "## 5  Inicializando objetos com construtores (cont.)\n",
    "- Um construtor especifica numa lista de parâmetros os dados que ele necessita para executar sua tarefa.\n",
    "- Quando você cria um novo objeto, coloque esses dados entre parênteses que seguem o nome do objeto.\n",
    "- A linha 16 no corpo do construtor passe o parâmetro name do construtor para a função membro setCourseName (linhas de 20 – 23), que simplesmente atribui o valor de seu parâmetro para o membro de dados courseName.\n",
    "    - Você deve estar se perguntando por que nos preocupamos em fazer a chamada para setCourseName na linha 16 — o construtor certamente poderia realizar a atribuição courseName = nome.\n",
    "    - Na seção 8, podemos modificar setCourseName para executar a validação (garantia de que, nesse caso, o courseName terá 25 caracteres de comprimento ou menos)."
   ]
  },
  {
   "cell_type": "markdown",
   "metadata": {
    "slideshow": {
     "slide_type": "slide"
    }
   },
   "source": [
    "## 5  Inicializando objetos com construtores (cont.)\n",
    "- Linha 46 cria e inicializa um objeto GradeBook chamado gradeBook1.\n",
    "    - Quando essa linha é executada, o GradeBook construtor (linhas 14-17) é chamado (implicitamente pelo C++) com o argumento \"CS101 Introdução Para C++ Programação\" para inicializar gradeBook1 com o nome do curso.\n",
    "- Linha 47 repetirá esse processo para o objeto de GradeBook chamado gradeBook2, dessa vez passando o argumento \"CS102 Dados Estruturas em C++\" para inicializar gradeBook2 com o nome do curso."
   ]
  },
  {
   "cell_type": "markdown",
   "metadata": {
    "slideshow": {
     "slide_type": "slide"
    }
   },
   "source": [
    "## 5  Inicializando objetos com construtores (cont.)\n",
    "- Nenhum construtor sem argumentos é chamado um construtor padrão.\n",
    "- Uma classe obtém um construtor padrão em uma destas duas maneiras:\n",
    "    - O compilador cria implicitamente um construtor padrão em uma classe que não defina um construtor. Um construtor assim não inicializa os membros de dados da classe, mas chama o construtor padrão para cada membro de dados que for um objeto de outra classe. Uma variável não inicializada normalmente contém um valor \"lixo\".\n",
    "    - Você pode definir explicitamente um construtor sem argumentos. Um construtor padrão assim irá chamar o construtor padrão para cada membro de dados de um objeto de outra classe e irá executar inicialização adicional especificada por você. \n",
    "- Se você definir um construtor com argumentos, C++ não criará implicitamente um construtor padrão para a classe."
   ]
  },
  {
   "cell_type": "markdown",
   "metadata": {
    "slideshow": {
     "slide_type": "slide"
    }
   },
   "source": [
    "## 6  Inicializando objetos com construtores (cont.)\n",
    "- Como faz para funções membro, UML modela construtores no terceiro compartimento de uma classe em um diagrama de classe.\n",
    "- Para distinguir um construtor de funções membro da classe, o UML coloca \"construtor\" entre divisas («e») antes do nome do construtor.\n",
    "- É comum listar o construtor da classe antes de outras operações no terceiro compartimento."
   ]
  },
  {
   "cell_type": "markdown",
   "metadata": {
    "slideshow": {
     "slide_type": "slide"
    }
   },
   "source": [
    "## Dica de prevenção de erro \n",
    "A menos que nenhuma inicialização de membros de dados da classe seja necessária (quase nunca), forneça um construtor para assegurar que os membros de dados da classe sejam inicializados com valores significativos quando cada novo objeto da classe for criado.\n"
   ]
  },
  {
   "cell_type": "markdown",
   "metadata": {
    "slideshow": {
     "slide_type": "slide"
    }
   },
   "source": [
    "## Observação de engenharia de software \n",
    "Os membros de dados podem ser inicializados em um construtor da classe ou seus valores podem ser configurados depois que o objeto for criado. Entretanto, é uma boa prática de engenharia de software assegurar que um objeto seja completamente inicializado antes de o código-cliente invocar as funções-membro do objeto. Em geral, você não deve contar com o código-cliente para assegurar que um objeto seja inicializado adequadamente.\n"
   ]
  },
  {
   "cell_type": "markdown",
   "metadata": {
    "slideshow": {
     "slide_type": "slide"
    }
   },
   "source": [
    "<img src=\"img/Picture82.png\" width=\"100%\" height=\"100%\">"
   ]
  },
  {
   "cell_type": "code",
   "execution_count": 1,
   "metadata": {},
   "outputs": [
    {
     "name": "stdout",
     "output_type": "stream",
     "text": [
      "Welcome to the grade book for Linguagem de Programação!\n"
     ]
    }
   ],
   "source": [
    "// 20 min para Implementar as melhorias desde a Fig. 3.1 até a Fig. 3.7\n",
    "#include \"GradeBook.h\"\n",
    "\n",
    "GradeBook myGradeBook(\"Linguagem de Programação\");\n",
    "myGradeBook.displayMessage();"
   ]
  },
  {
   "cell_type": "markdown",
   "metadata": {
    "slideshow": {
     "slide_type": "slide"
    }
   },
   "source": [
    "## 6  Colocar uma classe em um arquivo separado para reutilização\n",
    "- Um dos benefícios da criação de definições de classe é que, quando fornecido adequadamente, nossas classes podem ser reutilizados por programadores — potencialmente em todo o mundo.\n",
    "- Os programadores que desejam usar nossa classe GradeBook não poderia simplesmente incluir o arquivo da Fig 3.7 em outro programa.\n",
    "    - Como você já aprendeu, função main inicia a execução de cada programa, e cada programa deve ter exatamente uma função main."
   ]
  },
  {
   "cell_type": "markdown",
   "metadata": {
    "slideshow": {
     "slide_type": "slide"
    }
   },
   "source": [
    "## 6  Colocar uma classe em um arquivo separado para reutilização (cont.)\n",
    "- Cada um dos exemplos anteriores neste capítulo consiste em um único arquivo CPP, também conhecido como um arquivo de código-fonte, que contém a definição da classe GradeBook e a função main.\n",
    "- Ao criar um programa em C++ orientado a objeto, é comum definir código reutilizável (por exemplo, uma classe) em um arquivo que, por convenção, tem a extensão.h de nome de arquivo — conhecida como um arquivo de cabeçalho.\n",
    "- Uso de diretivas do pré-processador #include para incluir arquivos de cabeçalho e tirar proveito dos componentes de software reutilizáveis."
   ]
  },
  {
   "cell_type": "markdown",
   "metadata": {
    "slideshow": {
     "slide_type": "slide"
    }
   },
   "source": [
    "## 6  Colocar uma classe em um arquivo separado para reutilização (cont.)\n",
    "- Nosso próximo exemplo separa o código da Fig. 3.7 em dois arquivos —GradeBook.h (Fig. 3.9) e fig03_10.cpp (Fig. 3.10).\n",
    "    - Examine o arquivo de cabeçalho Fig. 3.9, observe que ele contém somente a definição de GradeBook (linhas 8 – 38), a inclusão dos arquivos de cabeçalho e uma declaração using.\n",
    "    - A função main que usa a classe GradeBook é definida no arquivo de código-fonte fig03_10.cpp (Fig. 3.10) nas linhas 8 – 18.\n",
    "- Para ajudá-lo a se preparar para programas maiores, que você encontrará posteriormente neste curso e no futuro, frequentemente usamos um arquivo separado de código-fonte que contém a função main para testar a nossas classes (é chamado de código cliente)."
   ]
  },
  {
   "cell_type": "markdown",
   "metadata": {
    "slideshow": {
     "slide_type": "slide"
    }
   },
   "source": [
    "<img src=\"img/Picture83.png\" width=\"100%\" height=\"100%\">"
   ]
  },
  {
   "cell_type": "markdown",
   "metadata": {
    "slideshow": {
     "slide_type": "slide"
    }
   },
   "source": [
    "<img src=\"img/Picture84.png\" width=\"100%\" height=\"100%\">"
   ]
  },
  {
   "cell_type": "markdown",
   "metadata": {
    "slideshow": {
     "slide_type": "slide"
    }
   },
   "source": [
    "<img src=\"img/Picture85.png\" width=\"100%\" height=\"100%\">"
   ]
  },
  {
   "cell_type": "markdown",
   "metadata": {
    "slideshow": {
     "slide_type": "slide"
    }
   },
   "source": [
    "## 6  Colocar uma classe em um arquivo separado para reutilização (cont.)\n",
    "- Um arquivo de cabeçalho como GradeBook.h (Fig. 3.9) não pode ser usado para iniciar a execução do programa, porque ele não contém uma função main.\n",
    "- Para testar a classe GradeBook (definido na Fig. 3.9), você deve escrever um arquivo separado de código-fonte que contém uma função main (como Fig. 3.10) que cria e usa os objetos da classe. \n",
    "- Para ajudar o compilador a entender como usar uma classe, devemos fornecer ao compilador a definição da classe\n",
    "    - É por isso que, por exemplo, para usar o tipo string um programa deve incluir o arquivo de cabeçalho string.\n",
    "    - Isso permite que o compilador determine a quantidade de memória que deve reservar para cada objeto da classe e certifique-se de que um programa chama as funções membros da classe corretamente. "
   ]
  },
  {
   "cell_type": "markdown",
   "metadata": {
    "slideshow": {
     "slide_type": "slide"
    }
   },
   "source": [
    "## 6  Colocar uma classe em um arquivo separado para reutilização (cont.)\n",
    "- O compilador cria apenas uma cópia das funcões membro da classe e compartilha entre todos os objetos da classe.\n",
    "- Cada objeto, obviamente, precisa de sua própria cópia dos membros de dados da classe, porque seu conteúdo pode variar entre objetos.\n",
    "- O código de função membro, no entanto, não é modificável, portanto ela pode ser compartilhada entre todos os objetos da classe.\n",
    "- Portanto, o tamanho de um objeto depende da quantidade de memória necessária para armazenar os membros de dados da classe.\n",
    "- Com a inclusão de GradeBook.h na linha 4, nós permitem acesso do compilador as informações necessárias para determinar o tamanho de um objeto GradeBook e para determinar se os objetos da classe são usados corretamente."
   ]
  },
  {
   "cell_type": "markdown",
   "metadata": {
    "slideshow": {
     "slide_type": "slide"
    }
   },
   "source": [
    "## 6  Colocar uma classe em um arquivo separado para reutilização (cont.)\n",
    "- A diretiva #include instrui o pré-processador C++ para substituir a diretiva com uma cópia do conteúdo do GradeBook.h antes do programa ser compilado.\n",
    "    - Quando o arquivo de código-fonte fig03_10.cpp é compilado, ele agora contém a definição da classe GradeBook (devido a diretiva de #include), e o compilador é capaz de determinar como criar objetos GradeBook e ver suas funções membros serem chamadas corretamente.\n",
    "- Agora que a definição da classe está em um arquivo de cabeçalho (sem uma função main), nós pode incluir esse cabeçalho em qualquer programa que precisa reutilizar nossa classe GradeBook. "
   ]
  },
  {
   "cell_type": "markdown",
   "metadata": {
    "slideshow": {
     "slide_type": "slide"
    }
   },
   "source": [
    "## 6  Colocar uma classe em um arquivo separado para reutilização (cont.)\n",
    "- Observe que o nome da GradeBook.h arquivo de cabeçalho na linha 4 da Fig. 3.10 é colocado entre aspas (\" \") em vez de colchetes angulares (< >).\n",
    "    - Normalmente, os arquivos de código-fonte e os arquivos de cabeçalho definido pelo usuário de um programa são colocados no mesmo diretório.\n",
    "    - Quando o pré-processador encontra um nome de arquivo de cabeçalho entre aspas, ele tenta localizar o arquivo de cabeçalho no mesmo diretório do arquivo no qual a diretiva #include é exibida.\n",
    "    - Se o pré-processador não puder localizar o arquivo de cabeçalho nesse diretório, ele procurará por ele no mesmo local que os arquivos de cabeçalho da biblioteca padrão C++.\n",
    "    - Quando o pré-processador encontra um nome de arquivo de cabeçalho entre colchetes angulares (por exemplo, iostream), presume-se que o cabeçalho é parte da biblioteca padrão C++ e não procura no diretório do programa que está sendo pré-processado."
   ]
  },
  {
   "cell_type": "markdown",
   "metadata": {
    "slideshow": {
     "slide_type": "slide"
    }
   },
   "source": [
    "## Dica de prevenção de erro \n",
    "Para assegurar que o pré-processador localize os arquivos de cabeçalho corretamente, as diretivas de pré-processador #include devem colocar os nomes de arquivos de cabeçalho definidos pelo usuário entre aspas (por exemplo, “GradeBook.h”) e os nomes de arquivos de cabeçalho da C++ Standard Library entre colchetes angulares (por exemplo, iostream).\n"
   ]
  },
  {
   "cell_type": "markdown",
   "metadata": {
    "slideshow": {
     "slide_type": "slide"
    }
   },
   "source": [
    "## 6  Colocar uma classe em um arquivo separado para reutilização (cont.)\n",
    "- Colocando uma definição de classe em um arquivo de cabeçalho revela toda a implementação da classe para clientes da classe.\n",
    "- Segundo o senso comum de engenharia de software, para usar um objeto de uma classe, o código cliente precisa saber apenas que funcões membro chamar, quais argumentos fornecer a cada função membro e o tipo de retorno esperado de cada função membro.\n",
    "    - O código do cliente não precisa saber como essas funções são implementadas. \n",
    "- Se o código cliente souber como uma classe é implementada, o programador do código cliente pode escrever código cliente com base nos detalhes da implementação da classe.\n",
    "- Idealmente, se essa implementação for alterada, os clientes da classe não devem ter que ser alterados.\n",
    "- Ocultar detalhes da implementação da classe torna mais fácil alterar a implementação da classe, minimizando e talvez eliminando a necessidade de mudanças no código cliente. "
   ]
  },
  {
   "cell_type": "markdown",
   "metadata": {
    "slideshow": {
     "slide_type": "slide"
    }
   },
   "source": [
    "## 7  Separar a Interface de implementação\n",
    "- Interfaces definem e padronizam as maneiras em que, por exemplo, pessoas e sistemas interagem uns com os outros.\n",
    "- O interface de uma classe descreve quais os os serviços os clientes da classe podem usar e como fazer a solicitação dos serviços, mas não como a classe executa os serviços.\n",
    "- A interface pública de uma classe consiste das funções membro públicas da classe (também conhecido como serviços públicos da classe )."
   ]
  },
  {
   "cell_type": "markdown",
   "metadata": {
    "slideshow": {
     "slide_type": "slide"
    }
   },
   "source": [
    "## 7  Separar a Interface de implementação (cont.)\n",
    "- Em nossos exemplos anteriores, cada definição de classe continha as definições públicas completas das funções membro da classe e as declarações privadas de seus membros de dados.\n",
    "- A engenharia de software recomenda definir funções membro fora da definição de classe, para que os detalhes de implementação possam ser ocultados do código cliente.\n",
    "    - Garante que não seja escrito código cliente que depende de detalhes da implementação da classe.\n",
    "- O programa das Figs. 3.11 – 3,13 separa a classe a interface GradeBook de sua implementação, dividindo a definição de classe da Fig 3.9 em dois arquivos — o arquivo de cabeçalho GradeBook.h (Fig. 3.11) no qual a classe GradeBook é definida e o arquivo de código-fonte GradeBook.cpp (Fig. 3.12) em que as funções membro GradeBook são definidas."
   ]
  },
  {
   "cell_type": "markdown",
   "metadata": {
    "slideshow": {
     "slide_type": "slide"
    }
   },
   "source": [
    "## 7  Separar a Interface de implementação (cont.)\n",
    "- Por convenção, as definições de função membro são colocadas em um arquivo de código-fonte do mesmo nome de base (por exemplo, GradeBook) como arquivo de cabeçalho da classe, mas com um nome de arquivo com extensão CPP.\n",
    "- A Figura 3.14 mostra como este programa de três arquivos é compilado a partir das perspectivas do programador da classe GradeBook e do programador do código cliente — vamos explicar esta figura em detalhes."
   ]
  },
  {
   "cell_type": "markdown",
   "metadata": {
    "slideshow": {
     "slide_type": "slide"
    }
   },
   "source": [
    "## 7  Separar a Interface de implementação (cont.)\n",
    "- O arquivo de cabeçalho GradeBook.h (Fig. 3.11) é semelhante ao da Fig. 3.9, mas as definições de função da Fig 3.9 foram substituídas aqui por protótipos de função (linhas de 12 a 15) que descrevem a interface pública da classe sem revelar implementações da função membro da classe.\n",
    "- Um protótipo de função é uma declaração de uma função que informa ao compilador o nome da função, seu tipo de retorno e os tipos de seus parâmetros.\n",
    "- Incluindo o arquivo de cabeçalho GradeBook.h no código cliente (linha 5 de Fig. 3,13) fornece o compilador as informações necessárias para garantir que o código cliente chame as funções membro da classe GradeBook corretamente."
   ]
  },
  {
   "cell_type": "markdown",
   "metadata": {
    "slideshow": {
     "slide_type": "slide"
    }
   },
   "source": [
    "<img src=\"img/Picture86.png\" width=\"100%\" height=\"100%\">"
   ]
  },
  {
   "cell_type": "markdown",
   "metadata": {
    "slideshow": {
     "slide_type": "slide"
    }
   },
   "source": [
    "## Erro comum de programação \n",
    "Esquecer de colocar o ponto-e-vírgula no final de um protótipo de função é um erro de sintaxe.\n"
   ]
  },
  {
   "cell_type": "markdown",
   "metadata": {
    "slideshow": {
     "slide_type": "slide"
    }
   },
   "source": [
    "## Boa prática de programação\n",
    "Embora os nomes de parâmetro em protótipos de função sejam opcionais (eles são ignorados pelo compilador), muitos programadores utilizam esses nomes para documentação.\n"
   ]
  },
  {
   "cell_type": "markdown",
   "metadata": {
    "slideshow": {
     "slide_type": "slide"
    }
   },
   "source": [
    "## Dica de prevenção de erro \n",
    "Os nomes de parâmetro em um protótipo de função (que, novamente, são ignorados pelo compilador) podem ser enganosos, se forem utilizados nomes errados ou confusos. Por essa razão, muitos programadores criam protótipos de função copiando a primeira linha das definições de função correspondentes (quando o código-fonte das funções estiver disponível), acrescentando então um ponto-e-vírgula ao final de cada protótipo.\n"
   ]
  },
  {
   "cell_type": "markdown",
   "metadata": {
    "slideshow": {
     "slide_type": "slide"
    }
   },
   "source": [
    "## 7  Separar a Interface de implementação (cont.)\n",
    "- O arquivo de código-fonte GradeBook.cpp (Fig. 3.12) define as funções membro da classe GradeBook's, que foram declaradas nas linhas de 12 a 15 de Fig. 3.11.\n",
    "- Observe que cada nome de função membro (linhas 9, 15, 21 e 27) é precedido pelo nome da classe e ::, que é conhecido como o operador de resolução de escopo binário.\n",
    "- Isso \"liga\" a implementação de cada função membro (agora separados) a definição da classe GradeBook (Fig. 3.11), que declara os membros de dados e funções membro da classe."
   ]
  },
  {
   "cell_type": "markdown",
   "metadata": {
    "slideshow": {
     "slide_type": "slide"
    }
   },
   "source": [
    "<img src=\"img/Picture87.png\" width=\"100%\" height=\"100%\">"
   ]
  },
  {
   "cell_type": "markdown",
   "metadata": {
    "slideshow": {
     "slide_type": "slide"
    }
   },
   "source": [
    "<img src=\"img/Picture88.png\" width=\"100%\" height=\"100%\">"
   ]
  },
  {
   "cell_type": "markdown",
   "metadata": {
    "slideshow": {
     "slide_type": "slide"
    }
   },
   "source": [
    "## Erro comum de programação \n",
    "Ao definir funções-membro de uma classe fora dessa classe, a omissão do nome da classe e do operador de resolução de escopo binário (::) que precede os nomes de função provoca erros de compilação.\n"
   ]
  },
  {
   "cell_type": "markdown",
   "metadata": {
    "slideshow": {
     "slide_type": "slide"
    }
   },
   "source": []
  },
  {
   "cell_type": "markdown",
   "metadata": {
    "slideshow": {
     "slide_type": "slide"
    }
   },
   "source": [
    "## 7  Separar a Interface de implementação (cont.)\n",
    "- Para indicar que as funções membro em GradeBook.cpp fazem parte da classe GradeBook, devemos primeiro incluir o arquivo de cabeçalho GradeBook.h (linha 5 de Fig. 3.12).\n",
    "- Isso nos permite acessar o nome da classe GradeBook no GradeBook.cpp arquivo.\n",
    "- Durante a compilação de GradeBook.cpp, o compilador usa as informações de GradeBook.h para garantir que:\n",
    "    - a primeira linha de cada função membro corresponda a seu protótipo no arquivo GradeBook.h e que\n",
    "    - cada função membro saiba a respeito dos membros de dados da classe e outras funções membro"
   ]
  },
  {
   "cell_type": "markdown",
   "metadata": {
    "slideshow": {
     "slide_type": "slide"
    }
   },
   "source": [
    "<img src=\"img/Picture89.png\" width=\"100%\" height=\"100%\">"
   ]
  },
  {
   "cell_type": "markdown",
   "metadata": {
    "slideshow": {
     "slide_type": "slide"
    }
   },
   "source": [
    "<img src=\"img/Picture90.png\" width=\"100%\" height=\"100%\">"
   ]
  },
  {
   "cell_type": "markdown",
   "metadata": {
    "slideshow": {
     "slide_type": "slide"
    }
   },
   "source": [
    "## 7  Separar a Interface de implementação (cont.)\n",
    "- Antes de executar este programa, os arquivos de código-fonte das Fig. 3.12 e Fig. 3.13 devem ser compilados e vinculados um ao outro — isto é, as chamadas de função membro no código cliente precisam estar “ligadas” com as implementações das funções membro da classe — um trabalho realizado pelo linker (“ligador”). \n",
    "- O diagrama na Fig. 3.14 mostra o processo de compilação e vinculação que resulta em um arquivo executável GradeBook que pode ser usado por instrutores.  "
   ]
  },
  {
   "cell_type": "markdown",
   "metadata": {
    "slideshow": {
     "slide_type": "slide"
    }
   },
   "source": [
    "<img src=\"img/Picture91.png\" width=\"100%\" height=\"100%\">"
   ]
  },
  {
   "cell_type": "markdown",
   "metadata": {
    "slideshow": {
     "slide_type": "slide"
    }
   },
   "source": [
    "## 8  Validando dados com funções set \n",
    "- O programa das Figs. 3.15 – 3.17 aprimora a função membro setCourseName da classe GradeBook para fazer validação (também conhecido como verificação de validade). \n",
    "- Como a interface da classe permanece inalterada, clientes dessa classe não precisam ser alterados quando a definição da função membro setCourseName é modificada.\n",
    "- Isso permite que os clientes possam tirar vantagem da classe GradeBook melhorada simplesmente vinculando o código cliente com a versão atualizada de GradeBook."
   ]
  },
  {
   "cell_type": "markdown",
   "metadata": {
    "slideshow": {
     "slide_type": "slide"
    }
   },
   "source": [
    "<img src=\"img/Picture92.png\" width=\"100%\" height=\"100%\">"
   ]
  },
  {
   "cell_type": "markdown",
   "metadata": {
    "slideshow": {
     "slide_type": "slide"
    }
   },
   "source": [
    "## 8  Validando dados com funções set (cont.)\n",
    "- A classe string da biblioteca padrão C++ define uma função membro length que retorna o número de caracteres em um objeto string.\n",
    "- Um estado consistente é um estado no qual o membro de dados do objeto contém um valor válido.\n",
    "- A classe string fornece a função membro substr (abreviação de \"substring\"), que retorna um novo objeto string criado como copia de parte de um outro objeto string.\n",
    "    - O primeiro argumento especifica a posição inicial do objeto string original do qual os caracteres são copiados.\n",
    "    - O segundo argumento especifica o número de caracteres a serem copiados."
   ]
  },
  {
   "cell_type": "markdown",
   "metadata": {
    "slideshow": {
     "slide_type": "slide"
    }
   },
   "source": [
    "## 8  Validando dados com funções set (cont.)\n",
    "- A Figura 3.17 exibe a versão modificada da classe GradeBook (Figs. 3,15 – 3.16) com validação.\n",
    "- Nas versões anteriores da classe, o benefício da chamada setCourseName no construtor não era evidente.\n",
    "- Agora, no entanto, o construtor tira proveito da validação fornecida pela setCourseName.\n",
    "- O construtor simplesmente chama setCourseName, em vez de duplicar o código de validação."
   ]
  },
  {
   "cell_type": "markdown",
   "metadata": {
    "slideshow": {
     "slide_type": "slide"
    }
   },
   "source": [
    "<img src=\"img/Picture93.png\" width=\"100%\" height=\"100%\">"
   ]
  },
  {
   "cell_type": "markdown",
   "metadata": {
    "slideshow": {
     "slide_type": "slide"
    }
   },
   "source": [
    "<img src=\"img/Picture94.png\" width=\"100%\" height=\"100%\">"
   ]
  },
  {
   "cell_type": "markdown",
   "metadata": {
    "slideshow": {
     "slide_type": "slide"
    }
   },
   "source": [
    "<img src=\"img/Picture95.png\" width=\"100%\" height=\"100%\">"
   ]
  },
  {
   "cell_type": "markdown",
   "metadata": {
    "slideshow": {
     "slide_type": "slide"
    }
   },
   "source": [
    "<img src=\"img/Picture96.png\" width=\"100%\" height=\"100%\">"
   ]
  },
  {
   "cell_type": "markdown",
   "metadata": {
    "slideshow": {
     "slide_type": "slide"
    }
   },
   "source": [
    "<img src=\"img/Picture97.png\" width=\"100%\" height=\"100%\">"
   ]
  },
  {
   "cell_type": "markdown",
   "metadata": {
    "slideshow": {
     "slide_type": "slide"
    }
   },
   "source": [
    "## 8  Validando dados com funções set (cont.)\n",
    "- Uma função set pública como setCourseName deve analisar cuidadosamente qualquer tentativa de modificar o valor de um membro de dados (por exemplo, courseName) para garantir que o novo valor é apropriado para aquele item de dados.\n",
    "- Funções membro set podem retornar valores para os clientes da classe indicando que foram feitas tentativas para atribuir dados inválidos para objetos da classe.\n",
    "- Um cliente pode testar a função de retorno para determinar se a tentativa de modificar o objeto foi bem-sucedida e tomar a ação apropriada.\n",
    "- No Capítulo 16, veremos como clientes de uma classe podem ser notificados por meio do mecanismo de tratamento de exceção quando é feita uma tentativa de modificar um objeto com um valor inadequado.\n",
    "- Para manter o programa das Figs. 3.15 – 3.17 simples neste ponto inicial do livro, na Fig. 3.16 setCourseName apenas imprime uma mensagem apropriada. "
   ]
  },
  {
   "cell_type": "markdown",
   "metadata": {
    "slideshow": {
     "slide_type": "slide"
    }
   },
   "source": [
    "## Observação de engenharia de software \n",
    "Tornar os membros de dados private e controlar o acesso, especialmente o acesso de gravação, àqueles membros de dados via funções-membro public ajuda a assegurar a integridade dos dados.\n"
   ]
  },
  {
   "cell_type": "markdown",
   "metadata": {
    "slideshow": {
     "slide_type": "slide"
    }
   },
   "source": [
    "## Dica de prevenção de erro \n",
    "Os benefícios da integridade de dados não são automáticos simplesmente porque os membros de dados se tornaram private — o programador deve fornecer teste de validade apropriado e informar os erros.\n",
    "\n"
   ]
  },
  {
   "cell_type": "markdown",
   "metadata": {
    "slideshow": {
     "slide_type": "slide"
    }
   },
   "source": [
    "## Observação de engenharia de software\n",
    "As funções-membro que configuram (set) os valores de dados private devem verificar se os novos valores projetados são adequados; se não forem, as funções set devem colocar os membros de dados private em um estado apropriado.\n"
   ]
  },
  {
   "cell_type": "code",
   "execution_count": null,
   "metadata": {},
   "outputs": [],
   "source": []
  }
 ],
 "metadata": {
  "kernelspec": {
   "display_name": "C++14",
   "language": "C++14",
   "name": "xcpp14"
  },
  "language_info": {
   "codemirror_mode": "text/x-c++src",
   "file_extension": ".cpp",
   "mimetype": "text/x-c++src",
   "name": "c++",
   "version": "14"
  }
 },
 "nbformat": 4,
 "nbformat_minor": 4
}
