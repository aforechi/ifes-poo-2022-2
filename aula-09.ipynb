{
  "cells": [
    {
      "cell_type": "markdown",
      "metadata": {
        "id": "view-in-github",
        "colab_type": "text"
      },
      "source": [
        "<a href=\"https://colab.research.google.com/github/aforechi/ifes-alg-2022-1/blob/main/aula-09.ipynb\" target=\"_parent\"><img src=\"https://colab.research.google.com/assets/colab-badge.svg\" alt=\"Open In Colab\"/></a>"
      ]
    },
    {
      "cell_type": "markdown",
      "metadata": {
        "id": "6kX76pYVc4Pf"
      },
      "source": [
        "# Aula 9: Projeto de Funções\n",
        "\n",
        "## Projetar a interface - Especifique o que a função faz e como ela será chamada. \n",
        "- Ele executa alguma E / S? (Faça uma função void.)\n",
        "- seleciona ou calcula um único valor para retornar? (Faça uma função que retorne um valor.)\n",
        "- Selecione um nome que indique o que a função faz.\n",
        "\n",
        "Quantas informações serão enviadas para a função?\n",
        "- Algum dos parâmetros formais requer valores previamente definidos? Seus valores podem ser alterados pela função? \n",
        "    - Rotular cada parâmetro formal como entrada, saída ou entrada / saída. Isso é chamado de documentar o fluxo de dados.\n",
        "- Escreva as asserções (pré-condições e pós-condições). As pré-condições e pós-condições devem ter uma descrição precisa e concisa do que a função faz sem especificar como ela é feita. \n",
        "    - O usuário da função é responsável por atender as pré-condições e seu trabalho é atender às condições posteriores especificadas.\n",
        "- NÃO SE PREOCUPE COM AS INFORMAÇÕES DE COMO A FUNÇÃO SERÁ IMPLEMENTADA. \n",
        "    - PROJETE TODAS AS INTERFACES DE FUNÇÃO E O PROGRAMA PRINCIPAL ANTES DE COMEÇAR A PENSAR EM QUALQUER DETALHES. \n",
        "\n",
        "### Isso ajudará você a criar um algoritmo mais claro e conciso.\n",
        "\n",
        "## Projetar o programa - Defina a interação entre o programa principal e quaisquer outras funções usadas no programa.\n",
        "- Liste todas as variáveis, constantes nomeadas, e seus tipos de dados que serão declarados no programa principal.\n",
        "- Crie o fluxograma da função principal e teste para ver se o fluxo de controle está devidamente ordenado e não está faltando nenhum componente.\n",
        "- Teste as funções e o programa principal, escrevendo cada uma das funções como esqueletos. NÃO CODIFIQUE AS FUNÇÕES AINDA! \n",
        "- Se o programa principal for controlado com um loop, teste se as condições de entrada e saída funcionam antes de continuar.\n",
        "\n",
        "### Quando estiver satisfeito em especificar um conjunto claro e conciso de funções e se a interação delas com a função principal estiver bem definida, você poderá continuar na fase de implementação.\n",
        "\n",
        "## Implemente as funções - Escreva o código de fato para as funções UMA DE CADA VEZ.\n",
        "\n",
        "- Liste quaisquer constantes e variáveis nomeadas que precisem ser declaradas localmente.\n",
        "- Codifique a função. Deu mais de dez linhas? Talvez possa ser quebrada em duas funções.\n",
        "- Verifique se os ÚNICOS identificadores que aparecem no corpo da função são parâmetros ou variáveis localmente declaradas.\n",
        "- Verifique cada parâmetro e seu uso na função (fluxo de dados).\n",
        "    - E: NÃO deve aparecer no lado esquerdo de uma instrução de atribuição ou em um cin.\n",
        "    - S: Deve aparecer no lado esquerdo de uma declaração de atribuição ou em um cin.\n",
        "    - E/S: Deve aparecer no lado esquerdo de uma instrução de atribuição ou em um cin.\n",
        "- Verifique se as funções que retornam valor têm apenas uma instrução de retorno.\n",
        "- Codifique as funções uma de cada vez. Teste seu programa deixando as outras funções como esqueletos e codifique a próxima função somente depois que a anterior tiver sido incorporada com sucesso no programa. \n",
        "- Adicionar funções uma de cada vez e testá-las economizará horas de código de depuração de frustração. Os erros mais comuns são encontrados na função de entrada - encontre esses erros cedo! SEMPRE implemente esta função primeiro e confirme que ela funciona.\n",
        "- Essas definições de função normalmente serão colocadas em um arquivo separado chamado arquivo de implementação. Isso é chamado de ocultação de informações. O usuário só precisa saber o que a função faz, não como."
      ]
    },
    {
      "cell_type": "markdown",
      "metadata": {
        "id": "fc6D71Kqc4Pk"
      },
      "source": [
        "# Exercícios (Funções)"
      ]
    },
    {
      "cell_type": "markdown",
      "metadata": {
        "id": "TCceQeUyc4Pl"
      },
      "source": [
        "1- O que há de errado com a seguinte função?           "
      ]
    },
    {
      "cell_type": "code",
      "execution_count": 1,
      "metadata": {
        "id": "sKJ0cddvc4Pm"
      },
      "outputs": [],
      "source": [
        "def quadrado (x):\n",
        "  x * x"
      ]
    },
    {
      "cell_type": "markdown",
      "metadata": {
        "id": "OicXEkZZc4Pn"
      },
      "source": [
        " 2- Qual é o efeito de chamar show (4)?"
      ]
    },
    {
      "cell_type": "code",
      "execution_count": 2,
      "metadata": {
        "id": "7KiQLgs6c4Po"
      },
      "outputs": [],
      "source": [
        "def show (x) :\n",
        "     print( x , \" \" , x * x)\n",
        "     return x * x\n",
        "     print( x , \" \" , x * x * x)\n",
        "     return x * x * x"
      ]
    },
    {
      "cell_type": "markdown",
      "metadata": {
        "id": "fB0gDBdzc4Pp"
      },
      "source": [
        " 3- O que faz a seguinte função?"
      ]
    },
    {
      "cell_type": "code",
      "execution_count": 3,
      "metadata": {
        "id": "6KGTKxuCc4Pp"
      },
      "outputs": [],
      "source": [
        "def eq3 ( a, b, c) :\n",
        "     if (a == b == c):\n",
        "        return 1\n",
        "     else:\n",
        "        return 0"
      ]
    },
    {
      "cell_type": "markdown",
      "metadata": {
        "id": "S8BqEr_Xc4Pq"
      },
      "source": [
        " 4- Escreva uma função que recebe dois inteiros como argumentos e retorna o valor do maior."
      ]
    },
    {
      "cell_type": "code",
      "execution_count": null,
      "metadata": {
        "id": "kNxS2cuWc4Pq"
      },
      "outputs": [],
      "source": [
        ""
      ]
    },
    {
      "cell_type": "markdown",
      "metadata": {
        "id": "PG1REL4tc4Pr"
      },
      "source": [
        " 5- Escreva uma função que recebe três inteiros como argumentos e retorna o valor do maior."
      ]
    },
    {
      "cell_type": "code",
      "execution_count": null,
      "metadata": {
        "id": "4s33bIo5c4Pr"
      },
      "outputs": [],
      "source": [
        ""
      ]
    },
    {
      "cell_type": "markdown",
      "metadata": {
        "id": "nKhuWzwxc4Ps"
      },
      "source": [
        " 6- Escreva uma função que recebe um número real como argumento e retorna o valor absoluto desse número."
      ]
    },
    {
      "cell_type": "code",
      "execution_count": null,
      "metadata": {
        "id": "MbHmapwMc4Pt"
      },
      "outputs": [],
      "source": [
        ""
      ]
    },
    {
      "cell_type": "markdown",
      "metadata": {
        "id": "SGH2vOtWc4Pt"
      },
      "source": [
        " 7- Escreva uma função que recebe um inteiro positivo n como argumento e retorna a menor potência de dois que seja maior ou igual a n.\n",
        "\n",
        " 8- Escreva uma função que recebe um inteiro positivo n como argumento e retorna verdadeiro (True) se n é primo e falso (False) caso contrário.\n",
        "\n",
        " 9- Escreva uma função que recebe um inteiro positivo n como argumento e retorna falso (False) se n for primo e verdadeiro (True) caso contrário.\n",
        "\n",
        "10- Escreva uma função que recebe um inteiro positivo como entrada e retorna o primeiro dígito em sua representação decimal. Por exemplo, o primeiro dígito de 234567 é 2."
      ]
    },
    {
      "cell_type": "markdown",
      "metadata": {
        "id": "3TzToIqqc4Pu"
      },
      "source": [
        "11- Quais valores são impressos pelo seguinte programa?"
      ]
    },
    {
      "cell_type": "code",
      "execution_count": 4,
      "metadata": {
        "colab": {
          "base_uri": "https://localhost:8080/"
        },
        "id": "BUsq4u76c4Pw",
        "outputId": "aacf7807-f322-4c8b-b408-c26d59fe318b"
      },
      "outputs": [
        {
          "output_type": "stream",
          "name": "stdout",
          "text": [
            "9   11\n"
          ]
        }
      ],
      "source": [
        "def f ( x) :\n",
        "     return x + 2\n",
        "\n",
        "x = 5\n",
        "print( f(x + 2) , \" \" , f( f(x + 2) ) )\n"
      ]
    },
    {
      "cell_type": "markdown",
      "metadata": {
        "id": "hTEoZfTac4Px"
      },
      "source": [
        "12- Quais valores são impressos pelo seguinte programa?"
      ]
    },
    {
      "cell_type": "code",
      "execution_count": 5,
      "metadata": {
        "colab": {
          "base_uri": "https://localhost:8080/"
        },
        "id": "rECM_TdCc4Py",
        "outputId": "c146552e-8e1e-42b8-a4ee-0eb642352018"
      },
      "outputs": [
        {
          "output_type": "stream",
          "name": "stdout",
          "text": [
            "26   12\n"
          ]
        }
      ],
      "source": [
        "def confusão (x, y):\n",
        "     x = 2 * x + y\n",
        "     return x\n",
        "\n",
        "\n",
        "x = 2; y = 5\n",
        "y = confusão (y, x);\n",
        "x = confusão (y, x);\n",
        "print(x , \" \" , y)"
      ]
    },
    {
      "cell_type": "markdown",
      "metadata": {
        "id": "dK1xyuH4c4P1"
      },
      "source": [
        "13- Escreva uma função que recebe dois números de ponto flutuante e retorne verdadeiro se o primeiro parâmetro for maior que o segundo."
      ]
    },
    {
      "cell_type": "markdown",
      "metadata": {
        "id": "2bNNNC6Ec4P2"
      },
      "source": [
        "## ALGUNS PONTOS PARA RECORDAR\n",
        "- Parâmetros passados para a função usando passagem de parâmetros por valor (ou cópia) são vistos como constantes pela função e nunca devem aparecer no lado esquerdo de um comando de atribuição ou em uma instrução cin. \n",
        "\n",
        "- Parâmetros passados para a função usando passagem de parâmetros por referência são modificados pela função e podem aparecer ou no lado esquerdo de uma instrução de atribuição ou em uma instrução cin. \n",
        "\n",
        "- Parâmetros e argumentos são definidos de acordo com sua ordem no cabeçalho e na chamada da função, respectivamente.\n",
        "\n",
        "- Argumentos aparecem na chamada de função e não incluem seu tipo de dados.\n",
        "\n",
        "- Parâmetros aparecem no cabeçalho da função e incluem seu tipo de dados.\n",
        "\n",
        "- Quando o parâmetro é um parâmetro passado por valor, o argumento pode ser uma variável, constante nomeada ou literal, ou expressão. \n",
        "\n",
        "- Quando o parâmetro é um parâmetro passado por referência, o argumento DEVE ser uma variável com exatamente o mesmo tipo de dados que o parâmetro."
      ]
    },
    {
      "cell_type": "markdown",
      "metadata": {
        "id": "-IJZ0uS_c4P8"
      },
      "source": [
        "14- Converta a seguinte função nula para uma função que retorne valor."
      ]
    },
    {
      "cell_type": "code",
      "execution_count": 6,
      "metadata": {
        "id": "-HfyK2m3c4P9"
      },
      "outputs": [],
      "source": [
        "small = 0\n",
        "def FindSmaller(n1, n2):\n",
        "  global small\n",
        "  if n1 < n2:\n",
        "    small = n1\n",
        "  else:\n",
        "    small = n2"
      ]
    },
    {
      "cell_type": "markdown",
      "metadata": {
        "id": "bkWvLQBTc4P9"
      },
      "source": [
        "15- Converta a seguinte função para uma função sem valor de retorno (nula)."
      ]
    },
    {
      "cell_type": "code",
      "execution_count": null,
      "metadata": {
        "id": "FTzR31Zkc4P-"
      },
      "outputs": [],
      "source": [
        "def CheckEqual(n1, n2) :\n",
        "  return (n1 == n2)"
      ]
    }
  ],
  "metadata": {
    "kernelspec": {
      "display_name": "Python 3",
      "name": "python3"
    },
    "language_info": {
      "name": "python"
    },
    "colab": {
      "name": "aula-09.1.ipynb",
      "provenance": [],
      "collapsed_sections": [],
      "include_colab_link": true
    }
  },
  "nbformat": 4,
  "nbformat_minor": 0
}