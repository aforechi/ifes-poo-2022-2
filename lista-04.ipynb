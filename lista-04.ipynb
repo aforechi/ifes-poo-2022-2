{
  "cells": [
    {
      "cell_type": "markdown",
      "metadata": {
        "id": "view-in-github",
        "colab_type": "text"
      },
      "source": [
        "<a href=\"https://colab.research.google.com/github/aforechi/ifes-alg-2022-1/blob/main/lista-04.ipynb\" target=\"_parent\"><img src=\"https://colab.research.google.com/assets/colab-badge.svg\" alt=\"Open In Colab\"/></a>"
      ]
    },
    {
      "cell_type": "markdown",
      "metadata": {
        "id": "RnItLabz1qvq"
      },
      "source": [
        "# 4ª Lista de Exercícios \n",
        "\n",
        "Faça os exercícios abaixo de maneira clara, organizada e usando a linguagem Python, conforme orientações abaixo: \n",
        "\n",
        "- Lembre-se de identar o código com TAB, além de seguir as boas práticas de programação vistas em sala de aula e nas notas de aula.\n",
        "\n",
        "\n",
        "1. Faça um programa para verificar se um vetor de caracteres está em ordem decrescente, crescente ou fora de ordem e imprima na saída padrão (tela) uma dessas conclusões."
      ]
    },
    {
      "cell_type": "code",
      "source": [
        ""
      ],
      "metadata": {
        "id": "47mJ8_vA2Yqq"
      },
      "execution_count": null,
      "outputs": []
    },
    {
      "cell_type": "markdown",
      "source": [
        "2. Faça um programa para contar o número de vogais contidos em um vetor de caracteres e imprima a quantidade na saída padrão."
      ],
      "metadata": {
        "id": "-P1tGnkB2Wl8"
      }
    },
    {
      "cell_type": "code",
      "source": [
        ""
      ],
      "metadata": {
        "id": "9dSSua412ZOl"
      },
      "execution_count": null,
      "outputs": []
    },
    {
      "cell_type": "markdown",
      "source": [
        "3. Faça um programa que leia uma matriz quadrada $A$, $n \\times n$, calcule o máximo elemento de cada linha em módulo e divida cada linha pelo seu máximo. O algoritmo deve imprimir a nova matriz $A$ modificada. "
      ],
      "metadata": {
        "id": "Bjz-HQlW2PR3"
      }
    },
    {
      "cell_type": "code",
      "source": [
        ""
      ],
      "metadata": {
        "id": "rRK6g9jM2Z3L"
      },
      "execution_count": null,
      "outputs": []
    },
    {
      "cell_type": "markdown",
      "metadata": {
        "id": "VcHYnJEA1qvw"
      },
      "source": [
        "4. Faça um programa para calcular o produto entre duas matrizes $A[m][n]$ e $B[n][m]$ com $n,m \\le 100$ e sair com a matriz resultante $prod[m][m]$.  "
      ]
    },
    {
      "cell_type": "code",
      "execution_count": null,
      "metadata": {
        "id": "O9X-cs1H1qvx"
      },
      "outputs": [],
      "source": [
        ""
      ]
    },
    {
      "cell_type": "markdown",
      "metadata": {
        "id": "9kedeFYY1qvx"
      },
      "source": [
        "5. Faça um programa que preencha uma matriz $A[n][n]$, $n \\le 100$, calcule a norma\n",
        "$ normaA = \\max_{1 \\le i \\le n} \\sqrt{a_{i1}^2 + a_{i2}^2 + \\cdots + a_{in}^2} $ por meio de uma função e imprima o seu valor."
      ]
    },
    {
      "cell_type": "code",
      "execution_count": null,
      "metadata": {
        "id": "6P-XRwqw1qvy"
      },
      "outputs": [],
      "source": [
        ""
      ]
    },
    {
      "cell_type": "markdown",
      "source": [
        "6. Verifique se uma matriz $A[n][n]$, $n \\le 100$, é simétrica, ou seja, se $A[i[[j] = A[j][i]$, $\\forall i,j \\le n$. Saia a palavra simétrica, se a matriz é simétrica e, não-simétrica, em caso contrário.  Faça um programa em C/C++ de maneira eficiente, sem repetir testes ou fazer testes desnecessários."
      ],
      "metadata": {
        "id": "fXHyqpxI2fP2"
      }
    },
    {
      "cell_type": "code",
      "source": [
        ""
      ],
      "metadata": {
        "id": "SHJwJIjO2f2B"
      },
      "execution_count": null,
      "outputs": []
    }
  ],
  "metadata": {
    "kernelspec": {
      "display_name": "Python 3",
      "name": "python3"
    },
    "language_info": {
      "name": "python"
    },
    "colab": {
      "name": "lista-04.ipynb",
      "provenance": [],
      "collapsed_sections": [],
      "include_colab_link": true
    },
    "gpuClass": "standard"
  },
  "nbformat": 4,
  "nbformat_minor": 0
}