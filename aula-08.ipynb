{
  "cells": [
    {
      "cell_type": "markdown",
      "metadata": {
        "id": "view-in-github",
        "colab_type": "text"
      },
      "source": [
        "<a href=\"https://colab.research.google.com/github/aforechi/ifes-alg-2022-1/blob/main/aula-08.ipynb\" target=\"_parent\"><img src=\"https://colab.research.google.com/assets/colab-badge.svg\" alt=\"Open In Colab\"/></a>"
      ]
    },
    {
      "cell_type": "markdown",
      "metadata": {
        "id": "g2XCHl0VDSDR"
      },
      "source": [
        "# Aula 9: Modularização de programas com funções\n",
        "\n",
        "O conceito de função em termos computacionais está intimamente ligado ao conceito de função (ou fórmula) matemática, onde um conjunto deva- riáveis e constantes numéricas relaciona-se por meio de operadores, compondo uma fórmula que, uma vez avaliada, resulta num valor. As expressões se dividem em:\n",
        "\n",
        "## Funções Numéricas\n",
        "\n",
        "Funções numéricas são aquelas cujo resultado da avaliação é do tipo numérico, seja ele inteiro ou real. Somente podem ser efetuadas entre números propriamente apresentados ou variáveis numéricas.\n",
        "Como exemplos de funções numéricas temos:\n",
        "- sin(x) Função que resulta no valor do seno de um ângulo qualquer em radianos.\n",
        "- cos(x) Função que resulta no valor do co-seno de um de um ângulo qual- quer em radianos.\n",
        "- tan(x) Função que resulta no valor da tangente de um ângulo qualquer em radianos.\n",
        "- exp(x) Função que resulta no valor do número e (base do logaritmo neperiano) elevado a um número qualquer.\n",
        "- log(x) Função que resulta no valor do logaritmo neperiano de um número qualquer.\n",
        "- sqrt(x) Função que resulta no valor da raiz quadrada de um número positivo.\n",
        "- abs(x) Função que resulta no valor absoluto de um número qualquer.\n",
        "\n",
        "**Observação:** Antes de aplicar as funções trigonométricas, deve-se transformar o Ângulo em Graus para Ângulo em Radianos com a seguinte fórmula matemática: $x = ang * \\pi / 180$. E logo depois se pode aplicar a função.\n"
      ]
    },
    {
      "cell_type": "code",
      "execution_count": 1,
      "metadata": {
        "colab": {
          "base_uri": "https://localhost:8080/"
        },
        "id": "NuTNJCUgDSDV",
        "outputId": "ff42a84c-c3e7-4e1b-90f8-4e7f4a4865ba"
      },
      "outputs": [
        {
          "output_type": "stream",
          "name": "stdout",
          "text": [
            "seno de 30º:  0.49999999999999994\n",
            "cosseno de 30º:  0.8660254037844387   0.8660254037844386\n",
            "tangente de 30º:  0.5773502691896257   0.5773502691896257\n"
          ]
        }
      ],
      "source": [
        "from math import *\n",
        "\n",
        "print( \"seno de 30º: \" , sin(pi/6.0) ) \n",
        "print( \"cosseno de 30º: \" , cos(pi/6.0) , \" \" , sqrt(3.0)/2.0 ) \n",
        "print( \"tangente de 30º: \" , tan(pi/6.0) , \" \" , sqrt(3.0)/3.0 )"
      ]
    },
    {
      "cell_type": "code",
      "execution_count": 2,
      "metadata": {
        "colab": {
          "base_uri": "https://localhost:8080/"
        },
        "id": "P5EU_6NIDSDX",
        "outputId": "e631a140-83fc-46f6-c2b0-1cb4a59c5689"
      },
      "outputs": [
        {
          "output_type": "execute_result",
          "data": {
            "text/plain": [
              "3.141592653589793"
            ]
          },
          "metadata": {},
          "execution_count": 2
        }
      ],
      "source": [
        "pi"
      ]
    },
    {
      "cell_type": "markdown",
      "metadata": {
        "id": "krQYupA4DSDX"
      },
      "source": [
        "\n",
        "## Funções de Conversão de Tipos\n",
        "- int(número real) Função que converte um número real em inteiro.\n",
        "- float(número inteiro) Função que converte um número inteiro em real."
      ]
    },
    {
      "cell_type": "code",
      "execution_count": 5,
      "metadata": {
        "colab": {
          "base_uri": "https://localhost:8080/"
        },
        "id": "o1dT0PnkDSDY",
        "outputId": "5065360b-b007-47e0-9317-1906a7451817"
      },
      "outputs": [
        {
          "output_type": "stream",
          "name": "stdout",
          "text": [
            "1\n",
            "1.0\n"
          ]
        }
      ],
      "source": [
        "print( int(1.5) )\n",
        "print( float(1) )"
      ]
    },
    {
      "cell_type": "markdown",
      "metadata": {
        "id": "atUOhsF7DSDb"
      },
      "source": [
        "\n",
        "## Funções\n",
        "\n",
        "Um **programa** principal sem **subprogramas** é comparável a alguém que comanda sozinho uma empresa gerenciando todas as tarefas. Quando, porém, a empresa cresce, funcionários são necessários.\n",
        "\n",
        "**Subprogramas** são comparáveis a funcionários que têm uma tarefa definida que deve ser realizada sempre que for chamada.\n",
        "\n",
        "**Funções** são comparáveis a funcionários que têm uma tarefa definida, que deve ser realizada sempre que chamada, e devem sempre dar um retorno como resultado do trabalho realizado.\n",
        "\n",
        "    Uma função é um subprograma que realiza uma tarefa e dá um retorno.\n",
        "    \n",
        "Um subprograma é um trecho de um programa que realiza qualquer operação computacional. Ele efetua parte de uma tarefa que um algoritmo maior deveria executar, ou seja, ele é uma parte do programa, especializado em alguma funcionalidade.\n",
        "\n",
        "Em programação, quando um programa ou subprograma solicita serviços de um outro subprograma dizemos que foi feita uma chamada ao subprograma. Durante a execução de um programa, podem ser feitas diversas chamadas a um mesmo subprograma.\n",
        "\n",
        "Partes de um subprograma (Função):\n",
        "- Cabeçalho – Definição da função: nome, nomes e tipos das entradas, tipo de retorno (saída)\n",
        "- Dicionário de dados – variáveis internas da função \n",
        "- Corpo - comandos\n",
        "- Comentário – Explicação da função\n",
        "\n",
        "\n",
        "## Uma função é um conjunto de instruções que recebe alguns valores como dados de entrada e, a partir deles, produz um valor como saída.\n",
        "\n",
        "**Forma geral de uma função:**\n",
        "\n",
        "**def** nome_da_função(parâmetros):\n",
        "\n",
        "    return valor\n",
        "\n",
        "\n",
        "- **Função sem parâmetros:** Uma função é um conjunto de instruções que realiza uma tarefa e gera uma saída, recebendo entradas ou não.\n",
        "- **Função sem retorno:** Se a função realizar apenas um conjunto de instruções, não é necessário o **return** visto que a função não devolve um valor.\n",
        "\n",
        "Exemplo: Calcule a média entre dois números inteiros."
      ]
    },
    {
      "cell_type": "code",
      "execution_count": 11,
      "metadata": {
        "id": "i_HXTvX_DSDd"
      },
      "outputs": [],
      "source": [
        "''' Esta função recebe dois números e retorna a média entre eles '''\n",
        "def calculamedia(valor1, valor2):\n",
        "    return (valor1 + valor2)/2.0"
      ]
    },
    {
      "cell_type": "code",
      "execution_count": 12,
      "metadata": {
        "colab": {
          "base_uri": "https://localhost:8080/"
        },
        "id": "XZz1--wzDSDe",
        "outputId": "6cfea669-38da-43d4-e37f-08efb77841f1"
      },
      "outputs": [
        {
          "output_type": "stream",
          "name": "stdout",
          "text": [
            "Média:  30.0\n"
          ]
        }
      ],
      "source": [
        "# Esta é uma variável global \n",
        "\n",
        "media = calculamedia(10.0, 50.0) # Uma função só executa a tarefa quando for chamada!\n",
        "\n",
        "print(\"Média: \" , media)"
      ]
    },
    {
      "cell_type": "code",
      "execution_count": 13,
      "metadata": {
        "colab": {
          "base_uri": "https://localhost:8080/"
        },
        "id": "v0qq2bbmDSDh",
        "outputId": "b7a1397c-8baf-498f-cbc6-6d841fcfd121"
      },
      "outputs": [
        {
          "output_type": "execute_result",
          "data": {
            "text/plain": [
              "920.0"
            ]
          },
          "metadata": {},
          "execution_count": 13
        }
      ],
      "source": [
        "calculamedia(1350, 490)"
      ]
    },
    {
      "cell_type": "markdown",
      "metadata": {
        "id": "5qyFudSwDSDZ"
      },
      "source": [
        "## Escopo de variáveis\n",
        "Como vimos em nossos exemplos, um programa é composto de blocos de código que podem ser aninhados em comandos de decisão ou repetição.\n",
        "\n",
        "- **Escopo local:** Uma variável tem escopo local quando a declaramos em um bloco de uma função. Neste caso, ela pode ser apenas utilizada neste bloco e nos blocos mais internos a este bloco. O escopo de bloco começa na declaração da variável e termina na última linha do bloco. \n",
        "- **Escopo global:** Uma variável tem escopo global quando seu identificador é declarado fora de qualquer função. Esta é uma variável global e é conhecida em qualquer ponto do programa.\n",
        "\n",
        "Em variáveis com escopo local de blocos, quando há um bloco aninhado mais interno e os dois blocos contém uma variável com o mesmo identificador, a variável do bloco mais externo fica oculta até que o bloco interno termine.\n",
        "\n",
        "**Obs.:** Se tentássemos inserir uma linha de código que imprime o valor de i, no final do programa, teríamos um erro pois não existe a variável i neste ponto do código.\n"
      ]
    },
    {
      "cell_type": "code",
      "execution_count": 10,
      "metadata": {
        "colab": {
          "base_uri": "https://localhost:8080/"
        },
        "id": "se8VXEu8DSDZ",
        "outputId": "e872a311-ca19-4147-ec8b-0ece0dbfbca7"
      },
      "outputs": [
        {
          "output_type": "stream",
          "name": "stdout",
          "text": [
            "x␣externo␣=␣ 5\n",
            "x␣interno␣=␣ 3\n",
            "i␣interno␣=␣ 2\n",
            "x␣externo␣=␣ 5\n"
          ]
        }
      ],
      "source": [
        "x=5\n",
        "print( \"x␣externo␣=␣\" , x ) \n",
        "\n",
        "def bloco1():\n",
        "    i = 2\n",
        "    x = 3\n",
        "    print(\"x␣interno␣=␣\" , x ) \n",
        "    print(\"i␣interno␣=␣\" , i )\n",
        "\n",
        "bloco1()\n",
        "print(\"x␣externo␣=␣\" , x )\n"
      ]
    },
    {
      "cell_type": "markdown",
      "metadata": {
        "id": "EmrSMNgODSDj"
      },
      "source": [
        "**Passagem de parâmetros:**\n",
        "- A passagem de parâmetros é a comunicação entre uma função e aquela que a chama. Essa comunicação consiste na **transferência de valores** ou **endereços de variáveis** de uma função para outra.\n",
        "- Quando a função chamada recebe **cópias dos valores** das variáveis imutáveis da função que a chama, a passagem de parâmetros é **por valor**.\n",
        "- Quando a função chamada recebe **cópias dos endereços** das variáveis mutáveis da função que a chama, a passagem de parâmetros é **por referência**.\n",
        "    - Nesse caso, a função chamada tem a capacidade de alterar as variáveis passadas pela função que a chama.\n"
      ]
    },
    {
      "cell_type": "code",
      "execution_count": 17,
      "metadata": {
        "id": "V9z8zn8pDSDk"
      },
      "outputs": [],
      "source": [
        "'''\n",
        " * Exemplo de passagem de parâmetros por valor para função calculamedia\n",
        " * Passagem por valor: var1 é copiada em valor1 e var2 é copiada em valor2.\n",
        "'''\n",
        "def f1():\n",
        "    var1=3.0; var2=4.0\n",
        "    media = calculamedia(var1, var2)\n",
        "    if (var1 > media):\n",
        "        print(\"var1 > media\\n\")\n",
        "    elif (var2 > media):\n",
        "        print(\"var2 > media\\n\")"
      ]
    },
    {
      "cell_type": "code",
      "execution_count": 18,
      "metadata": {
        "colab": {
          "base_uri": "https://localhost:8080/"
        },
        "id": "RDs6U2LaDSDl",
        "outputId": "d57fba9f-1d98-42d8-b4fe-b8e2177eaec1"
      },
      "outputs": [
        {
          "output_type": "stream",
          "name": "stdout",
          "text": [
            "var2 > media\n",
            "\n"
          ]
        }
      ],
      "source": [
        "f1() # Executa função!"
      ]
    },
    {
      "cell_type": "code",
      "execution_count": 41,
      "metadata": {
        "id": "ScrAzCERDSDm"
      },
      "outputs": [],
      "source": [
        "valor1=3.0; valor2=4.0\n",
        "\n",
        "# Esta função recebe duas variáveis e soma a média deles \n",
        "def somamedia(v1, v2):\n",
        "    # media é uma variável local\n",
        "    media = (v1 + v2)/2.0\n",
        "    global valor1\n",
        "    global valor2\n",
        "    valor1 += media\n",
        "    valor2 += media"
      ]
    },
    {
      "cell_type": "code",
      "execution_count": 42,
      "metadata": {
        "id": "4YY1h3uzDSDn"
      },
      "outputs": [],
      "source": [
        "'''\n",
        " * Exemplo de passagem de parâmetros por referência para função somamedia\n",
        " * Passagem por referência: var1 e valor1 têm o mesmo endereço, mas f2 enxerga var1 e somamedia enxerga valor1. \n",
        " * Da mesma forma, f2 enxerga var2 e somamedia enxerga valor2.\n",
        "'''\n",
        "def f2():\n",
        "    somamedia(valor1, valor2)\n",
        "    print( valor1 , \" \" , valor2)"
      ]
    },
    {
      "cell_type": "code",
      "execution_count": 43,
      "metadata": {
        "colab": {
          "base_uri": "https://localhost:8080/"
        },
        "id": "nVfHYzrUDSDn",
        "outputId": "1418df04-651b-4741-87df-eeaafb22faa5"
      },
      "outputs": [
        {
          "output_type": "stream",
          "name": "stdout",
          "text": [
            "6.5   7.5\n"
          ]
        }
      ],
      "source": [
        "f2() # Executa função!"
      ]
    },
    {
      "cell_type": "markdown",
      "metadata": {
        "id": "xmJEL0WLDSDo"
      },
      "source": [
        "Exemplo: Crie e chame uma função que calcule a média de gols de um time no brasileirão ($media = \\frac{numerodegols}{ numerodepartidas}$). As variáveis $numerodegols$ e $numerodepartidas$ devem ser passadas por valor. "
      ]
    },
    {
      "cell_type": "code",
      "execution_count": 44,
      "metadata": {
        "id": "kjfZTx4hDSDo"
      },
      "outputs": [],
      "source": [
        "def calculasaldo(numerodegols, numerodepartidas): \n",
        "    if (numerodepartidas>0):\n",
        "        media = numerodegols/numerodepartidas\n",
        "    else:\n",
        "        media = 0.0\n",
        "    return media"
      ]
    },
    {
      "cell_type": "code",
      "execution_count": 45,
      "metadata": {
        "colab": {
          "base_uri": "https://localhost:8080/"
        },
        "id": "Lr-l2si4DSDp",
        "outputId": "5cd09ba6-fff5-441f-d3bb-85d304c1680d"
      },
      "outputs": [
        {
          "output_type": "stream",
          "name": "stdout",
          "text": [
            "1.375\n"
          ]
        }
      ],
      "source": [
        "# Chame a função calculasaldo aqui e imprima o saldo de gols do seu time no Brasileirão!\n",
        "media_de_gols_por_partida = calculasaldo(11, 8)\n",
        "print(media_de_gols_por_partida)"
      ]
    },
    {
      "cell_type": "markdown",
      "metadata": {
        "id": "FF2l-xRVDSDp"
      },
      "source": [
        "## Recursão\n",
        "\n",
        "Normalmente, organizamos um programa de maneira hierárquica, onde algumas funções chamam outras. Já uma função recursiva, é uma função que direta ou indiretamente chama a si mesma. \n",
        "\n",
        "    Recursão é a chamada de uma função a si mesma.\n",
        "\n",
        "lista := lista_vazia => (base da recursão)\n",
        "<br>lista := elemento + lista => (relação recursiva)\n",
        "\n",
        "\n",
        "Uma função é recursiva se há uma chamada a ela mesma em seu corpo. \n",
        "\n",
        "Exemplo: Calcule o fatorial de um número: $N! := N \\times (N-1) \\times (N-2) ... 2 \\times 1$\n",
        "\n",
        "fatorial(0) := 1 => (base da recursão)\n",
        "<br>fatorial(N) := N * fatorial(N-1) => (relação recursiva)"
      ]
    },
    {
      "cell_type": "code",
      "execution_count": 46,
      "metadata": {
        "id": "FBeShwErDSDq"
      },
      "outputs": [],
      "source": [
        "def fatorial(n):\n",
        "    if (n == 0):\n",
        "        return 1\n",
        "    else:\n",
        "        return n * fatorial(n-1)"
      ]
    },
    {
      "cell_type": "code",
      "execution_count": 47,
      "metadata": {
        "colab": {
          "base_uri": "https://localhost:8080/"
        },
        "id": "CaEeQSd6DSDr",
        "outputId": "12791fd2-c3e4-40df-a2f3-75530cb19afe"
      },
      "outputs": [
        {
          "output_type": "execute_result",
          "data": {
            "text/plain": [
              "3628800"
            ]
          },
          "metadata": {},
          "execution_count": 47
        }
      ],
      "source": [
        "fatorial(10)"
      ]
    },
    {
      "cell_type": "markdown",
      "metadata": {
        "id": "0agZpqtCDSDs"
      },
      "source": [
        "Recursão é uma solução elegante, porém, menos eficiente que a solução iterativa. Execute as funções fatorial e fatorial2 com valores de **N** cada vez maiores e observe quanto tempo cada função demora para calcular o resultado.\n",
        "\n",
        "Em algumas implementações, é mais vantajoso aplicar soluções recursivas pela clareza da implementação."
      ]
    },
    {
      "cell_type": "code",
      "execution_count": 48,
      "metadata": {
        "id": "zx2ME1QmDSDt"
      },
      "outputs": [],
      "source": [
        "def fatorial2(n):\n",
        "    f=1\n",
        "    for i in range(2, n+1):\n",
        "        f = f * i\n",
        "    return f"
      ]
    },
    {
      "cell_type": "code",
      "execution_count": 49,
      "metadata": {
        "colab": {
          "base_uri": "https://localhost:8080/"
        },
        "id": "g3lG5eUaDSDt",
        "outputId": "8e01f7e2-38de-4d33-ac3d-07f159e31552"
      },
      "outputs": [
        {
          "output_type": "execute_result",
          "data": {
            "text/plain": [
              "3628800"
            ]
          },
          "metadata": {},
          "execution_count": 49
        }
      ],
      "source": [
        "fatorial2(10)"
      ]
    },
    {
      "cell_type": "markdown",
      "metadata": {
        "id": "2eAWwdAQDSDu"
      },
      "source": [
        "Exemplo: Faça uma função recursiva que calcule o MDC entre dois números inteiros passados como parâmetro:\n",
        "- Se dois números forem múltiplos de um terceiro, então a sua diferença também é: MDC(15,30)=15 é (30-15)=15\n",
        "- Permite substituir o maior deles pela diferença dos dois, até que os dois números sejam iguais.\n",
        "- Qual é o MDC de dois números iguais?"
      ]
    },
    {
      "cell_type": "code",
      "execution_count": 50,
      "metadata": {
        "id": "tBVvgsWUDSDv"
      },
      "outputs": [],
      "source": [
        "def mdc(a, b):\n",
        "    if (a == b):\n",
        "        return a\n",
        "    \n",
        "    if (a > b):\n",
        "        return mdc(a-b, b)\n",
        "    else:\n",
        "        return mdc(a, b-a)"
      ]
    },
    {
      "cell_type": "code",
      "execution_count": 51,
      "metadata": {
        "colab": {
          "base_uri": "https://localhost:8080/"
        },
        "id": "CuTxCLHEDSDv",
        "outputId": "0f90637b-a4fb-445a-97f2-31e4a42e8b57"
      },
      "outputs": [
        {
          "output_type": "execute_result",
          "data": {
            "text/plain": [
              "1"
            ]
          },
          "metadata": {},
          "execution_count": 51
        }
      ],
      "source": [
        "mdc(17, 20)"
      ]
    },
    {
      "cell_type": "markdown",
      "metadata": {
        "id": "A8ji04k_DSDw"
      },
      "source": [
        "## Boas práticas de programação\n",
        "\n",
        "- Organize todo o código em funções. Deixe na função principal apenas as chamadas às funções.\n",
        "- Para cada tarefa defina uma função. Não sobrecarregue uma função com duas ou mais tarefas.\n",
        "- Cultive o hábito de comentar o código, em especial o cabeçalho das funções para que possam ser facilmente reutilizadas.\n",
        "- Soluções recursivas são elegantes, mas deixam um programa mais lento quando há muitas chamadas de funções."
      ]
    },
    {
      "cell_type": "markdown",
      "metadata": {
        "id": "5TB3ejRYDSDw"
      },
      "source": [
        "## Exercícios propostos\n",
        "\n",
        "1. Implemente uma função chamada maxmin que retorne o mínimo e o máximo entre três números."
      ]
    },
    {
      "cell_type": "code",
      "execution_count": 54,
      "metadata": {
        "id": "PLi6ariKDSDx"
      },
      "outputs": [],
      "source": [
        "def maxmin( a,  b,  c):\n",
        "    if (a>=b) and (b>=c):\n",
        "        minimo = c; maximo = a\n",
        "    elif (a>=c) and (c>=b):\n",
        "        minimo = b; maximo = a\n",
        "    elif (b>=a) and (a>=c):\n",
        "        minimo = c; maximo = b\n",
        "    elif (b>=c) and (c>=a):\n",
        "        minimo = a; maximo = b\n",
        "    elif (c>=a) and (a>=b):\n",
        "        minimo = b; maximo = c\n",
        "    elif (c>=b) and (b>=a):\n",
        "        minimo = a; maximo = c\n",
        "    return minimo, maximo"
      ]
    },
    {
      "cell_type": "code",
      "execution_count": 55,
      "metadata": {
        "colab": {
          "base_uri": "https://localhost:8080/"
        },
        "id": "qIgq7B-ADSDx",
        "outputId": "441ecb4c-f59f-45e7-9f8a-2f3bf5c4e5c5"
      },
      "outputs": [
        {
          "output_type": "execute_result",
          "data": {
            "text/plain": [
              "(1, 3)"
            ]
          },
          "metadata": {},
          "execution_count": 55
        }
      ],
      "source": [
        "maxmin(3, 2, 1)"
      ]
    },
    {
      "cell_type": "markdown",
      "metadata": {
        "id": "JaH4QT3hDSDy"
      },
      "source": [
        "2. Implemente uma função recursiva para imprimir os $N$ degraus de uma escada. Imprima os degraus antes e depois da chamada recursiva e observe a diferença."
      ]
    },
    {
      "cell_type": "code",
      "execution_count": null,
      "metadata": {
        "id": "_dLXU7GKDSDz"
      },
      "outputs": [],
      "source": [
        ""
      ]
    },
    {
      "cell_type": "markdown",
      "metadata": {
        "id": "hcU7bPANDSDz"
      },
      "source": [
        "3. Implemente a versão iterativa da função fatorial2 com i sendo inicializado com n."
      ]
    },
    {
      "cell_type": "code",
      "execution_count": 56,
      "metadata": {
        "id": "QUkXXe8SDSDz"
      },
      "outputs": [],
      "source": [
        "def fatorial2(N):\n",
        "    resposta=1\n",
        "    for i in range(N,0,-1):\n",
        "        resposta *= i\n",
        "    return resposta"
      ]
    },
    {
      "cell_type": "code",
      "execution_count": 57,
      "metadata": {
        "colab": {
          "base_uri": "https://localhost:8080/"
        },
        "id": "VnrDJDemDSD0",
        "outputId": "4c157e3d-f6d5-4ef5-a1a5-0bf064926592"
      },
      "outputs": [
        {
          "output_type": "execute_result",
          "data": {
            "text/plain": [
              "1"
            ]
          },
          "metadata": {},
          "execution_count": 57
        }
      ],
      "source": [
        "fatorial2(1)"
      ]
    },
    {
      "cell_type": "markdown",
      "metadata": {
        "id": "e6Ifvc-qDSD1"
      },
      "source": [
        "4. Implemente uma função iterativa para calcular o cubo de um número real passado como parâmetro (por valor)."
      ]
    },
    {
      "cell_type": "code",
      "execution_count": null,
      "metadata": {
        "id": "SxUpSkFtDSD1"
      },
      "outputs": [],
      "source": [
        ""
      ]
    },
    {
      "cell_type": "markdown",
      "metadata": {
        "id": "T12f5WGTDSD1"
      },
      "source": [
        "5. Implemente uma função iterativa para calcular a potência inteira n de um numero real x."
      ]
    },
    {
      "cell_type": "code",
      "execution_count": 58,
      "metadata": {
        "id": "hp1HfabbDSD1"
      },
      "outputs": [],
      "source": [
        "def potencia( base, expoente):\n",
        "    resultado = 1.0\n",
        "    for i in range(1, expoente+1):\n",
        "        resultado *= base\n",
        "    return resultado"
      ]
    },
    {
      "cell_type": "code",
      "execution_count": 59,
      "metadata": {
        "colab": {
          "base_uri": "https://localhost:8080/"
        },
        "id": "L7_M0UkkDSD2",
        "outputId": "8ae1c14b-1ba0-49be-8e69-327d5c76318e"
      },
      "outputs": [
        {
          "output_type": "execute_result",
          "data": {
            "text/plain": [
              "13206.238658560003"
            ]
          },
          "metadata": {},
          "execution_count": 59
        }
      ],
      "source": [
        "potencia(10.72, 4)"
      ]
    },
    {
      "cell_type": "markdown",
      "metadata": {
        "id": "Vrz2CTf6DSD2"
      },
      "source": [
        "6. Refaça esta funcao em uma função potencia2 de modo que ela seja recursiva, ou seja, a função fará uso de si mesma. Ex: $x^0 = 1, x^1 = x\\times x^0, x^2 = x\\times x^1, x^3 = x^2\\times x, ..., x^n = x^{(n−1)} \\times x$"
      ]
    },
    {
      "cell_type": "code",
      "execution_count": 60,
      "metadata": {
        "id": "FL_9E6oqDSD3"
      },
      "outputs": [],
      "source": [
        "def potencia2(base, expoente):\n",
        "    if expoente == 0:\n",
        "        return 1.0\n",
        "    else:\n",
        "        return base * potencia(base, expoente-1)"
      ]
    },
    {
      "cell_type": "code",
      "execution_count": 61,
      "metadata": {
        "colab": {
          "base_uri": "https://localhost:8080/"
        },
        "id": "_4mghWwEDSD3",
        "outputId": "861fdff7-5600-4b49-bc50-bb6acba6604a"
      },
      "outputs": [
        {
          "output_type": "execute_result",
          "data": {
            "text/plain": [
              "8.0"
            ]
          },
          "metadata": {},
          "execution_count": 61
        }
      ],
      "source": [
        "potencia2(2.0, 3)"
      ]
    },
    {
      "cell_type": "code",
      "execution_count": null,
      "metadata": {
        "id": "wr5-HyKNDSD3"
      },
      "outputs": [],
      "source": [
        ""
      ]
    }
  ],
  "metadata": {
    "kernelspec": {
      "display_name": "Python 3",
      "name": "python3"
    },
    "language_info": {
      "name": "python"
    },
    "colab": {
      "name": "aula-09.ipynb",
      "provenance": [],
      "collapsed_sections": [],
      "include_colab_link": true
    }
  },
  "nbformat": 4,
  "nbformat_minor": 0
}