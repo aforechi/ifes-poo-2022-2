{
  "cells": [
    {
      "cell_type": "markdown",
      "metadata": {
        "id": "view-in-github",
        "colab_type": "text"
      },
      "source": [
        "<a href=\"https://colab.research.google.com/github/aforechi/ifes-poo-2022-2/blob/main/aula-14.ipynb\" target=\"_parent\"><img src=\"https://colab.research.google.com/assets/colab-badge.svg\" alt=\"Open In Colab\"/></a>"
      ]
    },
    {
      "cell_type": "markdown",
      "metadata": {
        "id": "l0l2mCCLpVn2"
      },
      "source": [
        "# Aula 14 - Classes, objetos e cadeias de caracteres\n",
        "\n",
        "<div class=\"alert alert-block alert-success\">\n",
        "    <b>Adaptação do capítulo 3 do livro: </b> \n",
        "    <p>DEITEL, Harvey M.; DEITEL, Paul J. C++: como programar. 5.ed. São Paulo: Prentice Hall, 2006.\n",
        "</div>\n",
        "\n",
        "## Objetivos\n",
        "- Nesta aula, você vai aprender:\n",
        "    - Como definir uma classe e usá-lo para criar um objeto.\n",
        "    - Como implementar comportamentos de uma classe com funções membro.\n",
        "    - Como implementar atributos de uma classe com variáveis membro.\n",
        "    - Como chamar uma função membro de um objeto para executar uma tarefa.\n",
        "    - As diferenças entre variáveis membro de uma classe e variáveis locais de uma função.\n",
        "    - Como usar um construtor para inicializar dados de um objeto quando o objeto é criado.\n",
        "    - Como projetar uma classe para separar sua interface de sua implementação e incentivar a reutilização.\n",
        "    "
      ]
    },
    {
      "cell_type": "markdown",
      "metadata": {
        "id": "jFGsjLTMpVn7"
      },
      "source": [
        "## 1  Introdução\n",
        "\n",
        "- Nesta aula, você começará a escrever programas que utilizam os conceitos básicos da programação orientada a objeto que apresentamos na última aula.\n",
        "\n",
        "- Normalmente, os programas que você desenvolve consiste de uma função main e uma ou mais classes, cada uma contendo membros de dados e funções membro.\n",
        "\n",
        "- Nesta aula, desenvolvemos uma estrutura simples, bem pensada para organizar programas orientados a objeto em Python. \n"
      ]
    },
    {
      "cell_type": "markdown",
      "metadata": {
        "id": "4stowmXvpVn8"
      },
      "source": [
        "## 2  Definir uma classe com uma função membro\n",
        "\n",
        "- Começamos com um exemplo, célula abaixo, que consiste na classe GradeBook, que, quando estiver totalmente desenvolvida, representará um livro de notas o qual um instrutor pode usar para manter os resultados dos testes dos alunos, e uma função main que cria um objeto GradeBook.\n",
        "\n",
        "- A função main usa esse objeto e sua função membro para exibir uma mensagem de boas-vindas para o instrutor na tela do programa de livro de notas.\n",
        "\n"
      ]
    },
    {
      "cell_type": "code",
      "source": [
        "#Define class GradeBook with a member function displayMessage,\n",
        "#create a GradeBook object, and call its displayMessage function.\n",
        "#GradeBook class definition\n",
        "class GradeBook:\n",
        "  #function that displays a welcome message to the GradeBook user\n",
        "  def displayMessage():\n",
        "    print(\"Welcome to the Grade Book!\")\n",
        "  #end function displayMessage\n",
        "#end class GradeBook"
      ],
      "metadata": {
        "id": "vMPJiea7vnqk"
      },
      "execution_count": null,
      "outputs": []
    },
    {
      "cell_type": "code",
      "source": [
        "def main():\n",
        "  myGradeBook = GradeBook #create a GradeBook object named myGradeBook\n",
        "  myGradeBook.displayMessage() #call object's displayMessage function\n",
        "\n",
        "if __name__== \"__main__\" :\n",
        "  main()"
      ],
      "metadata": {
        "colab": {
          "base_uri": "https://localhost:8080/"
        },
        "id": "sQGX7EL7xB5L",
        "outputId": "3ffe5023-52ec-49d8-86c0-6e8258ce38de"
      },
      "execution_count": null,
      "outputs": [
        {
          "output_type": "stream",
          "name": "stdout",
          "text": [
            "Welcome to the Grade Book!\n"
          ]
        }
      ]
    },
    {
      "cell_type": "markdown",
      "metadata": {
        "id": "JlFLK-NDpVn9"
      },
      "source": [
        "## 2  Definir uma classe com uma função membro (cont.)\n",
        "\n",
        "- A definição da classe GradeBook começa com a palavra-chave class e contém uma função membro chamada displayMessage() que exibe uma mensagem na tela.\n",
        "\n",
        "- Precisamos criar um objeto da classe GradeBook e chamar sua função membro displayMessage() para executar e exibir a mensagem de boas-vindas.\n",
        "\n",
        "- A definição de classe começa com a palavra-chave class seguido pelo nome da classe GradeBook.\n",
        "\n",
        "- Por convenção, o nome de uma classe definida pelo usuário começa com uma letra maiuscula e para facilitar a leitura, cada palavra subsequente no nome da classe começa com uma letra maiuscula.\n",
        "    - Este estilo de capitalização é conhecido como camel case. "
      ]
    },
    {
      "cell_type": "markdown",
      "metadata": {
        "id": "a9t9BE4MpVn-"
      },
      "source": [
        "## 2  Definir uma classe com uma função membro (cont.)\n",
        "\n",
        "- Todo corpo de classes é feito através do recurso de identação na classe;\n",
        "\n",
        "- A definição da classe termina quando não tiver mais identação.\n"
      ]
    },
    {
      "cell_type": "markdown",
      "metadata": {
        "id": "063IXETqpVn_"
      },
      "source": [
        "## Erro comum de programação\n",
        "Esquecer as identações no corpo e na definição de classe é um erro comum de sintaxe.\n"
      ]
    },
    {
      "cell_type": "markdown",
      "metadata": {
        "id": "0OR7DnTppVoA"
      },
      "source": [
        "## 2  Definir uma classe com uma função membro (cont.)\n",
        "\n",
        "- A função main é sempre chamada automaticamente quando você executa um programa.\n",
        "- A maioria das funções não são chamadas automaticamente.\n",
        "- Você deve chamar a função membro displayMessage() explicitamente para informá-lo para executar sua tarefa."
      ]
    },
    {
      "cell_type": "markdown",
      "metadata": {
        "id": "U3RD6U6PpVoB"
      },
      "source": [
        "## 2  Definir uma classe com uma função membro (cont.)\n",
        "- Cada função em um programa executa uma tarefa e pode retornar um valor quando ele conclui sua tarefa.\n",
        "- Quando você define uma função, você deve especificar um tipo de retorno para indicar o tipo do valor retornado pela função quando concluir sua tarefa.\n",
        "- A presença da palavra-chave 'return' no final das funções indica o valor que será retornado para o chamador.\n",
        "    - Nesse caso, a função displayMessage() não retorna dados para a função chamadora quando conclui sua tarefa.\n",
        "- O nome da função membro displayMessage, vem após o comando 'def'.\n",
        "- Por convenção, nomes de função começam com a primeira letra minúscula e todas as palavras subsequentes do nome começam com uma letra maiuscula.\n",
        "- Os parênteses após o nome da função membro indicam que se trata de uma função."
      ]
    },
    {
      "cell_type": "markdown",
      "metadata": {
        "id": "QQbdtZGHpVoB"
      },
      "source": [
        "## 2  Definir uma classe com uma função membro (cont.)\n",
        "- Parênteses vazios indicam que uma função membro não requer dados adicionais para executar sua tarefa.\n",
        "- A primeira linha de uma definição de função normalmente é chamada de cabeçalho de função.\n",
        "- Corpo da cada função é delimitado por identações.\n",
        "- O corpo de uma função contém instruções que executam tarefas da função."
      ]
    },
    {
      "cell_type": "markdown",
      "metadata": {
        "id": "Du8to5zWpVoC"
      },
      "source": [
        "## 2  Definir uma classe com uma função membro (cont.)\n",
        "- Normalmente, você não pode chamar uma função membro de uma classe até que você crie um objeto dessa classe.\n",
        "- Primeiro, crie um objeto de classe GradeBook chamado myGradeBook.\n",
        "    - GradeBook é o tipo da variável.\n",
        "    - O compilador não sabe automaticamente qual tipo é GradeBook — é um tipo definido pelo usuário.\n",
        "    - Informar ao compilador o que é GradeBook, incluindo a definição de classe.\n",
        "    - Cada classe que é criada torna-se um novo tipo que pode ser usado para criar objetos.\n",
        "- Chamar a função membro displayMessage() usando a variável myGradeBook seguido do operador ponto (.), o nome da função displayMessage e um par vazio de parênteses.\n",
        "    - Faz com que a função displayMessage seja executada."
      ]
    },
    {
      "cell_type": "markdown",
      "metadata": {
        "id": "tiBzfnMgpVoC"
      },
      "source": [
        "## 2  Definir uma classe com uma função de membro (cont.)\n",
        "- Em UML, cada classe é modelado em um Diagrama de classe UML como um retângulo com três compartimentos.\n",
        "- Figura 3.2 apresenta um diagrama de classe para a classe GradeBook (Fig. 3.1).\n",
        "- O compartimento superior contém o nome da classe centralizado horizontalmente e em negrito.\n",
        "- O compartimento central contém atributos da classe.\n",
        "    - Atualmente vazio, pois a classe GradeBook não tem nenhum atributo.\n",
        "- O compartimento inferior contém operações da classe.\n",
        "- O UML modela operações listando o nome da operação seguido por um par de parênteses.\n",
        "- O sinal de mais(+) na frente da operação nome indica que displayMessage() é uma operação pública no UML."
      ]
    },
    {
      "cell_type": "markdown",
      "metadata": {
        "id": "vWvNg7b5pVoD"
      },
      "source": [
        "<img src=\"https://github.com/aforechi/ifes-cpp-2018-2/blob/master/img/Picture70.png?raw=1\" width=\"100%\" height=\"100%\">"
      ]
    },
    {
      "cell_type": "markdown",
      "metadata": {
        "id": "3eMWk2_qpVoD"
      },
      "source": [
        "## 3  Definindo uma função membro com um parâmetro\n",
        "- Uma analogia com o carro \n",
        "    - Pressionar o acelerador do carro envia uma mensagem para o carro para realizar uma tarefa — para que o carro ande mais rápido.\n",
        "    - Mas o quão rápido o carro deve acelerar? Como você sabe, quanto mais pressionar o pedal de aceleração mais rápido o carro anda. Se tiver engrenado!\n",
        "    - A mensagem para o carro inclui tanto a tarefa a ser executada quanto informações adicionais que ajudam o carro a realizar a tarefa.\n",
        "- Informações adicionais de uma função necessárias para realizar sua tarefa são conhecidas como parâmetro.\n",
        "- Uma chamada de função fornece valores — chamado argumentos— para cada um dos parâmetros da função.\n",
        "\n"
      ]
    },
    {
      "cell_type": "markdown",
      "metadata": {
        "id": "r2xwOgmXpVoD"
      },
      "source": [
        "## 3  Definindo uma função membro com um parâmetro (cont.)\n",
        "- O código a baixo redefine a classe GradeBook com uma função membro displayMessage() que exibe o nome do curso como parte da mensagem de boas-vindas.\n",
        "    - A nova versão do displayMessage requer um parâmetro (courseName), que representa o nome do curso para impressão.\n",
        "- Uma variável do tipo string (str) representa uma sequência de caracteres."
      ]
    },
    {
      "cell_type": "code",
      "source": [
        "#Define class GradeBook with a member function displayMessage,\n",
        "#create a GradeBook object, and call its displayMessage function.\n",
        "#GradeBook class definition\n",
        "class GradeBook:\n",
        "  #function that displays a welcome message to the GradeBook user\n",
        "  def displayMessage(courseName):\n",
        "    print(f'Welcome to the Grade Book for {courseName}!')\n",
        "  #end function displayMessage\n",
        "#end class GradeBook"
      ],
      "metadata": {
        "id": "nAxH8OOh8biZ"
      },
      "execution_count": null,
      "outputs": []
    },
    {
      "cell_type": "code",
      "source": [
        "def main():\n",
        "  nameOfCourse = input(\"Please enter the course name:\")\n",
        "\n",
        "  myGradeBook = GradeBook #create a GradeBook object named myGradeBook\n",
        "  myGradeBook.displayMessage(nameOfCourse) #call object's displayMessage function\n",
        "\n",
        "if __name__== \"__main__\" :\n",
        "  main()"
      ],
      "metadata": {
        "colab": {
          "base_uri": "https://localhost:8080/"
        },
        "id": "3Js78l6b873R",
        "outputId": "011232b8-8109-4e20-9027-2eda81a62650"
      },
      "execution_count": null,
      "outputs": [
        {
          "output_type": "stream",
          "name": "stdout",
          "text": [
            "Please enter the course name:Python\n",
            "Welcome to the Grade Book for Python!\n"
          ]
        }
      ]
    },
    {
      "cell_type": "markdown",
      "metadata": {
        "id": "kLwHVUTKpVoE"
      },
      "source": [
        "## 3  Definindo uma função membro com um parâmetro (cont.)\n",
        "- A função 'input' recebe uma informação e adiciona na variável, por padrão no formato string.\n",
        "- A chamada da função 'input' lê caracteres (incluindo os caracteres de espaço que separam as palavras na entrada) do objeto de fluxo de entrada padrão (ou seja, o teclado) até que o caractere de nova linha (enter) seja encontrado, coloca os caracteres da variável nameOfCourse e descarta o caractere de nova linha.\n",
        "- Quando você pressiona enter ao digitar a entrada do programa, uma nova linha é inserida no fluxo de entrada."
      ]
    },
    {
      "cell_type": "markdown",
      "metadata": {
        "id": "LWslTl-bpVoF"
      },
      "source": [
        "## 3  Definindo uma função membro com um parâmetro (cont.)\n",
        "- A chamada da função membro displayMessage de myGradeBook.\n",
        "    - A variável nameOfCourse entre parênteses é o argumento que é passado para a função membro displayMessage para que ela possa executar sua tarefa.\n",
        "    - O valor da variável nameOfCourse na função main torna-se o valor do parâmetro courseName da função membro displayMessage."
      ]
    },
    {
      "cell_type": "markdown",
      "metadata": {
        "id": "hiEXyefZpVoF"
      },
      "source": [
        "## 3  Definindo uma função membro com um parâmetro (cont.)\n",
        "- Para especificar que uma função requer dados para executar sua tarefa, insira informações adicionais na lista de parâmetros da função, que está localizado entre parênteses após o nome da função.\n",
        "- A lista de parâmetros pode conter qualquer número de parâmetros, inclusive nenhum para indicar que uma função não requer nenhum parâmetro.\n",
        "- Cada parâmetro deve especificar um identificador.\n",
        "- Uma função pode especificar vários parâmetros, separando cada parâmetro do próximo com uma vírgula.\n",
        "- O número e a ordem dos argumentos em um chamada de função devem coincidir com o número e a ordem dos parâmetros na lista de parâmetros do cabeçalho da função de membro chamado.\n",
        "- Os tipos de argumentos na chamada da função devem ser consistentes com os tipos dos parâmetros correspondentes no cabeçalho da função."
      ]
    },
    {
      "cell_type": "markdown",
      "metadata": {
        "id": "8atLQk_wpVoF"
      },
      "source": [
        "## 3  Definindo uma função membro com um parâmetro (cont.)\n",
        "- O diagrama de classe UML da Fig. 3.4 modela a classe GradeBook da Fig. 3.3.\n",
        "- Os modelos UML um parâmetro, listando o nome do parâmetro, seguido por dois pontos e o parâmetro de tipo nos parênteses após o nome da operação.\n",
        "- O UML tem seus próprios tipos de dados semelhantes do C++.\n",
        "- A UML é independente de linguagem, ele é usado com diferentes linguagens de programação."
      ]
    },
    {
      "cell_type": "markdown",
      "metadata": {
        "id": "0yzi-WPCpVoG"
      },
      "source": [
        "<img src=\"https://github.com/aforechi/ifes-cpp-2018-2/blob/master/img/Picture74.png?raw=1\" width=\"100%\" height=\"100%\">"
      ]
    },
    {
      "cell_type": "markdown",
      "metadata": {
        "id": "OiQ6vtXGpVoG"
      },
      "source": [
        "## 4  Membros de dados, funções set e funções get\n",
        "- Variáveis declaradas no corpo da definição da função são conhecidas como variáveis locais e podem ser usadas somente a partir da linha de sua declaração na função até recuar a identação do bloco no qual são declaradas.\n",
        "    - Uma variável local deve ser declarada antes que possa ser usada em uma função.\n",
        "    - Uma variável local não pode ser acessada fora da função na qual ela é declarada.\n",
        "    - Quando uma função termina, os valores das suas variáveis locais são descartados."
      ]
    },
    {
      "cell_type": "markdown",
      "metadata": {
        "id": "sgkFgDF1pVoG"
      },
      "source": [
        "## 4  Membros de dados, funções set e funções get (cont.)\n",
        "- Um objeto tem atributos que são carregados com ele quando ele é usado em um programa.\n",
        "    - Esses atributos existem durante toda a vida do objeto.\n",
        "    - Uma classe normalmente consiste em uma ou mais funções membro que manipulam os atributos que pertencem a um determinado objeto da classe.\n",
        "- Os atributos são representados como variáveis em uma definição de classe.\n",
        "    - Essas variáveis são chamadas membros de dados e são declarados dentro de uma definição de classe, mas fora do corpo de definição das funções membro da classe.\n",
        "- Cada objeto de uma classe mantém sua própria cópia de seus atributos na memória."
      ]
    },
    {
      "cell_type": "markdown",
      "metadata": {
        "id": "LnWOXjT1pVoH"
      },
      "source": [
        "## 4  Membros de dados, funções set e funções get (cont.)\n",
        "- Um instrutor típico ministra vários cursos, cada um com seu próprio nome do curso.\n",
        "- Uma variável que é declarada na definição da classe, mas fora os corpos das definições de função membro da classe é um membro de dados.\n",
        "- Cada instância (isto é, o objeto) de uma classe contém uma cópia de cada um dos membros de dados da classe.\n",
        "- Um benefício de tornar uma variável um membro de dados é que todas as funções membro da classe podem manipular os membros de dados que aparecem na definição de classe."
      ]
    },
    {
      "cell_type": "markdown",
      "metadata": {
        "id": "0HPGkmtbpVoH"
      },
      "source": [
        "## 4  Membros de dados, funções set e funções get (cont.)\n",
        "- A maioria das declarações de membro de dados aparecem depois do rótulo especificador de acesso private:\n",
        "- Como public, a palavra-chave private é um especificador de acesso.\n",
        "- Variáveis ou funções declaradas após o especificador de acesso private (e, antes do próximo especificador de acesso) são acessíveis somente a funções membro da classe para a qual são declaradas.\n",
        "- O especificador de acesso padrão para membros de classe é o private. Portanto, todos os membros após o cabeçalho de classe e antes do primeiro especificador de acesso são private.\n",
        "- Os especificadores de acesso public e private podem ser repetidos, mas isso não é necessário e pode se tornar confuso."
      ]
    },
    {
      "cell_type": "markdown",
      "metadata": {
        "id": "EAmMM1uIpVoI"
      },
      "source": [
        "## Observação de engenharia de software \n",
        "Como regra geral, os membros de dados devem ser declarados private e as funções-membro devem ser declaradas public. (Veremos que é apropriado declarar certas funções-membro private se elas precisarem ser acessadas somente por outras funções-membro da classe.)\n"
      ]
    },
    {
      "cell_type": "markdown",
      "metadata": {
        "id": "Tzp_TkFZpVoI"
      },
      "source": [
        "## Erro comum de programação \n",
        "Uma tentativa de uma função que não seja um membro de uma classe particular (ou um friend dessa classe, como veremos no Capítulo 10) de acessar um membro private dessa classe é um erro de compilação.\n"
      ]
    },
    {
      "cell_type": "markdown",
      "metadata": {
        "id": "GVe4GYzdpVoI"
      },
      "source": [
        "## Boa prática de programação \n",
        "Apesar de os especificadores de acesso public e private poderem ser repetidos e combinados, relacione todos os membros public de uma classe primeiro em um grupo e, então, relacione todos os membros private em outro grupo. Isso chama a atenção do cliente para a interface public da classe, e não para a implementação da classe.\n"
      ]
    },
    {
      "cell_type": "markdown",
      "metadata": {
        "id": "P-N4ZZHwpVoI"
      },
      "source": [
        "## Boa prática de programação \n",
        "Se escolher relacionar os membros private primeiro em uma definição de classe, utilize o especificador de acesso private explicitamente, apesar de private ser assumido por padrão. Isso torna o programa mais claro."
      ]
    },
    {
      "cell_type": "markdown",
      "metadata": {
        "id": "lXcsKSShpVoI"
      },
      "source": [
        "## Observação de engenharia de software \n",
        "Aprenderemos na próxima aula, “Classes: Um exame mais profundo, parte 2”, que funções e classes declaradas por uma classe como friends podem acessar os membros private da classe.\n"
      ]
    },
    {
      "cell_type": "markdown",
      "metadata": {
        "id": "FidRY5TppVoJ"
      },
      "source": [
        "## Dica de prevenção de erro \n",
        "Tornar os membros de dados de uma classe private e as funções-membro da classe public facilita a depuração porque os problemas com manipulação de dados são localizados para as funções-membro da classe ou para os friends da classe.\n"
      ]
    },
    {
      "cell_type": "markdown",
      "metadata": {
        "id": "_S3pNBCtpVoJ"
      },
      "source": [
        "## Erro comum de programação \n",
        "Esquecer de retornar um valor de uma função que supostamente deve retornar um valor é um erro de compilação.\n",
        "\n"
      ]
    },
    {
      "cell_type": "markdown",
      "metadata": {
        "id": "SPKqjdxlpVoJ"
      },
      "source": [
        "## 4   Membros de dados, funções set e funções get (cont.)\n",
        "- Declarar membros de dados com o especificador de acesso private é conhecido como Ocultação de dados.\n",
        "- Quando um programa cria (instancia) um objeto, seus membros de dados estão encapsulados (ocultos) no objeto e podem ser acessados somente por funções membro da classe do objeto."
      ]
    },
    {
      "cell_type": "markdown",
      "metadata": {
        "id": "nxlzOYYvpVoJ"
      },
      "source": [
        "## 4   Membros de dados, funções set e funções get (cont.)\n",
        "- Neste exemplo, setCourseName não tenta validar o curso name—i.e., a função não verifica que o nome do curso adota qualquer formato determinado ou segue outras regras sobre a aparência de um nome de curso \"válido\".\n",
        "    - Por exemplo, suponha que uma universidade pudesse imprimir as transcrições dos aluno que contém nomes de curso com somente 25 caracteres ou menos.\n",
        "    - Nesse caso, talvez quiséssemos que a classe GradeBook garantisse que o membro de dados courseName nunca ultrapasse mais de 25 caracteres.\n",
        "    - Vamos abordar técnicas de validação básica na seção 3.9.\n",
        "- Quando uma função que especifica um tipo de retorno diferente de void é chamada e conclui sua tarefa, a função usará uma instrução return para retornar um resultado para a função chamadora."
      ]
    },
    {
      "cell_type": "markdown",
      "metadata": {
        "id": "vbYcNN5JpVoK"
      },
      "source": [
        "## 4   Membros de dados, funções set e funções get (cont.)\n",
        "- A função membro displayMessage não retorna nenhum dado ao concluir sua tarefa, portanto, seu tipo de retorno é void.\n",
        "- A função não recebe parâmetros, tanto que sua lista de parâmetros está vazia.\n",
        "- Por padrão, o valor inicial de uma string é uma string vazia, isto é, uma sequência que não contém quaisquer caracteres.\n",
        "- Nada aparece na tela quando uma sequência de caracteres vazia é exibida."
      ]
    },
    {
      "cell_type": "markdown",
      "metadata": {
        "id": "Qa8wqy03pVoK"
      },
      "source": [
        "## 4   Membros de dados, funções set e funções get (cont.)\n",
        "- Um cliente de um objeto— Isto é, qualquer classe ou função que chama funções membro do objeto de fora do objeto— chama funções membro publicas para solicitar serviços da classe para objetos específicos da classe.\n",
        "    - É por isso que as instruções em main chama a função membro\n",
        "    displayMessage em um objeto GradeBook.\n",
        "- Classes geralmente fornecem funções membro públicas para permitir que os clientes da classe a definam (isto é, atribuir valores a) ou obtenham (por exemplo, obter valores de) membros de dados privados.\n",
        "    - Esses nomes de função membro não precisam começar com set ou get, mas essa convenção de nomenclatura é comum."
      ]
    },
    {
      "cell_type": "code",
      "source": [
        "#Define class GradeBook with a member function displayMessage,\n",
        "#create a GradeBook object, and call its displayMessage function.\n",
        "#GradeBook class definition\n",
        "class GradeBook:\n",
        "  def __init__(self,courseName):\n",
        "    self.setCourseName(courseName)\n",
        "\n",
        "  def setCourseName (self,courseName):\n",
        "    self.courseName = courseName;\n",
        "\n",
        "  def getCourseName(self):\n",
        "    return self.courseName\n",
        "\n",
        "  #function that displays a welcome message to the GradeBook user\n",
        "  def displayMessage(self):\n",
        "    print(f'Welcome to the Grade Book for {self.getCourseName()}!')\n",
        "  #end function displayMessage\n",
        "#end class GradeBook"
      ],
      "metadata": {
        "id": "RvndOe-CEiNO"
      },
      "execution_count": null,
      "outputs": []
    },
    {
      "cell_type": "code",
      "source": [
        "def main():\n",
        "  nameOfCourse = input(\"Please enter the course name:\")\n",
        "  myGradeBook = GradeBook(nameOfCourse) #create a GradeBook object named myGradeBook\n",
        "  myGradeBook.displayMessage() #call object's displayMessage function\n",
        "if __name__== \"__main__\" :\n",
        "  main()"
      ],
      "metadata": {
        "colab": {
          "base_uri": "https://localhost:8080/"
        },
        "id": "AjNwR3STFreX",
        "outputId": "1d5e265b-297c-41c9-c45f-341773445bc0"
      },
      "execution_count": null,
      "outputs": [
        {
          "output_type": "stream",
          "name": "stdout",
          "text": [
            "Please enter the course name:Python\n",
            "Welcome to the Grade Book for Python!\n"
          ]
        }
      ]
    },
    {
      "cell_type": "markdown",
      "metadata": {
        "id": "S6ZzrAdapVoK"
      },
      "source": [
        "## Boa prática de programação \n",
        "Tente sempre localizar os efeitos de alterações em membros de dados de uma classe acessando e manipulando os membros de dados por meio de suas funções get e set. Alterações no nome de um membro de dados ou tipo de dados utilizado para armazenar um membro de dados afetam então apenas as funções get e set correspondentes, mas não os chamadores dessas funções.\n"
      ]
    },
    {
      "cell_type": "markdown",
      "metadata": {
        "id": "nbXsrdDIpVoK"
      },
      "source": [
        "## Observação de engenharia de software \n",
        "É importante escrever programas compreensíveis e fáceis de manter. A mudança é a regra, e não a exceção. Os programadores têm de saber de antemão que seu código será modificado.\n"
      ]
    },
    {
      "cell_type": "markdown",
      "metadata": {
        "id": "Oyk9gRP0pVoK"
      },
      "source": [
        "## Observação de engenharia de software \n",
        "\n",
        "O designer de classes não precisa fornecer as funções get e set para cada item de dados private; essas capacidades devem ser fornecidas somente quando apropriado. Quando um serviço for útil ao código-cliente, em geral deve ser fornecido na interface public da classe.\n"
      ]
    },
    {
      "cell_type": "markdown",
      "metadata": {
        "id": "Uq72uQuXpVoK"
      },
      "source": [
        "## 4   Membros de dados, funções set e funções get (cont.)\n",
        "- Figura 3.6 contém um diagrama de classe UML atualizado para a versão da classe GradeBook Fig. 3.5.\n",
        "- O UML representa membros de dados como atributos, listando o nome do atributo, seguido por dois pontos e o tipo de atributo.\n",
        "- O sinal de menos no UML é equivalente ao especificador de acesso private."
      ]
    },
    {
      "cell_type": "markdown",
      "metadata": {
        "id": "_6PPN2espVoL"
      },
      "source": [
        "<img src=\"https://github.com/aforechi/ifes-cpp-2018-2/blob/master/img/Picture78.png?raw=1\" width=\"100%\" height=\"100%\">"
      ]
    },
    {
      "cell_type": "markdown",
      "metadata": {
        "id": "lIS_XCQTpVoL"
      },
      "source": [
        "## 5  Inicializando objetos com construtores\n",
        "- Cada classe pode fornecer um construtor que pode ser usado para inicializar um objeto da classe quando o objeto é criado.\n",
        "- Um construtor é uma função membro especial que deve ser definida com o mesmo nome da classe para que o compilador possa distingui-lo de outras funções membro da classe .\n",
        "- Uma diferença importante entre construtores e outras funções é que os construtores não podem retornar valores, portanto eles não podem especificar um tipo de retorno (nem mesmo void).\n",
        "- Normalmente, os construtores são declarados públicos. "
      ]
    },
    {
      "cell_type": "markdown",
      "metadata": {
        "id": "ZIaDu0u9pVoL"
      },
      "source": [
        "## 5  Inicializando objetos com construtores (cont.)\n",
        "- Python requer uma chamada de construtor para cada objeto que é criado, o que ajuda a garantir que cada objeto é inicializado antes de ser usado em um programa.\n",
        "- A chamada de construtor implicitamente ocorre quando o objeto é criado.\n",
        "- Se uma classe não inclui um construtor explicitamente, o compilador fornece um construtor padrão— Isto é, um construtor sem parâmetros."
      ]
    },
    {
      "cell_type": "code",
      "source": [
        "#Define class GradeBook with a member function displayMessage,\n",
        "#create a GradeBook object, and call its displayMessage function.\n",
        "#GradeBook class definition\n",
        "class GradeBook:\n",
        "  def __init__(self,courseName):\n",
        "    self.setCourseName(courseName)\n",
        "\n",
        "  def setCourseName (self,courseName):\n",
        "    self.courseName = courseName;\n",
        "\n",
        "  def getCourseName(self):\n",
        "    return self.courseName\n",
        "\n",
        "  #function that displays a welcome message to the GradeBook user\n",
        "  def displayMessage(self):\n",
        "    print(f'Welcome to the Grade Book for {self.getCourseName()}!')\n",
        "  #end function displayMessage\n",
        "#end class GradeBook"
      ],
      "metadata": {
        "id": "MJkHo1KnQ_xx"
      },
      "execution_count": null,
      "outputs": []
    },
    {
      "cell_type": "code",
      "source": [
        "def main():\n",
        "\n",
        "  nameOfCourse = input(\"Please enter the course name:\")\n",
        "  myGradeBook = GradeBook(nameOfCourse) #create a GradeBook object named myGradeBook\n",
        "\n",
        "  #Create two GradeBook objects\n",
        "  gradeBook1 = GradeBook('PS101 Introdução Para Python Programação') #create a GradeBook object named gradeBook1\n",
        "  gradeBook2 = GradeBook('PS102 Dados Estruturas em Python') #create a GradeBook object named gradeBook2\n",
        "\n",
        "  myGradeBook.displayMessage() #call object's displayMessage function\n",
        "  print(\"gradeBook1 created for course:\",gradeBook1.courseName)\n",
        "  print(\"gradeBook2 created for course:\",gradeBook2.courseName)\n",
        "\n",
        "if __name__== \"__main__\" :\n",
        "  main()"
      ],
      "metadata": {
        "colab": {
          "base_uri": "https://localhost:8080/"
        },
        "id": "40NwxRyVSFfD",
        "outputId": "d898c23f-af58-4fce-a6a1-927384f03a22"
      },
      "execution_count": null,
      "outputs": [
        {
          "output_type": "stream",
          "name": "stdout",
          "text": [
            "Please enter the course name:Eng.Mec\n",
            "Welcome to the Grade Book for Eng.Mec!\n",
            "gradeBook1 created for course: PS101 Introdução Para Python Programação\n",
            "gradeBook2 created for course: PS102 Dados Estruturas em Python\n"
          ]
        }
      ]
    },
    {
      "cell_type": "markdown",
      "metadata": {
        "id": "M-kautXPpVoL"
      },
      "source": [
        "## 5  Inicializando objetos com construtores (cont.)\n",
        "- Um construtor especifica numa lista de parâmetros os dados que ele necessita para executar sua tarefa.\n",
        "- Quando você cria um novo objeto, coloque esses dados entre parênteses que seguem o nome do objeto.\n",
        "- A função 'setCourseName' recebe o parâmetro 'courseName' do construtor e simplesmente atribui o valor desse parâmetro para o membro de dados courseName.\n",
        "    - Você deve estar se perguntando por que nos preocupamos em fazer a chamada para setCourseName — o construtor certamente poderia realizar a atribuição courseName = nome.\n",
        "    - Na seção 8, podemos modificar setCourseName para executar a validação (garantia de que, nesse caso, o courseName terá 25 caracteres de comprimento ou menos)."
      ]
    },
    {
      "cell_type": "markdown",
      "metadata": {
        "id": "m-yceYnppVoM"
      },
      "source": [
        "## 5  Inicializando objetos com construtores (cont.)\n",
        "- Linha 5 da função main cria e inicializa um objeto GradeBook chamado gradeBook1.\n",
        "    - Quando essa linha é executada, o GradeBook construtor é chamado com o argumento \"PS101 Introdução Para Python Programação\" para inicializar gradeBook1 com o nome do curso.\n",
        "- Linha 6 repetirá esse processo para o objeto de GradeBook chamado gradeBook2, dessa vez passando o argumento \"PS102 Dados Estruturas em Python\" para inicializar gradeBook2 com o nome do curso."
      ]
    },
    {
      "cell_type": "markdown",
      "metadata": {
        "id": "hdQqCtJQpVoM"
      },
      "source": [
        "## 5  Inicializando objetos com construtores (cont.)\n",
        "- Um construtor sem argumentos é chamado um construtor padrão.\n",
        "- Uma classe obtém um construtor padrão em uma destas duas maneiras:\n",
        "    - O compilador cria implicitamente um construtor padrão em uma classe que não defina um construtor. Um construtor assim não inicializa os membros de dados da classe, mas chama o construtor padrão para cada membro de dados que for um objeto de outra classe. Uma variável não inicializada normalmente contém um valor \"lixo\".\n",
        "    - Você pode definir explicitamente um construtor sem argumentos. Um construtor padrão assim irá chamar o construtor padrão para cada membro de dados de um objeto de outra classe e irá executar inicialização adicional especificada por você. "
      ]
    },
    {
      "cell_type": "markdown",
      "metadata": {
        "id": "fzVTjhSDpVoM"
      },
      "source": [
        "## 6  Inicializando objetos com construtores (cont.)\n",
        "- Como faz para funções membro, UML modela construtores no terceiro compartimento de uma classe em um diagrama de classe.\n",
        "- Para distinguir um construtor de funções membro da classe, o UML coloca \"construtor\" entre divisas («e») antes do nome do construtor.\n",
        "- É comum listar o construtor da classe antes de outras operações no terceiro compartimento."
      ]
    },
    {
      "cell_type": "markdown",
      "metadata": {
        "id": "WlfK7yWJpVoM"
      },
      "source": [
        "## Dica de prevenção de erro \n",
        "A menos que nenhuma inicialização de membros de dados da classe seja necessária (quase nunca), forneça um construtor para assegurar que os membros de dados da classe sejam inicializados com valores significativos quando cada novo objeto da classe for criado.\n"
      ]
    },
    {
      "cell_type": "markdown",
      "metadata": {
        "id": "dSVZgeaxpVoM"
      },
      "source": [
        "## Observação de engenharia de software \n",
        "Os membros de dados podem ser inicializados em um construtor da classe ou seus valores podem ser configurados depois que o objeto for criado. Entretanto, é uma boa prática de engenharia de software assegurar que um objeto seja completamente inicializado antes de o código-cliente invocar as funções-membro do objeto. Em geral, você não deve contar com o código-cliente para assegurar que um objeto seja inicializado adequadamente.\n"
      ]
    },
    {
      "cell_type": "markdown",
      "metadata": {
        "id": "JNineQOXpVoN"
      },
      "source": [
        "<img src=\"https://github.com/aforechi/ifes-cpp-2018-2/blob/master/img/Picture82.png?raw=1\" width=\"100%\" height=\"100%\">"
      ]
    },
    {
      "cell_type": "markdown",
      "metadata": {
        "id": "Laom-7igpVoN"
      },
      "source": [
        "## 6  Colocar uma classe em um arquivo separado para reutilização\n",
        "- Um dos benefícios da criação de definições de classe é que, quando fornecido adequadamente, nossas classes podem ser reutilizados por programadores — potencialmente em todo o mundo.\n",
        "- Os programadores que desejam usar nossa classe GradeBook não poderia simplesmente incluir o arquivo da Fig 3.7 em outro programa.\n",
        "    - Como você já aprendeu, função main inicia a execução de cada programa, e cada programa deve ter exatamente uma função main."
      ]
    },
    {
      "cell_type": "markdown",
      "metadata": {
        "id": "fl58H_KgpVoN"
      },
      "source": [
        "## 6  Colocar uma classe em um arquivo separado para reutilização (cont.)\n",
        "- Cada um dos exemplos anteriores neste capítulo consiste em um único arquivo código-fonte, que contém a definição da classe GradeBook e a função main.\n",
        "- Ao criar um programa em Python orientado a objeto, é comum definir código reutilizável (por exemplo, uma classe) em um arquivo separado.\n",
        "- Uso de diretivas do pré-processador FROM 'classe' IMPORT 'nome_arquivo' para incluir arquivos de cabeçalho e tirar proveito dos componentes de software reutilizáveis."
      ]
    },
    {
      "cell_type": "markdown",
      "metadata": {
        "id": "qADhD18EpVoN"
      },
      "source": [
        "## 6  Colocar uma classe em um arquivo separado para reutilização (cont.)\n",
        "- Nosso próximo exemplo separa o código em dois arquivos — a classe GradeBook e a função Main.\n",
        "    - Examine o arquivo de GradeBook.py, observe que ele contém somente a definição de GradeBook, a inclusão dos arquivos de cabeçalho e uma declaração using.\n",
        "    - A função main que usa a classe GradeBook é definida em outro trecho de código abaixo.\n",
        "- Para ajudá-lo a se preparar para programas maiores, que você encontrará posteriormente neste curso e no futuro, frequentemente usamos um arquivo separado de código-fonte que contém a função main para testar a nossas classes (é chamado de código cliente)."
      ]
    },
    {
      "cell_type": "code",
      "source": [
        "%%writefile GradeBook.py\n",
        "\n",
        "#Define class GradeBook with a member function displayMessage,\n",
        "#create a GradeBook object, and call its displayMessage function.\n",
        "#GradeBook class definition\n",
        "class GradeBook:\n",
        "  def __init__(self,courseName):\n",
        "    self.setCourseName(courseName)\n",
        "\n",
        "  def setCourseName (self,courseName):\n",
        "    self.courseName = courseName;\n",
        "\n",
        "  def getCourseName(self):\n",
        "    return self.courseName\n",
        "\n",
        "  #function that displays a welcome message to the GradeBook user\n",
        "  def displayMessage(self):\n",
        "    print(f'Welcome to the Grade Book for {self.getCourseName()}!')\n",
        "  #end function displayMessage\n",
        "#end class GradeBook"
      ],
      "metadata": {
        "colab": {
          "base_uri": "https://localhost:8080/"
        },
        "id": "X4jz49DgcvIS",
        "outputId": "184ba5c4-ae5e-41c8-ee77-ac14c9a20159"
      },
      "execution_count": null,
      "outputs": [
        {
          "output_type": "stream",
          "name": "stdout",
          "text": [
            "Writing GradeBook.py\n"
          ]
        }
      ]
    },
    {
      "cell_type": "code",
      "source": [
        "from GradeBook import GradeBook\n",
        "\n",
        "def main():\n",
        "\n",
        "  nameOfCourse = str(input(\"Please enter the course name:\"))\n",
        "  myGradeBook = GradeBook(nameOfCourse) #create a GradeBook object named myGradeBook\n",
        "\n",
        "  #Create two GradeBook objects\n",
        "  gradeBook1 = GradeBook('Algoritmos e Estruturas de Dados') #create a GradeBook object named gradeBook1\n",
        "  gradeBook2 = GradeBook('Linguagem de Programação') #create a GradeBook object named gradeBook2\n",
        "\n",
        "  myGradeBook.displayMessage() #call object's displayMessage function\n",
        "  print(\"gradeBook1 created for course:\",gradeBook1.courseName)\n",
        "  print(\"gradeBook2 created for course:\",gradeBook2.courseName)\n",
        "\n",
        "if __name__== \"__main__\" :\n",
        "  main()"
      ],
      "metadata": {
        "colab": {
          "base_uri": "https://localhost:8080/"
        },
        "id": "44_GlEr6R71w",
        "outputId": "96d70ccd-e957-4473-8e91-25e384042dd8"
      },
      "execution_count": null,
      "outputs": [
        {
          "output_type": "stream",
          "name": "stdout",
          "text": [
            "Please enter the course name:Python\n",
            "Welcome to the Grade Book for Python!\n",
            "gradeBook1 created for course: Algoritmos e Estruturas de Dados\n",
            "gradeBook2 created for course: Linguagem de Programação\n"
          ]
        }
      ]
    },
    {
      "cell_type": "markdown",
      "metadata": {
        "id": "s5S0xy9ApVoR"
      },
      "source": [
        "## 8  Validando dados com funções set \n",
        "- Os programas a seguir aprimoram a função membro setCourseName da classe GradeBook para fazer validação (também conhecido como verificação de validade). \n",
        "- Como a interface da classe permanece inalterada, clientes dessa classe não precisam ser alterados quando a definição da função membro setCourseName é modificada.\n",
        "- Isso permite que os clientes possam tirar vantagem da classe GradeBook melhorada simplesmente vinculando o código cliente com a versão atualizada de GradeBook."
      ]
    },
    {
      "cell_type": "code",
      "source": [
        "#Define class GradeBook with a member function displayMessage,\n",
        "#create a GradeBook object, and call its displayMessage function.\n",
        "#GradeBook class definition\n",
        "class GradeBook:\n",
        "  def __init__(self,courseName):\n",
        "    self.setCourseName(courseName)\n",
        "\n",
        "  def setCourseName (self,courseName):\n",
        "    self.courseName = courseName;\n",
        "\n",
        "  def getCourseName(self):\n",
        "    return self.courseName\n",
        "\n",
        "  #function that displays a welcome message to the GradeBook user\n",
        "  def displayMessage(self):\n",
        "    print(f'Welcome to the Grade Book for {self.getCourseName()}!')\n",
        "  #end function displayMessage\n",
        "#end class GradeBook"
      ],
      "metadata": {
        "id": "4U5CO1iJY-MX"
      },
      "execution_count": 1,
      "outputs": []
    },
    {
      "cell_type": "code",
      "source": [
        "def main():\n",
        "  nameOfCourse = input(\"Please enter the course name:\")\n",
        "  myGradeBook = GradeBook(nameOfCourse) #create a GradeBook object named myGradeBook\n",
        "\n",
        "  #Create two GradeBook objects\n",
        "  #Initial course name of gradeBook1 is too long\n",
        "  gradeBook1 = GradeBook('PS101 Introdução Para Programação em Python') #create a GradeBook object named gradeBook1\n",
        "  gradeBook2 = GradeBook('PS102 Dados Estruturas em Python') #create a GradeBook object named gradeBook2\n",
        "\n",
        "  #display each GradBook's courseName\n",
        "  myGradeBook.displayMessage() #call object's displayMessage function\n",
        "  print(\"gradeBook1's initial course name is :\",gradeBook1.getCourseName())\n",
        "  print(\"gradeBook2's initial course name is :\",gradeBook2.getCourseName())\n",
        "\n",
        "  #modify myGradeBook's coursename (with a valid-length string)\n",
        "  gradeBook1.setCourseName('PS101 Programação Python')\n",
        "  gradeBook2.setCourseName('PS102 Estruturas de Dados')\n",
        "\n",
        "  print(\"gradeBook1's course name is :\",gradeBook1.getCourseName())\n",
        "  print(\"gradeBook2's course name is :\",gradeBook2.getCourseName())\n",
        "if __name__== \"__main__\" :\n",
        "  main()"
      ],
      "metadata": {
        "id": "oB1U3QJeafgl",
        "outputId": "925080df-d347-459d-cd28-0695fa2eabca",
        "colab": {
          "base_uri": "https://localhost:8080/"
        }
      },
      "execution_count": 2,
      "outputs": [
        {
          "output_type": "stream",
          "name": "stdout",
          "text": [
            "Please enter the course name:Inf\n",
            "Welcome to the Grade Book for Inf!\n",
            "gradeBook1's initial course name is : PS101 Introdução Para Programação em Python\n",
            "gradeBook2's initial course name is : PS102 Dados Estruturas em Python\n",
            "gradeBook1's course name is : PS101 Programação Python\n",
            "gradeBook2's course name is : PS102 Estruturas de Dados\n"
          ]
        }
      ]
    },
    {
      "cell_type": "markdown",
      "metadata": {
        "id": "rZYvFRwtpVoS"
      },
      "source": [
        "## 8  Validando dados com funções set (cont.)\n",
        "- As strings utilizam a função embutida len() do Python que retorna o número de caracteres em um objeto string.\n",
        "- Um estado consistente é um estado no qual o membro de dados do objeto contém um valor válido.\n",
        "- A classe string possibilita o retorno de substring por meio do fatiamento, que retorna um novo objeto string criado como copia de parte de um outro objeto string.\n",
        "    - O primeiro argumento especifica o indice inicial do objeto string original do qual os caracteres são copiados.\n",
        "    - O segundo argumento especifica o indice final (+1) do objeto string original do qual os caracteres são copiados."
      ]
    },
    {
      "cell_type": "markdown",
      "metadata": {
        "id": "W2PUDfWRpVoS"
      },
      "source": [
        "## 8  Validando dados com funções set (cont.)\n",
        "- O código abaixo exibe a versão modificada da classe GradeBook com validação.\n",
        "- Nas versões anteriores da classe, o benefício da chamada setCourseName no construtor não era evidente.\n",
        "- Agora, no entanto, o construtor tira proveito da validação fornecida pela setCourseName.\n",
        "- O construtor simplesmente chama setCourseName, em vez de duplicar o código de validação."
      ]
    },
    {
      "cell_type": "code",
      "source": [
        "#Define class GradeBook with a member function displayMessage,\n",
        "#create a GradeBook object, and call its displayMessage function.\n",
        "#GradeBook class definition\n",
        "class GradeBook:\n",
        "  def __init__(self,courseName):\n",
        "    self.setCourseName(courseName)\n",
        "\n",
        "  def setCourseName (self,courseName):\n",
        "    if (len(courseName)<=25):\n",
        "      self.courseName = courseName\n",
        "    if (len(courseName)>25):\n",
        "      self.courseName = courseName[0:25]\n",
        "      print(f'Name {self.courseName} exceeds maximum length (25).\\nLimiting courseName to first 25 characters.\\n')\n",
        "\n",
        "  def getCourseName(self):\n",
        "    return self.courseName\n",
        "\n",
        "  #function that displays a welcome message to the GradeBook user\n",
        "  def displayMessage(self):\n",
        "    print(f'Welcome to the Grade Book for {self.getCourseName()}!')\n",
        "  #end function displayMessage\n",
        "#end class GradeBook"
      ],
      "metadata": {
        "id": "olu38FTBa6il"
      },
      "execution_count": 3,
      "outputs": []
    },
    {
      "cell_type": "code",
      "source": [
        "def main():\n",
        "  nameOfCourse = input(\"Please enter the course name:\")\n",
        "  myGradeBook = GradeBook(nameOfCourse) #create a GradeBook object named myGradeBook\n",
        "\n",
        "  #Create two GradeBook objects\n",
        "  #Initial course name of gradeBook1 is too long\n",
        "  gradeBook1 = GradeBook('PS101 Introdução Para Programação em Python') #create a GradeBook object named gradeBook1\n",
        "  gradeBook2 = GradeBook('PS102 Dados Estruturas em Python') #create a GradeBook object named gradeBook2\n",
        "\n",
        "  #display each GradBook's courseName\n",
        "  myGradeBook.displayMessage() #call object's displayMessage function\n",
        "  print(\"gradeBook1's initial course name is :\",gradeBook1.getCourseName())\n",
        "  print(\"gradeBook2's initial course name is :\",gradeBook2.getCourseName())\n",
        "\n",
        "  #modify myGradeBook's coursename (with a valid-length string)\n",
        "  gradeBook1.setCourseName('PS101 Programação Python')\n",
        "  gradeBook2.setCourseName('PS102 Estruturas de Dados')\n",
        "\n",
        "  print(\"gradeBook1's course name is :\",gradeBook1.getCourseName())\n",
        "  print(\"gradeBook2's course name is :\",gradeBook2.getCourseName())\n",
        "if __name__== \"__main__\" :\n",
        "  main()"
      ],
      "metadata": {
        "id": "sfSHY3LebFcs",
        "outputId": "7397caba-d612-4f7d-e4a1-b7b91a5c9981",
        "colab": {
          "base_uri": "https://localhost:8080/"
        }
      },
      "execution_count": 4,
      "outputs": [
        {
          "output_type": "stream",
          "name": "stdout",
          "text": [
            "Please enter the course name:Inf\n",
            "Name PS101 Introdução Para Pro exceeds maximum length (25).\n",
            "Limiting courseName to first 25 characters.\n",
            "\n",
            "Name PS102 Dados Estruturas em exceeds maximum length (25).\n",
            "Limiting courseName to first 25 characters.\n",
            "\n",
            "Welcome to the Grade Book for Inf!\n",
            "gradeBook1's initial course name is : PS101 Introdução Para Pro\n",
            "gradeBook2's initial course name is : PS102 Dados Estruturas em\n",
            "gradeBook1's course name is : PS101 Programação Python\n",
            "gradeBook2's course name is : PS102 Estruturas de Dados\n"
          ]
        }
      ]
    },
    {
      "cell_type": "markdown",
      "metadata": {
        "id": "aQSV7cjgpVoS"
      },
      "source": [
        "## 8  Validando dados com funções set (cont.)\n",
        "- Uma função set pública como setCourseName deve analisar cuidadosamente qualquer tentativa de modificar o valor de um membro de dados (por exemplo, courseName) para garantir que o novo valor é apropriado para aquele item de dados.\n",
        "- Funções membro set podem retornar valores para os clientes da classe indicando que foram feitas tentativas para atribuir dados inválidos para objetos da classe.\n",
        "- Um cliente pode testar a função de retorno para determinar se a tentativa de modificar o objeto foi bem-sucedida e tomar a ação apropriada.\n",
        "- Mais adiante no curso, veremos como clientes de uma classe podem ser notificados por meio do mecanismo de tratamento de exceção quando é feita uma tentativa de modificar um objeto com um valor inadequado.\n",
        "- Para manter o programa acima simples neste ponto inicial do curso, o método setCourseName apenas imprime uma mensagem apropriada. "
      ]
    },
    {
      "cell_type": "markdown",
      "metadata": {
        "id": "QWbEcB4MpVoT"
      },
      "source": [
        "## Observação de engenharia de software \n",
        "Tornar os membros de dados private e controlar o acesso, especialmente o acesso de gravação, àqueles membros de dados via funções-membro public ajuda a assegurar a integridade dos dados.\n"
      ]
    },
    {
      "cell_type": "markdown",
      "metadata": {
        "id": "wa-sQ9HxpVoT"
      },
      "source": [
        "## Dica de prevenção de erro \n",
        "Os benefícios da integridade de dados não são automáticos simplesmente porque os membros de dados se tornaram private — o programador deve fornecer teste de validade apropriado e informar os erros.\n",
        "\n"
      ]
    },
    {
      "cell_type": "markdown",
      "metadata": {
        "id": "aswlLAyHpVoT"
      },
      "source": [
        "## Observação de engenharia de software\n",
        "As funções-membro que configuram (set) os valores de dados private devem verificar se os novos valores projetados são adequados; se não forem, as funções set devem colocar os membros de dados private em um estado apropriado.\n"
      ]
    },
    {
      "cell_type": "code",
      "execution_count": null,
      "metadata": {
        "id": "IQFmX9FdpVoT"
      },
      "outputs": [],
      "source": []
    }
  ],
  "metadata": {
    "kernelspec": {
      "display_name": "Python 3",
      "name": "python3"
    },
    "language_info": {
      "name": "python"
    },
    "colab": {
      "provenance": [],
      "collapsed_sections": [],
      "include_colab_link": true
    },
    "gpuClass": "standard"
  },
  "nbformat": 4,
  "nbformat_minor": 0
}