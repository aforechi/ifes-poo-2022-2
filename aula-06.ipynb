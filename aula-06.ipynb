{
  "cells": [
    {
      "cell_type": "markdown",
      "metadata": {
        "id": "view-in-github",
        "colab_type": "text"
      },
      "source": [
        "<a href=\"https://colab.research.google.com/github/aforechi/ifes-alg-2022-1/blob/main/revisao-if.ipynb\" target=\"_parent\"><img src=\"https://colab.research.google.com/assets/colab-badge.svg\" alt=\"Open In Colab\"/></a>"
      ]
    },
    {
      "cell_type": "markdown",
      "metadata": {
        "id": "KTN8C_qS0yUa"
      },
      "source": [
        "# Aula de Revisão IF\n",
        "\n",
        "## O que há de errado no exemplo abaixo? "
      ]
    },
    {
      "cell_type": "code",
      "execution_count": 1,
      "metadata": {
        "id": "D5X5r4xU0yUc"
      },
      "outputs": [],
      "source": [
        "var1 = 100  \n",
        "var2 = 200  \n",
        "var1 = var2 # var1 guarda 200  \n",
        "var2 = var1 # var2 guarda 200 "
      ]
    },
    {
      "cell_type": "markdown",
      "metadata": {
        "id": "DyCAM4Sv0yUd"
      },
      "source": [
        "## Veja a forma correta de efetuar a operação de troca de valores. "
      ]
    },
    {
      "cell_type": "code",
      "execution_count": null,
      "metadata": {
        "id": "0Y4ahKmb0yUe",
        "outputId": "1f7882ca-f831-46dd-f435-d4523d15b36d"
      },
      "outputs": [
        {
          "name": "stdout",
          "output_type": "stream",
          "text": [
            "200 100\n"
          ]
        }
      ],
      "source": [
        "var1 = 100\n",
        "var2 = 200 \n",
        "\n",
        "aux = var1\n",
        "var1 = var2\n",
        "var2 = aux \n",
        "\n",
        "print(var1, var2)"
      ]
    },
    {
      "cell_type": "markdown",
      "metadata": {
        "id": "e-FycRaL0yUg"
      },
      "source": [
        "## Veja outra forma de efetuar a operação de troca de valores usando tuplas. "
      ]
    },
    {
      "cell_type": "code",
      "execution_count": null,
      "metadata": {
        "id": "LPoLjSAl0yUg",
        "outputId": "82419a8c-ef16-4beb-fc4b-9baa1d996e55"
      },
      "outputs": [
        {
          "name": "stdout",
          "output_type": "stream",
          "text": [
            "200 100\n"
          ]
        }
      ],
      "source": [
        "var1 = 100\n",
        "var2 = 200 \n",
        "\n",
        "var1, var2 = var2, var1\n",
        "\n",
        "print(var1, var2)"
      ]
    },
    {
      "cell_type": "markdown",
      "metadata": {
        "id": "37jsq9zx0yUh"
      },
      "source": [
        "## Algoritmo para decidir se um aluno está aprovado ou não, com base na média das notas semestrais."
      ]
    },
    {
      "cell_type": "code",
      "execution_count": null,
      "metadata": {
        "id": "t2Qx85E70yUi",
        "outputId": "dae15059-b44a-4b2b-f292-7c9353e127b7"
      },
      "outputs": [
        {
          "name": "stdout",
          "output_type": "stream",
          "text": [
            "\n",
            "O aluno deve fazer prova final.\n"
          ]
        }
      ],
      "source": [
        "\n",
        "notas = input(\"Entre com 3 valores\")\n",
        "n1, n2, n3 = notas.split()\n",
        "\n",
        "n1 = int(n1)\n",
        "n2 = int(n2)\n",
        "n3 = int(n3)\n",
        "\n",
        "mediaParcial = ( n1 + n2 + n3) / 3.0\n",
        "\n",
        "if(mediaParcial < 6.0):\n",
        "    print(\"\\nO aluno deve fazer prova final.\")\n",
        "else:\n",
        "    print(\"\\nO aluno foi aprovado com media \", mediaParcial)\n"
      ]
    },
    {
      "cell_type": "markdown",
      "metadata": {
        "id": "zjPwfh7J0yUj"
      },
      "source": [
        "## Algoritmo para decidir se dois numeros digitados estão em ordem crescente, decrescente ou se são iguais."
      ]
    },
    {
      "cell_type": "code",
      "execution_count": null,
      "metadata": {
        "id": "eI_isCjA0yUj",
        "outputId": "8fa7cb6f-45b6-4df6-a07c-b6fce706962b"
      },
      "outputs": [
        {
          "name": "stdout",
          "output_type": "stream",
          "text": [
            "\n",
            "Ordem crescente.\n"
          ]
        }
      ],
      "source": [
        "\n",
        "numeros = input(\"Entre com 2 valores\");\n",
        "num1, num2 = numeros.split()\n",
        "\n",
        "num1 = int(num1)\n",
        "num2 = int(num2)\n",
        "\n",
        "if num1 > num2:\n",
        "    print(\"\\nOrdem decrescente.\")\n",
        "elif num2 > num1:\n",
        "    print(\"\\nOrdem crescente.\")\n",
        "else:\n",
        "    print(\"\\nNumeros iguais.\")\n"
      ]
    },
    {
      "cell_type": "markdown",
      "metadata": {
        "id": "zJVO_5QJ0yUk"
      },
      "source": [
        "## Programa que identifica o maior de três numeros sem o uso do comando de seleção aninhado"
      ]
    },
    {
      "cell_type": "code",
      "execution_count": null,
      "metadata": {
        "id": "J_d2sIWx0yUl",
        "outputId": "6645e77f-e8a3-46e3-b859-343b7263ce31"
      },
      "outputs": [
        {
          "name": "stdout",
          "output_type": "stream",
          "text": [
            "O maior numero digitado foi:  3\n"
          ]
        }
      ],
      "source": [
        "\n",
        "numeros = input(\"Entre com 3 valores\")\n",
        "n1, n2, n3 = numeros.split()\n",
        "\n",
        "n1 = int(n1)\n",
        "n2 = int(n2)\n",
        "n3 = int(n3)\n",
        "\n",
        "if (n1 > n2) and (n1 > n3):\n",
        "    print(\"O maior numero digitado foi: \", n1)\n",
        "\n",
        "if (n2 > n1) and (n2 > n3):\n",
        "    print(\"O maior numero digitado foi: \", n2)\n",
        "    \n",
        "if (n3 > n1) and (n3 > n2):\n",
        "    print(\"O maior numero digitado foi: \", n3)\n"
      ]
    },
    {
      "cell_type": "markdown",
      "metadata": {
        "id": "A7zLolfW0yUm"
      },
      "source": [
        "## Programa que identifica o maior de três numeros, usando o uso do comando de seleção aninhado."
      ]
    },
    {
      "cell_type": "code",
      "execution_count": null,
      "metadata": {
        "id": "jICgWNNi0yUo",
        "outputId": "e7962200-b8fd-4c61-b028-e55f155d93e1"
      },
      "outputs": [
        {
          "name": "stdout",
          "output_type": "stream",
          "text": [
            "O maior numero digitado foi:  3\n"
          ]
        }
      ],
      "source": [
        "numeros = input(\"Entre com 3 valores\")\n",
        "n1, n2, n3 = numeros.split()\n",
        "\n",
        "n1 = int(n1)\n",
        "n2 = int(n2)\n",
        "n3 = int(n3)\n",
        "\n",
        "if (n1 > n2):\n",
        "    if (n1 > n3):\n",
        "        print(\"O maior numero digitado foi: \", n1)\n",
        "    else:\n",
        "        print(\"O maior numero digitado foi: \", n3)\n",
        "else:\n",
        "    if (n2 > n3): \n",
        "        print(\"O maior numero digitado foi: \", n2)\n",
        "    else:\n",
        "        print(\"O maior numero digitado foi: \", n3)\n"
      ]
    },
    {
      "cell_type": "markdown",
      "metadata": {
        "id": "v1PBvQ0e0yUp"
      },
      "source": [
        "## Informa se três números podem constituir os lados de um triângulo e o tipo do triângulo que pode ser formado."
      ]
    },
    {
      "cell_type": "code",
      "execution_count": null,
      "metadata": {
        "id": "wkAJ5JBw0yUq"
      },
      "outputs": [],
      "source": [
        "lados = input(\"Entre com os 3 lados do triângulo:\")\n",
        "lado1, lado2, lado3 = lados.split()\n",
        "\n",
        "lado1 = int(lado1)\n",
        "lado2 = int(lado2)\n",
        "lado3 = int(lado3)\n",
        "\n",
        "soma1 = lado1 + lado2\n",
        "soma2 = lado1 + lado3\n",
        "soma3 = lado2 + lado3\n",
        "\n",
        "if ((lado1 == lado2) and (lado2 == lado3)):\n",
        "    print(\"Triangulo equilatero\\n\")\n",
        "else:\n",
        "    if ((soma1 > lado3) and (soma2 > lado2) and (soma3 > lado1)):\n",
        "        if ((lado1 != lado2) and (lado1 != lado3) and (lado2 != lado3)):\n",
        "            print(\"Triangulo escaleno\\n\")\n",
        "        else:\n",
        "            print(\"Triangulo isosceles\\n\")\n",
        "    else:\n",
        "        print(\"Os três lados não formam um triângulo\\n\")     \n"
      ]
    },
    {
      "cell_type": "markdown",
      "metadata": {
        "id": "yb7nwzOX0yUr"
      },
      "source": [
        "## Uso do comando elif para simular uma urna eletronica de eleição."
      ]
    },
    {
      "cell_type": "code",
      "execution_count": null,
      "metadata": {
        "id": "jZRg2yys0yUs"
      },
      "outputs": [],
      "source": [
        "\n",
        "voto = int(input(\"URNA ELETRONICA - SEU VOTO PARA PREFEITO:\"))\n",
        "\n",
        "if voto == 1:\n",
        "    print(\"Candidato escolhido: Hortencia da Silva\")\n",
        "elif voto == 2:\n",
        "    print(\"Candidato escolhido: Jose dos Cravos\")\n",
        "elif voto == 3:\n",
        "    print(\"Candidato escolhido: Margarida S. Pereira\")\n",
        "else:\n",
        "    print(\"Numero digitado invalido. Voto anulado.\")"
      ]
    },
    {
      "cell_type": "markdown",
      "metadata": {
        "id": "vCL5NLv10yUu"
      },
      "source": [
        "## Programa que imprime se um numero n é impar."
      ]
    },
    {
      "cell_type": "code",
      "execution_count": null,
      "metadata": {
        "id": "Dqy7TqRs0yUv"
      },
      "outputs": [],
      "source": [
        "n = int(input(\"Entre com um número não negativo:\"))\n",
        "if (n % 2): \n",
        "    print(n , \"é impar!\") "
      ]
    }
  ],
  "metadata": {
    "interpreter": {
      "hash": "31f2aee4e71d21fbe5cf8b01ff0e069b9275f58929596ceb00d14d90e3e16cd6"
    },
    "kernelspec": {
      "display_name": "C++14",
      "language": "python",
      "name": "python3"
    },
    "language_info": {
      "codemirror_mode": {
        "name": "ipython",
        "version": 3
      },
      "file_extension": ".py",
      "mimetype": "text/x-python",
      "name": "python",
      "nbconvert_exporter": "python",
      "pygments_lexer": "ipython3",
      "version": "3.8.9"
    },
    "colab": {
      "name": "revisao-if.ipynb",
      "provenance": [],
      "include_colab_link": true
    }
  },
  "nbformat": 4,
  "nbformat_minor": 0
}