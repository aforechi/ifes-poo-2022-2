{
  "cells": [
    {
      "cell_type": "markdown",
      "metadata": {
        "id": "view-in-github",
        "colab_type": "text"
      },
      "source": [
        "<a href=\"https://colab.research.google.com/github/aforechi/ifes-alg-2022-1/blob/main/aula-12.ipynb\" target=\"_parent\"><img src=\"https://colab.research.google.com/assets/colab-badge.svg\" alt=\"Open In Colab\"/></a>"
      ]
    },
    {
      "cell_type": "markdown",
      "metadata": {
        "id": "xlBLInQyFEtL"
      },
      "source": [
        "# Aula 12: Manipulação de arquivos\n",
        "\n",
        "Por que arquivar?\n",
        "- Para armazenamento permanente em disco.\n",
        "- Estando em disco, arquivos podem ser lidos, gravados e alterados.\n",
        "- Acesso a arquivos é mais lento do que acesso a memória principal.\n",
        "\n",
        "**Arquivo** – representação de um arquivo em disco, terminal ou impressora.\n",
        "\n",
        "**Stream** é uma abstração lógica de arquivos e dispositivos de E/S.\n",
        "- Um arquivo é associado a uma stream por uma operação de abertura (open).\n",
        "- Um arquivo é desassociado de uma stream por uma operação de fechamento (close).\n",
        "\n",
        "Tipos de arquivo:\n",
        "- Arquivo texto: representa os dados das variáveis como uma sequência de caracteres – legível ao usuário.\n",
        "- Arquivo binário:  armazena os valores das variáveis em forma de bits. É um “espelho” da memória principal, salvo em memória secundária – legível para a máquina.\n",
        "\n",
        "\n",
        "## Arquivos em Python\n",
        "\n",
        "**Uma variável de arquivo** é uma estrutura de dados com várias informações sobre o arquivo, incluindo nome, status e posição atual do arquivo.\n",
        "- Uma variável identifica um arquivo\n",
        "- Uma variável é usada por uma stream para direcionar as operações de E/S\n",
        "\n",
        "### Funções para manipulação de arquivo\n",
        "\n",
        "**Abrir arquivo**\n",
        "\n",
        "Para abrir arquivo, utilizamos a função open(), que tem o seguinte formato.\n",
        "\n",
        "open(nome do arquivo, modo de abertura)\n",
        "\n",
        "Os modos de abertura de um arquivo são os seguintes:\n",
        "\n",
        "| Caractere | Significado |\n",
        "| --- | --- |\n",
        "|'r' | abre para leitura (padrão)|\n",
        "|'w' | abre para escrita, truncando o arquivo primeiro (removendo tudo o que estiver contido no mesmo)|\n",
        "|'x' | abre para criação exclusiva, falhando caso o arquivo exista|\n",
        "|'a' | open for writing, appending to the end of file if it exists|\n",
        "|'b' | binary mode|\n",
        "|'t' | modo texto (padrão)|\n",
        "|'+' | aberto para atualização (leitura e escrita)|\n",
        "\n",
        "\n"
      ]
    },
    {
      "cell_type": "code",
      "execution_count": 1,
      "metadata": {
        "colab": {
          "base_uri": "https://localhost:8080/"
        },
        "id": "Vr2Ft-SjFEtO",
        "outputId": "15a62c79-60ce-472a-fac4-93ce6201007b"
      },
      "outputs": [
        {
          "output_type": "stream",
          "name": "stdout",
          "text": [
            "Arquivo está aberto!\n"
          ]
        },
        {
          "output_type": "execute_result",
          "data": {
            "text/plain": [
              "10"
            ]
          },
          "metadata": {},
          "execution_count": 1
        }
      ],
      "source": [
        "\n",
        "# Abrir um arquivo para gravação \n",
        "arquivo = open(\"teste.txt\", \"w\")\n",
        "\n",
        "# Mas, a forma mais correta é\n",
        "\n",
        "if not arquivo.closed:\n",
        "   print(\"Arquivo está aberto!\")\n",
        "\n",
        "# Dessa última forma, pode-se detectar se houve algum erro na abertura do arquivo.\n",
        "\n",
        "arquivo.write(\"Olá Mundo!\")"
      ]
    },
    {
      "cell_type": "markdown",
      "metadata": {
        "id": "TDrehlitFEtQ"
      },
      "source": [
        "**Fechar arquivo**\n",
        "\n",
        "Para fechar um arquivo, utilizamos a função close no seguinte formato:\n",
        "\n",
        "close()\n",
        "\n",
        "Exemplo: fecha o arquivo."
      ]
    },
    {
      "cell_type": "code",
      "execution_count": 2,
      "metadata": {
        "id": "qufC6IAJFEtR"
      },
      "outputs": [],
      "source": [
        "arquivo.close()"
      ]
    },
    {
      "cell_type": "code",
      "execution_count": 3,
      "metadata": {
        "colab": {
          "base_uri": "https://localhost:8080/"
        },
        "id": "mBmMenPEFEtV",
        "outputId": "d0977334-2984-443b-91fe-bd628b73f7bf"
      },
      "outputs": [
        {
          "output_type": "stream",
          "name": "stdout",
          "text": [
            "Fechado\n"
          ]
        }
      ],
      "source": [
        "if not arquivo.closed:\n",
        "    print(\"Aberto\")\n",
        "else:\n",
        "    print(\"Fechado\")"
      ]
    },
    {
      "cell_type": "markdown",
      "source": [
        "## Abrindo o arquivo para leitura"
      ],
      "metadata": {
        "id": "I-IO9uZKXTTE"
      }
    },
    {
      "cell_type": "code",
      "execution_count": 4,
      "metadata": {
        "id": "b7cfOmQBFEtW"
      },
      "outputs": [],
      "source": [
        "arquivo = open(\"teste.txt\", \"r\")"
      ]
    },
    {
      "cell_type": "code",
      "execution_count": 5,
      "metadata": {
        "colab": {
          "base_uri": "https://localhost:8080/",
          "height": 37
        },
        "id": "zKF2NLPAFEtX",
        "outputId": "4db3b0c0-91f4-40b8-9e4c-3bec645452e6"
      },
      "outputs": [
        {
          "output_type": "execute_result",
          "data": {
            "text/plain": [
              "'Olá Mundo!'"
            ],
            "application/vnd.google.colaboratory.intrinsic+json": {
              "type": "string"
            }
          },
          "metadata": {},
          "execution_count": 5
        }
      ],
      "source": [
        "arquivo.read()"
      ]
    },
    {
      "cell_type": "markdown",
      "metadata": {
        "id": "x9566RbGFEtZ"
      },
      "source": [
        "Neste exemplo, faremos um programa que guarda dados de pessoas em um arquivo:"
      ]
    },
    {
      "cell_type": "code",
      "execution_count": 11,
      "metadata": {
        "colab": {
          "base_uri": "https://localhost:8080/"
        },
        "id": "iz7e_zcaFEta",
        "outputId": "6dcdc69c-2b32-4166-95a4-99ea022553d9"
      },
      "outputs": [
        {
          "output_type": "stream",
          "name": "stdout",
          "text": [
            "Criou\n"
          ]
        }
      ],
      "source": [
        "pessoas = open(\"pessoas.txt\", \"w\")\n",
        "\n",
        "if not pessoas.closed:\n",
        "    print(\"Criou\")\n",
        "else:\n",
        "    print(\"Erro\")"
      ]
    },
    {
      "cell_type": "code",
      "execution_count": 12,
      "metadata": {
        "colab": {
          "base_uri": "https://localhost:8080/"
        },
        "id": "--S4jhQjFEtb",
        "outputId": "c6cd8e96-dfd6-40be-dedf-996ea9e69d8c"
      },
      "outputs": [
        {
          "output_type": "execute_result",
          "data": {
            "text/plain": [
              "9"
            ]
          },
          "metadata": {},
          "execution_count": 12
        }
      ],
      "source": [
        "pessoas.write(\"João %d\\n\" % 22)\n",
        "pessoas.write(\"Maria %d\\n\" % 20)"
      ]
    },
    {
      "cell_type": "code",
      "execution_count": 13,
      "metadata": {
        "id": "4SKGNVv6FEtc"
      },
      "outputs": [],
      "source": [
        "pessoas.close();"
      ]
    },
    {
      "cell_type": "markdown",
      "metadata": {
        "id": "U8dnwzRAFEtd"
      },
      "source": [
        "**Ler arquivo**\n",
        "\n",
        "Exemplo: Ler linhas do arquivo até o fim do arquivo"
      ]
    },
    {
      "cell_type": "markdown",
      "metadata": {
        "id": "49e-cW4GFEtf"
      },
      "source": [
        "Agora faremos um programa para ler os dados dessas pessoas:"
      ]
    },
    {
      "cell_type": "code",
      "execution_count": 14,
      "metadata": {
        "colab": {
          "base_uri": "https://localhost:8080/"
        },
        "id": "_YrV2JajFEtj",
        "outputId": "12c20608-1b3f-4184-e84b-1052f5cccd54"
      },
      "outputs": [
        {
          "output_type": "stream",
          "name": "stdout",
          "text": [
            "João 22\n",
            "Maria 20\n"
          ]
        }
      ],
      "source": [
        "arquivo = open(\"pessoas.txt\")\n",
        "\n",
        "for linha in arquivo:\n",
        "    nome, idade = linha.split()\n",
        "    print( nome, idade )\n",
        "\n",
        "arquivo.close();"
      ]
    },
    {
      "cell_type": "markdown",
      "metadata": {
        "id": "PVDULVPjFEtk"
      },
      "source": [
        "**Lendo uma string**\n",
        "\n",
        "A função readline() é semelhante à função read(), porém, ela lê apenas uma linha.\n",
        "\n",
        "Exemplo:"
      ]
    },
    {
      "cell_type": "code",
      "execution_count": 16,
      "metadata": {
        "colab": {
          "base_uri": "https://localhost:8080/"
        },
        "id": "-925ocbrFEtk",
        "outputId": "6fac514a-1b0c-4af0-a85b-6d226103d5ef"
      },
      "outputs": [
        {
          "output_type": "stream",
          "name": "stdout",
          "text": [
            "João 22\n",
            "\n",
            "Maria 20\n",
            "\n"
          ]
        }
      ],
      "source": [
        "leitura = open(\"pessoas.txt\")\n",
        "\n",
        "while True:\n",
        "    linha = leitura.readline()\n",
        "    if linha == '':\n",
        "      break\n",
        "    print(linha)\n",
        "\n",
        "leitura.close()"
      ]
    },
    {
      "cell_type": "markdown",
      "metadata": {
        "id": "3QiWzxqkFEtn"
      },
      "source": [
        "## Exercício: Banco de dados de funcionários \n",
        "\n",
        "No exemplo abaixo utilizaremos um arquivo previamente criado, binario, que armazena muitas informações de funcionários. O programa abre esse arquivo, lê todas as variaveis presentes (uma quantia inicialmente desconhecida), e as grava num arquivo texto.\n",
        "\n"
      ]
    },
    {
      "cell_type": "code",
      "execution_count": 27,
      "metadata": {
        "colab": {
          "base_uri": "https://localhost:8080/"
        },
        "id": "ZUvU4lLxFEts",
        "outputId": "9be6bd1c-8e93-4455-e320-e5d4e441da20"
      },
      "outputs": [
        {
          "output_type": "stream",
          "name": "stdout",
          "text": [
            "Criou\n"
          ]
        }
      ],
      "source": [
        "from random import randint\n",
        "from struct import pack\n",
        "\n",
        "arquivo = open(\"func.bin\", \"wb\")\n",
        "\n",
        "if not arquivo.closed:\n",
        "    print(\"Criou\")\n",
        "\n",
        "for matricula in range(1, 101):\n",
        "    idade = randint(20,70)\n",
        "    salario = randint(1000,4000)\n",
        "    sexo = 'M' if randint(0,1) else 'F'\n",
        "    nome = \"Nome \" + str(matricula)\n",
        "    funcionario = (bytes(sexo,'utf-8'), idade, matricula, salario, bytes(nome,'utf-8'))\n",
        "    arquivo.write(pack('1siif12s', *funcionario))\n",
        "\n",
        "arquivo.close()\n"
      ]
    },
    {
      "cell_type": "code",
      "source": [
        "def texto(valor: bytes) -> str:                 \n",
        "    string = valor.split(b'\\0', 1)[0]          \n",
        "    return string.decode('utf-8')  "
      ],
      "metadata": {
        "id": "mNy1YAAv-Avr"
      },
      "execution_count": 42,
      "outputs": []
    },
    {
      "cell_type": "code",
      "execution_count": 43,
      "metadata": {
        "id": "gB0hbEGrFEtt"
      },
      "outputs": [],
      "source": [
        "from struct import iter_unpack\n",
        "\n",
        "arquivo = open(\"func.txt\", \"w\")\n",
        "leitura = open('func.bin', 'rb')\n",
        "\n",
        "dados = leitura.read()\n",
        "formato = '1siif12s'\n",
        "for funcionario in iter_unpack(formato, dados):\n",
        "    sexo, idade, matricula, salario, nome = funcionario\n",
        "    salario += 1000;\n",
        "    sexo = texto(sexo)\n",
        "    nome = texto(nome)\n",
        "    arquivo.write(\"%s %d %d %f %s\\n\" % (sexo, idade, matricula, salario, nome))\n",
        "\n",
        "arquivo.close()\n",
        "leitura.close()"
      ]
    },
    {
      "cell_type": "code",
      "execution_count": null,
      "metadata": {
        "id": "Pdd1nw_XFEtu"
      },
      "outputs": [],
      "source": [
        ""
      ]
    }
  ],
  "metadata": {
    "kernelspec": {
      "display_name": "Python 3",
      "name": "python3"
    },
    "language_info": {
      "name": "python"
    },
    "colab": {
      "name": "aula-12.ipynb",
      "provenance": [],
      "collapsed_sections": [],
      "include_colab_link": true
    },
    "gpuClass": "standard"
  },
  "nbformat": 4,
  "nbformat_minor": 0
}