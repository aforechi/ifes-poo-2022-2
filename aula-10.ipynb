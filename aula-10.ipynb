{
  "nbformat": 4,
  "nbformat_minor": 0,
  "metadata": {
    "colab": {
      "name": "aula-10.ipynb",
      "provenance": [],
      "collapsed_sections": [],
      "mount_file_id": "15uJkQE43wLEE3TZEtjD4_6r5D5iDUUUj",
      "authorship_tag": "ABX9TyMbZWJyOcV6/UMp5l99oAVH",
      "include_colab_link": true
    },
    "kernelspec": {
      "name": "python3",
      "display_name": "Python 3"
    },
    "language_info": {
      "name": "python"
    }
  },
  "cells": [
    {
      "cell_type": "markdown",
      "metadata": {
        "id": "view-in-github",
        "colab_type": "text"
      },
      "source": [
        "<a href=\"https://colab.research.google.com/github/aforechi/ifes-alg-2022-1/blob/main/aula-10.ipynb\" target=\"_parent\"><img src=\"https://colab.research.google.com/assets/colab-badge.svg\" alt=\"Open In Colab\"/></a>"
      ]
    },
    {
      "cell_type": "markdown",
      "source": [
        "# Função Main em Python\n",
        "\n",
        "No Python, arquivos .py são chamados de módulos. Cada módulo pode ser executado diretamente, como um programa em si, ou importado por outro módulo.\n",
        "\n",
        "Precisamos, de alguma maneira, identificar essa diferença. Para isso, temos uma variável nativa que pode nos auxiliar nisso - a __name__, que nos indica o nome do contexto em que o módulo está rodando.\n",
        "\n",
        "Resumindo, a variável __name__ representa o nome do módulo. Entretanto, quando o módulo é executado por si só como um programa, __name__ é definido para ’__main__’, diferente de quando o módulo é importado, no qual o valor fica de fato igual ao nome do módulo.\n",
        "\n",
        "Vamos testar isso fazendo um simples programa que apenas imprime essa variável. Chamaremos de nome.py:"
      ],
      "metadata": {
        "id": "6cmEz2ZCcNrg"
      }
    },
    {
      "cell_type": "code",
      "execution_count": 47,
      "metadata": {
        "colab": {
          "base_uri": "https://localhost:8080/"
        },
        "id": "DZVC-HembFxK",
        "outputId": "e5a1748f-e6bf-4904-bea6-67a3f292b984"
      },
      "outputs": [
        {
          "output_type": "stream",
          "name": "stdout",
          "text": [
            "__main__\n"
          ]
        }
      ],
      "source": [
        "print(__name__)"
      ]
    },
    {
      "cell_type": "code",
      "source": [
        "%cd /content"
      ],
      "metadata": {
        "colab": {
          "base_uri": "https://localhost:8080/"
        },
        "id": "ov6pbipcm0EA",
        "outputId": "e4b0b450-b058-49bb-ccfb-0afc6e5d0093"
      },
      "execution_count": 48,
      "outputs": [
        {
          "output_type": "stream",
          "name": "stdout",
          "text": [
            "/content\n"
          ]
        }
      ]
    },
    {
      "cell_type": "markdown",
      "source": [
        "Em seguida, salvaremos um módulo Python para ser executado como um programa."
      ],
      "metadata": {
        "id": "FYVlgWfOfEm9"
      }
    },
    {
      "cell_type": "code",
      "source": [
        "%%writefile nome1.py\n",
        "\n",
        "print(__name__)\n"
      ],
      "metadata": {
        "colab": {
          "base_uri": "https://localhost:8080/"
        },
        "id": "6UAp6W06jgKO",
        "outputId": "771d2979-7042-4513-89de-9638ba7e1e6e"
      },
      "execution_count": 70,
      "outputs": [
        {
          "output_type": "stream",
          "name": "stdout",
          "text": [
            "Overwriting nome1.py\n"
          ]
        }
      ]
    },
    {
      "cell_type": "code",
      "source": [
        "!python nome1.py"
      ],
      "metadata": {
        "colab": {
          "base_uri": "https://localhost:8080/"
        },
        "id": "UlxGMUcNjNBo",
        "outputId": "ac4c4c13-49ab-473b-98da-8c5bc1b7b9ba"
      },
      "execution_count": 63,
      "outputs": [
        {
          "output_type": "stream",
          "name": "stdout",
          "text": [
            "__main__\n"
          ]
        }
      ]
    },
    {
      "cell_type": "markdown",
      "source": [
        "Em seguida, salvaremos um módulo Python para ser importado como uma biblioteca."
      ],
      "metadata": {
        "id": "LHU9nT9FkIA2"
      }
    },
    {
      "cell_type": "code",
      "source": [
        "import nome1"
      ],
      "metadata": {
        "id": "C0zWF5ElgYOi"
      },
      "execution_count": 71,
      "outputs": []
    },
    {
      "cell_type": "markdown",
      "source": [
        "Observe que ao importar o módulo não faz com que o código seja executado"
      ],
      "metadata": {
        "id": "Sa0R0AFdnSsM"
      }
    },
    {
      "cell_type": "code",
      "source": [
        "%%writefile nome2.py\n",
        "\n",
        "def Imprimir():\n",
        "  print(__name__)"
      ],
      "metadata": {
        "colab": {
          "base_uri": "https://localhost:8080/"
        },
        "id": "qouqpavMe3w4",
        "outputId": "9cf5bb5a-f98c-4569-f7cf-f8560cc001c7"
      },
      "execution_count": 53,
      "outputs": [
        {
          "output_type": "stream",
          "name": "stdout",
          "text": [
            "Writing nome2.py\n"
          ]
        }
      ]
    },
    {
      "cell_type": "code",
      "source": [
        "import nome2\n",
        "\n",
        "nome2.Imprimir()"
      ],
      "metadata": {
        "colab": {
          "base_uri": "https://localhost:8080/"
        },
        "id": "phT_K2C6fMY6",
        "outputId": "5e21729d-6c2f-4091-e077-ab7b4297ec78"
      },
      "execution_count": 54,
      "outputs": [
        {
          "output_type": "stream",
          "name": "stdout",
          "text": [
            "nome2\n"
          ]
        }
      ]
    },
    {
      "cell_type": "code",
      "source": [
        "%%writefile nome2.py\n",
        "\n",
        "def Imprimir():\n",
        "  print(__name__)"
      ],
      "metadata": {
        "id": "Z4iva4VWoXqz"
      },
      "execution_count": null,
      "outputs": []
    },
    {
      "cell_type": "markdown",
      "source": [
        "**Observe como mudou! **\n",
        "\n",
        "Com essa diferença, podemos saber quando um código está sendo executado no escopo principal de programa e quando está, na verdade, sendo importado. Assim, podemos tomar caminhos diferentes no código para cada uma dessas opções."
      ],
      "metadata": {
        "id": "ar67EXMUovyK"
      }
    },
    {
      "cell_type": "markdown",
      "source": [
        "## Usando if name == main para controle de escopo de execução\n",
        "\n",
        "No Python, temos uma convenção idiomática para solucionar problemas como o do nosso tipo, em que precisamos que um código não execute se estiver sendo apenas importado.\n",
        "\n",
        "Esta convenção se baseia nesse conceito da variável __name__, com uma condição que verifica se essa variável é igual a ’__main__’.\n",
        "\n",
        "Em outras palavras, o que há é apenas uma verificação de se o programa está sendo executado por si só."
      ],
      "metadata": {
        "id": "sggiMtlso6vj"
      }
    },
    {
      "cell_type": "code",
      "source": [
        "%%writefile nome3.py\n",
        "\n",
        "def main():\n",
        "  print(__name__)\n",
        "\n",
        "if __name__ == '__main__':\n",
        "    main()"
      ],
      "metadata": {
        "colab": {
          "base_uri": "https://localhost:8080/"
        },
        "id": "APjYZ9gKpa_w",
        "outputId": "242c9f14-e8e9-434e-f614-bc7cfe105199"
      },
      "execution_count": 55,
      "outputs": [
        {
          "output_type": "stream",
          "name": "stdout",
          "text": [
            "Writing nome3.py\n"
          ]
        }
      ]
    },
    {
      "cell_type": "code",
      "source": [
        "import nome3\n",
        "\n",
        "nome3.main()"
      ],
      "metadata": {
        "colab": {
          "base_uri": "https://localhost:8080/"
        },
        "id": "cssO_vZUpskf",
        "outputId": "95be4fa7-0d1c-4eaf-c198-e59f603238f9"
      },
      "execution_count": 56,
      "outputs": [
        {
          "output_type": "stream",
          "name": "stdout",
          "text": [
            "nome3\n"
          ]
        }
      ]
    },
    {
      "cell_type": "code",
      "source": [
        "!python nome3.py"
      ],
      "metadata": {
        "colab": {
          "base_uri": "https://localhost:8080/"
        },
        "id": "9pF7JXiGpzuq",
        "outputId": "9571423a-6e69-460a-d605-f1bdba94d41b"
      },
      "execution_count": 57,
      "outputs": [
        {
          "output_type": "stream",
          "name": "stdout",
          "text": [
            "__main__\n"
          ]
        }
      ]
    },
    {
      "cell_type": "markdown",
      "source": [
        "## Vamos fazer um exemplo completo!\n",
        "\n",
        "Resolva o exercício da Lista 3 para calcular a área de 10 triângulos cujos vértices possuem coordenadas inteiras geradas de forma aleatória, mas verifique antes de calcular a área se os lados dos triângulos formam realmente um triângulo usando a lógica da aula de revisão do IF.\n",
        "\n",
        "Obs.: Siga as boas práticas da aula de projeto de funções começando a fazer os esqueletos de todas as funções antes de codificar cada uma. Salve as funções num módulo chamado triangulo.py e importe-as num outro programa chamado principal.py utilizando o que aprendemos na aula de hoje."
      ],
      "metadata": {
        "id": "loYuwx1ToL7s"
      }
    },
    {
      "cell_type": "code",
      "source": [
        ""
      ],
      "metadata": {
        "id": "2ShhNfCjp84Q"
      },
      "execution_count": null,
      "outputs": []
    },
    {
      "cell_type": "markdown",
      "source": [
        "Os módulos criados até aqui não serão armazenados na nuvem. Para isso, você precisará montar seu Google Drive para criar os módulos python."
      ],
      "metadata": {
        "id": "sBFsbZkAd-wk"
      }
    },
    {
      "cell_type": "code",
      "source": [
        "from google.colab import drive\n",
        "drive.mount('/content/drive')"
      ],
      "metadata": {
        "colab": {
          "base_uri": "https://localhost:8080/"
        },
        "id": "qAardveQcsHL",
        "outputId": "4d688b7a-7916-4e51-b603-1873623921e3"
      },
      "execution_count": null,
      "outputs": [
        {
          "output_type": "stream",
          "name": "stdout",
          "text": [
            "Drive already mounted at /content/drive; to attempt to forcibly remount, call drive.mount(\"/content/drive\", force_remount=True).\n"
          ]
        }
      ]
    },
    {
      "cell_type": "markdown",
      "source": [
        "Em seguida, alteraremos o diretório de trabalho para apontar para o diretório raiz do seu Google Drive."
      ],
      "metadata": {
        "id": "l-pGuDboeN15"
      }
    },
    {
      "cell_type": "code",
      "source": [
        "%cd /content/drive/My\\ Drive"
      ],
      "metadata": {
        "colab": {
          "base_uri": "https://localhost:8080/"
        },
        "id": "u9WtdROQdr6U",
        "outputId": "4df1bc43-871e-4ec5-97ac-1f74143b6256"
      },
      "execution_count": null,
      "outputs": [
        {
          "output_type": "stream",
          "name": "stdout",
          "text": [
            "/content/drive/My Drive\n"
          ]
        }
      ]
    },
    {
      "cell_type": "markdown",
      "source": [
        "Liste os arquivos para ter certeza de que estamos na sua pasta do Google Drive.\n",
        "\n",
        "    Obs.: Sua saída será diferente, mostrando seus próprios arquivos do Drive aqui."
      ],
      "metadata": {
        "id": "Tofh1umiekhu"
      }
    },
    {
      "cell_type": "code",
      "source": [
        "!ls"
      ],
      "metadata": {
        "colab": {
          "base_uri": "https://localhost:8080/"
        },
        "id": "FKXr3ghgd3OR",
        "outputId": "f2931121-ee14-4c90-b419-a1b73787d9f4"
      },
      "execution_count": 49,
      "outputs": [
        {
          "output_type": "stream",
          "name": "stdout",
          "text": [
            "drive  sample_data\n"
          ]
        }
      ]
    },
    {
      "cell_type": "code",
      "source": [
        "import sys\n",
        "sys.path.append('/content/drive/My Drive')"
      ],
      "metadata": {
        "id": "euDjspNLg3xc"
      },
      "execution_count": null,
      "outputs": []
    },
    {
      "cell_type": "code",
      "source": [
        ""
      ],
      "metadata": {
        "id": "x77dzxgDk-GC"
      },
      "execution_count": null,
      "outputs": []
    }
  ]
}