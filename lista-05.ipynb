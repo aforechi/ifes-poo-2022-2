{
  "cells": [
    {
      "cell_type": "markdown",
      "metadata": {
        "id": "view-in-github",
        "colab_type": "text"
      },
      "source": [
        "<a href=\"https://colab.research.google.com/github/aforechi/ifes-alg-2022-1/blob/main/lista-05.ipynb\" target=\"_parent\"><img src=\"https://colab.research.google.com/assets/colab-badge.svg\" alt=\"Open In Colab\"/></a>"
      ]
    },
    {
      "cell_type": "markdown",
      "metadata": {
        "id": "7l3s1Ogu4y8j"
      },
      "source": [
        "# 5a Lista de Exercícios \n",
        "\n",
        "Faça os exercícios abaixo de maneira clara, organizada e usando a linguagem Python, conforme orientações abaixo: \n",
        "\n",
        "- Lembre-se de identar o código com TAB, além de seguir as boas práticas de programação vistas em sala de aula e no livro texto.\n",
        "\n",
        "\n",
        "1. Um curso selecionou, através de análise curricular e entrevista, 70 alunos. Ao iniciar o curso, foi explicado que o aluno com nota na primeira prova abaixo da média da turma, seria desligado. Faça um programa em Python para ler de um arquivo texto (nome 'alunos_matriculados.txt') os nomes e as notas da primeira prova dos alunos da turma, calcular e imprimir a média e a variância na tela, retirar os alunos que ficaram abaixo da média da turma, e imprimir em um arquivo texto (nome 'alunos_aprovados.txt') os alunos que permaneceram na turma. Obs: variância = $\\frac{1}{n} \\sum_{i=1}^{n} (x_i - \\bar x)^2$, onde $\\bar x$ é a média aritmética. "
      ]
    },
    {
      "cell_type": "code",
      "execution_count": null,
      "metadata": {
        "id": "P_QCS__14y8m"
      },
      "outputs": [],
      "source": [
        ""
      ]
    },
    {
      "cell_type": "markdown",
      "metadata": {
        "id": "ri_cLxli4y8n"
      },
      "source": [
        "2. O sistema de avaliação de uma disciplina obedece aos seguintes critérios: a média parcial $MP$ é obtida pela média aritmética das notas de duas provas ($P1$ e $P2$), ponderadas com peso 0.5; somada a média das notas de dois trabalhos ($T1$ e $T2$), ponderada por 0.3; somada a média das notas de cinco listas ($L1$, $L2$, $L3$, $L4$, $L5$) de exercícios, ponderada por 0.2. É considerado aprovado o aluno que obtiver nota final superior a 6.0 e que tiver comparecido a um mínimo de $75\\%$ das aulas do total de 32. Fazer um programa em Python que leia de um arquivo texto um conjunto de dados de 40 alunos, uma linha para cada aluno contendo o número da matrícula (inteiro), as notas (real) das provas, dos trabalhos e das listas, e o número de aulas frequentadas (inteiro), armazenado em um arquivo 'curso.txt'. Calcule:    \n",
        "    - a média parcial **MP** de cada aluno segundo a formula\n",
        "$$MP = 0.5*\\frac{P1+P2}{2} + 0.3*\\frac{T1+T2}{2} + 0.2*\\frac{L1+L2+L3+L4+L5}{5}$$\n",
        "    - o total de alunos candidatos a fazer a prova final; \n",
        "    - a porcentagem de alunos reprovados por falta. \n",
        "Para cada aluno, escreva no arquivo 'resultado.txt' o número da matrícula, a nota final e o código (A = aprovado, R = reprovado por média, F = reprovado por falta). \n",
        "\n"
      ]
    },
    {
      "cell_type": "code",
      "execution_count": null,
      "metadata": {
        "id": "UKETxWKF4y8o"
      },
      "outputs": [],
      "source": [
        ""
      ]
    },
    {
      "cell_type": "markdown",
      "metadata": {
        "id": "psU4e-iR4y8o"
      },
      "source": [
        "3. Faça um programa em Python que leia do arquivo 'dados.txt' duas listas, $vetA$ e $vetB$, de tamanhos arbitrários, construa uma outra lista na qual cada elemento é o máximo em módulo entre os elementos correspondentes de $vetA$ e $vetB$. Calcule também o maior valor em módulo deste nova lista e a sua posição na lista. Imprima no arquivo 'saida.txt' a nova lista, e na tela o maior valor em módulo calculado e a sua posição na lista."
      ]
    },
    {
      "cell_type": "code",
      "execution_count": null,
      "metadata": {
        "id": "Otu19ME94y8p"
      },
      "outputs": [],
      "source": [
        ""
      ]
    },
    {
      "cell_type": "markdown",
      "metadata": {
        "id": "CoozdRSI4y8p"
      },
      "source": [
        "4. Faça um programa em Python que leia $n$ ($n$ arbitrário) valores reais, ordene usando o método **sort** em ordem decrescente e imprima os valores ordenados. Utilize a estrutura de dados lista para armazenar os valores."
      ]
    },
    {
      "cell_type": "code",
      "execution_count": null,
      "metadata": {
        "id": "Jlsq_Ca-4y8q"
      },
      "outputs": [],
      "source": [
        ""
      ]
    }
  ],
  "metadata": {
    "kernelspec": {
      "display_name": "Python 3",
      "name": "python3"
    },
    "language_info": {
      "name": "python"
    },
    "colab": {
      "name": "lista-05.ipynb",
      "provenance": [],
      "collapsed_sections": [],
      "include_colab_link": true
    },
    "gpuClass": "standard"
  },
  "nbformat": 4,
  "nbformat_minor": 0
}