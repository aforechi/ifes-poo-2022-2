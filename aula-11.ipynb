{
  "cells": [
    {
      "cell_type": "markdown",
      "metadata": {
        "id": "view-in-github",
        "colab_type": "text"
      },
      "source": [
        "<a href=\"https://colab.research.google.com/github/aforechi/ifes-alg-2022-1/blob/main/aula-11.ipynb\" target=\"_parent\"><img src=\"https://colab.research.google.com/assets/colab-badge.svg\" alt=\"Open In Colab\"/></a>"
      ]
    },
    {
      "cell_type": "markdown",
      "metadata": {
        "id": "i_osQwlIjy6W"
      },
      "source": [
        "# Aula 11: Listas, Strings e Matrizes\n",
        "\n",
        "## Revisão\n",
        "\n",
        "- Variáveis\n",
        "    - Declaração, definição, escopo\n",
        "- Constantes\n",
        "- Tipos de Dados\n",
        "    - Tipos simples\n",
        "        - Inteiro, Real, Lógico e String\n",
        "- Funções\n",
        "    - Declaração, definição, parâmetros, tipo/retorno, chamada\n",
        "\n",
        "## Nesta aula\n",
        "\n",
        "- Listas\n",
        "- Strings\n",
        "- Matrizes\n",
        "\n",
        "## Listas\n",
        "\n",
        "Uma lista é uma variável que armazena seqüencialmente várias informações do mesmo tipo ou não. \n",
        "\n",
        "Assim como qualquer variável, deve ter um identificador. \n",
        "\n",
        "Como armazena vários valores, uma lista possui um tamanho, isto é, o número de posições.\n",
        "\n",
        "Sintaxe para declarar vetores:\n",
        "\n",
        "nome_lista = [item1, item2, item3]\n",
        "\n",
        "Exemplos:\n",
        "\n",
        "numeros = [1, 3, 5, 7, 9]\n",
        "\n",
        "sigla = ['I', 'F', 'E', 'S']\n",
        "\n",
        "O índice de uma lista deve sempre ser menor que a quantidade de valores que ele armazena. Caso contrário, haverá erro de **Index Error**.\n",
        "\n",
        "### Acesso/Atribuição de valores\n",
        "\n",
        "Como armazenar valores em listas \n",
        "\n",
        "nome_lista[indice] = valor\n",
        "\n",
        "Exemplo:"
      ]
    },
    {
      "cell_type": "code",
      "execution_count": 1,
      "metadata": {
        "id": "xM2beGU3jy6Z"
      },
      "outputs": [],
      "source": [
        "notas = [4.6, 7.8, 9.3]"
      ]
    },
    {
      "cell_type": "code",
      "execution_count": 2,
      "metadata": {
        "colab": {
          "base_uri": "https://localhost:8080/"
        },
        "id": "4aANAqh6jy6b",
        "outputId": "25166292-43c3-4f50-b220-1f30c48b789a"
      },
      "outputs": [
        {
          "output_type": "execute_result",
          "data": {
            "text/plain": [
              "[4.6, 7.8, 9.3]"
            ]
          },
          "metadata": {},
          "execution_count": 2
        }
      ],
      "source": [
        "notas"
      ]
    },
    {
      "cell_type": "code",
      "execution_count": 4,
      "metadata": {
        "id": "h3pJ4eMEjy6c"
      },
      "outputs": [],
      "source": [
        "vet = [0]*100\n",
        "\n",
        "for i in range(100):\n",
        "    vet[i] = i+1"
      ]
    },
    {
      "cell_type": "code",
      "execution_count": 5,
      "metadata": {
        "colab": {
          "base_uri": "https://localhost:8080/"
        },
        "id": "mpvCIP90jy6d",
        "outputId": "310f05ee-7946-4f51-fb4e-9721dfc92cd9"
      },
      "outputs": [
        {
          "output_type": "stream",
          "name": "stdout",
          "text": [
            "vet[ 0 ]= 1\n",
            "vet[ 1 ]= 2\n",
            "vet[ 2 ]= 3\n",
            "vet[ 3 ]= 4\n",
            "vet[ 4 ]= 5\n",
            "vet[ 5 ]= 6\n",
            "vet[ 6 ]= 7\n",
            "vet[ 7 ]= 8\n",
            "vet[ 8 ]= 9\n",
            "vet[ 9 ]= 10\n",
            "vet[ 10 ]= 11\n",
            "vet[ 11 ]= 12\n",
            "vet[ 12 ]= 13\n",
            "vet[ 13 ]= 14\n",
            "vet[ 14 ]= 15\n",
            "vet[ 15 ]= 16\n",
            "vet[ 16 ]= 17\n",
            "vet[ 17 ]= 18\n",
            "vet[ 18 ]= 19\n",
            "vet[ 19 ]= 20\n",
            "vet[ 20 ]= 21\n",
            "vet[ 21 ]= 22\n",
            "vet[ 22 ]= 23\n",
            "vet[ 23 ]= 24\n",
            "vet[ 24 ]= 25\n",
            "vet[ 25 ]= 26\n",
            "vet[ 26 ]= 27\n",
            "vet[ 27 ]= 28\n",
            "vet[ 28 ]= 29\n",
            "vet[ 29 ]= 30\n",
            "vet[ 30 ]= 31\n",
            "vet[ 31 ]= 32\n",
            "vet[ 32 ]= 33\n",
            "vet[ 33 ]= 34\n",
            "vet[ 34 ]= 35\n",
            "vet[ 35 ]= 36\n",
            "vet[ 36 ]= 37\n",
            "vet[ 37 ]= 38\n",
            "vet[ 38 ]= 39\n",
            "vet[ 39 ]= 40\n",
            "vet[ 40 ]= 41\n",
            "vet[ 41 ]= 42\n",
            "vet[ 42 ]= 43\n",
            "vet[ 43 ]= 44\n",
            "vet[ 44 ]= 45\n",
            "vet[ 45 ]= 46\n",
            "vet[ 46 ]= 47\n",
            "vet[ 47 ]= 48\n",
            "vet[ 48 ]= 49\n",
            "vet[ 49 ]= 50\n",
            "vet[ 50 ]= 51\n",
            "vet[ 51 ]= 52\n",
            "vet[ 52 ]= 53\n",
            "vet[ 53 ]= 54\n",
            "vet[ 54 ]= 55\n",
            "vet[ 55 ]= 56\n",
            "vet[ 56 ]= 57\n",
            "vet[ 57 ]= 58\n",
            "vet[ 58 ]= 59\n",
            "vet[ 59 ]= 60\n",
            "vet[ 60 ]= 61\n",
            "vet[ 61 ]= 62\n",
            "vet[ 62 ]= 63\n",
            "vet[ 63 ]= 64\n",
            "vet[ 64 ]= 65\n",
            "vet[ 65 ]= 66\n",
            "vet[ 66 ]= 67\n",
            "vet[ 67 ]= 68\n",
            "vet[ 68 ]= 69\n",
            "vet[ 69 ]= 70\n",
            "vet[ 70 ]= 71\n",
            "vet[ 71 ]= 72\n",
            "vet[ 72 ]= 73\n",
            "vet[ 73 ]= 74\n",
            "vet[ 74 ]= 75\n",
            "vet[ 75 ]= 76\n",
            "vet[ 76 ]= 77\n",
            "vet[ 77 ]= 78\n",
            "vet[ 78 ]= 79\n",
            "vet[ 79 ]= 80\n",
            "vet[ 80 ]= 81\n",
            "vet[ 81 ]= 82\n",
            "vet[ 82 ]= 83\n",
            "vet[ 83 ]= 84\n",
            "vet[ 84 ]= 85\n",
            "vet[ 85 ]= 86\n",
            "vet[ 86 ]= 87\n",
            "vet[ 87 ]= 88\n",
            "vet[ 88 ]= 89\n",
            "vet[ 89 ]= 90\n",
            "vet[ 90 ]= 91\n",
            "vet[ 91 ]= 92\n",
            "vet[ 92 ]= 93\n",
            "vet[ 93 ]= 94\n",
            "vet[ 94 ]= 95\n",
            "vet[ 95 ]= 96\n",
            "vet[ 96 ]= 97\n",
            "vet[ 97 ]= 98\n",
            "vet[ 98 ]= 99\n",
            "vet[ 99 ]= 100\n"
          ]
        }
      ],
      "source": [
        "for i in range(100):\n",
        "    print(\"vet[\" , i , \"]=\" , vet[i])"
      ]
    },
    {
      "cell_type": "markdown",
      "metadata": {
        "id": "nDPvFtnrjy6e"
      },
      "source": [
        "Exemplo: Armazene o valor 0 na posição 0 e qualquer valor nas demais posições de um vetor. Ao final, escolha uma posição e mostre o que está nessa posição no vetor. Se a posição não existir, mostre “Posição inválida”."
      ]
    },
    {
      "cell_type": "code",
      "execution_count": 7,
      "metadata": {
        "id": "QTEexgTajy6e"
      },
      "outputs": [],
      "source": [
        "from random import randint\n",
        "\n",
        "vetint = [0]*5\n",
        "\n",
        "vetint[0] = 0\n",
        "\n",
        "for i in range(1,5):\n",
        "    vetint[i] = randint(0,1000)"
      ]
    },
    {
      "cell_type": "code",
      "execution_count": 8,
      "metadata": {
        "colab": {
          "base_uri": "https://localhost:8080/"
        },
        "id": "QwQP6vSOjy6f",
        "outputId": "8dfbca43-44d3-48ca-a40c-e11c08b8902e"
      },
      "outputs": [
        {
          "output_type": "stream",
          "name": "stdout",
          "text": [
            "Informe uma posição de 0 a 4: 3\n",
            "O indice  3  contém o valor  314\n"
          ]
        }
      ],
      "source": [
        "posicao = int(input(\"Informe uma posição de 0 a 4: \"))\n",
        "\n",
        "if (posicao>=0 and posicao<5):\n",
        "    print(\"O indice \" , posicao , \" contém o valor \" , vetint[posicao])"
      ]
    },
    {
      "cell_type": "code",
      "execution_count": 9,
      "metadata": {
        "colab": {
          "base_uri": "https://localhost:8080/"
        },
        "id": "5yJGSw-jjy6g",
        "outputId": "08e3f39d-0141-4535-d494-b6869aeb8e01"
      },
      "outputs": [
        {
          "output_type": "execute_result",
          "data": {
            "text/plain": [
              "[0, 198, 590, 314, 490]"
            ]
          },
          "metadata": {},
          "execution_count": 9
        }
      ],
      "source": [
        "vetint"
      ]
    },
    {
      "cell_type": "markdown",
      "metadata": {
        "id": "0P9IGrT1jy6h"
      },
      "source": [
        "### Usado como parâmetro de função:\n"
      ]
    },
    {
      "cell_type": "code",
      "execution_count": 10,
      "metadata": {
        "id": "VGAotOuKjy6h"
      },
      "outputs": [],
      "source": [
        "def calcMedia(vetNotas) :\n",
        "    soma = 0.0\n",
        "    for i in range(len(vetNotas)):\n",
        "        soma += vetNotas[i]\n",
        "    return soma/3.0"
      ]
    },
    {
      "cell_type": "code",
      "execution_count": 11,
      "metadata": {
        "colab": {
          "base_uri": "https://localhost:8080/"
        },
        "id": "6GK7oZzCjy6i",
        "outputId": "00acb4fe-3e76-4e05-debb-d5c274fc3608"
      },
      "outputs": [
        {
          "output_type": "execute_result",
          "data": {
            "text/plain": [
              "7.233333333333333"
            ]
          },
          "metadata": {},
          "execution_count": 11
        }
      ],
      "source": [
        "calcMedia(notas)"
      ]
    },
    {
      "cell_type": "markdown",
      "metadata": {
        "id": "jZiiMFYajy6j"
      },
      "source": [
        "## Exercício\n",
        "\n",
        "- Faça um programa que sorteie 10 números inteiros e guarde-os em uma lista. Depois percorra a lista para descobrir qual o maior número sorteado."
      ]
    },
    {
      "cell_type": "code",
      "execution_count": null,
      "metadata": {
        "id": "BsKa7NE0jy6l"
      },
      "outputs": [],
      "source": [
        ""
      ]
    },
    {
      "cell_type": "markdown",
      "metadata": {
        "id": "tBSbMPLUjy6m"
      },
      "source": [
        "## Strings\n",
        "\n",
        "Strings são listas de caracteres.\n",
        "\n",
        "São declaradas da seguinte forma:\n",
        "\n",
        "nomestring = \"exemplo\";\n",
        "\n",
        "Exemplo:"
      ]
    },
    {
      "cell_type": "code",
      "execution_count": 12,
      "metadata": {
        "id": "vI0i7XO-jy6p"
      },
      "outputs": [],
      "source": [
        "nome_lista = ['v','e','t','o','r']\n",
        "nome_string = \"vetor\""
      ]
    },
    {
      "cell_type": "code",
      "execution_count": 17,
      "metadata": {
        "colab": {
          "base_uri": "https://localhost:8080/"
        },
        "id": "X4sHwAL2jy6r",
        "outputId": "76286cbf-9858-4f6f-8aa1-687beb8552e3"
      },
      "outputs": [
        {
          "output_type": "stream",
          "name": "stdout",
          "text": [
            "['v', 'e', 't', 'o', 'r']\n",
            "vetor\n"
          ]
        }
      ],
      "source": [
        "print(nome_lista, nome_string, sep='\\n')"
      ]
    },
    {
      "cell_type": "code",
      "source": [
        "print(''.join(nome_lista), nome_string, sep='\\n')"
      ],
      "metadata": {
        "colab": {
          "base_uri": "https://localhost:8080/"
        },
        "id": "7WtapsuLov5a",
        "outputId": "da5af2e0-af08-437e-8db8-d901f3fc7a31"
      },
      "execution_count": 22,
      "outputs": [
        {
          "output_type": "stream",
          "name": "stdout",
          "text": [
            "vetor\n",
            "vetor\n"
          ]
        }
      ]
    },
    {
      "cell_type": "markdown",
      "metadata": {
        "id": "Z5VRVAdujy6s"
      },
      "source": [
        "## Principais funções para manipular strings\n",
        "\n",
        "s1+s2 - concatenar strings\n",
        "\n",
        "len(s1) – retorna o tamanho de s1\n",
        "\n",
        "s1 == s2 – retorna :\n",
        "- True se s1 e s2 são iguais; \n",
        "s1 < s2 – retorna :\n",
        "- True se s1<s2 e \n",
        "s1 > s2 – retorna :\n",
        "- True se s1>s2.\n",
        "\n",
        "Para manipular strings (armazenar, copiar, concatenar, etc.) utilizamos as funções da variável string."
      ]
    },
    {
      "cell_type": "code",
      "execution_count": 24,
      "metadata": {
        "colab": {
          "base_uri": "https://localhost:8080/"
        },
        "id": "rXLmaW63jy6t",
        "outputId": "d15005a1-3b98-4dc8-ab16-7b1450922b49"
      },
      "outputs": [
        {
          "output_type": "stream",
          "name": "stdout",
          "text": [
            "Comprimentos  14 21\n",
            "string pequenastring um pouco maior\n",
            "\n",
            "CASA está em MINHA CASA\n",
            "\n",
            "\n",
            "As strings são diferentes\n",
            "\n"
          ]
        }
      ],
      "source": [
        "s1 = \"string pequena\"\n",
        "s2 = \"string um pouco maior\" \n",
        "\n",
        "'''Calcula comprimentos das strings'''\n",
        "print(\"Comprimentos \" , len(s1) , len(s2))\n",
        "\n",
        "# concatenar s2 e s1\n",
        "s3 = s1 + s2\n",
        "print(s3)\n",
        "\n",
        "''' Procurar se a string “casa” ocorre em “minha casa”'''\n",
        "\n",
        "if \"Minha casa\".find(\"casa\"):\n",
        "    print(\"\\nCASA está em MINHA CASA\\n\")\n",
        "\n",
        "if \"casa\" != \"CASA\":\n",
        "    print(\"\\nAs strings são diferentes\\n\")\n"
      ]
    },
    {
      "cell_type": "code",
      "execution_count": 30,
      "metadata": {
        "colab": {
          "base_uri": "https://localhost:8080/"
        },
        "id": "k7KNbzJojy6u",
        "outputId": "ec0d6e89-04b9-46ad-d41b-92d86e35d6c1"
      },
      "outputs": [
        {
          "output_type": "execute_result",
          "data": {
            "text/plain": [
              "False"
            ]
          },
          "metadata": {},
          "execution_count": 30
        }
      ],
      "source": [
        "\"casa\" < \"CASA\""
      ]
    },
    {
      "cell_type": "code",
      "source": [
        "ord('C')"
      ],
      "metadata": {
        "colab": {
          "base_uri": "https://localhost:8080/"
        },
        "id": "xneZXXt7rjVJ",
        "outputId": "d95d77d0-7fb8-402b-9a83-e5cb3b3d4470"
      },
      "execution_count": 31,
      "outputs": [
        {
          "output_type": "execute_result",
          "data": {
            "text/plain": [
              "67"
            ]
          },
          "metadata": {},
          "execution_count": 31
        }
      ]
    },
    {
      "cell_type": "markdown",
      "metadata": {
        "id": "3-NHLQU6jy6w"
      },
      "source": [
        "## Matrizes\n",
        "\n",
        "Matrizes são estruturas bidimensionais (tabelas) com $m$ linhas por $n$ colunas muito importantes na matemática, utilizadas por exemplo para a resolução de sistemas de equações e transformações lineares.\n",
        "\n",
        "Em Python, uma matriz pode ser representada como uma lista de listas, onde um elemento da lista contém uma linha da matriz, que por sua vez corresponde a uma lista com os elementos da coluna da matriz.\n",
        "\n",
        "### Sintaxe para declarar matrizes\n"
      ]
    },
    {
      "cell_type": "code",
      "execution_count": 32,
      "metadata": {
        "id": "WZ4TQddxjy6x"
      },
      "outputs": [],
      "source": [
        "A = []\n",
        "for i in range(5):\n",
        "    A.append( [0] * 5 )"
      ]
    },
    {
      "cell_type": "code",
      "execution_count": 33,
      "metadata": {
        "colab": {
          "base_uri": "https://localhost:8080/"
        },
        "id": "g1UHC-kkjy6x",
        "outputId": "5fc90a34-2a93-4923-c52b-7d89d30d2c95"
      },
      "outputs": [
        {
          "output_type": "stream",
          "name": "stdout",
          "text": [
            "0\n"
          ]
        }
      ],
      "source": [
        "# Acessando elementos\n",
        "print(A[1][0])"
      ]
    },
    {
      "cell_type": "code",
      "execution_count": 34,
      "metadata": {
        "id": "DuC9-90Qjy6y"
      },
      "outputs": [],
      "source": [
        "# Atribuindo elementos\n",
        "A[0][2] = 25"
      ]
    },
    {
      "cell_type": "code",
      "execution_count": 35,
      "metadata": {
        "colab": {
          "base_uri": "https://localhost:8080/"
        },
        "id": "8XlucvY_jy6z",
        "outputId": "517dfa3e-7615-4c5a-f6fe-9d95000d819d"
      },
      "outputs": [
        {
          "output_type": "execute_result",
          "data": {
            "text/plain": [
              "[[0, 0, 25, 0, 0],\n",
              " [0, 0, 0, 0, 0],\n",
              " [0, 0, 0, 0, 0],\n",
              " [0, 0, 0, 0, 0],\n",
              " [0, 0, 0, 0, 0]]"
            ]
          },
          "metadata": {},
          "execution_count": 35
        }
      ],
      "source": [
        "A"
      ]
    },
    {
      "cell_type": "markdown",
      "metadata": {
        "id": "eifQGd73jy60"
      },
      "source": [
        "### Atenção: não crie matrizes da forma abaixo"
      ]
    },
    {
      "cell_type": "code",
      "source": [
        "colunas = [0]*5\n",
        "B = [ colunas ] * 5\n",
        "B[1][1] = 2"
      ],
      "metadata": {
        "id": "YU8L_L31tcgL"
      },
      "execution_count": 40,
      "outputs": []
    },
    {
      "cell_type": "code",
      "source": [
        "B"
      ],
      "metadata": {
        "colab": {
          "base_uri": "https://localhost:8080/"
        },
        "id": "jPYL4IuTtpFE",
        "outputId": "cd88dc51-be4d-4629-968d-9dc199a53a68"
      },
      "execution_count": 41,
      "outputs": [
        {
          "output_type": "execute_result",
          "data": {
            "text/plain": [
              "[[0, 2, 0, 0, 0],\n",
              " [0, 2, 0, 0, 0],\n",
              " [0, 2, 0, 0, 0],\n",
              " [0, 2, 0, 0, 0],\n",
              " [0, 2, 0, 0, 0]]"
            ]
          },
          "metadata": {},
          "execution_count": 41
        }
      ]
    },
    {
      "cell_type": "markdown",
      "metadata": {
        "id": "1IpqcPANjy61"
      },
      "source": [
        "### Inicialização de matrizes não-dimensionadas\n"
      ]
    },
    {
      "cell_type": "code",
      "execution_count": 42,
      "metadata": {
        "colab": {
          "base_uri": "https://localhost:8080/"
        },
        "id": "vV6p48CQjy63",
        "outputId": "275ca70b-a79d-450a-cc8a-853e880112a2"
      },
      "outputs": [
        {
          "output_type": "stream",
          "name": "stdout",
          "text": [
            "[[65, 96, 80], [4, 52, 58], [41, 28, 19]]\n"
          ]
        }
      ],
      "source": [
        "# Exemplo: Preencha uma matriz 3x3 com números inteiros aleatórios e mostre sua diagonal.\n",
        "\n",
        "from random import randint\n",
        "\n",
        "numeros = []\n",
        "\n",
        "for i in range(3) :\n",
        "    numeros.append([0]*3)\n",
        "    for j in range(3) :\n",
        "        numeros[i][j] = randint(0,100)\n",
        "print(numeros)"
      ]
    },
    {
      "cell_type": "code",
      "execution_count": 44,
      "metadata": {
        "colab": {
          "base_uri": "https://localhost:8080/"
        },
        "id": "5aPw6JFnjy64",
        "outputId": "3e31f15b-7810-4b66-b184-17510b8a510f"
      },
      "outputs": [
        {
          "output_type": "stream",
          "name": "stdout",
          "text": [
            "65\n",
            "52\n",
            "19\n"
          ]
        }
      ],
      "source": [
        "for i in range(3): \n",
        "    print(numeros[i][i])"
      ]
    },
    {
      "cell_type": "code",
      "execution_count": null,
      "metadata": {
        "id": "fCzs57Vjjy64"
      },
      "outputs": [],
      "source": [
        ""
      ]
    },
    {
      "cell_type": "markdown",
      "metadata": {
        "id": "i2lGzV_ujy65"
      },
      "source": [
        "### Exercícios:\n",
        "- Preencha uma matriz 5x5 e passe como parâmetro para as seguintes funções exibirem:\n",
        "    - a matriz triangular inferior, \n",
        "    - a diagonal principal e \n",
        "    - a matriz triangular superior.\n",
        "- Você saberia fazer um jogo da velha em Python?\n"
      ]
    },
    {
      "cell_type": "markdown",
      "metadata": {
        "id": "sOxfdvZLjy69"
      },
      "source": [
        "## Boas práticas de programação\n",
        "\n",
        "- Entenda claramente como os dados estão sendo armazenados em listas e matrizes. \n",
        "  - Dica: Faça simulações em desenhos.\n",
        "- Observe como os índices percorrem listas e matrizes. \n",
        "  - Certifique-se de que variam a partir da posição zero e não ultrapassam a posição (n-1), onde n é o número de itens (em linhas e/ou colunas).\n",
        "- Ao realizar testes de matrizes e listas, primeiro faça para um número pequeno de dimensões e depois para um número maior.\n"
      ]
    },
    {
      "cell_type": "code",
      "execution_count": null,
      "metadata": {
        "id": "2kZeB7-0jy69"
      },
      "outputs": [],
      "source": [
        ""
      ]
    }
  ],
  "metadata": {
    "kernelspec": {
      "display_name": "Python 3",
      "name": "python3"
    },
    "language_info": {
      "name": "python"
    },
    "colab": {
      "name": "aula-11.ipynb",
      "provenance": [],
      "collapsed_sections": [],
      "include_colab_link": true
    },
    "gpuClass": "standard"
  },
  "nbformat": 4,
  "nbformat_minor": 0
}