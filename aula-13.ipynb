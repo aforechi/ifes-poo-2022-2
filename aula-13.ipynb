{
 "cells": [
  {
   "cell_type": "markdown",
   "metadata": {
    "slideshow": {
     "slide_type": "slide"
    }
   },
   "source": [
    "# Aula 12 – Conceitos de Programação Orientada a Objetos (POO) \n",
    "\n",
    "[Aula baseada nos slides do Prof. Romildo da UFOP](http://www.decom.ufop.br/romildo/2015-1/bcc221/slides/01_Aula_01.pptx)\n",
    "\n",
    "## Agenda\n",
    "- Programação Estruturada\n",
    "- Orientação a Objetos\n",
    "    - Conceitos básicos\n",
    "        - Objetos\n",
    "        - Classes\n",
    "        - Relacionamentos entre classes\n",
    "    - Análise\n",
    "    - Projeto\n",
    "- UML (Unified Modeling Language)\n",
    "    - Conceitos básicos\n",
    "    - Diagramas de Classses\n",
    "- Programação Estruturada vs. Programação Orientada a Objetos\n"
   ]
  },
  {
   "cell_type": "markdown",
   "metadata": {
    "slideshow": {
     "slide_type": "slide"
    }
   },
   "source": [
    "## Motivação\n",
    "\n",
    "- Como você realmente escreve um grande software?\n",
    "    - Quanto tempo levará?\n",
    "    - Como o código será organizado?\n",
    "    - Dá para reaproveitar algum código?\n",
    "    - Como será testado?\n",
    "    - Será fácil depurar os bugs?\n",
    "    - Como se dividem as tarefas entre mais programadores?\n",
    "    - Como juntar todos os códigos ao final?\n",
    "    - Funciona?\n"
   ]
  },
  {
   "cell_type": "markdown",
   "metadata": {
    "slideshow": {
     "slide_type": "slide"
    }
   },
   "source": [
    "## Programação Estruturada\n",
    "\n",
    "![](https://github.com/aforechi/ifes-cpp-2018-2/raw/master/img/Picture38.png)"
   ]
  },
  {
   "cell_type": "markdown",
   "metadata": {
    "slideshow": {
     "slide_type": "slide"
    }
   },
   "source": [
    "## Programação Estruturada\n",
    "\n",
    "- A programação estruturada tem como principal foco as **ações** \n",
    "    - Procedimentos e Funções\n",
    "- Fornece maior controle sobre o fluxo de execução de um programa \n",
    "    - Estruturas de sequência;\n",
    "    - Estruturas de decisão;\n",
    "    - Estruturas de repetição."
   ]
  },
  {
   "cell_type": "markdown",
   "metadata": {
    "slideshow": {
     "slide_type": "slide"
    }
   },
   "source": [
    "## Programação Estruturada\n",
    "- As linguagens estruturadas são de entendimento relativamente fácil\n",
    "    - Por isso são utilizadas em cursos introdutórios.\n",
    "- No entanto, são focadas em **como** uma tarefa deve ser feita\n",
    "    - E não em **o que** deve ser feito.\n",
    "- Mistura **tratamento de dados** e **comportamento** do programa."
   ]
  },
  {
   "cell_type": "markdown",
   "metadata": {
    "slideshow": {
     "slide_type": "slide"
    }
   },
   "source": [
    "## Programação Estruturada\n",
    "- A programação estruturada ainda é muito influente\n",
    "    - Para cada situação uma ferramenta.\n",
    "- Para problemas simples e diretos, ainda é a melhor solução."
   ]
  },
  {
   "cell_type": "markdown",
   "metadata": {
    "slideshow": {
     "slide_type": "slide"
    }
   },
   "source": [
    "## Orientação a Objetos\n",
    "\n",
    "<img src=\"https://github.com/aforechi/ifes-cpp-2018-2/raw/master/img/Picture39.png\" width=\"50%\" height=\"50%\">"
   ]
  },
  {
   "cell_type": "markdown",
   "metadata": {
    "slideshow": {
     "slide_type": "slide"
    }
   },
   "source": [
    "## Orientação a Objetos\n",
    "- O conceito de Orientação a Objetos data do final da década de 60 e início da década de 70\n",
    "    - Simula 67 (60’s);\n",
    "    - Smalltalk (70’s);\n",
    "    - C++ (80’s).\n",
    "- Surgiu da necessidade de modelar sistemas mais complexos.\n"
   ]
  },
  {
   "cell_type": "markdown",
   "metadata": {
    "slideshow": {
     "slide_type": "slide"
    }
   },
   "source": [
    "## Orientação a Objetos\n",
    "- Como melhor modelar o mundo real utilizando um conjunto de componentes de software?\n",
    "- Considerando que nosso mundo é composto de **objetos**, porquê não utilizá-los?\n",
    "- A ideia é modelar utilizando objetos, determinando como eles devem se comportar e como deve interagir entre si.\n"
   ]
  },
  {
   "cell_type": "markdown",
   "metadata": {
    "slideshow": {
     "slide_type": "slide"
    }
   },
   "source": [
    "## Orientação a Objetos\n",
    "- **abstrair** (abs-tra-ir)\n",
    "    - Verbo transitivo cujo significado é:\n",
    "    - Separar. V. i. Considerar separadamente. V. p. Concentrar-se. Alhear-se.\n",
    "- Em outras palavras, captar a essência de um problema ou contexto e considerar o que realmente importa."
   ]
  },
  {
   "cell_type": "markdown",
   "metadata": {
    "slideshow": {
     "slide_type": "slide"
    }
   },
   "source": [
    "## Orientação a Objetos\n",
    "- Este paradigma de programação tenta ser o mais óbvio, natural e exato possível;\n",
    "- São conceitos essenciais:\n",
    "    - Classes e objetos;\n",
    "    - Atributos, Métodos e Mensagens;\n",
    "    - Herança e Associação;\n",
    "    - Encapsulamento;\n",
    "    - Polimorfismo;\n",
    "    - Interfaces."
   ]
  },
  {
   "cell_type": "markdown",
   "metadata": {
    "slideshow": {
     "slide_type": "slide"
    }
   },
   "source": [
    "## Objetos\n",
    "- Objetos são a chave para entender a POO;\n",
    "- Se olharmos a nossa volta, encontraremos vários exemplos de objetos reais:\n",
    "    - Celular;\n",
    "    - Mesa;\n",
    "    - Computador;\n",
    "    - Janela;\n",
    "    - Lâmpada;\n",
    "    - Etc."
   ]
  },
  {
   "cell_type": "markdown",
   "metadata": {
    "slideshow": {
     "slide_type": "slide"
    }
   },
   "source": [
    "## Objetos\n",
    "- Os objetos reais possuem duas caracterísicas\n",
    "    - Estado (Atributos);\n",
    "    - Comportamento.\n",
    "- Por exemplo:\n",
    "    - Um cachorro\n",
    "        - Estado: nome, cor, raça, fome…\n",
    "        - Comportamento: latindo, abanando o rabo, comendo…\n",
    "    - Uma bicicleta\n",
    "        - Estado: marcha atual, freio, rotação…\n",
    "        - Comportamento: mudando de marcha, freando…"
   ]
  },
  {
   "cell_type": "markdown",
   "metadata": {
    "slideshow": {
     "slide_type": "slide"
    }
   },
   "source": [
    "## Objetos\n",
    "- Quais são as características de uma lâmpada?\n",
    "- Quais são as características de um projetor?\n",
    "    - E como tratamos a lâmpada do projetor?\n",
    "- Objetos variam em complexidade\n",
    "    - Porém, os detalhes relevantes dependem do contexto;\n",
    "    - Esta análise de características é traduzível em orientação a objetos.\n"
   ]
  },
  {
   "cell_type": "markdown",
   "metadata": {
    "slideshow": {
     "slide_type": "slide"
    }
   },
   "source": [
    "## Objetos\n",
    "\n",
    "<img src=\"https://github.com/aforechi/ifes-cpp-2018-2/raw/master/img/Picture40.png\" width=\"50%\" height=\"50%\">"
   ]
  },
  {
   "cell_type": "markdown",
   "metadata": {
    "slideshow": {
     "slide_type": "slide"
    }
   },
   "source": [
    "## Objetos: Atributos e Métodos\n",
    "- Um objeto de software é **conceitualmente** similar aos objetos reais\n",
    "- Objetos armazenam seu estado em **atributos**\n",
    "    - Correspondentes às variáveis em programação estruturada.\n",
    "- Objetos expõem seu comportamento através de **métodos**\n",
    "    - Correspondentes às funções em programação estruturada.\n"
   ]
  },
  {
   "cell_type": "markdown",
   "metadata": {
    "slideshow": {
     "slide_type": "slide"
    }
   },
   "source": [
    "## Objetos\n",
    "\n",
    "<img src=\"https://github.com/aforechi/ifes-cpp-2018-2/raw/master/img/Picture41.png\" width=\"50%\" height=\"50%\">"
   ]
  },
  {
   "cell_type": "markdown",
   "metadata": {
    "slideshow": {
     "slide_type": "slide"
    }
   },
   "source": [
    "## Objetos\n",
    "- Empacotar o código em objetos individuais fornece:\n",
    "    - Modularidade \n",
    "        - Objetos ficam independentes.\n",
    "    - Ocultação de informação\n",
    "        - Os detalhes da implementação de um objeto permanecem ocultos.\n",
    "    - Reuso\n",
    "        - Objetos podem ser reutilizados em diferentes programas.\n",
    "    - Plugabilidade\n",
    "        - Objetos podem ser substituídos em um programa, como peças.\n"
   ]
  },
  {
   "cell_type": "markdown",
   "metadata": {
    "slideshow": {
     "slide_type": "slide"
    }
   },
   "source": [
    "## Encapsulamento de Dados\n",
    "![](https://github.com/aforechi/ifes-cpp-2018-2/raw/master/img/Picture42.png)"
   ]
  },
  {
   "cell_type": "markdown",
   "metadata": {
    "slideshow": {
     "slide_type": "slide"
    }
   },
   "source": [
    "## Encapsulamento de Dados\n",
    "- Os métodos definem o estado interno de um objeto\n",
    "    - E servem como mecanismo primário de comunicação entre objetos.\n",
    "- Esconder o estado interno e requerer que toda interação  seja feita através de métodos é chamado de **encapsulamento de dados**\n",
    "- Um princípio fundamental de OO.\n"
   ]
  },
  {
   "cell_type": "markdown",
   "metadata": {
    "slideshow": {
     "slide_type": "slide"
    }
   },
   "source": [
    "## Encapsulamento de Dados\n",
    "- Através do encapsulamento de dados, evitamos alterações acidentais nos atributos de um objeto\n",
    "    - Caso haja alguma alteração nos atributos, temos certeza de qual método foi utilizado.\n",
    "- A idéia é proteger informações de uma parte da aplicação das demais partes da aplicação\n",
    "    - Alterações pontuais podem ser feitas no código sem introdução de bugs adicionais em trechos que não tem relação com o trecho alterado."
   ]
  },
  {
   "cell_type": "markdown",
   "metadata": {
    "slideshow": {
     "slide_type": "slide"
    }
   },
   "source": [
    "## Encapsulamento de Dados\n",
    "- Mantendo o estado e provendo métodos para alterar o estado, quem determina como o mundo pode interagir com o objeto é o próprio objeto\n",
    "    - O objeto está no controle;\n",
    "    - Por exemplo, não poderíamos passar a 7a marcha se o objeto só possuir 6 marchas;\n",
    "    - Não é o que ocorre no mundo real?\n"
   ]
  },
  {
   "cell_type": "markdown",
   "metadata": {
    "slideshow": {
     "slide_type": "slide"
    }
   },
   "source": [
    "## Classes\n",
    "![](https://github.com/aforechi/ifes-cpp-2018-2/raw/master/img/Picture43.png)"
   ]
  },
  {
   "cell_type": "markdown",
   "metadata": {
    "slideshow": {
     "slide_type": "slide"
    }
   },
   "source": [
    "## Classes\n",
    "![](https://github.com/aforechi/ifes-cpp-2018-2/raw/master/img/Picture44.png)"
   ]
  },
  {
   "cell_type": "markdown",
   "metadata": {
    "slideshow": {
     "slide_type": "slide"
    }
   },
   "source": [
    "## Classes\n",
    "![](https://github.com/aforechi/ifes-cpp-2018-2/raw/master/img/Picture45.png)"
   ]
  },
  {
   "cell_type": "markdown",
   "metadata": {
    "slideshow": {
     "slide_type": "slide"
    }
   },
   "source": [
    "## Classes\n",
    "![](https://github.com/aforechi/ifes-cpp-2018-2/raw/master/img/Picture46.png)"
   ]
  },
  {
   "cell_type": "markdown",
   "metadata": {
    "slideshow": {
     "slide_type": "slide"
    }
   },
   "source": [
    "## Classes\n",
    "![](https://github.com/aforechi/ifes-cpp-2018-2/raw/master/img/Picture47.png)"
   ]
  },
  {
   "cell_type": "markdown",
   "metadata": {
    "slideshow": {
     "slide_type": "slide"
    }
   },
   "source": [
    "## Classes\n",
    "![](https://github.com/aforechi/ifes-cpp-2018-2/raw/master/img/Picture48.png)"
   ]
  },
  {
   "cell_type": "markdown",
   "metadata": {
    "slideshow": {
     "slide_type": "slide"
    }
   },
   "source": [
    "## Classes\n",
    "![](https://github.com/aforechi/ifes-cpp-2018-2/raw/master/img/Picture49.png)"
   ]
  },
  {
   "cell_type": "markdown",
   "metadata": {
    "slideshow": {
     "slide_type": "slide"
    }
   },
   "source": [
    "## Classes\n",
    "- No mundo real, encontramos vários objetos de um mesmo tipo\n",
    "    - Deve haver centenas de outras bicicletas, do mesmo fabricante e modelo;\n",
    "    - Cada bicicleta pode ser produzida a partir do mesmo conjunto de projetos e conter as mesmas peças.\n"
   ]
  },
  {
   "cell_type": "markdown",
   "metadata": {
    "slideshow": {
     "slide_type": "slide"
    }
   },
   "source": [
    "## Classes\n",
    "- Em orientação a objetos, dizemos que um objeto é uma **instância** da **classe de objetos** conhecida como Bicicleta;\n",
    "- Uma classe é o projeto a partir do qual objetos individuais são criados\n",
    "    - Ela define os atributos e os métodos correspondentes aos seus objetos.\n"
   ]
  },
  {
   "cell_type": "markdown",
   "metadata": {
    "slideshow": {
     "slide_type": "slide"
    }
   },
   "source": [
    "## Classes\n",
    "- Para definir uma classe é necessário abstrair um conjunto de objetos com características similares;\n",
    "- Outros possíveis membros de uma classe são:\n",
    "    - Construtores\n",
    "        - Define as operações a serem realizadas quando um objeto é criado.\n",
    "    - Destrutores\n",
    "        - Define as operações a serem realizadas quando um objeto é destruído.\n"
   ]
  },
  {
   "cell_type": "markdown",
   "metadata": {
    "slideshow": {
     "slide_type": "slide"
    }
   },
   "source": [
    "## Classes\n",
    "- Classes Abstratas\n",
    "    - Classes que não utilizaremos para instanciar objetos;\n",
    "    - Existem apenas para servir de molde para outras classes\n",
    "        - Para que outras classes herdem interface e/ou implementação.\n",
    "- Classes Concretas\n",
    "    - Podem ser instanciadas\n",
    "        - Ou seja, podemos criar objetos.\n"
   ]
  },
  {
   "cell_type": "markdown",
   "metadata": {
    "slideshow": {
     "slide_type": "slide"
    }
   },
   "source": [
    "## Relacionamentos Entre Classes\n",
    "- Diferentes classes podem se relacionar entre si, criando/compondo novos tipos de objetos\n",
    "    - Um determinado objeto pode ser basear em um outro e adicionar informações, estendendo a classe\n",
    "        - Pode também se basear em dois ou mais tipos diferentes de objetos.\n",
    "    - É possível também que um objeto “utilize” outro tipo de objeto\n",
    "        - Um projetor não utiliza uma lâmpada?\n"
   ]
  },
  {
   "cell_type": "markdown",
   "metadata": {
    "slideshow": {
     "slide_type": "slide"
    }
   },
   "source": [
    "## Relacionamentos Entre Classes\n",
    "- Os relacionamentos entre classes são:\n",
    "    - Associação;\n",
    "        - Composição;\n",
    "        - Agregação;\n",
    "    - Herança;\n",
    "    - Dependência.\n"
   ]
  },
  {
   "cell_type": "markdown",
   "metadata": {
    "slideshow": {
     "slide_type": "slide"
    }
   },
   "source": [
    "## Relacionamentos Entre Classes: Associação\n",
    "- **Agregação** e **Composição** são tipos especiais de Associação;\n",
    "- Uma **Associação** é o mecanismo pelo qual um objeto utiliza os recursos de outro\n",
    "    - Pode ser uma associação simples\n",
    "        - “Usa um”;\n",
    "        - “Uma Pessoa **usa um** computador”.\n",
    "    - Ou um acoplamento\n",
    "        - “Parte de”;\n",
    "        - “O teclado é **parte de** um computador”.\n"
   ]
  },
  {
   "cell_type": "markdown",
   "metadata": {
    "slideshow": {
     "slide_type": "slide"
    }
   },
   "source": [
    "## Relacionamentos Entre Classes: Composição\n",
    "- A **Composição** é um relacionamento de **conter**\n",
    "    - Define uma relação do tipo “**contém um**”\n",
    "        - Um objeto contém outro(s) objeto(s).\n",
    "    - Os objetos contidos dependem do objeto contêiner para existir\n",
    "        - Se o contentor é destruído, os objetos contidos nele também são.\n",
    "    - Conceito de não compartilhamento\n",
    "        - Os objetos pertencem somente a um contentor.\n"
   ]
  },
  {
   "cell_type": "markdown",
   "metadata": {
    "slideshow": {
     "slide_type": "slide"
    }
   },
   "source": [
    "## Relacionamentos Entre Classes: Agregação\n",
    "- Uma **Agregação** representa um **todo** que é composto de várias **partes**\n",
    "    - Não é uma relação de contenção;\n",
    "    - É uma variação do relacionamto “**tem um**”;\n",
    "    - As partes de uma agregação podem ter outros papéis em outras relações\n",
    "        - Há compartilhamento.\n",
    "- Por exemplo, uma reunião é uma agregação de sala, pauta e pessoas\n",
    "    - Uma reunião **tem uma** sala, **tem uma** pauta e **tem** pessoas;\n",
    "    - Se a reunião acabar, as pessoas continuam a existir.\n"
   ]
  },
  {
   "cell_type": "markdown",
   "metadata": {
    "slideshow": {
     "slide_type": "slide"
    }
   },
   "source": [
    "## Relacionamentos Entre Classes: Herança\n",
    "- O relacionamento de Herança define um relacionamento do tipo “**é um**”\n",
    "    - “Mountain Bike **é uma** bicicleta”.\n",
    "- Indica que uma (a subclasse) de duas classes relacionadas é uma forma **especializada** da outra (a superclasse)\n",
    "    - A superclasse é considerada uma **generalização** da subclasse.\n"
   ]
  },
  {
   "cell_type": "markdown",
   "metadata": {
    "slideshow": {
     "slide_type": "slide"
    }
   },
   "source": [
    "## Relacionamentos Entre Classes: Herança\n",
    "- Diferentes tipos de objetos frequentemente possuem semelhanças com outros\n",
    "    - Bicicletas Tandem;\n",
    "    - Mountain bikes;\n",
    "    - Bicicletas de corrida.\n",
    "\n",
    "<img src=\"https://github.com/aforechi/ifes-cpp-2018-2/raw/master/img/Picture50.png\" width=\"50%\" height=\"50%\">"
   ]
  },
  {
   "cell_type": "markdown",
   "metadata": {
    "slideshow": {
     "slide_type": "slide"
    }
   },
   "source": [
    "## Relacionamentos Entre Classes: Herança\n",
    "- Todas estas bicicletas possuem características de bicicletas\n",
    "    - Velocidade atual;\n",
    "    - Rotação atual;\n",
    "    - Marcha atual.\n",
    "- No entanto, também possuem características diferentes\n",
    "    - As Tandem possuem dois bancos e guidões;\n",
    "    - As de corrida possuem guidão angulado;\n",
    "    - Moutain bikes possuem correntes maiores, alterando o peso das marchas.\n"
   ]
  },
  {
   "cell_type": "markdown",
   "metadata": {
    "slideshow": {
     "slide_type": "slide"
    }
   },
   "source": [
    "## Relacionamentos Entre Classes: Herança\n",
    "- A orientação a objetos permite que as classes **herdem** o estado e comportamento comuns a outras classes\n",
    "    - Neste exemplo, a classe Bicicleta se torna a **superclasse** de MountainBike, TandemBike e RoadBike\n",
    "        - Estas agora são consideradas **subclasses**.\n"
   ]
  },
  {
   "cell_type": "markdown",
   "metadata": {
    "slideshow": {
     "slide_type": "slide"
    }
   },
   "source": [
    "## Relacionamentos Entre Classes: Herança\n",
    "\n",
    "<img src=\"https://github.com/aforechi/ifes-cpp-2018-2/raw/master/img/Picture51.png\" width=\"50%\" height=\"50%\">"
   ]
  },
  {
   "cell_type": "markdown",
   "metadata": {
    "slideshow": {
     "slide_type": "slide"
    }
   },
   "source": [
    "## Relacionamentos Entre Classes: Herança\n",
    "- Neste exemplo, o mecanismo de herança permite que MountainBike, TandemBike e RoadBike possuam automaticamente os mesmos atributos e métodos da superclasse Bicicleta\n",
    "    - E ainda permite que cada uma das subclasses defina seus atributos e métodos adicionais;\n",
    "    - Ou seja, nas subclasses nos preocuparemos em definir apena aquilo que as tornam diferentes.\n"
   ]
  },
  {
   "cell_type": "markdown",
   "metadata": {
    "slideshow": {
     "slide_type": "slide"
    }
   },
   "source": [
    "## Relacionamentos Entre Classes: Herança\n",
    "- O código fonte da superclasse não estará disponível no código da subclasse\n",
    "    - Então é necessário que ele esteja bem documentado.\n",
    "- Quando uma subclasse possui mais de uma superclasse, usamos o termo **herança múltipla**;\n",
    "- Também, uma subclasse pode se tornar superclasse de outras.\n"
   ]
  },
  {
   "cell_type": "markdown",
   "metadata": {
    "slideshow": {
     "slide_type": "slide"
    }
   },
   "source": [
    "## Relacionamentos Entre Classes: Herança\n",
    "- Podemos pensar sobre herança como algo semelhante a funções\n",
    "    - Quando identificamos um trecho de código que se repete várias vezes, criamos uma função com aquele conteúdo;\n",
    "    - Quando identificamos várias características em comum em um grupo de classes, podemos criar uma superclasse;\n",
    "    - Evitamos a redundância.\n"
   ]
  },
  {
   "cell_type": "markdown",
   "metadata": {
    "slideshow": {
     "slide_type": "slide"
    }
   },
   "source": [
    "## Relacionamentos Entre Classes: Dependência\n",
    "\n",
    "- Uma Dependência é uma forma fraca de relacionamento\n",
    "    - Indica que uma classe depende de outra porque apenas em um momento específico ela a utiliza;\n",
    "    - A dependência existe se um objeto é utilizado como parâmetro ou variável local de um método de outra classe.\n"
   ]
  },
  {
   "cell_type": "markdown",
   "metadata": {
    "slideshow": {
     "slide_type": "slide"
    }
   },
   "source": [
    "## Polimorfismo\n",
    "- A definição nos dicionários para polimorfismo se refere a um princípio em biologia no qual um organismo ou espécie pode possuir diferentes formas\n",
    "    - Este princípio pode ser aplicado à OO.\n",
    "- Podemos utilizar um único nome para definir várias formas distintas\n",
    "    - Por exemplo, uma família de funções com o mesmo nome e códigos independentes.\n"
   ]
  },
  {
   "cell_type": "markdown",
   "metadata": {
    "slideshow": {
     "slide_type": "slide"
    }
   },
   "source": [
    "## Polimorfismo\n",
    "- Existem 3 tipos de polimorfismo:\n",
    "    - Inclusão;\n",
    "    - Paramétrico;\n",
    "    - Sobrecarga.\n"
   ]
  },
  {
   "cell_type": "markdown",
   "metadata": {
    "slideshow": {
     "slide_type": "slide"
    }
   },
   "source": [
    "## Polimorfismo\n",
    "### Inclusão\n",
    "- Um método pode ser escrito para suportar um objeto da superclasse, no entanto, também funciona perfeitamente para objetos das subclasses;\n",
    "- Ex. Uma função ImprimeVelocidade para objetos  Bicicleta pode tratar objetos  MountainBike. \n"
   ]
  },
  {
   "cell_type": "markdown",
   "metadata": {
    "slideshow": {
     "slide_type": "slide"
    }
   },
   "source": [
    "## Polimorfismo\n",
    "### Paramétrico\n",
    "- Permite que uma função ou tipo de dados seja escrita genericamente, tratando identicamente valores de tipos diferentes;\n",
    "- São os **genéricos**;\n",
    "- Por exemplo, podemos ter uma função que trata listas encadeadas independente do tipo que será armazenado na lista.\n"
   ]
  },
  {
   "cell_type": "markdown",
   "metadata": {
    "slideshow": {
     "slide_type": "slide"
    }
   },
   "source": [
    "## Polimorfismo\n",
    "### Sobrecarga\n",
    "- Métodos e operadores que podem ser aplicados a diferentes parâmetros\n",
    "    - Porém, se comportam de acordo com o tipo do argumento atual.\n",
    "- Por exemplo, dois ou mais  métodos possuem o mesmo identificador, porém, possuem assinaturas diferentes\n",
    "    - Como número e tipo de parâmetros;\n",
    "- Ou ainda, um operador aritmético pode possuir diferentes comportamentos dependendo dos operandos.\n"
   ]
  },
  {
   "cell_type": "markdown",
   "metadata": {
    "slideshow": {
     "slide_type": "slide"
    }
   },
   "source": [
    "## Polimorfismo\n",
    "\n",
    "- Por exemplo, já são embutidas"
   ]
  },
  {
   "cell_type": "code",
   "execution_count": 2,
   "metadata": {
    "slideshow": {
     "slide_type": "subslide"
    }
   },
   "outputs": [
    {
     "name": "stdout",
     "output_type": "stream",
     "text": [
      "7\n",
      "9.2\n"
     ]
    }
   ],
   "source": [
    "std::cout << 5 + 2 << std::endl;\n",
    "std::cout << 3.4 + 5.8 << std::endl;"
   ]
  },
  {
   "cell_type": "markdown",
   "metadata": {
    "slideshow": {
     "slide_type": "subslide"
    }
   },
   "source": [
    "- E podemos criar outras\n"
   ]
  },
  {
   "cell_type": "code",
   "execution_count": 5,
   "metadata": {
    "slideshow": {
     "slide_type": "subslide"
    }
   },
   "outputs": [
    {
     "name": "stdout",
     "output_type": "stream",
     "text": [
      "Marco Antonio"
     ]
    }
   ],
   "source": [
    "std::cout << std::string(\"Marco \") + std::string(\"Antonio\");"
   ]
  },
  {
   "cell_type": "markdown",
   "metadata": {
    "slideshow": {
     "slide_type": "slide"
    }
   },
   "source": [
    "## Interface\n",
    "\n",
    "<img src=\"https://github.com/aforechi/ifes-cpp-2018-2/raw/master/img/Picture52.png\" width=\"50%\" height=\"50%\">"
   ]
  },
  {
   "cell_type": "markdown",
   "metadata": {
    "slideshow": {
     "slide_type": "slide"
    }
   },
   "source": [
    "## Interface\n",
    "\n",
    "<img src=\"https://github.com/aforechi/ifes-cpp-2018-2/raw/master/img/Picture53.png\" width=\"50%\" height=\"50%\">"
   ]
  },
  {
   "cell_type": "markdown",
   "metadata": {
    "slideshow": {
     "slide_type": "slide"
    }
   },
   "source": [
    "## Interface\n",
    "\n",
    "<img src=\"https://github.com/aforechi/ifes-cpp-2018-2/raw/master/img/Picture54.png\" width=\"50%\" height=\"50%\">"
   ]
  },
  {
   "cell_type": "markdown",
   "metadata": {
    "slideshow": {
     "slide_type": "slide"
    }
   },
   "source": [
    "## Interface\n",
    "\n",
    "- Como dito anteriormente, os próprios objetos definem a interação com o mundo externo\n",
    "    - De acordo com os seus métodos.\n",
    "- Os métodos formam a **interface** de um objeto com o mundo externo;\n",
    "- Os botões de um celular são a interface entre nós e os mecanismos internos do telefone\n",
    "    - Se apertarmos o power, podemos ligá-lo ou desligá-lo.\n"
   ]
  },
  {
   "cell_type": "markdown",
   "metadata": {
    "slideshow": {
     "slide_type": "slide"
    }
   },
   "source": [
    "## Interface\n",
    "\n",
    "- Em sua forma mais comum, uma **interface** é um grupo de métodos relacionados, porém, sem definição interna\n",
    "    - Temos apenas especificados quais são os métodos\n",
    "        - E não como são os métodos.\n",
    "- Por exemplo, uma interface Bicicleta pode ter os métodos\n",
    "    - acelerar;\n",
    "    - trocarMarcha;\n",
    "    - frear.\n"
   ]
  },
  {
   "cell_type": "markdown",
   "metadata": {
    "slideshow": {
     "slide_type": "slide"
    }
   },
   "source": [
    "## Interface\n",
    "\n",
    "- Uma interface deve ser implementada por uma classe\n",
    "    - Formaliza o comportamento que a interface promete fornecer.\n",
    "- Interfaces são como contratos entre a classe e o mundo externo\n",
    "    - Todos os métodos devem ser implementados;\n",
    "    - O que é forçado pelo compilador.\n"
   ]
  },
  {
   "cell_type": "markdown",
   "metadata": {
    "slideshow": {
     "slide_type": "slide"
    }
   },
   "source": [
    "## Pacotes\n",
    "\n",
    "- **Pacotes** são um modo de organizar classes e interfaces\n",
    "    - Um programa pode ser formado por centenas de classes individiduais;\n",
    "    - Analogamente como a organização de arquivos em pastas, faz sentido organizar classes e interfaces relacionadas;\n",
    "    - Diferentes linguagens de programação fornecem bibliotecas de classes (um conjunto de pacotes) que representam as tarefas mais comuns de programação de propósito geral.\n"
   ]
  },
  {
   "cell_type": "markdown",
   "metadata": {
    "slideshow": {
     "slide_type": "slide"
    }
   },
   "source": [
    "## Análise e Projeto OO\n",
    "\n",
    "- Em breve estaremos programando OO\n",
    "    - Como faremos?\n",
    "    - Ligar o computador e começar a digitar?\n",
    "        - Funciona para apenas pequenos programas. \n",
    "    - E se fôssemos contratados para criar um software que gerencia os caixas eletrônicos de um grande banco?\n",
    "    - Ou, se fôssemos trabalhar em uma equipe em que o trabalho é dividido entre 20 pessoas?\n"
   ]
  },
  {
   "cell_type": "markdown",
   "metadata": {
    "slideshow": {
     "slide_type": "slide"
    }
   },
   "source": [
    "## Análise e Projeto OO\n",
    "\n",
    "<img src=\"https://github.com/aforechi/ifes-cpp-2018-2/raw/master/img/Picture55.png\" width=\"75%\" height=\"75%\">"
   ]
  },
  {
   "cell_type": "markdown",
   "metadata": {
    "slideshow": {
     "slide_type": "slide"
    }
   },
   "source": [
    "## Análise e Projeto OO\n",
    "\n",
    "- Antes de escrever o código, é necessário **analisar** os requisitos (**o quê**) de seu projeto e **projetar** uma solução (**como**) satisfatória\n",
    "    - Pode poupar muitas horas de trabalho e dinheiro.\n",
    "- Quando esta análise envolve um ponto de vista de OO, chamamos de **análise e projeto orientados a objetos**.\n"
   ]
  },
  {
   "cell_type": "markdown",
   "metadata": {
    "slideshow": {
     "slide_type": "slide"
    }
   },
   "source": [
    "## Análise e Projeto OO\n",
    "\n",
    "- Idealmente, membros de um grupo de desenvolvimento devem definir um processo para resolver um determinado problema e uma maneira uniforme para **comunicar** os resultados deste processo para outro;\n",
    "- Uma linguagem gráfica utilizada para comunicação de qualquer processo de análise e projeto OO é a **Unified Modeling Language**.\n"
   ]
  },
  {
   "cell_type": "markdown",
   "metadata": {
    "slideshow": {
     "slide_type": "slide"
    }
   },
   "source": [
    "## Unified Modeling Language (UML)\n",
    "\n",
    "- Atualmente, a UML é a representação gráfica mais utilizada para modelagem de sistemas orientados a objetos\n",
    "    - Foi adotada como padrão internacional em 1997.\n",
    "- Define um conjunto padrão de notações gráficas\n",
    "    - Na forma de diagramas.\n"
   ]
  },
  {
   "cell_type": "markdown",
   "metadata": {
    "slideshow": {
     "slide_type": "slide"
    }
   },
   "source": [
    "## Unified Modeling Language (UML)\n",
    "\n",
    "- A versão 2.0 da UML oferece padrões de diagramas estruturais e comportamentais (de interação)\n",
    "    - São 17 tipos de diagramas diferentes.\n",
    "- Estamos interessados nos diagramas estruturais\n",
    "    - Mais especificamente, os **Diagramas de Classes**\n",
    "        - São uma representação da estrutura e relações das classes;\n",
    "        - Servem de base para criação de outros diagramas.\n"
   ]
  },
  {
   "cell_type": "markdown",
   "metadata": {
    "slideshow": {
     "slide_type": "slide"
    }
   },
   "source": [
    "## Unified Modeling Language (UML)\n",
    "\n",
    "- Classes possuem:\n",
    "    - Atributos (ou variáveis membros);\n",
    "    - Métodos (operações ou funções membros);\n",
    "    - Relações com outras classes.\n",
    "- O diagrama de classes é capaz de representar tudo isso facilmente;\n",
    "- O elemento fundamental dos diagramas de classes é o ícone que representa uma classe.\n"
   ]
  },
  {
   "cell_type": "markdown",
   "metadata": {
    "slideshow": {
     "slide_type": "slide"
    }
   },
   "source": [
    "## Unified Modeling Language (UML)\n",
    "\n",
    "- Este ícone é um retângulo dividido em três compartimentos:\n",
    "    - O mais acima representa o nome da classe;\n",
    "    - O do meio representa os atributos;\n",
    "    - O último representa os métodos. \n",
    "- Em alguns diagramas, os dois últimos compartimentos são omitidos\n",
    "    - Ou então, não apresentam todos os atributos e métodos\n",
    "        - Apenas aqueles que são importantes para a finalidade do diagrama.\n"
   ]
  },
  {
   "cell_type": "markdown",
   "metadata": {
    "slideshow": {
     "slide_type": "slide"
    }
   },
   "source": [
    "## Unified Modeling Language (UML)\n",
    "\n",
    "- Para especificar a visibilidade de um membro de uma classe (atributo ou método), usamos as notações abaixo antes do nome do membro:\n",
    "    - \\+ (público)\n",
    "        - Acessível por todas as classes.\n",
    "    - \\- (privado)\n",
    "        - Acessível somente pela própria classe.\n",
    "    - \\# (protegido)\n",
    "        - Acessível pela classe ou por subclasses.\n",
    "\n",
    "<img src=\"https://github.com/aforechi/ifes-cpp-2018-2/raw/master/img/Picture56.png\" width=\"25%\" height=\"25%\">"
   ]
  },
  {
   "cell_type": "markdown",
   "metadata": {
    "slideshow": {
     "slide_type": "slide"
    }
   },
   "source": [
    "## Unified Modeling Language (UML)\n",
    "\n",
    "- Note que cada atributo é seguido de : e depois o tipo do atributo\n",
    "    - Se o tipo for redundante ou desnecessário, pode ser omitido.\n",
    "- Da mesma forma, o valor de retorno é apresentado depois de cada método;\n",
    "- Os argumentos dos métodos podem ser apenas os tipos\n",
    "    - Ou então, o nome de cada um dos argumentos seguidos por : e o tipo de cada\n",
    "    - Ou ainda, os argumentos podem ser omitidos.\n"
   ]
  },
  {
   "cell_type": "markdown",
   "metadata": {
    "slideshow": {
     "slide_type": "slide"
    }
   },
   "source": [
    "## Unified Modeling Language (UML)\n",
    "\n",
    "- Além de descrever classes, a UML pode ser utilizada para descrever relacionamentos entre classes, como:\n",
    "    - Composições;\n",
    "    - Herança;\n",
    "    - Agregação/Associação;\n",
    "    - Dependência;\n",
    "    - Interfaces.\n",
    "- Estes relacionamentos são descritos por linhas conectando classes\n",
    "    - Cada extremidade de tais linhas é chamado **Papel**.\n"
   ]
  },
  {
   "cell_type": "markdown",
   "metadata": {
    "slideshow": {
     "slide_type": "slide"
    }
   },
   "source": [
    "## Unified Modeling Language (UML)\n",
    "\n",
    "- Cada extremidade de uma linha que define um relacionamento entre classes pode possuir um valor de **multiplicidade**\n",
    "    - Indica a quantidade de instâncias que estão envolvidas no relacionamento\n",
    "        - Pode ser um valor fixo: 1;\n",
    "        - Pode ser um intervalo : [0…3];\n",
    "        - O * significa “**vários**” ou “**infinito**”.\n"
   ]
  },
  {
   "cell_type": "markdown",
   "metadata": {
    "slideshow": {
     "slide_type": "slide"
    }
   },
   "source": [
    "## Unified Modeling Language (UML)\n",
    "\n",
    "- Quando um objeto possui uma instância de outra classe, chamamos esta relação de **Composição**\n",
    "    - Como o projetor que **contém** uma lâmpada.\n",
    "- Para representar a composição, ligamos duas classes por uma linha que contém \n",
    "    - Um **diamante preto** do lado da classe que contém uma instância da outra\n",
    "        - Chamada de classe composta.\n",
    "    - Apenas a linha do lado da outra classe\n",
    "        - Significa que a esta classe não tem conhecimento da classe composta.\n"
   ]
  },
  {
   "cell_type": "markdown",
   "metadata": {
    "slideshow": {
     "slide_type": "slide"
    }
   },
   "source": [
    "## Unified Modeling Language (UML)\n",
    "\n",
    "- Círculo contém Ponto\n",
    "\n",
    "<img src=\"https://github.com/aforechi/ifes-cpp-2018-2/raw/master/img/Picture57.png\" width=\"25%\" height=\"25%\">"
   ]
  },
  {
   "cell_type": "markdown",
   "metadata": {
    "slideshow": {
     "slide_type": "slide"
    }
   },
   "source": [
    "## Unified Modeling Language (UML)\n",
    "\n",
    "- Círculo contém Ponto\n",
    "\n",
    "<img src=\"https://github.com/aforechi/ifes-cpp-2018-2/raw/master/img/Picture58.png\" width=\"50%\" height=\"50%\">"
   ]
  },
  {
   "cell_type": "markdown",
   "metadata": {
    "slideshow": {
     "slide_type": "slide"
    }
   },
   "source": [
    "## Unified Modeling Language (UML)\n",
    "\n",
    "- Livro contém um ou mais Capítulos\n",
    "\n",
    "<img src=\"https://github.com/aforechi/ifes-cpp-2018-2/raw/master/img/Picture59.png\" width=\"50%\" height=\"50%\">"
   ]
  },
  {
   "cell_type": "markdown",
   "metadata": {
    "slideshow": {
     "slide_type": "slide"
    }
   },
   "source": [
    "## Unified Modeling Language (UML)\n",
    "\n",
    "- A **Herança** é representada por uma linha contendo uma **seta triangular**\n",
    "    - Que aponta para a superclasse (ou classe base);\n",
    "    - Do lado da subclasse temos apenas a linha.\n"
   ]
  },
  {
   "cell_type": "markdown",
   "metadata": {
    "slideshow": {
     "slide_type": "slide"
    }
   },
   "source": [
    "## Unified Modeling Language (UML)\n",
    "\n",
    "- Circulo é uma Forma\n",
    "- Ponto é uma Forma\n",
    "\n",
    "<img src=\"https://github.com/aforechi/ifes-cpp-2018-2/raw/master/img/Picture60.png\" width=\"50%\" height=\"50%\">\n",
    "\n",
    "- O nome da classe e os métodos em itálico indicam que são abstratos\n",
    "\n"
   ]
  },
  {
   "cell_type": "markdown",
   "metadata": {
    "slideshow": {
     "slide_type": "slide"
    }
   },
   "source": [
    "## Unified Modeling Language (UML)\n",
    "\n",
    "- Para representar a **Agregação**, ligamos duas classes por uma linha que contém \n",
    "    - Um **diamante branco** do lado da classe que contém uma instância da outra\n",
    "        - Chamada de classe agregada.\n",
    "    - Apenas a linha do lado da outra classe\n",
    "        - Significa que a esta classe não tem conhecimento da classe agregada.\n",
    "    - A multiplicidade é sempre 1 para a classe que representa o **todo**.\n"
   ]
  },
  {
   "cell_type": "markdown",
   "metadata": {
    "slideshow": {
     "slide_type": "slide"
    }
   },
   "source": [
    "## Unified Modeling Language (UML)\n",
    "\n",
    "- Lagoa tem vários Patos\n",
    "\n",
    "<img src=\"https://github.com/aforechi/ifes-cpp-2018-2/raw/master/img/Picture61.png\" width=\"50%\" height=\"50%\">\n"
   ]
  },
  {
   "cell_type": "markdown",
   "metadata": {
    "slideshow": {
     "slide_type": "slide"
    }
   },
   "source": [
    "## Unified Modeling Language (UML)\n",
    "\n",
    "- Atenção para dois detalhes:\n",
    "    - O final do lado de Pato na agregação é marcado com um *\n",
    "        - Isto significa que Lagoa possui várias instâncias de Pato;\n",
    "    - O papel de Pato foi rotulado\n",
    "        - Este é o nome pelo qual Lagoa conhece as instâncias de Pato\n",
    "            - Ou seja, o nome do atributo que armazena  todas as instâncias de Pato.\n"
   ]
  },
  {
   "cell_type": "markdown",
   "metadata": {
    "slideshow": {
     "slide_type": "slide"
    }
   },
   "source": [
    "## Unified Modeling Language (UML)\n",
    "\n",
    "- Representamos uma **Associação** por uma linha, que pode ser nomeada\n",
    "    - Novamente, podemos utilizar um nome para os papeis;\n",
    "    - Provavelmente a referência de Pessoa para Revista será um ponteiro ou algo do tipo.\n"
   ]
  },
  {
   "cell_type": "markdown",
   "metadata": {
    "slideshow": {
     "slide_type": "slide"
    }
   },
   "source": [
    "## Unified Modeling Language (UML)\n",
    "\n",
    "<img src=\"https://github.com/aforechi/ifes-cpp-2018-2/raw/master/img/Picture62.png\" width=\"50%\" height=\"50%\">\n"
   ]
  },
  {
   "cell_type": "markdown",
   "metadata": {
    "slideshow": {
     "slide_type": "slide"
    }
   },
   "source": [
    "## Unified Modeling Language (UML)\n",
    "\n",
    "- Às vezes o relacionamento entre duas classes é muito fraco\n",
    "    - Não são implementados por atributos que as una;\n",
    "    - Ao invés disto, pode ser implementado apenas através de parâmetros de métodos.\n"
   ]
  },
  {
   "cell_type": "markdown",
   "metadata": {
    "slideshow": {
     "slide_type": "slide"
    }
   },
   "source": [
    "## Unified Modeling Language (UML)\n",
    "\n",
    "<img src=\"https://github.com/aforechi/ifes-cpp-2018-2/raw/master/img/Picture63.png\" width=\"50%\" height=\"50%\">\n"
   ]
  },
  {
   "cell_type": "markdown",
   "metadata": {
    "slideshow": {
     "slide_type": "slide"
    }
   },
   "source": [
    "## Unified Modeling Language (UML)\n",
    "\n",
    "- No exemplo anterior, a linha pontilhada denota a relação de **Dependência**\n",
    "    - De alguma forma, Forma depende de contextoDesenho.\n"
   ]
  },
  {
   "cell_type": "markdown",
   "metadata": {
    "slideshow": {
     "slide_type": "slide"
    }
   },
   "source": [
    "## Unified Modeling Language (UML)\n",
    "\n",
    "- Um contexto de desenho é a parte de uma janela em que é possível desenhar.\n",
    "\n",
    "<img src=\"https://github.com/aforechi/ifes-cpp-2018-2/raw/master/img/Picture64.png\" width=\"50%\" height=\"50%\">\n"
   ]
  },
  {
   "cell_type": "markdown",
   "metadata": {
    "slideshow": {
     "slide_type": "slide"
    }
   },
   "source": [
    "## Unified Modeling Language (UML)\n",
    "\n",
    "- Uma **Interface** é representada de forma parecida com uma classe\n",
    "    - Porém, não possui atributos e usa um **estereótipo**\n",
    "        - Palavra entre “<<” e “>>”;\n",
    "        - Indica que é um tipo especial de classe;\n",
    "        - O estereótipo **<<type>>** denota uma interface.\n",
    "- Uma maneira alternativa é a notação pirulito.\n"
   ]
  },
  {
   "cell_type": "markdown",
   "metadata": {
    "slideshow": {
     "slide_type": "slide"
    }
   },
   "source": [
    "## Unified Modeling Language (UML)\n",
    "\n",
    "- Uma interface não possui implementação própria, logo:\n",
    "    - Seus atributos devem  ser públicos;\n",
    "    - Seus métodos devem ser públicos e abstratos\n",
    "        - Identificador em itálico denota métodos abstratos;\n",
    "        - Determina que os métodos devem ser implementados;\n",
    "        - Padroniza a interface.\n"
   ]
  },
  {
   "cell_type": "markdown",
   "metadata": {
    "slideshow": {
     "slide_type": "slide"
    }
   },
   "source": [
    "## Unified Modeling Language (UML)\n",
    "\n",
    "<img src=\"https://github.com/aforechi/ifes-cpp-2018-2/raw/master/img/Picture65.png\" width=\"25%\" height=\"25%\">\n"
   ]
  },
  {
   "cell_type": "markdown",
   "metadata": {
    "slideshow": {
     "slide_type": "slide"
    }
   },
   "source": [
    "## Unified Modeling Language (UML)\n",
    "\n",
    "<img src=\"https://github.com/aforechi/ifes-cpp-2018-2/raw/master/img/Picture66.png\" width=\"50%\" height=\"50%\">\n",
    "\n",
    "- Notação Pirulito: A classe WindowsDC é derivada ou está de acordo com a interface ContextoDesenho\n"
   ]
  },
  {
   "cell_type": "markdown",
   "metadata": {
    "slideshow": {
     "slide_type": "slide"
    }
   },
   "source": [
    "## Programação Orientada a Objetos\n",
    "\n",
    "- A POO nos provê uma melhor organização do código\n",
    "    - E também contribui para o reaproveitamento do mesmo.\n",
    "- No entanto, o desempenho é geralmente inferior quando comparado com a programação estruturada.\n"
   ]
  },
  {
   "cell_type": "markdown",
   "metadata": {
    "slideshow": {
     "slide_type": "slide"
    }
   },
   "source": [
    "## Programação Orientada a Objetos\n",
    "\n",
    "- A grande dificuldade para compreender a POO é na verdade entender o paradigma de projeto orientado a objetos\n",
    "    - A POO se preocupa com os **objetos** e seus **relacionamentos**;\n",
    "    - A programação estruturada se preocupa com as **ações**.\n"
   ]
  },
  {
   "cell_type": "markdown",
   "metadata": {
    "slideshow": {
     "slide_type": "slide"
    }
   },
   "source": [
    "## Programação Orientada a Objetos VS. Programação Estruturada\n",
    "\n",
    "<img src=\"https://github.com/aforechi/ifes-cpp-2018-2/raw/master/img/Picture67.png\" width=\"75%\" height=\"75%\">\n",
    "\n"
   ]
  },
  {
   "cell_type": "code",
   "execution_count": null,
   "metadata": {},
   "outputs": [],
   "source": []
  }
 ],
 "metadata": {
  "kernelspec": {
   "display_name": "C++14",
   "language": "C++14",
   "name": "xcpp14"
  },
  "language_info": {
   "codemirror_mode": "text/x-c++src",
   "file_extension": ".cpp",
   "mimetype": "text/x-c++src",
   "name": "c++",
   "version": "14"
  }
 },
 "nbformat": 4,
 "nbformat_minor": 4
}
