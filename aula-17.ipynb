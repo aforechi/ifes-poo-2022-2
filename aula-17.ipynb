{
  "cells": [
    {
      "cell_type": "markdown",
      "metadata": {
        "id": "view-in-github",
        "colab_type": "text"
      },
      "source": [
        "<a href=\"https://colab.research.google.com/github/aforechi/ifes-poo-2022-2/blob/main/aula-17.ipynb\" target=\"_parent\"><img src=\"https://colab.research.google.com/assets/colab-badge.svg\" alt=\"Open In Colab\"/></a>"
      ]
    },
    {
      "cell_type": "markdown",
      "metadata": {
        "tags": [],
        "id": "lbj_cC59XaHi"
      },
      "source": [
        "# Aula 17 -Tratamento de exceções\n",
        "<div class=\"alert alert-block alert-success\">\n",
        "    <b>Adaptado do Capítulo 16 do livro: </b> \n",
        "    <p>DEITEL, Harvey M.; DEITEL, Paul J. C++: como programar. 5.ed. São Paulo: Prentice Hall, 2006.\n",
        "</div>\n",
        "\n",
        "## OBJETIVOS\n",
        "Nesta aula, você aprenderá:\n",
        "- O que são exceções e quando utilizá-las.\n",
        "- A utilizar **try, except** e **raise** para detectar, indicar e tratar exceções, respectivamente.\n",
        "- A processar exceções não interceptadas e inesperadas.\n",
        "- Como declarar novas classes de exceção.\n",
        "- Como o desempilhamento permite que exceções não capturadas em um escopo sejam capturadas em outro escopo.\n",
        "- A entender a hierarquia de exceções-padrão."
      ]
    },
    {
      "cell_type": "markdown",
      "metadata": {
        "tags": [],
        "id": "DKYXpmhVXaHp"
      },
      "source": [
        "## 1 Introdução\n",
        "- Exceções\n",
        "    - Indicam os problemas que ocorrem durante a execução de um programa.\n",
        "    - Ocorrem raramente.\n",
        "- Tratamento de exceções\n",
        "    - Pode solucionar exceções\n",
        "        - Permite que um programa continue a executar ou\n",
        "        - Notifica o usuário sobre o problema e\n",
        "        - Encerra o programa de uma maneira controlada.\n",
        "    - Torna os programas robustos e tolerantes a falhas."
      ]
    },
    {
      "cell_type": "markdown",
      "metadata": {
        "tags": [],
        "id": "n9laI8rXXaHq"
      },
      "source": [
        "## Dica de prevenção de erro 1\n",
        "- O tratamento de exceções ajuda a aprimorar a tolerância a falhas de um programa.\n",
        "\n",
        "## Observação de engenharia de software 1\n",
        "- O tratamento de exceções fornece um mecanismo-padrão para processar erros. Isso é especialmente importante ao trabalhar em um projeto com uma grande equipe de programadores."
      ]
    },
    {
      "cell_type": "markdown",
      "metadata": {
        "tags": [],
        "id": "8uRC_CzaXaHq"
      },
      "source": [
        "## 2 Visão geral do tratamento de exceções\n",
        "- Misturando programa e lógica de tratamento de erros\n",
        "    - Exemplo de pseudocódigo\n",
        "        - Execute uma tarefa\n",
        "        - Se a tarefa precedente não tiver sido executada corretamente\n",
        "            Realize processamento de erro\n",
        "        - Execute a tarefa seguinte\n",
        "        - Se a tarefa precedente não tiver sido executada corretamente\n",
        "            - Realize processamento de erro\n",
        "        - …\n",
        "- Torna o programa difícil de ler, modificar, manter e depurar."
      ]
    },
    {
      "cell_type": "markdown",
      "metadata": {
        "tags": [],
        "id": "LFdLxkQQXaHr"
      },
      "source": [
        "## Dica de desempenho 1\n",
        "- Se problemas em potencial ocorrem raramente, misturar a lógica do programa e a lógica do tratamento de erro pode diminuir seu desempenho, \n",
        "- porque o programa tem de realizar testes (possivelmente freqüentes) para determinar se a tarefa foi executada corretamente e se a próxima tarefa pode ser realizada."
      ]
    },
    {
      "cell_type": "markdown",
      "metadata": {
        "tags": [],
        "id": "VlP3Pj4pXaHs"
      },
      "source": [
        "## 2 Visão geral do tratamento de exceções (cont.)\n",
        "- Tratamento de exceções\n",
        "    - Remove código de tratamento de erros da ‘linha principal’ de execução do programa.\n",
        "    - Os programadores podem tratar qualquer exceção que quiserem.\n",
        "        - Todas as exceções,\n",
        "        - Todas as exceções de um determinado tipo ou\n",
        "        - Todas as exceções de um grupo de tipos relacionados."
      ]
    },
    {
      "cell_type": "markdown",
      "metadata": {
        "tags": [],
        "id": "CDtUhTtbXaHs"
      },
      "source": [
        "## 3 Exemplo: tratando uma tentativa de divisão por zero\n",
        "- Classe **Exception**\n",
        "    - É a classe básica padrão do Python para todas as exceções.\n",
        "- Observe a classe **DivideByZeroException**"
      ]
    },
    {
      "cell_type": "code",
      "source": [
        "# Definição da classe DivideByZeroException.\n",
        "\n",
        "## objetos DivideByZeroException devem ser lançados por funções\n",
        "## ao detectar exceções de divisão por zero\n",
        "\n",
        "class DivideByZeroException (Exception) :\n",
        "\n",
        "   ## construtor especifica a mensagem de erro padrão\n",
        "   def __init__(self) : \n",
        "        super().__init__( \"attempted to divide by zero\" )\n"
      ],
      "metadata": {
        "id": "D-xPG9_8YlbX"
      },
      "execution_count": 2,
      "outputs": []
    },
    {
      "cell_type": "code",
      "source": [
        "# realiza a divisão e lança o objeto DivideByZeroException se a exceção de divisão por zero ocorrer\n",
        "def quotient( numerator, denominator ):\n",
        "   # lança DivideByZeroException se tentar dividir por zero\n",
        "   if ( denominator == 0 ):\n",
        "      raise DivideByZeroException()\n",
        "\n",
        "   # retorna resultado da divisão\n",
        "   return numerator / denominator\n"
      ],
      "metadata": {
        "id": "oMbwoGK8mLDf"
      },
      "execution_count": 3,
      "outputs": []
    },
    {
      "cell_type": "markdown",
      "metadata": {
        "tags": [],
        "id": "emF-Rze1XaHt"
      },
      "source": [
        "## 3 Exemplo: tratando uma tentativa de divisão por zero (cont.)\n",
        "- Blocos try\n",
        "    - A palavra-chave try é seguida por dois-pontos (:).\n",
        "    - Deve encerrar\n",
        "        - Instruções que possam provocar exceções e\n",
        "        - Instruções que devem ser puladas no caso de uma exceção."
      ]
    },
    {
      "cell_type": "code",
      "source": [
        "number1 = int(input(\"numerador especificado pelo usuário\"))\n",
        "number2 = int(input(\"denominador especificado pelo usuário\"))\n",
        "\n",
        "# bloco try contém código que poderia lançar exceção     \n",
        "# e código que não deve executar se uma exceção ocorrer  \n",
        "try :                                                         \n",
        "    result = quotient( number1, number2 )                 \n",
        "    print(\"The quotient is: \", result )         \n",
        "                                                        \n",
        "# handler de exceção trata uma exceção de divisão por zero\n",
        "except DivideByZeroException:    \n",
        "    print( \"Exception occurred: \")\n"
      ],
      "metadata": {
        "colab": {
          "base_uri": "https://localhost:8080/"
        },
        "id": "4XiOPPnWmtBr",
        "outputId": "129e01fd-ee93-4d16-e0a6-eace5dec92ab"
      },
      "execution_count": 5,
      "outputs": [
        {
          "output_type": "stream",
          "name": "stdout",
          "text": [
            "numerador especificado pelo usuário2\n",
            "denominador especificado pelo usuário0\n",
            "Exception occurred: \n"
          ]
        }
      ]
    },
    {
      "cell_type": "markdown",
      "metadata": {
        "tags": [],
        "id": "wd_7SkYuXaHt"
      },
      "source": [
        "## Observação de engenharia de software 2\n",
        "- As exceções podem emergir pelo código explicitamente mencionado em um bloco try, \n",
        "    - por meio de chamadas a outras funções e \n",
        "    - por meio de chamadas de função profundamente aninhadas, iniciadas pelo código em um bloco try."
      ]
    },
    {
      "cell_type": "markdown",
      "metadata": {
        "tags": [],
        "id": "d4eaT6iiXaHu"
      },
      "source": [
        "## 3 Exemplo: tratando uma tentativa de divisão por zero (cont.)\n",
        "- Handlers except\n",
        "    - Seguem imediatamente um bloco try.\n",
        "        - Um ou mais handlers except para cada bloco try.\n",
        "    - Palavra-chave except.\n",
        "    - Parâmetro de exceção\n",
        "        - Representa o tipo de exceção a ser processado.\n",
        "        - Pode oferecer um nome de parâmetro opcional para interagir com o objeto de exceção capturado.\n",
        "    - Executa se o tipo de parâmetro de exceção corresponder à exceção lançada no bloco try.\n",
        "        - Poderia ser uma classe básica da classe da exceção lançada.\n",
        "        \n",
        "        "
      ]
    },
    {
      "cell_type": "code",
      "source": [
        "number1 = int(input(\"numerador especificado pelo usuário\"))\n",
        "number2 = int(input(\"denominador especificado pelo usuário\"))\n",
        "\n",
        "# bloco try contém código que poderia lançar exceção     \n",
        "# e código que não deve executar se uma exceção ocorrer  \n",
        "try :                                                         \n",
        "    result = quotient( number1, number2 )                 \n",
        "    print(\"The quotient is: \", result )         \n",
        "                                                        \n",
        "# handler de exceção trata uma exceção de divisão por zero\n",
        "except DivideByZeroException as erro:    \n",
        "    print( erro )\n"
      ],
      "metadata": {
        "colab": {
          "base_uri": "https://localhost:8080/"
        },
        "id": "a3Lx_QoUot0B",
        "outputId": "fa171493-156b-4bc9-bc7b-b7183da6dd10"
      },
      "execution_count": 6,
      "outputs": [
        {
          "output_type": "stream",
          "name": "stdout",
          "text": [
            "numerador especificado pelo usuário2\n",
            "denominador especificado pelo usuário0\n",
            "attempted to divide by zero\n"
          ]
        }
      ]
    },
    {
      "cell_type": "markdown",
      "metadata": {
        "tags": [],
        "id": "QBbGuRQUXaHv"
      },
      "source": [
        "## Erro comum de programação 1\n",
        "- É um erro de sintaxe colocar código entre um bloco try e seus blocos except correspondentes.\n",
        "\n",
        "## Erro comum de programação 2\n",
        "- Cada handler except pode ter um único parâmetro\n",
        "    - especificar uma lista de parâmetros de exceção separados por vírgulas é um erro de sintaxe.\n",
        "\n",
        "## Erro comum de programação 3\n",
        "- É um erro de lógica capturar o mesmo tipo em dois handlers except diferentes que se seguem a um único bloco try."
      ]
    },
    {
      "cell_type": "markdown",
      "metadata": {
        "tags": [],
        "id": "rTNKvdd-XaHv"
      },
      "source": [
        "## 3 Exemplo: tratando uma tentativa de divisão por zero (cont.)\n",
        "- Modelo de terminação do tratamento de exceções\n",
        "    - O bloco try expira quando ocorre uma exceção.\n",
        "        - As variáveis locais no bloco try saem do escopo.\n",
        "    - O código dentro do handler catch correspondente executa.\n",
        "    - O controle é retomado com a primeira instrução após o último handler except subseqüente ao bloco try.\n",
        "        - O controle não retorna ao ponto em que a exceção ocorreu.\n",
        "- Desempilhamento\n",
        "    - Ocorre se nenhum handler except correspondente for encontrado.\n",
        "    - O programa tenta localizar outro bloco try envolvente na função chamadora."
      ]
    },
    {
      "cell_type": "markdown",
      "metadata": {
        "tags": [],
        "id": "GPFPQV4IXaHw"
      },
      "source": [
        "## Erro comum de programação 4\n",
        "- Erros de lógica podem ocorrer se você assumir que, depois que uma exceção for tratada, o controle retornará à primeira instrução depois do ponto de lançamento.\n",
        "\n",
        "## Dica de prevenção de erro 2\n",
        "- Com o tratamento de exceções, um programa pode continuar executando (em vez de encerrar) depois de lidar com um problema. \n",
        "- Isso ajuda a assegurar um tipo de aplicativo robusto que colabora para o que é chamado de computação de missão crítica."
      ]
    },
    {
      "cell_type": "markdown",
      "metadata": {
        "tags": [],
        "id": "0Yui99uwXaHx"
      },
      "source": [
        "## 3 Exemplo: tratando uma tentativa de divisão por zero (cont.)\n",
        "- Lançando uma exceção\n",
        "    - Use a palavra-chave raise seguida de um operando que represente o tipo de exceção.\n",
        "        - O operando raise pode ser de qualquer tipo.\n",
        "            - Se o operando throw for um objeto, é chamado de objeto de exceção.\n",
        "    - O operando throw inicializa o parâmetro de exceção no handler except correspondente, se encontrar algum."
      ]
    },
    {
      "cell_type": "markdown",
      "metadata": {
        "tags": [],
        "id": "GI6zQ55ZXaHx"
      },
      "source": [
        "\n",
        "\n",
        "## Boa prática de programação 1\n",
        "- Associar cada tipo de erro de tempo de execução com um objeto de exceção adequadamente nomeado aumenta a clareza do programa."
      ]
    },
    {
      "cell_type": "markdown",
      "metadata": {
        "tags": [],
        "id": "d_qunFfRXaHy"
      },
      "source": [
        "## 4 Quando utilizar o tratamento de exceções\n",
        "- Quando usar o tratamento de exceções\n",
        "    - Para processar erros síncronos\n",
        "        - Que ocorrem quando uma instrução é executada.\n",
        "    - Não para processar erros assíncronos\n",
        "        - Que ocorrem paralelamente à e independentemente da execução do programa.\n",
        "    - Para processar problemas em elementos predefinidos do software.\n",
        "        - Como funções e classes predefinidas.\n",
        "        - O tratamento de erros pode ser executado pelo código do programa a ser personalizado com base nas necessidades do aplicativo."
      ]
    },
    {
      "cell_type": "markdown",
      "metadata": {
        "tags": [],
        "id": "nIVAwbJ3XaHz"
      },
      "source": [
        "## Observação de engenharia de software 3\n",
        "- Incorpore sua estratégia de tratamento de exceções no sistema desde o princípio do processo de projeto. \n",
        "- Pode ser difícil incluir um tratamento de exceções eficiente depois que um sistema já foi implementado."
      ]
    },
    {
      "cell_type": "markdown",
      "metadata": {
        "tags": [],
        "id": "VGFw6ZctXaH0"
      },
      "source": [
        "## Observação de engenharia de software 4\n",
        "- O tratamento de exceções fornece uma técnica única e uniforme para processamento de problemas. \n",
        "- Isso ajuda os programadores em grandes projetos a entender o código de processamento de erro uns dos outros."
      ]
    },
    {
      "cell_type": "markdown",
      "metadata": {
        "tags": [],
        "id": "a8EDZhYnXaH0"
      },
      "source": [
        "## Observação de engenharia de software 5\n",
        "- Evite utilizar o tratamento de exceções como uma forma alternativa de fluxo de controle. \n",
        "- Essas exceções ‘adicionais’ podem ‘entrar no caminho’ de verdadeiras exceções do tipo erro."
      ]
    },
    {
      "cell_type": "markdown",
      "metadata": {
        "tags": [],
        "id": "rRkUlc8rXaH1"
      },
      "source": [
        "## Observação de engenharia de software 6\n",
        "- O tratamento de exceções simplifica a combinação de componentes de software e permite trabalhar em conjunto eficientemente, \n",
        "    - possibilitando que os componentes predefinidos comuniquem problemas para componentes específicos ao aplicativo, \n",
        "    - que então podem processar os problemas de maneira específica ao aplicativo."
      ]
    },
    {
      "cell_type": "markdown",
      "metadata": {
        "tags": [],
        "id": "GuzbTsQ3XaH1"
      },
      "source": [
        "## Dica de desempenho 3\n",
        "- Quando não ocorrer nenhuma exceção, o código de tratamento de exceções não provoca ou provoca poucos prejuízos no desempenho. \n",
        "- Portanto, os programas que implementam o tratamento de exceções operam com mais eficiência do que os programas que mesclam o código de tratamento de erros com a lógica do programa."
      ]
    },
    {
      "cell_type": "markdown",
      "metadata": {
        "tags": [],
        "id": "KkKu2h9uXaH2"
      },
      "source": [
        "## Observação de engenharia de software 7\n",
        "- As funções com condições de erro comuns devem retornar 0 ou None (ou outros valores adequados) em vez de lançar exceções. \n",
        "- Um programa que chama tal função pode verificar o valor de retorno para determinar o sucesso ou falha da chamada de função."
      ]
    },
    {
      "cell_type": "markdown",
      "metadata": {
        "tags": [],
        "id": "gPz9wtWfXaH2"
      },
      "source": [
        "## 5 Relançando uma exceção\n",
        "- Relançando uma exceção\n",
        "    - Instrução raise; vazia.\n",
        "    - Usada quando um handler except não pode ou só pode processar parcialmente uma exceção.\n",
        "    - O próximo bloco try envolvente tenta corresponder à exceção com um de seus handlers except.\n",
        "- Rode o programa **Fig16_03()** abaixo e observe o seu código fonte [Fig16_03.cpp](src/ch16/Fig16_03/Fig16_03.cpp)."
      ]
    },
    {
      "cell_type": "code",
      "source": [
        "# lança, captura e relança a exceção\n",
        "def throwException() :\n",
        "   # lança a exceção e a captura imediatamente\n",
        "   try: \n",
        "      print(\"  Function throwException throws an exception\\n\")\n",
        "      raise Exception()   # gera a exceção\n",
        "   except ( Exception ) : # trata a exceção\n",
        "      print(\"  Exception handled in function throwException\", \"\\n  Function throwException rethrows exception\")\n",
        "      raise # relança a exceção para processamento adicional\n",
        "\n",
        "   print(\"This also should not print\\n\")\n"
      ],
      "metadata": {
        "id": "T_bgjVO1vZb1"
      },
      "execution_count": 7,
      "outputs": []
    },
    {
      "cell_type": "code",
      "execution_count": 8,
      "metadata": {
        "tags": [],
        "colab": {
          "base_uri": "https://localhost:8080/"
        },
        "id": "7Anxj_yvXaH4",
        "outputId": "e5c69cda-ce02-417e-bbf4-77b3d2d7ed2e"
      },
      "outputs": [
        {
          "output_type": "stream",
          "name": "stdout",
          "text": [
            "\n",
            "main invokes function throwException\n",
            "\n",
            "  Function throwException throws an exception\n",
            "\n",
            "  Exception handled in function throwException \n",
            "  Function throwException rethrows exception\n",
            "\n",
            "\n",
            "Exception handled in main\n",
            "\n",
            "Program control continues after catch in main\n",
            "\n"
          ]
        }
      ],
      "source": [
        "# lança a exceção\n",
        "try: \n",
        "    print(\"\\nmain invokes function throwException\\n\")\n",
        "    throwException()\n",
        "    print(\"This should not print\\n\")\n",
        "except ( Exception ) :\n",
        "    print(\"\\n\\nException handled in main\\n\")\n",
        "\n",
        "print(\"Program control continues after catch in main\\n\")\n"
      ]
    },
    {
      "cell_type": "markdown",
      "metadata": {
        "tags": [],
        "id": "6HhF6whsXaH6"
      },
      "source": [
        "## Erro comum de programação 6\n",
        "- Executar uma instrução raise vazia situada fora de um handler except produz uma chamada à exceção RuntimeError, \n",
        "    - que abandona o processamento de exceção e termina o programa imediatamente.\n",
        "\n",
        "https://docs.python.org/3.8/reference/simple_stmts.html?highlight=raise#grammar-token-raise-stmt"
      ]
    },
    {
      "cell_type": "markdown",
      "source": [
        "## 6 Capturando exceções expecíficas\n",
        "\n",
        "- Nos exemplos anteriores, não mencionamos nenhuma exceção específica na cláusula except.\n",
        "\n",
        "- Esta não é uma boa prática de programação, pois captura todas as exceções e trata todos os casos da mesma maneira. Podemos especificar quais exceções uma cláusula except deve capturar.\n",
        "\n",
        "- Uma cláusula try pode ter qualquer número de cláusulas except para lidar com diferentes exceções, no entanto, apenas uma será executada caso ocorra uma exceção.\n",
        "\n",
        "- Podemos usar uma tupla de valores para especificar várias exceções em uma cláusula except. \n",
        "\n",
        "Aqui está um exemplo de código."
      ],
      "metadata": {
        "id": "6Qt6sX7QHIf5"
      }
    },
    {
      "cell_type": "code",
      "source": [
        "try:\n",
        "   # seu código principal\n",
        "   pass\n",
        "\n",
        "except ValueError:\n",
        "   # trata ValueError exception\n",
        "   pass\n",
        "\n",
        "except (TypeError, ZeroDivisionError):\n",
        "   # trata multiplas exceções\n",
        "   # TypeError e ZeroDivisionError\n",
        "   pass\n",
        "\n",
        "except:\n",
        "   # trata todas as outras exceções\n",
        "   pass"
      ],
      "metadata": {
        "id": "eZ43xaUZHrT9"
      },
      "execution_count": 1,
      "outputs": []
    },
    {
      "cell_type": "markdown",
      "metadata": {
        "tags": [],
        "id": "NeO_cYaTXaH9"
      },
      "source": [
        "## 7 Cláusula try com else\n",
        "- Em algumas situações, você pode querer executar um determinado bloco de código se o bloco de código dentro do try for executado sem erros. \n",
        "- Para esses casos, você pode usar a palavra-chave opcional else com a instrução try.\n",
        "\n",
        "    Nota: Exceções na cláusula else não são tratadas pelas cláusulas except anteriores.\n",
        "\n",
        "Vejamos um exemplo:"
      ]
    },
    {
      "cell_type": "code",
      "source": [
        "# programa para imprimir o recíproco de números pares\n",
        "\n",
        "try:\n",
        "    num = int(input(\"Entre com um número: \"))\n",
        "    assert num % 2 == 0\n",
        "except:\n",
        "    print(\"Não é um número par!\")\n",
        "else:\n",
        "    reciprocal = 1/num\n",
        "    print(reciprocal)"
      ],
      "metadata": {
        "colab": {
          "base_uri": "https://localhost:8080/"
        },
        "id": "R3F5CpIAIsYd",
        "outputId": "92def2a1-7412-426b-a413-4dba2f904296"
      },
      "execution_count": 2,
      "outputs": [
        {
          "output_type": "stream",
          "name": "stdout",
          "text": [
            "Entre com um número: 2\n",
            "0.5\n"
          ]
        }
      ]
    },
    {
      "cell_type": "markdown",
      "metadata": {
        "tags": [],
        "id": "JUhjC6wZXaH-"
      },
      "source": [
        "## 7 Cláusula try com finally\n",
        "- A instrução try em Python pode ter uma cláusula finally opcional. Esta cláusula é executada não importa o que aconteça e geralmente é usada para liberar recursos externos.\n",
        "\n",
        "- Por exemplo, podemos estar conectados a um data center remoto através da rede ou trabalhando com um arquivo ou uma Interface Gráfica de Usuário (GUI).\n",
        "\n",
        "- Em todas essas circunstâncias, devemos limpar o recurso antes que o programa seja interrompido, seja ele executado com êxito ou não. \n",
        "\n",
        "- Essas ações (fechar um arquivo, GUI ou desconectar da rede) são realizadas na cláusula finally para garantir a execução.\n",
        "\n",
        "Aqui está um exemplo de operações de arquivo para ilustrar isso."
      ]
    },
    {
      "cell_type": "code",
      "source": [
        "try:\n",
        "   f = open(\"test.txt\", mode='w', encoding = 'utf-8')\n",
        "   raise Exception(\" fechar arquivo \")\n",
        "except:\n",
        "    print(\"tratar erro\")\n",
        "finally:\n",
        "   f.close()\n",
        "   print(\"fechou\")"
      ],
      "metadata": {
        "colab": {
          "base_uri": "https://localhost:8080/"
        },
        "id": "lwRdTvi9JjqX",
        "outputId": "1f183365-1b85-4cc8-c9a4-ab5a227f71c2"
      },
      "execution_count": 9,
      "outputs": [
        {
          "output_type": "stream",
          "name": "stdout",
          "text": [
            "tratar erro\n",
            "fechou\n"
          ]
        }
      ]
    },
    {
      "cell_type": "markdown",
      "metadata": {
        "tags": [],
        "id": "Q5_HtygcXaIA"
      },
      "source": [
        "## 8 Desempilhamento de pilha\n",
        "- Desempilhamento\n",
        "    - Ocorre quando uma exceção lançada não é capturada em um determinado escopo.\n",
        "    - Desempilhar uma função encerra essa função.\n",
        "        - Todas as variáveis locais da função são destruídas.\n",
        "        - O controle retorna à instrução que invocou a função.\n",
        "    - São feitas tentativas de capturar a exceção em blocos try…except externos.\n",
        "    - Se a exceção nunca for capturada, a função exit será chamada.\n",
        "- Rode o programa abaixo e observe o seu código fonte."
      ]
    },
    {
      "cell_type": "code",
      "source": [
        "# function3 lança erro de tempo de execução\n",
        "def function3():\n",
        "   print( \"In function 3\" )\n",
        "   # nenhum bloco try, o desempilhamento ocorre, retorna controle a function2\n",
        "   raise RuntimeError( \"runtime_error in function3\" )\n"
      ],
      "metadata": {
        "id": "BnEqJZevTjyr"
      },
      "execution_count": 20,
      "outputs": []
    },
    {
      "cell_type": "code",
      "source": [
        "# function2 invoca function3\n",
        "def function2() :\n",
        "   print( \"function3 is called inside function2\" )\n",
        "   function3() # o desempilhamento ocorre, retorna o controle a function1\n"
      ],
      "metadata": {
        "id": "WuoKC7qdT6PB"
      },
      "execution_count": 21,
      "outputs": []
    },
    {
      "cell_type": "code",
      "source": [
        "# function1 invoca function2\n",
        "def function1() :\n",
        "   print( \"function2 is called inside function1\" )\n",
        "   function2(); # o desempilhamento ocorre, retorna controle a main\n",
        "\n"
      ],
      "metadata": {
        "id": "eHsUsp0IUFU1"
      },
      "execution_count": 22,
      "outputs": []
    },
    {
      "cell_type": "code",
      "execution_count": 24,
      "metadata": {
        "tags": [],
        "colab": {
          "base_uri": "https://localhost:8080/"
        },
        "id": "FrbYH5hoXaIC",
        "outputId": "c2ac40bd-1f1b-43f3-dc51-899ce5240dd4"
      },
      "outputs": [
        {
          "output_type": "stream",
          "name": "stdout",
          "text": [
            "function1 is called inside main\n",
            "function2 is called inside function1\n",
            "function3 is called inside function2\n",
            "In function 3\n",
            "Exception occurred:  runtime_error in function3\n",
            "Exception handled in main\n"
          ]
        }
      ],
      "source": [
        "# invoca function1\n",
        "try :\n",
        "    print( \"function1 is called inside main\" )\n",
        "    function1() # chama function1 que lança runtime_error\n",
        "except RuntimeError as error : # trata erro de tempo de execução\n",
        "    print(\"Exception occurred: \" , error )\n",
        "    print(\"Exception handled in main\" )"
      ]
    },
    {
      "cell_type": "markdown",
      "metadata": {
        "tags": [],
        "id": "nxsFVqXQXaIE"
      },
      "source": [
        "## 9 Construtores, destrutores e tratamento de exceções\n",
        "- Exceções e construtores\n",
        "    - As exceções permitem que os construtores, que não podem retornar valores, informem erros ao programa.\n",
        "    - As exceções lançadas por construtores fazem com que qualquer objeto de componente já construído chame seus destrutores.\n",
        "        - Apenas os objetos que já tiverem sido construídos serão destruídos.\n",
        "- Exceções e destrutores\n",
        "    - Os destrutores são chamados para todos os objetos automáticos no bloco try encerrado quando uma exceção é lançada.\n",
        "        - Os recursos adquiridos podem ser colocados nos objetos locais a fim de liberá-los automaticamente no momento em que ocorrer uma exceção.\n",
        "    - Se um destrutor invocado por desempilhamento lançar uma exceção, a função terminate será chamada."
      ]
    },
    {
      "cell_type": "code",
      "source": [
        "class Integer :\n",
        "    def __init__(self, i = 0 ):\n",
        "        self.value = i\n",
        "        if i < 0:\n",
        "            raise Exception\n",
        "        print(\"Constructor for Integer \" , self.value)\n",
        "\n",
        "    def __del__(self):\n",
        "        print(\"Destructor for Integer \" , self.value)\n",
        "\n",
        "    def setInteger(self, i ):\n",
        "        self.value = i\n",
        "\n",
        "    def getInteger(self):\n",
        "        return self.value\n"
      ],
      "metadata": {
        "id": "IzGZ9NDuVv_b"
      },
      "execution_count": 32,
      "outputs": []
    },
    {
      "cell_type": "code",
      "source": [
        "def ok():          \n",
        "    p = Integer( 7 )\n",
        "\n",
        "    p.setInteger( 99 )\n",
        "\n",
        "    p.getInteger()\n",
        "\n",
        "def erro():\n",
        "    r = Integer( -1 )"
      ],
      "metadata": {
        "id": "gK8RnkOkXcwH"
      },
      "execution_count": 35,
      "outputs": []
    },
    {
      "cell_type": "code",
      "source": [
        "ok()"
      ],
      "metadata": {
        "colab": {
          "base_uri": "https://localhost:8080/"
        },
        "id": "nQHT8faNYdIR",
        "outputId": "a92056ab-b7b7-4946-f9c2-2ad923157ce3"
      },
      "execution_count": 36,
      "outputs": [
        {
          "output_type": "stream",
          "name": "stdout",
          "text": [
            "Constructor for Integer  7\n",
            "Destructor for Integer  99\n"
          ]
        }
      ]
    },
    {
      "cell_type": "code",
      "source": [
        "erro()"
      ],
      "metadata": {
        "colab": {
          "base_uri": "https://localhost:8080/",
          "height": 307
        },
        "id": "0usnVF0xYfbq",
        "outputId": "a500d240-a68b-44df-cf9b-f606452fb2c4"
      },
      "execution_count": 37,
      "outputs": [
        {
          "output_type": "error",
          "ename": "Exception",
          "evalue": "ignored",
          "traceback": [
            "\u001b[0;31m---------------------------------------------------------------------------\u001b[0m",
            "\u001b[0;31mException\u001b[0m                                 Traceback (most recent call last)",
            "\u001b[0;32m<ipython-input-37-df464f525a5d>\u001b[0m in \u001b[0;36m<module>\u001b[0;34m\u001b[0m\n\u001b[0;32m----> 1\u001b[0;31m \u001b[0merro\u001b[0m\u001b[0;34m(\u001b[0m\u001b[0;34m)\u001b[0m\u001b[0;34m\u001b[0m\u001b[0;34m\u001b[0m\u001b[0m\n\u001b[0m",
            "\u001b[0;32m<ipython-input-35-8a6cbd65c61c>\u001b[0m in \u001b[0;36merro\u001b[0;34m()\u001b[0m\n\u001b[1;32m      7\u001b[0m \u001b[0;34m\u001b[0m\u001b[0m\n\u001b[1;32m      8\u001b[0m \u001b[0;32mdef\u001b[0m \u001b[0merro\u001b[0m\u001b[0;34m(\u001b[0m\u001b[0;34m)\u001b[0m\u001b[0;34m:\u001b[0m\u001b[0;34m\u001b[0m\u001b[0;34m\u001b[0m\u001b[0m\n\u001b[0;32m----> 9\u001b[0;31m     \u001b[0mr\u001b[0m \u001b[0;34m=\u001b[0m \u001b[0mInteger\u001b[0m\u001b[0;34m(\u001b[0m \u001b[0;34m-\u001b[0m\u001b[0;36m1\u001b[0m \u001b[0;34m)\u001b[0m\u001b[0;34m\u001b[0m\u001b[0;34m\u001b[0m\u001b[0m\n\u001b[0m",
            "\u001b[0;32m<ipython-input-32-4981fc2935c2>\u001b[0m in \u001b[0;36m__init__\u001b[0;34m(self, i)\u001b[0m\n\u001b[1;32m      3\u001b[0m         \u001b[0mself\u001b[0m\u001b[0;34m.\u001b[0m\u001b[0mvalue\u001b[0m \u001b[0;34m=\u001b[0m \u001b[0mi\u001b[0m\u001b[0;34m\u001b[0m\u001b[0;34m\u001b[0m\u001b[0m\n\u001b[1;32m      4\u001b[0m         \u001b[0;32mif\u001b[0m \u001b[0mi\u001b[0m \u001b[0;34m<\u001b[0m \u001b[0;36m0\u001b[0m\u001b[0;34m:\u001b[0m\u001b[0;34m\u001b[0m\u001b[0;34m\u001b[0m\u001b[0m\n\u001b[0;32m----> 5\u001b[0;31m             \u001b[0;32mraise\u001b[0m \u001b[0mException\u001b[0m\u001b[0;34m\u001b[0m\u001b[0;34m\u001b[0m\u001b[0m\n\u001b[0m\u001b[1;32m      6\u001b[0m         \u001b[0mprint\u001b[0m\u001b[0;34m(\u001b[0m\u001b[0;34m\"Constructor for Integer \"\u001b[0m \u001b[0;34m,\u001b[0m \u001b[0mself\u001b[0m\u001b[0;34m.\u001b[0m\u001b[0mvalue\u001b[0m\u001b[0;34m)\u001b[0m\u001b[0;34m\u001b[0m\u001b[0;34m\u001b[0m\u001b[0m\n\u001b[1;32m      7\u001b[0m \u001b[0;34m\u001b[0m\u001b[0m\n",
            "\u001b[0;31mException\u001b[0m: "
          ]
        }
      ]
    },
    {
      "cell_type": "markdown",
      "metadata": {
        "tags": [],
        "id": "FzztI4ssXaIF"
      },
      "source": [
        "## 10 Exceções e herança\n",
        "- Herança com classes de exceção\n",
        "    - Novas classes de exceção podem ser definidas para herdar de classes de exceção existentes.\n",
        "    - Um handler para captura para uma determinada classe de exceção também pode capturar exceções de classes derivadas dessa classe.\n",
        "\n",
        "\n",
        "https://docs.python.org/3/library/exceptions.html#exception-hierarchy\n"
      ]
    },
    {
      "cell_type": "markdown",
      "metadata": {
        "tags": [],
        "id": "U0MHEtrRXaIG"
      },
      "source": [
        "## Dica de prevenção de erro 5\n",
        "- Utilizar herança com exceções permite criar um handler de exceção para capturar erros relacionados com a notação concisa. \n",
        "- Uma abordagem é capturar cada tipo de ponteiro ou referência para um objeto de exceção de classe derivada individualmente, \n",
        "    - mas uma abordagem mais concisa é capturar as referências ou ponteiros para objetos de exceção de classe básica. \n",
        "- Além disso, capturar ponteiros ou referências a objetos de exceção de classe derivada individualmente pode provocar erros, especialmente se o programador se esquecer de testar explicitamente um ou mais dos tipos de referência ou de ponteiros de classe derivada."
      ]
    },
    {
      "cell_type": "markdown",
      "metadata": {
        "tags": [],
        "id": "LePCD5hcXaIM"
      },
      "source": [
        "## 13 Hierarquia de exceções da biblioteca-padrão\n",
        "- Classes de hierarquia de exceções\n",
        "    - Classe BaseException\n",
        "        - Classe Exception\n",
        "\n",
        "| Exceção | Causa do Erro|                                                               \n",
        "|---|---|                                                      \n",
        "| AssertionError| Gerado quando uma instrução assert falha.                                                                                             |\n",
        "| AttributeError| Gerado quando a atribuição ou referência de atributo falha.                                                                           |\n",
        "| EOFError| Gerado quando a função input() atinge a condição de fim de arquivo.                                                                         |\n",
        "| FloatingPointError| Gerado quando uma operação de ponto flutuante falha.                                                                              |\n",
        "| GeneratorExit| Gera quando o método close() de um gerador é chamado.                                                                                  |\n",
        "| ImportError| Gerado quando o módulo importado não é encontrado.                                                                                       |\n",
        "| IndexError| Gerado quando o índice de uma sequência está fora do intervalo.                                                                           |\n",
        "| KeyError| Gerado quando uma chave não é encontrada em um dicionário.                                                                                  |\n",
        "| KeyboardInterrupt| Gerado quando o usuário pressiona a tecla de interrupção (Ctrl+C ou Delete).                                                       |\n",
        "| MemoryError| Gerado quando uma operação fica sem memória.                                                                                             |\n",
        "| NameError| Gerado quando uma variável não é encontrada no escopo local ou global.                                                                     |\n",
        "| NotImplementedError| Gerado por métodos abstratos.                                                                                                    |\n",
        "| OSError| Gerado quando a operação do sistema causa um erro relacionado ao sistema.                                                                    |\n",
        "| OverflowError| Gerado quando o resultado de uma operação aritmética é muito grande para ser representado.                                             |\n",
        "| ReferenceError| Gerado quando um proxy de referência fraco é usado para acessar um referente coletado de lixo.                                        |\n",
        "| RuntimeError| Gerado quando um erro não se enquadra em nenhuma outra categoria.                                                                       |\n",
        "| StopIteration| Gerado pela função next() para indicar que não há mais nenhum item a ser retornado pelo iterador.                                      |\n",
        "| SyntaxError| Gerado pelo analisador quando um erro de sintaxe é encontrado.                                                                           |\n",
        "| IndentationError| Gerado quando há recuo incorreto.                                                                                                   |\n",
        "| TabError| Gerado quando o recuo consiste em tabulações e espaços inconsistentes.                                                                      |\n",
        "| SystemError| Gerado quando o interpretador detecta um erro interno.                                                                                   |\n",
        "| SystemExit| Gerado pela função sys.exit().                                                                                                            |\n",
        "| TypeError| Gerado quando uma função ou operação é aplicada a um objeto de tipo incorreto.                                                             |\n",
        "| UnboundLocalError| Gerado quando uma referência é feita a uma variável local em uma função ou método, mas nenhum valor foi associado a essa variável. |\n",
        "| UnicodeError| Gerado quando ocorre um erro de codificação ou decodificação relacionado ao Unicode.                                                    |\n",
        "| UnicodeEncodeError| Gerado quando ocorre um erro relacionado ao Unicode durante a codificação.                                                        |\n",
        "| UnicodeDecodeError| Gerado quando ocorre um erro relacionado ao Unicode durante a decodificação.                                                      |\n",
        "| UnicodeTranslateError| Gerado quando ocorre um erro relacionado ao Unicode durante a tradução.                                                        |\n",
        "| ValueError| Gerado quando uma função obtém um argumento de tipo correto, mas valor impróprio.                                                         |\n",
        "| ZeroDivisionError| Gerado quando o segundo operando de divisão ou operação de módulo é zero.                                                          |"
      ]
    },
    {
      "cell_type": "code",
      "source": [
        "print(dir(locals()['__builtins__']))"
      ],
      "metadata": {
        "colab": {
          "base_uri": "https://localhost:8080/"
        },
        "id": "S_Ws9iPhPypu",
        "outputId": "f99ed913-afa2-4406-f975-7aba4e8da1c7"
      },
      "execution_count": 10,
      "outputs": [
        {
          "output_type": "stream",
          "name": "stdout",
          "text": [
            "['ArithmeticError', 'AssertionError', 'AttributeError', 'BaseException', 'BlockingIOError', 'BrokenPipeError', 'BufferError', 'BytesWarning', 'ChildProcessError', 'ConnectionAbortedError', 'ConnectionError', 'ConnectionRefusedError', 'ConnectionResetError', 'DeprecationWarning', 'EOFError', 'Ellipsis', 'EnvironmentError', 'Exception', 'False', 'FileExistsError', 'FileNotFoundError', 'FloatingPointError', 'FutureWarning', 'GeneratorExit', 'IOError', 'ImportError', 'ImportWarning', 'IndentationError', 'IndexError', 'InterruptedError', 'IsADirectoryError', 'KeyError', 'KeyboardInterrupt', 'LookupError', 'MemoryError', 'ModuleNotFoundError', 'NameError', 'None', 'NotADirectoryError', 'NotImplemented', 'NotImplementedError', 'OSError', 'OverflowError', 'PendingDeprecationWarning', 'PermissionError', 'ProcessLookupError', 'RecursionError', 'ReferenceError', 'ResourceWarning', 'RuntimeError', 'RuntimeWarning', 'StopAsyncIteration', 'StopIteration', 'SyntaxError', 'SyntaxWarning', 'SystemError', 'SystemExit', 'TabError', 'TimeoutError', 'True', 'TypeError', 'UnboundLocalError', 'UnicodeDecodeError', 'UnicodeEncodeError', 'UnicodeError', 'UnicodeTranslateError', 'UnicodeWarning', 'UserWarning', 'ValueError', 'Warning', 'ZeroDivisionError', '__IPYTHON__', '__build_class__', '__debug__', '__doc__', '__import__', '__loader__', '__name__', '__package__', '__spec__', 'abs', 'all', 'any', 'ascii', 'bin', 'bool', 'breakpoint', 'bytearray', 'bytes', 'callable', 'chr', 'classmethod', 'compile', 'complex', 'copyright', 'credits', 'delattr', 'dict', 'dir', 'display', 'divmod', 'enumerate', 'eval', 'exec', 'execfile', 'filter', 'float', 'format', 'frozenset', 'get_ipython', 'getattr', 'globals', 'hasattr', 'hash', 'help', 'hex', 'id', 'input', 'int', 'isinstance', 'issubclass', 'iter', 'len', 'license', 'list', 'locals', 'map', 'max', 'memoryview', 'min', 'next', 'object', 'oct', 'open', 'ord', 'pow', 'print', 'property', 'range', 'repr', 'reversed', 'round', 'runfile', 'set', 'setattr', 'slice', 'sorted', 'staticmethod', 'str', 'sum', 'super', 'tuple', 'type', 'vars', 'zip']\n"
          ]
        }
      ]
    },
    {
      "cell_type": "markdown",
      "metadata": {
        "tags": [],
        "id": "P9DLlnNZXaIM"
      },
      "source": [
        "## Erro comum de programação 8\n",
        "- Colocar um handler except que captura um objeto de classe básica antes de um except que captura um objeto de uma classe derivada dessa classe básica é um erro de lógica. \n",
        "- A classe básica except captura todos os objetos de classe derivada dessa classe básica. \n",
        "- Desse modo, a classe derivada except nunca executará."
      ]
    },
    {
      "cell_type": "markdown",
      "metadata": {
        "tags": [],
        "id": "UcqKXDPgXaIP"
      },
      "source": [
        "## Dica de prevenção de erro 6\n",
        "- Para capturar todas as exceções potencialmente lançadas em um bloco try, utilize except vazio. \n",
        "- Um ponto fraco desse método de captura de exceções é que o tipo da exceção capturada é desconhecido em tempo de compilação. \n",
        "- Outro ponto fraco é que, sem um parâmetro identificado, não há nenhuma maneira de referenciar o objeto exceção dentro do handler de exceção."
      ]
    },
    {
      "cell_type": "markdown",
      "metadata": {
        "tags": [],
        "id": "65L-cEQsXaIP"
      },
      "source": [
        "## Observação de engenharia de software 10\n",
        "- A hierarquia exception padrão é um bom ponto de partida para criar exceções. \n",
        "- Os programadores podem construir programas que podem \n",
        "    - lançar exceções-padrão, \n",
        "    - lançar exceções derivadas das exceções-padrão ou \n",
        "    - lançar suas próprias exceções não derivadas das exceções-padrão."
      ]
    },
    {
      "cell_type": "markdown",
      "metadata": {
        "tags": [],
        "id": "buEI1bNWXaIQ"
      },
      "source": [
        "## 14 Outras técnicas de tratamento de erro\n",
        "- Outras técnicas de tratamento de erro\n",
        "    - Ignore a exceção\n",
        "        - Isso é devastador para softwares comerciais e de missão crítica.\n",
        "    - Aborte o programa\n",
        "        - Isso evita que um programa forneça resultados incorretos aos usuários.\n",
        "        - É inapropriado para aplicativos de missão crítica.\n",
        "        - Se conseguir um recurso, o programa deve liberá-lo antes da terminação do programa.\n",
        "    - Configure indicadores de erro\n",
        "        - Emita uma mensagem de erro e passe um código de erro apropriado por meio de exit ao ambiente do programa."
      ]
    },
    {
      "cell_type": "markdown",
      "source": [
        "https://docs.python.org/pt-br/3/library/exceptions.html"
      ],
      "metadata": {
        "id": "ljnB-cGzTBt5"
      }
    },
    {
      "cell_type": "code",
      "execution_count": null,
      "metadata": {
        "id": "PLbcYo9nXaIQ"
      },
      "outputs": [],
      "source": []
    }
  ],
  "metadata": {
    "kernelspec": {
      "display_name": "Python 3",
      "name": "python3"
    },
    "language_info": {
      "name": "python"
    },
    "colab": {
      "provenance": [],
      "collapsed_sections": [],
      "include_colab_link": true
    },
    "gpuClass": "standard"
  },
  "nbformat": 4,
  "nbformat_minor": 0
}