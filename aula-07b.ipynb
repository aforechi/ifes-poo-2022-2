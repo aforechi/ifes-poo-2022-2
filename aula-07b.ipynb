{
  "cells": [
    {
      "cell_type": "markdown",
      "metadata": {
        "colab_type": "text",
        "id": "view-in-github"
      },
      "source": [
        "<a href=\"https://colab.research.google.com/github/aforechi/ifes-poo-2022-2/blob/main/aula07b.ipynb\" target=\"_parent\"><img src=\"https://colab.research.google.com/assets/colab-badge.svg\" alt=\"Open In Colab\"/></a>"
      ]
    },
    {
      "cell_type": "markdown",
      "metadata": {
        "id": "Vbsh43EK_f5g"
      },
      "source": [
        "# Aula de Revisão sobre Loops\n"
      ]
    },
    {
      "cell_type": "markdown",
      "metadata": {
        "id": "s6V7xlnm_f5j"
      },
      "source": [
        "## Programa que imprime os n primeiros numeros impares."
      ]
    },
    {
      "cell_type": "code",
      "execution_count": 1,
      "metadata": {
        "colab": {
          "base_uri": "https://localhost:8080/"
        },
        "id": "IipJdfhz_f5k",
        "outputId": "680d779a-d2eb-40f3-bcf3-3724a4b6e8c0"
      },
      "outputs": [
        {
          "name": "stdout",
          "output_type": "stream",
          "text": [
            "Entre com a quantidade de termos: 3\n",
            "1\n",
            "3\n",
            "5\n"
          ]
        }
      ],
      "source": [
        "n = int(input(\"Entre com a quantidade de termos: \"))\n",
        "numero_impar = 1\n",
        "for i in range(1, n + 1): \n",
        "    print(numero_impar) \n",
        "    numero_impar += 2\n"
      ]
    },
    {
      "cell_type": "markdown",
      "metadata": {
        "id": "C_8KFJnz_f5m"
      },
      "source": [
        "## Programa para exibir os n primeiros termos de uma progressao geometrica utilizando o comando de repetição for"
      ]
    },
    {
      "cell_type": "code",
      "execution_count": 2,
      "metadata": {
        "colab": {
          "base_uri": "https://localhost:8080/"
        },
        "id": "3TFWHO91_f5m",
        "outputId": "153959e6-7ec6-434f-c18c-75a4851a6b69"
      },
      "outputs": [
        {
          "name": "stdout",
          "output_type": "stream",
          "text": [
            "Informe o valor do primeiro termo da PG:2\n",
            "Informe o valor da razao da PG:2\n",
            "Informe quantos termos devem ser impressos:5\n",
            "2 4 8 16 32 "
          ]
        }
      ],
      "source": [
        "a1 = int(input(\"Informe o valor do primeiro termo da PG:\"))\n",
        "\n",
        "q = int(input(\"Informe o valor da razao da PG:\"))\n",
        "\n",
        "n = int(input(\"Informe quantos termos devem ser impressos:\"))\n",
        "\n",
        "an = a1;\n",
        "for i in range(1, n +1):\n",
        "    print(an, end=\" \")\n",
        "    an *= q"
      ]
    },
    {
      "cell_type": "markdown",
      "metadata": {
        "id": "0YxEjCNQ_f5o"
      },
      "source": [
        "## Programa para realizar a operação de exponenciação utilizando o comando de repetição for."
      ]
    },
    {
      "cell_type": "code",
      "execution_count": 3,
      "metadata": {
        "colab": {
          "base_uri": "https://localhost:8080/"
        },
        "id": "xSKV_VOo_f5o",
        "outputId": "d41180bd-a424-4c24-f060-37c3fb9b3257"
      },
      "outputs": [
        {
          "name": "stdout",
          "output_type": "stream",
          "text": [
            "Informe os valores para base e expoente:2 3\n"
          ]
        }
      ],
      "source": [
        "base_e_expoente = input(\"Informe os valores para base e expoente:\")\n",
        "base, expoente = base_e_expoente.split()"
      ]
    },
    {
      "cell_type": "code",
      "execution_count": 6,
      "metadata": {
        "id": "Z9JUUigCD_ag"
      },
      "outputs": [],
      "source": [
        "base = int(base)\n",
        "expoente = int(expoente)"
      ]
    },
    {
      "cell_type": "code",
      "execution_count": 7,
      "metadata": {
        "id": "BNlzL6IE_f5r"
      },
      "outputs": [],
      "source": [
        "resultado = 1\n",
        "for i in range(expoente):\n",
        "    resultado *= base"
      ]
    },
    {
      "cell_type": "code",
      "execution_count": 8,
      "metadata": {
        "colab": {
          "base_uri": "https://localhost:8080/"
        },
        "id": "y100PCe3_f5s",
        "outputId": "985a09a7-9531-432b-da4c-a3cd664e6870"
      },
      "outputs": [
        {
          "name": "stdout",
          "output_type": "stream",
          "text": [
            "2  elevado a  3  =  8\n"
          ]
        }
      ],
      "source": [
        "print( base , \" elevado a \" , expoente , \" = \" , resultado )"
      ]
    },
    {
      "cell_type": "markdown",
      "metadata": {
        "id": "cqBRpkk9_f5s"
      },
      "source": [
        "## Resolva a série $\\frac{5}{3}+\\frac{7}{4}+\\frac{9}{5}+\\frac{11}{6}+...+\\frac{99}{50}$\n",
        "\n",
        "Para isto, podemos somar frações calculadas em uma repetição onde o denominador i vai de 3 a 50. Nesta série, a cada repetição somamos a fração: $\\frac{2i−1}{i}$\n",
        "\n",
        "Neste exemplo, vamos utilizar um contador i inicializado em 3 para calcularmos esta série.\n"
      ]
    },
    {
      "cell_type": "code",
      "execution_count": 9,
      "metadata": {
        "colab": {
          "base_uri": "https://localhost:8080/"
        },
        "id": "ziGJdflQ_f5t",
        "outputId": "5a233ed3-84a1-47c1-f0f8-68b349a73955"
      },
      "outputs": [
        {
          "name": "stdout",
          "output_type": "stream",
          "text": [
            "Somatório =  93.0007946616706\n"
          ]
        }
      ],
      "source": [
        "n = 50\n",
        "\n",
        "soma = 0\n",
        "for i in range( 3, n+1):\n",
        "    soma += (2*i-1)/i\n",
        "\n",
        "print( \"Somatório = \" , soma ) "
      ]
    },
    {
      "cell_type": "code",
      "execution_count": null,
      "metadata": {
        "id": "fBN2CR6D_f5u"
      },
      "outputs": [],
      "source": []
    }
  ],
  "metadata": {
    "colab": {
      "collapsed_sections": [],
      "include_colab_link": true,
      "name": "revisao-loop.ipynb",
      "provenance": []
    },
    "kernelspec": {
      "display_name": "Python 3.9.4 ('ifes-po')",
      "language": "python",
      "name": "python3"
    },
    "language_info": {
      "name": "python",
      "version": "3.9.4"
    },
    "vscode": {
      "interpreter": {
        "hash": "d23624f4fb3901b69876aecaac311f78328ac79fc9bc28bba0a8ecb58a6ebde9"
      }
    }
  },
  "nbformat": 4,
  "nbformat_minor": 0
}
