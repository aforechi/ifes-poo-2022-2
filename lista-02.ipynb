{
  "cells": [
    {
      "cell_type": "markdown",
      "metadata": {
        "id": "view-in-github",
        "colab_type": "text"
      },
      "source": [
        "<a href=\"https://colab.research.google.com/github/aforechi/ifes-alg-2022-1/blob/main/lista-02.ipynb\" target=\"_parent\"><img src=\"https://colab.research.google.com/assets/colab-badge.svg\" alt=\"Open In Colab\"/></a>"
      ]
    },
    {
      "cell_type": "markdown",
      "metadata": {
        "id": "vuKQK8HNel2Y"
      },
      "source": [
        "# 2a Lista de Exercícios\n",
        "\n",
        "Faça os exercícios abaixo de maneira clara, organizada e usando a linguagem Python, conforme orientações abaixo: \n",
        "\n",
        "- Lembre-se de identar o código com TAB, além de seguir as boas práticas de programação vistas em sala de aula.\n",
        "\n",
        "\n",
        "1. Faça um programa que forneça 5 numeros reais e imprima se o numero real lido pertence a um certo intervalo fechado cujos limites são fornecidos  pelo teclado. \n",
        "\n",
        "    Exemplo: LimInf = 4 e LimSup = 19. O programa deverá imprimir 4 e 16.9 para os seguintes numeros fornecidos: 30 3.5 20 4 16.9"
      ]
    },
    {
      "cell_type": "code",
      "execution_count": null,
      "metadata": {
        "id": "jA9VJaOVel2e"
      },
      "outputs": [],
      "source": [
        ""
      ]
    },
    {
      "cell_type": "markdown",
      "metadata": {
        "id": "ABmPgGV1el2e"
      },
      "source": [
        "2. Faça um programa para calcular os $n$ primeiros multiplos de 2. Imprimir cada um dos multiplos calculados. O valor de $n$ deve ser fornecido pelo programador. Exemplo: $n = 5$. A solução é: $2 \\times 0 = 0$, $2 \\times 1 = 2$, $2 \\times 2 = 4 $, $2 \\times 3 =6$, $2 \\times 4 = 8$, $2 \\times 5 = 10$.\n",
        "\n",
        "    Multiplos de um numero: um numero $b$ é multiplo de um numero $a$ se houver um numero natural $c$ tal que $a \\times c=b$.\n",
        "\n",
        "    O numero $c$ pode variar indefinidamente, de modo que existe uma infinidade de multiplos para qualquer numero. Os multiplos de 2, ou seja, os números $2 \\times c=b$ são denominados numeros pares e os demais numeros naturais recebem o nome de numeros impares. Ve-se tambem que para todo numero natural $a$ o numero $2 \\times a+1$ é numero impar.\n",
        "\n",
        "    Como se pode ver facilmente, $0$ é multiplo de todos os numeros e todo numero é multiplo de si mesmo e da unidade. \n",
        "\n",
        "    Fonte: http://www.galileu.esalq.usp.br/mostra_topico.php?cod=418"
      ]
    },
    {
      "cell_type": "code",
      "execution_count": null,
      "metadata": {
        "id": "th7I9Vhhel2f"
      },
      "outputs": [],
      "source": [
        ""
      ]
    },
    {
      "cell_type": "markdown",
      "metadata": {
        "id": "ehbzM2qCel2g"
      },
      "source": [
        "3. Faça um programa para calcular as areas de varios circulos concentricos cuja a lei de formação é:\n",
        "    - primeiro raio = 10\n",
        "    - segundo raio = 10/2\n",
        "    - terceiro raio = 10/4\n",
        "    - ... \n",
        "    - e assim por diante ate que a area calculada seja menor que 2.5\n",
        "\n",
        "Imprimir o numero de circulos concentricos e a diferença entre a primeira e a ultima area calculadas. Use para o valor de $\\pi$ da formula da area do circulo a constante **pi** definida na biblioteca **math**"
      ]
    },
    {
      "cell_type": "code",
      "execution_count": null,
      "metadata": {
        "id": "ncGQ8dx7el2h"
      },
      "outputs": [],
      "source": [
        ""
      ]
    },
    {
      "cell_type": "markdown",
      "metadata": {
        "id": "kW_KGCe7el2h"
      },
      "source": [
        "4. Faça um programa para calcular o valor de $\\pi$, com precisão de 0.0001, usando a série $ S = \\frac{4}{1} - \\frac{4}{3} + \\frac{4}{5} - \\frac{4}{7} +  \n",
        "\\frac{4}{9} - \\frac{4}{11} + \\ldots $\n",
        "Para obter a precisão desejada, adicionar apenas os termos cujo valor absoluto seja maior ou igual a 0.0001. Indique quantos termos foram usados e o valor de $\\pi$ obtido."
      ]
    },
    {
      "cell_type": "code",
      "execution_count": null,
      "metadata": {
        "id": "yN8pUfwmel2i"
      },
      "outputs": [],
      "source": [
        ""
      ]
    },
    {
      "cell_type": "markdown",
      "metadata": {
        "id": "e3Lc3Y9ael2i"
      },
      "source": [
        "5. Faça um algoritmo que sorteie $n$ numeros no intervalo de um a dez, calcule a media com dois digitos de precisão (para isso some 0.005 a media e descarte o terceiro digito em diante) dos valores maiores que cinco e quantos numeros lidos são menores ou iguais a cinco. "
      ]
    },
    {
      "cell_type": "code",
      "execution_count": null,
      "metadata": {
        "id": "Pq0QW8mlel2j"
      },
      "outputs": [],
      "source": [
        ""
      ]
    },
    {
      "cell_type": "markdown",
      "metadata": {
        "id": "yyTE4A5Sel2j"
      },
      "source": [
        "6. Faça um algoritmo que calcule e escreva o valor de $S$ no seguinte somatorio: $S = \\frac{1}{225} - \\frac{2}{196} + \\frac{4}{169} - \\frac{8}{144} +  \\ldots + \\frac{16384}{1}$"
      ]
    },
    {
      "cell_type": "code",
      "execution_count": null,
      "metadata": {
        "id": "VNFhcoenel2k"
      },
      "outputs": [],
      "source": [
        ""
      ]
    },
    {
      "cell_type": "markdown",
      "metadata": {
        "id": "A_3fC4Toel2k"
      },
      "source": [
        "7. Faça um algoritmo para calcular o valor aproximado de $e^x$ atraves da serie $\n",
        "e^x = x^0 + \\frac{x^1}{1!} + \\frac{x^2}{2!} + \\frac{x^3}{3!} + \\cdots$ de modo que o mesmo difira do valor calculado atraves da função $exp(x)$ de, no maximo, 0.0001. O valor de $x$ deve ser fornecido pelo programador. O programa deverá imprimir na tela o valor de x, o valor calculado atraves da serie, o valor dado pela função $exp(x)$ e o numero de termos utilizados da serie."
      ]
    },
    {
      "cell_type": "code",
      "execution_count": 3,
      "metadata": {
        "id": "VTYUl8pqel2l"
      },
      "outputs": [],
      "source": [
        ""
      ]
    },
    {
      "cell_type": "markdown",
      "metadata": {
        "id": "ggmLNZmqel2l"
      },
      "source": [
        "8. Para saber o número de dígitos significativos do sistema de representação numérica da máquina que está sendo utilizada pode-se fazer o cálculo do chamado Épsilon da máquina $\\epsilon$. \n",
        "\n",
        "  O $\\epsilon$ da máquina é o menor número em ponto flutuante, tal que: $1.0 + \\epsilon > 1.0$. \n",
        "  \n",
        "  Alguns métodos para o cálculo de $\\epsilon$ não dão seu valor exato, mas isto nem sempre é necessário, pois o que importa é a sua ordem de grandeza. Para tal calcule uma aproximação do $\\epsilon$ da máquina por meio de sucessivas divisões por 2 ($\\epsilon/2$) e sabendo que o epsilon foi inicializado com 1 ($\\epsilon=1$)."
      ]
    },
    {
      "cell_type": "code",
      "source": [
        "eps = 1.0\n",
        "while 1.0 + eps > 1.0:\n",
        "    eps /= 2.0\n",
        "eps *= 2.0\n",
        "print(\"O epsilon da máquina é:\", eps)"
      ],
      "metadata": {
        "colab": {
          "base_uri": "https://localhost:8080/"
        },
        "id": "fPIZ-rKvggyq",
        "outputId": "cb9f9f8a-bbb7-491c-b4a6-b44ad0c6134c"
      },
      "execution_count": 7,
      "outputs": [
        {
          "output_type": "stream",
          "name": "stdout",
          "text": [
            "O epsilon da máquina é: 2.220446049250313e-16\n"
          ]
        }
      ]
    },
    {
      "cell_type": "code",
      "execution_count": 6,
      "metadata": {
        "colab": {
          "base_uri": "https://localhost:8080/"
        },
        "id": "d3UUeraXel2m",
        "outputId": "f071bc53-265e-44fc-d8ed-a13580eaa6e2"
      },
      "outputs": [
        {
          "output_type": "execute_result",
          "data": {
            "text/plain": [
              "2.220446049250313e-16"
            ]
          },
          "metadata": {},
          "execution_count": 6
        }
      ],
      "source": [
        "import sys\n",
        "sys.float_info.epsilon"
      ]
    },
    {
      "cell_type": "code",
      "source": [
        ""
      ],
      "metadata": {
        "id": "kAeo__MhgBl0"
      },
      "execution_count": null,
      "outputs": []
    }
  ],
  "metadata": {
    "kernelspec": {
      "display_name": "Python 3",
      "name": "python3"
    },
    "language_info": {
      "name": "python"
    },
    "colab": {
      "name": "lista-02.ipynb",
      "provenance": [],
      "include_colab_link": true
    }
  },
  "nbformat": 4,
  "nbformat_minor": 0
}