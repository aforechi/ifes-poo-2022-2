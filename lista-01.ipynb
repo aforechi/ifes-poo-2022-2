{
  "cells": [
    {
      "cell_type": "markdown",
      "metadata": {
        "id": "view-in-github",
        "colab_type": "text"
      },
      "source": [
        "<a href=\"https://colab.research.google.com/github/aforechi/ifes-alg-2022-1/blob/main/lista-01.ipynb\" target=\"_parent\"><img src=\"https://colab.research.google.com/assets/colab-badge.svg\" alt=\"Open In Colab\"/></a>"
      ]
    },
    {
      "cell_type": "markdown",
      "metadata": {
        "id": "0yCxmWPXUZAK"
      },
      "source": [
        "# 1a Lista de Exercícios\n",
        "\n",
        "Faça os exercícios abaixo de maneira clara, organizada e usando a linguagem Python, conforme orientações abaixo: \n",
        "\n",
        "- Lembre-se de identar o código com TAB, além de seguir as boas práticas de programação vistas em sala de aula e no livro texto.\n",
        "\n",
        "\n",
        "1. Implementar as expressões abaixo em Python. Indique no próprio código na forma de comentário a ordem com que são calculadas as expressões e forneça os resultados como saída na tela, considerando a = 1.0, b = 3.0, c = -5.0.\n",
        ">- a\\*(b+c)/(c+2) \\* 3\n",
        ">- a + b/2. \\* 3 - c\n",
        ">- (a+b)/2 \\* (3. - c)\n",
        ">- !(5&gt;3) and 0 <= -1 and (3&gt;4)\n",
        ">- (a &lt;= b) or (b == 3.) and not(a != 3.)"
      ]
    },
    {
      "cell_type": "code",
      "execution_count": null,
      "metadata": {
        "id": "fUm2hKncUZAM"
      },
      "outputs": [],
      "source": [
        ""
      ]
    },
    {
      "cell_type": "markdown",
      "metadata": {
        "id": "YO9hkkk3UZAN"
      },
      "source": [
        "2. Fazer um algoritmo em Python para calcular e mostrar na tela a raiz quadrada do maior entre 2 valores inteiros distintos informados pelo usuário."
      ]
    },
    {
      "cell_type": "code",
      "execution_count": null,
      "metadata": {
        "id": "yoiA4ECXUZAO"
      },
      "outputs": [],
      "source": [
        ""
      ]
    },
    {
      "cell_type": "markdown",
      "metadata": {
        "id": "_Yp7N64ZUZAP"
      },
      "source": [
        "3. Fazer um algoritmo em Python que leia o consumo mensal (em kw) de energia de um cliente, calcule e mostre na tela o valor da fatura final. A tarifa é calculada da seguinte forma:\n",
        ">- Se o consumo for um valor até 150 kw, a tarifa é de 0.18 reais/kw\n",
        ">- Se for um valor entre 150 e 370 kw, a tarifa é de 0.18*150 mais o excedente a 150 taxados em 0.2 reais/kw\n",
        ">- Se for superior a 370, usam-se 3 taxas: as 2 taxas já referidas mais o excedente a 370 kw taxados em 0.28 reais/kw"
      ]
    },
    {
      "cell_type": "code",
      "execution_count": null,
      "metadata": {
        "id": "S-OB7FquUZAP"
      },
      "outputs": [],
      "source": [
        ""
      ]
    },
    {
      "cell_type": "markdown",
      "metadata": {
        "id": "nGrfcOXiUZAQ"
      },
      "source": [
        "4.\tFazer um algoritmo em Python que leia três números distintos A, B e C e apresente-os em ordem decrescente na tela. "
      ]
    },
    {
      "cell_type": "code",
      "execution_count": null,
      "metadata": {
        "id": "unq9sikZUZAQ"
      },
      "outputs": [],
      "source": [
        ""
      ]
    },
    {
      "cell_type": "markdown",
      "metadata": {
        "id": "xf12aTA4UZAR"
      },
      "source": [
        "5.\tFaça um algoritmo em Python que leia um ponto (x,y) no plano cartesiano e imprima sua localização: se está sobre os eixos x ou y, sobre a origem do sistema de coordenadas ou em um dos quadrantes e determine qual deles."
      ]
    },
    {
      "cell_type": "code",
      "execution_count": null,
      "metadata": {
        "id": "t8FLKgRlUZAR"
      },
      "outputs": [],
      "source": [
        ""
      ]
    },
    {
      "cell_type": "markdown",
      "metadata": {
        "id": "KcCphPMuUZAS"
      },
      "source": [
        "6.\tEscreva um algoritmo em Python que leia os coeficientes de duas retas, Ax + By = C e Dx + Ey = F, determine se as retas são paralelas (inclinações iguais, AE – BD = 0), ou se, se interceptam. Se elas se interceptam, determine se as retas são perpendiculares (produto das inclinações é igual a –1, AD + BE = 0)."
      ]
    },
    {
      "cell_type": "code",
      "execution_count": null,
      "metadata": {
        "id": "qvpyw9ECUZAT"
      },
      "outputs": [],
      "source": [
        ""
      ]
    },
    {
      "cell_type": "markdown",
      "metadata": {
        "id": "DdEQiKt9UZAT"
      },
      "source": [
        "7.\tFazer um algoritmo em Python que leia 3 valores distintos, calcule a média dos valores extremos e apresente o resultado na tela."
      ]
    },
    {
      "cell_type": "code",
      "execution_count": null,
      "metadata": {
        "id": "ni0QOJzdUZAU"
      },
      "outputs": [],
      "source": [
        ""
      ]
    },
    {
      "cell_type": "markdown",
      "metadata": {
        "id": "2gz_bpOsUZAU"
      },
      "source": [
        "8.\tFaça um algoritmo em Python que simule o sorteio da Mega-Sena. Ou seja, sorteie 6 números aleatórios entre 1 e 60 conforme visto na aula 6."
      ]
    },
    {
      "cell_type": "code",
      "execution_count": null,
      "metadata": {
        "id": "chgd3k-FUZAV"
      },
      "outputs": [],
      "source": [
        ""
      ]
    }
  ],
  "metadata": {
    "kernelspec": {
      "display_name": "Python 3",
      "name": "python3"
    },
    "language_info": {
      "name": "python"
    },
    "colab": {
      "name": "lista-01.ipynb",
      "provenance": [],
      "collapsed_sections": [],
      "include_colab_link": true
    }
  },
  "nbformat": 4,
  "nbformat_minor": 0
}